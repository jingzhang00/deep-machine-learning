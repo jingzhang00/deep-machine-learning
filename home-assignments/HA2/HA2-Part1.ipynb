{
 "cells": [
  {
   "cell_type": "markdown",
   "metadata": {
    "deletable": false,
    "editable": false,
    "nbgrader": {
     "cell_type": "markdown",
     "checksum": "20a4d65ee77906a86bc39bc4046a2a36",
     "grade": false,
     "grade_id": "cell-5690119ead85e67e",
     "locked": true,
     "schema_version": 3,
     "solution": false,
     "task": false
    }
   },
   "source": [
    "### Checklist for submission\n",
    "\n",
    "It is extremely important to make sure that:\n",
    "\n",
    "1. Everything runs as expected (no bugs when running cells);\n",
    "2. The output from each cell corresponds to its code (don't change any cell's contents without rerunning it afterwards);\n",
    "3. All outputs are present (don't delete any of the outputs);\n",
    "4. Fill in all the places that say `# YOUR CODE HERE`, or \"**Your answer:** (fill in here)\".\n",
    "5. Never copy/paste any notebook cells. Inserting new cells is allowed, but it should not be necessary.\n",
    "6. The notebook contains some hidden metadata which is important during our grading process. **Make sure not to corrupt any of this metadata!** The metadata may for example be corrupted if you copy/paste any notebook cells, or if you perform an unsuccessful git merge / git pull. It may also be pruned completely if using Google Colab, so watch out for this. Searching for \"nbgrader\" when opening the notebook in a text editor should take you to the important metadata entries.\n",
    "7. Although we will try our very best to avoid this, it may happen that bugs are found after an assignment is released, and that we will push an updated version of the assignment to GitHub. If this happens, it is important that you update to the new version, while making sure the notebook metadata is properly updated as well. The safest way to make sure nothing gets messed up is to start from scratch on a clean updated version of the notebook, copy/pasting your code from the cells of the previous version into the cells of the new version.\n",
    "8. If you need to have multiple parallel versions of this notebook, make sure not to move them to another directory.\n",
    "9. Although not forced to work exclusively in the course `conda` environment, you need to make sure that the notebook will run in that environment, i.e. that you have not added any additional dependencies.\n",
    "\n",
    "**FOR HA1, HA2, HA3 ONLY:** Failing to meet any of these requirements might lead to either a subtraction of POEs (at best) or a request for resubmission (at worst).\n",
    "\n",
    "We advise you to perform the following steps before submission to ensure that requirements 1, 2, and 3 are always met: **Restart the kernel** (in the menubar, select Kernel$\\rightarrow$Restart) and then **run all cells** (in the menubar, select Cell$\\rightarrow$Run All). This might require a bit of time, so plan ahead for this (and possibly use a cloud GPU in HA1 and HA2 for this step). Finally press the \"Save and Checkout\" button before handing in, to make sure that all your changes are saved to this .ipynb file."
   ]
  },
  {
   "cell_type": "markdown",
   "metadata": {
    "deletable": false,
    "editable": false,
    "nbgrader": {
     "cell_type": "markdown",
     "checksum": "a6bb874a16c1ff767ac0f37ce0491265",
     "grade": false,
     "grade_id": "cell-774c93bf6433de68",
     "locked": true,
     "schema_version": 3,
     "solution": false,
     "task": false
    }
   },
   "source": [
    "### Fill in name of notebook file\n",
    "This might seem silly, but the version check below needs to know the filename of the current notebook, which is not trivial to find out programmatically.\n",
    "\n",
    "You might want to have several parallel versions of the notebook, and it is fine to rename the notebook as long as it stays in the same directory. **However**, if you do rename it, you also need to update its own filename below:"
   ]
  },
  {
   "cell_type": "code",
   "execution_count": 282,
   "metadata": {},
   "outputs": [],
   "source": [
    "nb_fname = \"HA2-Part1.ipynb\""
   ]
  },
  {
   "cell_type": "markdown",
   "metadata": {
    "deletable": false,
    "editable": false,
    "nbgrader": {
     "cell_type": "markdown",
     "checksum": "879883c2ea755808ffd00aeee5c77a00",
     "grade": false,
     "grade_id": "cell-5676bcf768a7f9be",
     "locked": true,
     "schema_version": 3,
     "solution": false,
     "task": false
    }
   },
   "source": [
    "### Fill in group number and member names (use NAME2 and GROUP only for HA1, HA2 and HA3):"
   ]
  },
  {
   "cell_type": "code",
   "execution_count": 283,
   "metadata": {},
   "outputs": [],
   "source": [
    "NAME1 = \"Jing Zhang\" \n",
    "NAME2 = \"Peilin Lyu\"\n",
    "GROUP = \"6\""
   ]
  },
  {
   "cell_type": "markdown",
   "metadata": {
    "deletable": false,
    "editable": false,
    "nbgrader": {
     "cell_type": "markdown",
     "checksum": "42f960a95815e1aa3ce8132fcec59cd9",
     "grade": false,
     "grade_id": "cell-a15fe781533d9590",
     "locked": true,
     "schema_version": 3,
     "solution": false,
     "task": false
    }
   },
   "source": [
    "### Check Python version"
   ]
  },
  {
   "cell_type": "code",
   "execution_count": 284,
   "metadata": {
    "deletable": false,
    "editable": false,
    "nbgrader": {
     "cell_type": "code",
     "checksum": "736e393ef62f60d5e70432726e7209e0",
     "grade": false,
     "grade_id": "cell-2b9c2390ee464c39",
     "locked": true,
     "schema_version": 3,
     "solution": false,
     "task": false
    }
   },
   "outputs": [],
   "source": [
    "from platform import python_version_tuple\n",
    "assert python_version_tuple()[:2] == ('3','9'), \"You are not running Python 3.9. Make sure to run Python through the course Conda environment.\""
   ]
  },
  {
   "cell_type": "markdown",
   "metadata": {
    "deletable": false,
    "editable": false,
    "nbgrader": {
     "cell_type": "markdown",
     "checksum": "15ec4309f1e85f6e17bda73b9b6f48a2",
     "grade": false,
     "grade_id": "cell-4869b45600ce82f8",
     "locked": true,
     "schema_version": 3,
     "solution": false,
     "task": false
    }
   },
   "source": [
    "### Check that notebook server has access to all required resources, and that notebook has not moved"
   ]
  },
  {
   "cell_type": "code",
   "execution_count": 285,
   "metadata": {
    "deletable": false,
    "editable": false,
    "nbgrader": {
     "cell_type": "code",
     "checksum": "a2d199303c73ec86d25177caf39e385f",
     "grade": false,
     "grade_id": "cell-122ac3d9100b8afb",
     "locked": true,
     "schema_version": 3,
     "solution": false,
     "task": false
    }
   },
   "outputs": [],
   "source": [
    "import os\n",
    "nb_dirname = os.path.abspath('')\n",
    "assignment_name = os.path.basename(nb_dirname)\n",
    "assert assignment_name in ['IHA1', 'IHA2', 'HA1', 'HA2', 'HA3'], \\\n",
    "    '[ERROR] The notebook appears to have been moved from its original directory'\n",
    "\n",
    "os.environ[\"KMP_DUPLICATE_LIB_OK\"]=\"TRUE\""
   ]
  },
  {
   "cell_type": "markdown",
   "metadata": {
    "deletable": false,
    "editable": false,
    "nbgrader": {
     "cell_type": "markdown",
     "checksum": "f09f40b5350db83232189137c550f0a1",
     "grade": false,
     "grade_id": "cell-2455deee513cd39c",
     "locked": true,
     "schema_version": 3,
     "solution": false,
     "task": false
    }
   },
   "source": [
    "### Verify correct nb_fname"
   ]
  },
  {
   "cell_type": "code",
   "execution_count": 286,
   "metadata": {
    "deletable": false,
    "editable": false,
    "nbgrader": {
     "cell_type": "code",
     "checksum": "a78c7227b049bb147e6c363affb6dae8",
     "grade": false,
     "grade_id": "cell-0472e2fd710f1d72",
     "locked": true,
     "schema_version": 3,
     "solution": false,
     "task": false
    }
   },
   "outputs": [
    {
     "data": {
      "text/html": [
       "<script>if(\"HA2-Part1.ipynb\" != IPython.notebook.notebook_name) { alert(\"You have filled in nb_fname = \\\"HA2-Part1.ipynb\\\", but this does not seem to match the notebook filename \\\"\" + IPython.notebook.notebook_name + \"\\\".\"); }</script>"
      ],
      "text/plain": [
       "<IPython.core.display.HTML object>"
      ]
     },
     "metadata": {},
     "output_type": "display_data"
    }
   ],
   "source": [
    "from IPython.display import display, HTML\n",
    "try:\n",
    "    display(HTML(r'<script>if(\"{nb_fname}\" != IPython.notebook.notebook_name) {{ alert(\"You have filled in nb_fname = \\\"{nb_fname}\\\", but this does not seem to match the notebook filename \\\"\" + IPython.notebook.notebook_name + \"\\\".\"); }}</script>'.format(nb_fname=nb_fname)))\n",
    "except NameError:\n",
    "    assert False, 'Make sure to fill in the nb_fname variable above!'"
   ]
  },
  {
   "cell_type": "markdown",
   "metadata": {
    "deletable": false,
    "editable": false,
    "nbgrader": {
     "cell_type": "markdown",
     "checksum": "98d88d8e8da19693053764f29dcc591d",
     "grade": false,
     "grade_id": "cell-ceacb1adcae4783d",
     "locked": true,
     "schema_version": 3,
     "solution": false,
     "task": false
    }
   },
   "source": [
    "### Verify that your notebook is up-to-date and not corrupted in any way"
   ]
  },
  {
   "cell_type": "code",
   "execution_count": 287,
   "metadata": {
    "deletable": false,
    "editable": false,
    "nbgrader": {
     "cell_type": "code",
     "checksum": "bb700528d4644601c1a8c91ef1d84635",
     "grade": false,
     "grade_id": "cell-f5a59288e11b4aec",
     "locked": true,
     "schema_version": 3,
     "solution": false,
     "task": false
    }
   },
   "outputs": [
    {
     "name": "stdout",
     "output_type": "stream",
     "text": [
      "Matching current notebook against the following URL:\n",
      "http://raw.githubusercontent.com/dml-cth/deep-machine-learning/master/home-assignments/HA2/HA2-Part1.ipynb\n",
      "[SUCCESS] No major notebook mismatch found when comparing to latest GitHub version. (There might be minor updates, but even that is the case, submitting your work based on this notebook version would be acceptable.)\n"
     ]
    }
   ],
   "source": [
    "import sys\n",
    "sys.path.append('..')\n",
    "from ha_utils import check_notebook_uptodate_and_not_corrupted\n",
    "check_notebook_uptodate_and_not_corrupted(nb_dirname, nb_fname)"
   ]
  },
  {
   "cell_type": "markdown",
   "metadata": {
    "deletable": false,
    "editable": false,
    "nbgrader": {
     "cell_type": "markdown",
     "checksum": "1a3d4c3586543ada9e989a70ca0b714f",
     "grade": false,
     "grade_id": "cell-64e1db7b9018bb3c",
     "locked": true,
     "schema_version": 3,
     "solution": false
    }
   },
   "source": [
    "# HA2 - Recurrent Neural Networks"
   ]
  },
  {
   "cell_type": "markdown",
   "metadata": {
    "deletable": false,
    "editable": false,
    "nbgrader": {
     "cell_type": "markdown",
     "checksum": "ede543ca35a8a171477021feba7cac50",
     "grade": false,
     "grade_id": "cell-2a56acd8b54adbc7",
     "locked": true,
     "schema_version": 3,
     "solution": false
    }
   },
   "source": [
    "This assignment is divided into two parts. In the first one, you will implement a vanilla RNN module from scratch using PyTorch to perform the task of predicting the nationality of a given name. In the second, you will implement many of the components in a Transformer block, and use it to classify movie reviews as positive or negative. \n",
    "\n",
    "For efficient use of GPU hours, you can do all development up until the training on a CPU. You can then run the training on a GPU for faster training times. "
   ]
  },
  {
   "cell_type": "markdown",
   "metadata": {
    "deletable": false,
    "editable": false,
    "nbgrader": {
     "cell_type": "markdown",
     "checksum": "b230b916db79763c4ae31f10fb3834ed",
     "grade": false,
     "grade_id": "cell-a7a1fe5598d08eae",
     "locked": true,
     "schema_version": 3,
     "solution": false
    }
   },
   "source": [
    "## Task 1 - Predicting Nationalities"
   ]
  },
  {
   "cell_type": "markdown",
   "metadata": {
    "deletable": false,
    "editable": false,
    "nbgrader": {
     "cell_type": "markdown",
     "checksum": "f6d2792c8867f0fd983839444067a2e1",
     "grade": false,
     "grade_id": "cell-aad0c935c03346c9",
     "locked": true,
     "schema_version": 3,
     "solution": false
    }
   },
   "source": [
    "In this task, you will create an RNN module using PyTorch, and train it to predict the nationality of a given input name. Your RNN will process each character of an input name at a time, and at the last character output a probability mass function over the possible countries.\n",
    "\n",
    "The data for this task is present in the file `data/nam_dict.txt`. After parsing it we will have around 44k names from 41 different countries."
   ]
  },
  {
   "cell_type": "markdown",
   "metadata": {
    "deletable": false,
    "editable": false,
    "nbgrader": {
     "cell_type": "markdown",
     "checksum": "88e94a32152c5c6447c42352b00c56f6",
     "grade": false,
     "grade_id": "cell-781c35fef278ad47",
     "locked": true,
     "schema_version": 3,
     "solution": false
    }
   },
   "source": [
    "### 1.1 Loading the data"
   ]
  },
  {
   "cell_type": "markdown",
   "metadata": {
    "deletable": false,
    "editable": false,
    "nbgrader": {
     "cell_type": "markdown",
     "checksum": "ef4e3f8191d07d16c7129210867e1cc4",
     "grade": false,
     "grade_id": "cell-12c085211bc03428",
     "locked": true,
     "schema_version": 3,
     "solution": false
    }
   },
   "source": [
    "We'll start by loading the data from the `nam_dict.txt` file, using the provided method `get_data_from_file`."
   ]
  },
  {
   "cell_type": "code",
   "execution_count": 288,
   "metadata": {
    "deletable": false,
    "editable": false,
    "nbgrader": {
     "cell_type": "code",
     "checksum": "578b8dc7fef786bb9d0eb9bfd9804796",
     "grade": false,
     "grade_id": "cell-7c9a70be36d77bde",
     "locked": true,
     "schema_version": 3,
     "solution": false
    }
   },
   "outputs": [],
   "source": [
    "from utils.load_names import get_data_from_file\n",
    "names_dict = get_data_from_file('data/nam_dict.txt')"
   ]
  },
  {
   "cell_type": "markdown",
   "metadata": {
    "deletable": false,
    "editable": false,
    "nbgrader": {
     "cell_type": "markdown",
     "checksum": "e4396ec5026f36d2d897eb28273fa47c",
     "grade": false,
     "grade_id": "cell-3d6450ecfff464cf",
     "locked": true,
     "schema_version": 3,
     "solution": false
    }
   },
   "source": [
    "The newly-created variable `names_dict` is a dictionary where each country is a key, and the value is the corresponding list of names from that country."
   ]
  },
  {
   "cell_type": "code",
   "execution_count": 289,
   "metadata": {
    "deletable": false,
    "editable": false,
    "nbgrader": {
     "cell_type": "code",
     "checksum": "0a3c16d045a6e3ea16cae84c8f4039b8",
     "grade": false,
     "grade_id": "cell-2979a922e5fd9032",
     "locked": true,
     "schema_version": 3,
     "solution": false
    }
   },
   "outputs": [
    {
     "data": {
      "text/plain": [
       "dict_keys(['Great Britain', 'Ireland', 'U.S.A.', 'Italy', 'Portugal', 'Spain', 'France', 'the Netherlands', 'East Frisia', 'Germany', 'Swiss', 'Iceland', 'Denmark', 'Norway', 'Sweden', 'Finland', 'Estonia', 'Latvia', 'Lithuania', 'Hungary', 'Romania', 'Bulgaria', 'Bosnia and Herzegovina', 'Croatia', 'Kosovo', 'Serbia', 'Albania', 'Greece', 'Russia', 'Ukraine', 'Armenia', 'Azerbaijan', 'Kazakhstan/Uzbekistan,etc.', 'Turkey', 'Arabia/Persia', 'Israel', 'China', 'India/Sri Lanka', 'Japan', 'Korea', 'Vietnam'])"
      ]
     },
     "execution_count": 289,
     "metadata": {},
     "output_type": "execute_result"
    }
   ],
   "source": [
    "names_dict.keys()"
   ]
  },
  {
   "cell_type": "code",
   "execution_count": 290,
   "metadata": {
    "deletable": false,
    "editable": false,
    "nbgrader": {
     "cell_type": "code",
     "checksum": "fabffeb8a60ded472b3ab0996e6acd34",
     "grade": false,
     "grade_id": "cell-b9578aa61d75938e",
     "locked": true,
     "schema_version": 3,
     "solution": false
    }
   },
   "outputs": [
    {
     "data": {
      "text/plain": [
       "['Achilleas',\n",
       " 'Achillefs',\n",
       " 'Adamantia',\n",
       " 'Adamantini',\n",
       " 'Adamantios',\n",
       " 'Aeneas',\n",
       " 'Afroditi',\n",
       " 'Agapi',\n",
       " 'Agapios',\n",
       " 'Agathi']"
      ]
     },
     "execution_count": 290,
     "metadata": {},
     "output_type": "execute_result"
    }
   ],
   "source": [
    "names_dict['Greece'][:10]"
   ]
  },
  {
   "cell_type": "markdown",
   "metadata": {
    "deletable": false,
    "editable": false,
    "nbgrader": {
     "cell_type": "markdown",
     "checksum": "298f96dbddf1b6528aba07514a1442de",
     "grade": false,
     "grade_id": "cell-172dd5d6a5c41971",
     "locked": true,
     "schema_version": 3,
     "solution": false
    }
   },
   "source": [
    "Let's look at the dataset in more detail. Plot the number of names in each country using a [bar plot](https://matplotlib.org/3.1.1/api/_as_gen/matplotlib.pyplot.bar.html).\n",
    "\n",
    "*Hints*:\n",
    "\n",
    "- You can put labels in the x-axis using the method [`xticks`](https://matplotlib.org/3.1.1/api/_as_gen/matplotlib.pyplot.xticks.html).\n",
    "- The `xticks` method accepts a keyword argument named `rotation`."
   ]
  },
  {
   "cell_type": "code",
   "execution_count": 291,
   "metadata": {
    "deletable": false,
    "nbgrader": {
     "cell_type": "code",
     "checksum": "239562267cb4dc6cbc5bdd6e1fa817be",
     "grade": true,
     "grade_id": "cell-ff582e8e844bfb50",
     "locked": false,
     "points": 0,
     "schema_version": 3,
     "solution": true
    }
   },
   "outputs": [
    {
     "data": {
      "image/png": "[encoded data removed]",
      "text/plain": [
       "<Figure size 1200x800 with 1 Axes>"
      ]
     },
     "metadata": {},
     "output_type": "display_data"
    }
   ],
   "source": [
    "%matplotlib inline\n",
    "import matplotlib.pyplot as plt\n",
    "\n",
    "# YOUR CODE HERE\n",
    "\n",
    "countries = list(names_dict.keys())\n",
    "num_of_names = [len(names_dict[country]) for country in countries]\n",
    "\n",
    "# Plotting the data\n",
    "plt.figure(figsize=(12,8))\n",
    "plt.bar(countries, num_of_names, color='skyblue')\n",
    "\n",
    "\n",
    "plt.xticks(countries, rotation=45, ha='right')\n",
    "plt.title(\"Number of Names in Each Country\")\n",
    "plt.ylabel(\"Number of Names\")\n",
    "plt.xlabel(\"Country\")\n",
    "plt.grid(axis='y')\n",
    "plt.show()"
   ]
  },
  {
   "cell_type": "markdown",
   "metadata": {
    "deletable": false,
    "editable": false,
    "nbgrader": {
     "cell_type": "markdown",
     "checksum": "49ae44d43070a2af47e3d5fc76723983",
     "grade": false,
     "grade_id": "cell-390475b6777ce344",
     "locked": true,
     "schema_version": 3,
     "solution": false
    }
   },
   "source": [
    "**[1 point]** Is this dataset balanced? If not, which are the top-3 countries with most names?"
   ]
  },
  {
   "cell_type": "code",
   "execution_count": 292,
   "metadata": {},
   "outputs": [
    {
     "name": "stdout",
     "output_type": "stream",
     "text": [
      "China: 7321 names\n",
      "U.S.A.: 3845 names\n",
      "Italy: 2445 names\n"
     ]
    }
   ],
   "source": [
    "paired_list = list(zip(countries, num_of_names))\n",
    "sort_countries = sorted(paired_list, key=lambda x: x[1], reverse=True)\n",
    "for country, number in sort_countries[:3]:\n",
    "    print(f\"{country}: {number} names\")"
   ]
  },
  {
   "cell_type": "markdown",
   "metadata": {
    "deletable": false,
    "nbgrader": {
     "cell_type": "markdown",
     "checksum": "d6423fd1b8b08bade86d7733d2c62a87",
     "grade": true,
     "grade_id": "cell-e70912fa2bf69d84",
     "locked": false,
     "points": 1,
     "schema_version": 3,
     "solution": true
    }
   },
   "source": [
    "**Your answer:** (fill in here)\n",
    "\n",
    "No, it is not balanced. The top-3 countries are China, U.S.A, and Italy."
   ]
  },
  {
   "cell_type": "markdown",
   "metadata": {
    "deletable": false,
    "editable": false,
    "nbgrader": {
     "cell_type": "markdown",
     "checksum": "1db6be82caa3a09c812b3158187adcf8",
     "grade": false,
     "grade_id": "cell-b332445688db5846",
     "locked": true,
     "schema_version": 3,
     "solution": false
    }
   },
   "source": [
    "### 1.2 Pre-processing"
   ]
  },
  {
   "cell_type": "markdown",
   "metadata": {
    "deletable": false,
    "editable": false,
    "nbgrader": {
     "cell_type": "markdown",
     "checksum": "8e9d2c3be16a91407c9403684b28ddfe",
     "grade": false,
     "grade_id": "cell-0248575eadc7e93e",
     "locked": true,
     "schema_version": 3,
     "solution": false
    }
   },
   "source": [
    "We will train an RNN which takes as input one character at each time-step. In order to do so, we will encode every character in the input names into a one-hot representation that is more suited to be fed to neural networks. \n",
    "\n",
    "The first thing we need to do is to decide the size of the alphabet used for the one-hot encoding. To do so, let's take a look at all the characters used in the dataset. A simple way to do so is putting all names in the same string and then using a `set` to get the unique values. We'll treat upper-case and lower-case characters as being the same."
   ]
  },
  {
   "cell_type": "code",
   "execution_count": 293,
   "metadata": {
    "deletable": false,
    "editable": false,
    "nbgrader": {
     "cell_type": "code",
     "checksum": "09994757b29a7eef77096b060629fb89",
     "grade": false,
     "grade_id": "cell-6b58e326e17e53f5",
     "locked": true,
     "schema_version": 3,
     "solution": false
    }
   },
   "outputs": [
    {
     "name": "stdout",
     "output_type": "stream",
     "text": [
      "57 characters:\n"
     ]
    },
    {
     "data": {
      "text/plain": [
       "[' ',\n",
       " \"'\",\n",
       " '-',\n",
       " 'a',\n",
       " 'b',\n",
       " 'c',\n",
       " 'd',\n",
       " 'e',\n",
       " 'f',\n",
       " 'g',\n",
       " 'h',\n",
       " 'i',\n",
       " 'j',\n",
       " 'k',\n",
       " 'l',\n",
       " 'm',\n",
       " 'n',\n",
       " 'o',\n",
       " 'p',\n",
       " 'q',\n",
       " 'r',\n",
       " 's',\n",
       " 't',\n",
       " 'u',\n",
       " 'v',\n",
       " 'w',\n",
       " 'x',\n",
       " 'y',\n",
       " 'z',\n",
       " 'ß',\n",
       " 'à',\n",
       " 'á',\n",
       " 'â',\n",
       " 'ã',\n",
       " 'ä',\n",
       " 'å',\n",
       " 'æ',\n",
       " 'ç',\n",
       " 'è',\n",
       " 'é',\n",
       " 'ê',\n",
       " 'ë',\n",
       " 'í',\n",
       " 'î',\n",
       " 'ï',\n",
       " 'ð',\n",
       " 'ñ',\n",
       " 'ò',\n",
       " 'ó',\n",
       " 'ô',\n",
       " 'õ',\n",
       " 'ö',\n",
       " 'ø',\n",
       " 'ú',\n",
       " 'ü',\n",
       " 'ý',\n",
       " 'þ']"
      ]
     },
     "execution_count": 293,
     "metadata": {},
     "output_type": "execute_result"
    }
   ],
   "source": [
    "temp = \" \"\n",
    "for name_list in names_dict.values():\n",
    "    for name in name_list:\n",
    "        temp += name.lower()\n",
    "charset = sorted(set(temp))\n",
    "print(f\"{len(charset)} characters:\")\n",
    "charset"
   ]
  },
  {
   "cell_type": "markdown",
   "metadata": {
    "deletable": false,
    "editable": false,
    "nbgrader": {
     "cell_type": "markdown",
     "checksum": "aa26ef5d12faceb8d330856b41769a40",
     "grade": false,
     "grade_id": "cell-c28ba53b5126e2f5",
     "locked": true,
     "schema_version": 3,
     "solution": false
    }
   },
   "source": [
    "Now we can create a function that takes as input a name, and outputs a `(name length) x (charset length)` tensor."
   ]
  },
  {
   "cell_type": "code",
   "execution_count": 294,
   "metadata": {
    "deletable": false,
    "editable": false,
    "nbgrader": {
     "cell_type": "code",
     "checksum": "14585ce3bdfe1f68870f92fa78e537ad",
     "grade": false,
     "grade_id": "cell-e078bcfbef92ef2d",
     "locked": true,
     "schema_version": 3,
     "solution": false
    }
   },
   "outputs": [],
   "source": [
    "import torch"
   ]
  },
  {
   "cell_type": "code",
   "execution_count": 295,
   "metadata": {
    "deletable": false,
    "editable": false,
    "nbgrader": {
     "cell_type": "code",
     "checksum": "650bc6a662a9ecae216e389f1f540591",
     "grade": false,
     "grade_id": "cell-28b1f4faf5fe75a3",
     "locked": true,
     "schema_version": 3,
     "solution": false
    }
   },
   "outputs": [],
   "source": [
    "def name2tensor(name):\n",
    "    name = name.lower()\n",
    "\n",
    "    # Create tensor of correct size filled with zeros\n",
    "    tensor = torch.zeros(len(name), len(charset))\n",
    "\n",
    "    # For each letter, fill in the tensor with a 1 in the position corresponding to the character index in the charset\n",
    "    for i, letter in enumerate(name):\n",
    "        char_index = charset.index(letter)\n",
    "        tensor[i][char_index] = 1\n",
    "\n",
    "    return tensor\n"
   ]
  },
  {
   "cell_type": "code",
   "execution_count": 296,
   "metadata": {
    "deletable": false,
    "editable": false,
    "nbgrader": {
     "cell_type": "code",
     "checksum": "8a9bbbdc34b5d27a2f3187bda44fa59f",
     "grade": false,
     "grade_id": "cell-5d8cbbfaa7917f2c",
     "locked": true,
     "schema_version": 3,
     "solution": false
    }
   },
   "outputs": [
    {
     "data": {
      "text/plain": [
       "tensor([[0., 0., 0., 1., 0., 0., 0., 0., 0., 0., 0., 0., 0., 0., 0., 0., 0., 0.,\n",
       "         0., 0., 0., 0., 0., 0., 0., 0., 0., 0., 0., 0., 0., 0., 0., 0., 0., 0.,\n",
       "         0., 0., 0., 0., 0., 0., 0., 0., 0., 0., 0., 0., 0., 0., 0., 0., 0., 0.,\n",
       "         0., 0., 0.],\n",
       "        [0., 0., 0., 0., 0., 0., 0., 0., 0., 0., 0., 0., 0., 0., 1., 0., 0., 0.,\n",
       "         0., 0., 0., 0., 0., 0., 0., 0., 0., 0., 0., 0., 0., 0., 0., 0., 0., 0.,\n",
       "         0., 0., 0., 0., 0., 0., 0., 0., 0., 0., 0., 0., 0., 0., 0., 0., 0., 0.,\n",
       "         0., 0., 0.],\n",
       "        [0., 0., 0., 0., 0., 0., 0., 0., 0., 0., 0., 1., 0., 0., 0., 0., 0., 0.,\n",
       "         0., 0., 0., 0., 0., 0., 0., 0., 0., 0., 0., 0., 0., 0., 0., 0., 0., 0.,\n",
       "         0., 0., 0., 0., 0., 0., 0., 0., 0., 0., 0., 0., 0., 0., 0., 0., 0., 0.,\n",
       "         0., 0., 0.]])"
      ]
     },
     "execution_count": 296,
     "metadata": {},
     "output_type": "execute_result"
    }
   ],
   "source": [
    "name2tensor('Ali')"
   ]
  },
  {
   "cell_type": "markdown",
   "metadata": {
    "deletable": false,
    "editable": false,
    "nbgrader": {
     "cell_type": "markdown",
     "checksum": "20d3d8b2de876fd7d1160298362838a2",
     "grade": false,
     "grade_id": "cell-21a59eb745d70bfd",
     "locked": true,
     "schema_version": 3,
     "solution": false,
     "task": false
    }
   },
   "source": [
    "Why does the above output tensor contain a 1 at position (0,3)?"
   ]
  },
  {
   "cell_type": "markdown",
   "metadata": {
    "deletable": false,
    "nbgrader": {
     "cell_type": "markdown",
     "checksum": "49c4292927f944a5edca1db964fcd7f3",
     "grade": true,
     "grade_id": "cell-39860df3e01f0204",
     "locked": false,
     "points": 0,
     "schema_version": 3,
     "solution": true,
     "task": false
    }
   },
   "source": [
    "**Your answer:** (fill in here)\n",
    "\n",
    "Because **name2tensor** convert 'Ali' to 'ali', then the index of 'a' in charset is 3. "
   ]
  },
  {
   "cell_type": "markdown",
   "metadata": {
    "deletable": false,
    "editable": false,
    "nbgrader": {
     "cell_type": "markdown",
     "checksum": "abff2aa6c349d74ed86f1f6196b5344e",
     "grade": false,
     "grade_id": "cell-5beb6efb1f504ce2",
     "locked": true,
     "schema_version": 3,
     "solution": false
    }
   },
   "source": [
    "**[1 point]** What happens if you try encoding the string `Lol@` using this function? Why?"
   ]
  },
  {
   "cell_type": "markdown",
   "metadata": {
    "deletable": false,
    "nbgrader": {
     "cell_type": "markdown",
     "checksum": "cd3dde14286714be377711d5877f5be8",
     "grade": true,
     "grade_id": "cell-613a1d700434e11a",
     "locked": false,
     "points": 1,
     "schema_version": 3,
     "solution": true
    }
   },
   "source": [
    "**Your answer:** (fill in here)\n",
    "\n",
    "It throws an error because character '@' is not given in the charset."
   ]
  },
  {
   "cell_type": "markdown",
   "metadata": {
    "deletable": false,
    "editable": false,
    "nbgrader": {
     "cell_type": "markdown",
     "checksum": "fd84162dfdb2a3a9f880137ea0c6cf80",
     "grade": false,
     "grade_id": "cell-fdfe2093caad0c9d",
     "locked": true,
     "schema_version": 3,
     "solution": false
    }
   },
   "source": [
    "It's definitely possible to use the tensors created with `name2tensor` to train our RNN, but in that case we would only be able to conveniently perform forward-propagation using one sample at a time.\n",
    "\n",
    "Instead, we want to batch samples together and parallelize the forward-propagation step. To do so, all samples must have the same dimensions (right now every sample has dimension `(name length) x (charset length)`, and the length of the names varies). Modify the function `name2padded_tensor` to achieve this by padding the start of the tensor with zeros, so that the output tensor always has length `target_len x (charset length)`. **[1 point]**\n",
    "\n",
    "*Hint*:\n",
    "\n",
    "- To make it easier to catch bugs in the next parts of the assignment, make sure to raise an exception if the `target_len` is smaller than the length of the input word."
   ]
  },
  {
   "cell_type": "code",
   "execution_count": 297,
   "metadata": {
    "deletable": false,
    "nbgrader": {
     "cell_type": "code",
     "checksum": "ffe913eba6ac53a7bfd9cb4b3252f8df",
     "grade": true,
     "grade_id": "cell-fbe880f01de97439",
     "locked": false,
     "points": 1,
     "schema_version": 3,
     "solution": true
    }
   },
   "outputs": [],
   "source": [
    "def name2padded_tensor(name, target_len):\n",
    "\n",
    "    tensor = name2tensor(name)\n",
    "\n",
    "    assert tensor.shape[0] <= target_len, \"target_len is smaller than the input_len\"\n",
    "    padding_len = target_len - tensor.shape[0]\n",
    "    zero_padding = torch.zeros(padding_len, len(charset))\n",
    "    tensor = torch.cat((zero_padding, tensor), dim=0)\n",
    "\n",
    "    return tensor\n"
   ]
  },
  {
   "cell_type": "code",
   "execution_count": 298,
   "metadata": {
    "deletable": false,
    "editable": false,
    "nbgrader": {
     "cell_type": "code",
     "checksum": "c45e582983c33659e1ed23fddf7038e7",
     "grade": false,
     "grade_id": "cell-22bb8ede1d7a7da2",
     "locked": true,
     "schema_version": 3,
     "solution": false
    }
   },
   "outputs": [
    {
     "name": "stdout",
     "output_type": "stream",
     "text": [
      "Test passed.\n"
     ]
    }
   ],
   "source": [
    "def test_name2padded_tensor():\n",
    "    test_case(case_id=\"1\", name=\"Ali\", target_len=5)\n",
    "    test_case(case_id=\"2\", name=\"Eleonora\", target_len=10)\n",
    "    print(\"Test passed.\")\n",
    "\n",
    "\n",
    "def test_case(case_id, name, target_len):\n",
    "    padded_tensor = name2padded_tensor(name, target_len)\n",
    "    new_target_len, new_charset_len = padded_tensor.shape\n",
    "    err_string = \"Case {} failed: {}\"\n",
    "\n",
    "    assert new_target_len == target_len, err_string.format(\n",
    "        case_id,\n",
    "        \"`target_len` not preserved, expected: {}, got: {}\".format(\n",
    "            target_len, new_target_len\n",
    "        ),\n",
    "    )\n",
    "\n",
    "    assert new_charset_len == 57, err_string.format(\n",
    "        case_id,\n",
    "        \"`charset_len` not preserved, expected: 57, got: {}\".format(new_charset_len)\n",
    "    )\n",
    "\n",
    "    assert padded_tensor[:2, :].sum() == 0, err_string.format(\n",
    "        case_id,\n",
    "        \"The first two rows of the tensor should be all zeros.\"\n",
    "    )\n",
    "\n",
    "    assert (\n",
    "        padded_tensor.sum(1) <= torch.ones((target_len, 1))\n",
    "    ).all(), err_string.format(case_id, \"Every row in the tensor should sum to at most 1.\")\n",
    "\n",
    "    assert padded_tensor.sum() <= len(name), err_string.format(\n",
    "        case_id,\n",
    "        \"The sum of all elements (i.e. the number of ones) should equal the number of characters in the name.\"\n",
    "    )\n",
    "\n",
    "\n",
    "test_name2padded_tensor()\n"
   ]
  },
  {
   "cell_type": "markdown",
   "metadata": {
    "deletable": false,
    "editable": false,
    "nbgrader": {
     "cell_type": "markdown",
     "checksum": "40a31911c299c0b4bd28507c4b83a495",
     "grade": false,
     "grade_id": "cell-c9657b653aeb1c93",
     "locked": true,
     "schema_version": 3,
     "solution": false
    }
   },
   "source": [
    "What should be the target length for our case in this dataset? Compute it (i.e. don't hardcode it) in the cell below and save it in a variable named `target_len`, which will be used from here on. **[1 point]**"
   ]
  },
  {
   "cell_type": "code",
   "execution_count": 299,
   "metadata": {
    "deletable": false,
    "nbgrader": {
     "cell_type": "code",
     "checksum": "e234cb9cbf5e590d942e05f678732fa1",
     "grade": true,
     "grade_id": "cell-ceb412223ee3e6dd",
     "locked": false,
     "points": 1,
     "schema_version": 3,
     "solution": true
    }
   },
   "outputs": [
    {
     "name": "stdout",
     "output_type": "stream",
     "text": [
      "22\n"
     ]
    }
   ],
   "source": [
    "# YOUR CODE HERE\n",
    "target_len = 0\n",
    "\n",
    "for name_list in names_dict.values():\n",
    "    for name in name_list:\n",
    "        target_len = max(target_len, len(name))\n",
    "\n",
    "print(target_len)"
   ]
  },
  {
   "cell_type": "markdown",
   "metadata": {
    "deletable": false,
    "editable": false,
    "nbgrader": {
     "cell_type": "markdown",
     "checksum": "901b6c3ed25c85d2cec741ad2e575ade",
     "grade": false,
     "grade_id": "cell-0bd908b10b33e7e2",
     "locked": true,
     "schema_version": 3,
     "solution": false
    }
   },
   "source": [
    "Now we can go through the entire dataset, encode each of the names, and save all of it in a tensor. We'll do the same with the ground-truth labels for the countries of each name."
   ]
  },
  {
   "cell_type": "code",
   "execution_count": 300,
   "metadata": {
    "deletable": false,
    "editable": false,
    "nbgrader": {
     "cell_type": "code",
     "checksum": "15a4f57533fa906a946a783721f7d7d3",
     "grade": false,
     "grade_id": "cell-c41ca1beab4900d1",
     "locked": true,
     "schema_version": 3,
     "solution": false
    }
   },
   "outputs": [],
   "source": [
    "# Create the tensors that will hold the names and labels\n",
    "# (note that the first dimension has 0 elements, this is a way to initialize an empty tensor for concatenating later)\n",
    "xs = torch.zeros(0, target_len, len(charset))\n",
    "ys = torch.zeros(0, dtype=torch.long)\n",
    "\n",
    "for i, country in enumerate(names_dict.keys()):\n",
    "\n",
    "    # Apply the name2padded_tensor function to each name in this country\n",
    "    temp = map(lambda n: name2padded_tensor(n, target_len), names_dict[country])\n",
    "\n",
    "    # Add a new dimension to the resulting tensors\n",
    "    temp = [name_tensor[None, :, :] for name_tensor in temp]\n",
    "\n",
    "    # Concatenate all of them along this new dimension\n",
    "    names_tensor = torch.cat(temp, dim=0)\n",
    "\n",
    "    # Add these tensors to `xs`\n",
    "    # Note that we have 44504 data pairs (x,y) where a single input x has the shape (target_len, 57),\n",
    "    # where 57 is the length of the one-hot-encoded vectors.\n",
    "    xs = torch.cat([xs, names_tensor], dim=0)\n",
    "\n",
    "    # Create tensor filled with i`s and add that to the ground-truth tensor\n",
    "    ys_for_this_country = torch.zeros(names_tensor.shape[0], dtype=torch.long) + i\n",
    "    ys = torch.cat([ys, ys_for_this_country])\n",
    "\n"
   ]
  },
  {
   "cell_type": "code",
   "execution_count": 301,
   "metadata": {
    "deletable": false,
    "editable": false,
    "nbgrader": {
     "cell_type": "code",
     "checksum": "59844c38d7efe88476c8c7299e4e0eb4",
     "grade": false,
     "grade_id": "cell-52dbbea6ddcef37d",
     "locked": true,
     "schema_version": 3,
     "solution": false
    }
   },
   "outputs": [
    {
     "data": {
      "text/plain": [
       "torch.Size([44504, 22, 57])"
      ]
     },
     "execution_count": 301,
     "metadata": {},
     "output_type": "execute_result"
    }
   ],
   "source": [
    "xs.shape"
   ]
  },
  {
   "cell_type": "code",
   "execution_count": 302,
   "metadata": {
    "deletable": false,
    "editable": false,
    "nbgrader": {
     "cell_type": "code",
     "checksum": "84f30aec4ebb491a7b47bc37f3c4428d",
     "grade": false,
     "grade_id": "cell-7e884148f06eed5d",
     "locked": true,
     "schema_version": 3,
     "solution": false
    }
   },
   "outputs": [
    {
     "data": {
      "text/plain": [
       "torch.Size([44504])"
      ]
     },
     "execution_count": 302,
     "metadata": {},
     "output_type": "execute_result"
    }
   ],
   "source": [
    "ys.shape"
   ]
  },
  {
   "cell_type": "markdown",
   "metadata": {
    "deletable": false,
    "editable": false,
    "nbgrader": {
     "cell_type": "markdown",
     "checksum": "d0ad8b82a67e3dae17a9dcf05d4886e3",
     "grade": false,
     "grade_id": "cell-0aa1483447535d5e",
     "locked": true,
     "schema_version": 3,
     "solution": false
    }
   },
   "source": [
    "Now we can create a dataset with these tensors."
   ]
  },
  {
   "cell_type": "code",
   "execution_count": 303,
   "metadata": {
    "deletable": false,
    "editable": false,
    "nbgrader": {
     "cell_type": "code",
     "checksum": "c11c5ff489587a4726ddeafa336d2265",
     "grade": false,
     "grade_id": "cell-6b352207c061f029",
     "locked": true,
     "schema_version": 3,
     "solution": false
    }
   },
   "outputs": [
    {
     "name": "stdout",
     "output_type": "stream",
     "text": [
      "Using cpu\n"
     ]
    }
   ],
   "source": [
    "from torch.utils.data import TensorDataset\n",
    "\n",
    "device = torch.device(\"cuda\" if torch.cuda.is_available() else \"cpu\")\n",
    "print(f\"Using {device}\")\n",
    "dataset = TensorDataset(xs.to(device), ys.to(device))"
   ]
  },
  {
   "cell_type": "markdown",
   "metadata": {
    "deletable": false,
    "editable": false,
    "nbgrader": {
     "cell_type": "markdown",
     "checksum": "86cdcef7c72b84485a13de4cf47e3dde",
     "grade": false,
     "grade_id": "cell-c20e8ae6ac70f92f",
     "locked": true,
     "schema_version": 3,
     "solution": false
    }
   },
   "source": [
    "And split it in training, validation, and test sets."
   ]
  },
  {
   "cell_type": "code",
   "execution_count": 304,
   "metadata": {
    "deletable": false,
    "editable": false,
    "nbgrader": {
     "cell_type": "code",
     "checksum": "eee2948e07aeee5fb4e585bf48160c6b",
     "grade": false,
     "grade_id": "cell-57448454a3d5dc19",
     "locked": true,
     "schema_version": 3,
     "solution": false
    }
   },
   "outputs": [],
   "source": [
    "from torch.utils.data import random_split\n",
    "\n",
    "val_ratio = 0.15\n",
    "test_ratio = 0.15\n",
    "\n",
    "n_samples = len(dataset)\n",
    "n_val_samples = int(n_samples * val_ratio)\n",
    "n_test_samples = int(n_samples * test_ratio)\n",
    "n_train_samples = n_samples - n_val_samples - n_test_samples\n",
    "\n",
    "train_dataset, val_dataset, test_dataset = random_split(\n",
    "    dataset, [n_train_samples, n_val_samples, n_test_samples]\n",
    ")\n"
   ]
  },
  {
   "cell_type": "markdown",
   "metadata": {
    "deletable": false,
    "editable": false,
    "nbgrader": {
     "cell_type": "markdown",
     "checksum": "da53c7a8fffae55f48861e3dd82bfb1f",
     "grade": false,
     "grade_id": "cell-485c36faf4913176",
     "locked": true,
     "schema_version": 3,
     "solution": false
    }
   },
   "source": [
    "### 1.3 Defining the optimization"
   ]
  },
  {
   "cell_type": "markdown",
   "metadata": {
    "deletable": false,
    "editable": false,
    "nbgrader": {
     "cell_type": "markdown",
     "checksum": "55b9eae950e59b122a032b8e99f8d4da",
     "grade": false,
     "grade_id": "cell-b2ed39f361f618c2",
     "locked": true,
     "schema_version": 3,
     "solution": false
    }
   },
   "source": [
    "Now we will define the model to be trained, that is, a single layer RNN. As usual, we will create a class for the model and inherit from `nn.Module`. Define in the next cell a class for an RNN that follows the equations:\n",
    "\n",
    "$$ h_t = \\text{tanh}(W_h x_t + U_h h_{t-1} + b_h) $$\n",
    "$$ y_t = \\log \\Big(\\text{Softmax}(W_y h_t + b_y)\\Big)~,$$\n",
    "\n",
    "where $h_t$ is the current hidden-state, $h_{t-1}$ is the previous hidden state, $x_t$ is the input, $y_t$ is the output, and $W_h, U_h, b_h, W_y, b_y$ are the trainable parts of the RNN. As explained before, we will use this RNN to classify names, inputting one character at each step and using the last output as the prediction for a distribution over probable countries for the name.\n",
    "\n",
    "*Hints:*\n",
    "\n",
    "- As you're probably aware by now, PyTorch [has a layer](https://pytorch.org/docs/stable/nn.html#logsoftmax) that already applies the log and the softmax in one pass.\n",
    "- If you get errors related to size mismatches when computing the forward-propagation in your model, try reading the documentation for the specific module where the problem is occurring (e.g. [`nn.Linear`](https://pytorch.org/docs/stable/nn.html#linear)), especially the part about the expected shape of inputs and outputs.\n",
    "\n",
    "**[1 point]**"
   ]
  },
  {
   "cell_type": "code",
   "execution_count": 305,
   "metadata": {
    "deletable": false,
    "nbgrader": {
     "cell_type": "code",
     "checksum": "0c96f0bb09ac33d4edfa364bb855271c",
     "grade": true,
     "grade_id": "cell-63759a1c550cd7e1",
     "locked": false,
     "points": 1,
     "schema_version": 3,
     "solution": true
    }
   },
   "outputs": [],
   "source": [
    "import torch.nn as nn\n",
    "import torch.nn.init as init\n",
    "\n",
    "class RNN(nn.Module):\n",
    "    def __init__(self, input_size, hidden_size, output_size):\n",
    "        \"\"\"\n",
    "        Inputs:\n",
    "            input_size     - Dimensionality of the input of this RNN.\n",
    "            hidden_size    - Dimensionality of the hidden state.\n",
    "            output_size    - Dimensionality of the output of this RNN.\n",
    "        \"\"\"\n",
    "\n",
    "        super(RNN, self).__init__()\n",
    "        self.hidden_size = hidden_size\n",
    "        self.x2h = nn.Linear(input_size, hidden_size, bias=True)\n",
    "        self.h2h = nn.Linear(hidden_size, hidden_size, bias=False)\n",
    "        self.h2y = nn.Linear(hidden_size, output_size, bias=True)\n",
    "\n",
    "        # YOUR CODE HERE\n",
    "\n",
    "    def forward(self, x, h):\n",
    "        \"\"\"\n",
    "        Runs the RNN module for one time-step.\n",
    "        Inputs:\n",
    "            x              - Batch of one-hot encoded characters. \n",
    "                             Tensor of size (BATCH SIZE x CHARSET LENGTH).\n",
    "            h              - Batch of hidden states at previous time-step.\n",
    "                             Tensor of size (BATCH SIZE x `hidden_size`).\n",
    "        \n",
    "        Returns:\n",
    "            y              - Batch of outputs.\n",
    "                             Tensor of size (BATCH SIZE x NUMBER OF COUNTRIES).\n",
    "            new_h          - Batch of hidden states at current time-step.\n",
    "                             Tensor of size (BATCH SIZE x `hidden_size`).\n",
    "        \"\"\"\n",
    "\n",
    "        # YOUR CODE HERE\n",
    "        h_x = self.x2h(x)\n",
    "        h_h = self.h2h(h)\n",
    "        new_h = torch.tanh(h_x + h_h)\n",
    "        y = nn.functional.log_softmax(self.h2y(new_h),dim=1)\n",
    "        return y, new_h\n"
   ]
  },
  {
   "cell_type": "markdown",
   "metadata": {
    "deletable": false,
    "editable": false,
    "nbgrader": {
     "cell_type": "markdown",
     "checksum": "ef6f13ee64c864145910c8c572c69619",
     "grade": false,
     "grade_id": "cell-41a6ab734e65e9e2",
     "locked": true,
     "schema_version": 3,
     "solution": false
    }
   },
   "source": [
    "Run the following cell to test whether the shape of your outputs are correct. Note that this *only* checks the shapes, not the content (one way you can check the actual computations of your network is to `print` the tensors as they pass through the layers, in order to check that the computations do what you expected)."
   ]
  },
  {
   "cell_type": "code",
   "execution_count": 306,
   "metadata": {
    "deletable": false,
    "editable": false,
    "nbgrader": {
     "cell_type": "code",
     "checksum": "b13549f6823038fcbdd83dcc4b043a82",
     "grade": false,
     "grade_id": "cell-0895e453938dcd22",
     "locked": true,
     "schema_version": 3,
     "solution": false
    }
   },
   "outputs": [
    {
     "name": "stdout",
     "output_type": "stream",
     "text": [
      "Test passed.\n"
     ]
    }
   ],
   "source": [
    "batch_size = 16\n",
    "# Create a test tensor of size (batch_size x CHARSET LENGTH)\n",
    "t = torch.ones((batch_size, len(charset))).to(device)\n",
    "\n",
    "# Forward-prop through the RNN\n",
    "rnn = RNN(len(charset), 3, len(names_dict)).to(device)\n",
    "h = torch.ones((batch_size, 3)).to(device)\n",
    "y, new_h = rnn(t, h)\n",
    "\n",
    "# Test dimensions of the outputs\n",
    "err_str = \"The {} has incorrect dimension. Dimension is {}, but should've been {}\"\n",
    "assert list(y.shape) == [batch_size, len(names_dict)], err_str.format(\n",
    "    \"output\", list(y.shape), [batch_size, len(names_dict)]\n",
    ")\n",
    "assert list(new_h.shape) == [batch_size, 3], err_str.format(\n",
    "    \"new hidden state\", list(new_h.shape), [batch_size, 3]\n",
    ")\n",
    "\n",
    "print(\"Test passed.\")\n",
    "\n"
   ]
  },
  {
   "cell_type": "markdown",
   "metadata": {
    "deletable": false,
    "editable": false,
    "nbgrader": {
     "cell_type": "markdown",
     "checksum": "b11e5934fe26e1176969794d05c7671f",
     "grade": false,
     "grade_id": "cell-f879b658d2fe97d5",
     "locked": true,
     "schema_version": 3,
     "solution": false
    }
   },
   "source": [
    "**[2 points]** Suppose we now create an RNN using the following call: `RNN(x, y, z)`. How many parameters would this model have in total?"
   ]
  },
  {
   "cell_type": "markdown",
   "metadata": {
    "deletable": false,
    "nbgrader": {
     "cell_type": "markdown",
     "checksum": "3a75752559679046eec4403fbd11df95",
     "grade": true,
     "grade_id": "cell-d359daf8f96289bc",
     "locked": false,
     "points": 2,
     "schema_version": 3,
     "solution": true
    }
   },
   "source": [
    "**Your answer:** \n",
    "\n",
    "We have defined 3 functions in the class, **x2h**,**h2h** and **h2y**. \n",
    "\n",
    "For **x2h** (input to the hidden), the parameters are:\n",
    "\\begin{equation*}\n",
    "param_{x2h} = W_h + b_h = x \\times y + y\n",
    "\\end{equation*}\n",
    "\n",
    "For **h2h** (the hidden to the hidden), the parameters are:\n",
    "\\begin{equation*}\n",
    "param_{h2h} = U_h = y\\times y\n",
    "\\end{equation*}\n",
    "\n",
    "For **h2y** (the hidden to the hidden), the parameters are:\n",
    "\\begin{equation*}\n",
    "param_{h2y} = W_y + b_y = y \\times z + z\n",
    "\\end{equation*}\n",
    "\n",
    "In sum, the parameters are:\n",
    "\\begin{equation*}\n",
    "param = param_{x2h} + param_{h2h} + param_{h2y} = (x+y+z+1) \\times y + z\n",
    "\\end{equation*}"
   ]
  },
  {
   "cell_type": "markdown",
   "metadata": {
    "deletable": false,
    "editable": false,
    "nbgrader": {
     "cell_type": "markdown",
     "checksum": "0d5dc81f8efd4a09172a3480777b3273",
     "grade": false,
     "grade_id": "cell-e3ae784b6fd462cb",
     "locked": true,
     "schema_version": 3,
     "solution": false
    }
   },
   "source": [
    "We will use the Adam optimizer:"
   ]
  },
  {
   "cell_type": "code",
   "execution_count": 307,
   "metadata": {
    "deletable": false,
    "editable": false,
    "nbgrader": {
     "cell_type": "code",
     "checksum": "32abb30aecff746e6f8450bd2585ccd9",
     "grade": false,
     "grade_id": "cell-c8087333699def0c",
     "locked": true,
     "schema_version": 3,
     "solution": false
    }
   },
   "outputs": [],
   "source": [
    "from torch.optim import Adam"
   ]
  },
  {
   "cell_type": "markdown",
   "metadata": {
    "deletable": false,
    "editable": false,
    "nbgrader": {
     "cell_type": "markdown",
     "checksum": "76849f484a3adefd591bfca9ac7f9bbf",
     "grade": false,
     "grade_id": "cell-6411a391a74a5e36",
     "locked": true,
     "schema_version": 3,
     "solution": false
    }
   },
   "source": [
    "and since this is a classification problem we will use the negative log-likelihood loss ([`NLLLoss`](https://pytorch.org/docs/stable/generated/torch.nn.NLLLoss.html#torch.nn.NLLLoss)) to train the model. We should account for the fact that our dataset is imbalanced, and one way of dealing with this problem is to assign different weights to each class in our problem. "
   ]
  },
  {
   "cell_type": "code",
   "execution_count": 308,
   "metadata": {
    "deletable": false,
    "editable": false,
    "nbgrader": {
     "cell_type": "code",
     "checksum": "d5b7a4d07bf432bf1e03d2a0c68d3146",
     "grade": false,
     "grade_id": "cell-934166eac20acb50",
     "locked": true,
     "schema_version": 3,
     "solution": false
    }
   },
   "outputs": [],
   "source": [
    "# Compute weights for each class\n",
    "n_names_for_each_country = [len(v) for v in names_dict.values()]\n",
    "ns = torch.tensor(n_names_for_each_country, dtype=torch.float)\n",
    "w = 1.0 / ns\n",
    "w = w / w.sum()\n",
    "\n",
    "# Define loss\n",
    "criterion = nn.NLLLoss(weight=w.to(device))\n"
   ]
  },
  {
   "cell_type": "markdown",
   "metadata": {
    "deletable": false,
    "editable": false,
    "nbgrader": {
     "cell_type": "markdown",
     "checksum": "53ce890d1fddec319a2f1a498f8a0e01",
     "grade": false,
     "grade_id": "cell-b333a7e050fbe007",
     "locked": true,
     "schema_version": 3,
     "solution": false
    }
   },
   "source": [
    "**[2 points]** Why is it a problem that the dataset is imbalanced? What would be the consequence of not dealing with this problem?"
   ]
  },
  {
   "cell_type": "markdown",
   "metadata": {
    "deletable": false,
    "nbgrader": {
     "cell_type": "markdown",
     "checksum": "39b45db880f3a25283647535d49fed4f",
     "grade": true,
     "grade_id": "cell-a044d5b4e3bcf29b",
     "locked": false,
     "points": 2,
     "schema_version": 3,
     "solution": true
    }
   },
   "source": [
    "**Your answer:** \n",
    "\n",
    "Our model will tend to become biased towards the majority nationalities, it wont have enough info to learn the characteristics of names from the very few samples. Overfitting."
   ]
  },
  {
   "cell_type": "markdown",
   "metadata": {
    "deletable": false,
    "editable": false,
    "nbgrader": {
     "cell_type": "markdown",
     "checksum": "c349e4191662336f20987e4ac762a737",
     "grade": false,
     "grade_id": "cell-0611001189dd369a",
     "locked": true,
     "schema_version": 3,
     "solution": false
    }
   },
   "source": [
    "**[3 points]** Why does assigning different weights to each class solve this problem? How should the weights be chosen?"
   ]
  },
  {
   "cell_type": "markdown",
   "metadata": {
    "deletable": false,
    "nbgrader": {
     "cell_type": "markdown",
     "checksum": "504304e6d0e5cafb4cca4a614fef9c22",
     "grade": true,
     "grade_id": "cell-f19ff5370ea1e86d",
     "locked": false,
     "points": 3,
     "schema_version": 3,
     "solution": true
    }
   },
   "source": [
    "**Your answer:** \n",
    "\n",
    "1. Reasons: \n",
    "- By assigning higher weights to the nationalities with fewer names in our dataset, the loss function is penalized more for making mistakes on these nationalities. \n",
    "- Weighting ensures that errors across nationalities are treated with a balanced importance.\n",
    "2. Ways to choose weights: Assign weights that are inversely proportional to the class frequencies. After computing the inverse proportional weights, do normalization."
   ]
  },
  {
   "cell_type": "markdown",
   "metadata": {
    "deletable": false,
    "editable": false,
    "nbgrader": {
     "cell_type": "markdown",
     "checksum": "dab1c1395041673c28ae98f9c66bea2d",
     "grade": false,
     "grade_id": "cell-ced0796bf818f493",
     "locked": true,
     "schema_version": 3,
     "solution": false
    }
   },
   "source": [
    "**[3 points]** Is there any situation where *we would want* class imbalances? How could we create such a class imbalance in a balanced dataset (without changing the dataset itself)? "
   ]
  },
  {
   "cell_type": "markdown",
   "metadata": {
    "deletable": false,
    "nbgrader": {
     "cell_type": "markdown",
     "checksum": "e39a72245eba4ba1147edbb60d0312ec",
     "grade": true,
     "grade_id": "cell-821c6a2fb462d2f9",
     "locked": false,
     "points": 3,
     "schema_version": 3,
     "solution": true
    }
   },
   "source": [
    "**Your answer:** (fill in here)"
   ]
  },
  {
   "cell_type": "markdown",
   "metadata": {
    "deletable": false,
    "editable": false,
    "nbgrader": {
     "cell_type": "markdown",
     "checksum": "cbc3cc703eb376f0ad0be049bef4e506",
     "grade": false,
     "grade_id": "cell-95508ad6a5c542b5",
     "locked": true,
     "schema_version": 3,
     "solution": false
    }
   },
   "source": [
    "### 1.4 Helper functions for training"
   ]
  },
  {
   "cell_type": "markdown",
   "metadata": {
    "deletable": false,
    "editable": false,
    "nbgrader": {
     "cell_type": "markdown",
     "checksum": "58265723d45b24d2b45cf6afb91486e9",
     "grade": false,
     "grade_id": "cell-ccbb270d5fe1c30c",
     "locked": true,
     "schema_version": 3,
     "solution": false
    }
   },
   "source": [
    "Now that we defined the optimization problem, we can start creating the code to actually solve it. The first thing that we need is a function that, given a batch of samples, computes the output of the model for every sample and the average loss across all samples. \n",
    "\n",
    "Complete the function `batch_forward_prop` to produce this behavior.\n",
    "\n",
    "*Hints*:\n",
    "\n",
    "- Initialize the hidden state to a zero Tensor for the first forward-propagation.\n",
    "- If you get errors related to size mismatches when computing the forward-propagation in your model, try reading the documentation for the specific module where the problem is occurring (e.g. [`nn.Linear`](https://pytorch.org/docs/stable/nn.html#linear)), especially the part about the expected shape of inputs and outputs.\n",
    "- If you get errors related to size mismatches when computing the loss, try reading the [documentation for it](https://pytorch.org/docs/stable/nn.html#nllloss), especially the part about the expected shape of inputs and outputs.\n",
    "\n",
    "**[2 points]**"
   ]
  },
  {
   "cell_type": "code",
   "execution_count": 309,
   "metadata": {
    "deletable": false,
    "nbgrader": {
     "cell_type": "code",
     "checksum": "75648e70d6a7c1bf1efc1466ea579829",
     "grade": true,
     "grade_id": "cell-080aad948708672d",
     "locked": false,
     "points": 2,
     "schema_version": 3,
     "solution": true
    }
   },
   "outputs": [],
   "source": [
    "def batch_forward_prop(rnn, xs, ys):  \n",
    "    \"\"\"\n",
    "    Inputs:\n",
    "        rnn            - The RNN model, instance of the RNN class.\n",
    "        xs             - Batch of input words.\n",
    "                         Tensor of shape (BATCH SIZE x `target_len` x CHARSET LENGTH).\n",
    "        ys             - Batch of ground-truth labels.\n",
    "                         Tensor of  shape (BATCH_SIZE).\n",
    "    \n",
    "    Returns:\n",
    "        output         - Output computed at the last character position in the batch.\n",
    "                         Tensor of shape (BATCH_SIZE x NUMBER OF COUNTRIES).\n",
    "        loss           - Value of the average loss across the predictions for this batch, later used for back-propagation.\n",
    "                         Tensor with a single element inside.\n",
    "    \"\"\"\n",
    "    \n",
    "    # YOUR CODE HERE\n",
    "    batch_size = xs.size(0)\n",
    "    h = torch.zeros(batch_size, rnn.hidden_size).to(xs.device)\n",
    "    for step in range(xs.size(1)):\n",
    "        output, h =  rnn(xs[:, step, :], h)\n",
    "    loss = criterion(output, ys)\n",
    "    return output, loss"
   ]
  },
  {
   "cell_type": "markdown",
   "metadata": {
    "deletable": false,
    "editable": false,
    "nbgrader": {
     "cell_type": "markdown",
     "checksum": "99ee062817c7b56e5180058437d2f26d",
     "grade": false,
     "grade_id": "cell-644f9d6aaa50e21c",
     "locked": true,
     "schema_version": 3,
     "solution": false
    }
   },
   "source": [
    "Run the following cell to test whether the shape of your outputs are correct. Note that this *only* checks the shapes, not the content."
   ]
  },
  {
   "cell_type": "code",
   "execution_count": 310,
   "metadata": {
    "deletable": false,
    "editable": false,
    "nbgrader": {
     "cell_type": "code",
     "checksum": "a3dbd376c434b09e3945c9d1ac43b803",
     "grade": false,
     "grade_id": "cell-02f7744a186b2ebe",
     "locked": true,
     "schema_version": 3,
     "solution": false
    }
   },
   "outputs": [
    {
     "name": "stdout",
     "output_type": "stream",
     "text": [
      "Test passed.\n"
     ]
    }
   ],
   "source": [
    "def test_rnn():\n",
    "    # Create two tensors\n",
    "    t1 = name2tensor('Unit')\n",
    "    t2 = name2tensor('Test')\n",
    "\n",
    "    # Add the batch dimension to them and concatenate\n",
    "    t = torch.cat([t1[None, :], t2[None, :]], dim=0)\n",
    "\n",
    "    # Create label tensor\n",
    "    l = torch.ones((2), dtype=torch.long)\n",
    "\n",
    "    # Create RNN\n",
    "    rnn = RNN(len(charset), 10, len(names_dict))\n",
    "\n",
    "    # Put everything in the correct device\n",
    "    t = t.to(device)\n",
    "    l = l.to(device)\n",
    "    rnn.to(device)\n",
    "\n",
    "    # Perform the forward-prop\n",
    "    y, loss = batch_forward_prop(rnn, t, l)\n",
    "\n",
    "    # Test dimensions of the outputs\n",
    "    err_str = 'The {} has incorrect dimension. Dimension is {}, but should\\'ve been {}'\n",
    "    assert list(y.shape) == [2, len(names_dict)], err_str.format('output', list(y.shape), [2, len(names_dict)])\n",
    "    assert list(loss.shape) == [], err_str.format('loss', list(loss.shape), [])\n",
    "\n",
    "    print('Test passed.')\n",
    "    \n",
    "test_rnn()"
   ]
  },
  {
   "cell_type": "markdown",
   "metadata": {
    "deletable": false,
    "editable": false,
    "nbgrader": {
     "cell_type": "markdown",
     "checksum": "d0829fc6b5254f539a66a81a3024bdfc",
     "grade": false,
     "grade_id": "cell-4010f6bcbc1e6245",
     "locked": true,
     "schema_version": 3,
     "solution": false
    }
   },
   "source": [
    "Using this function, it's straightforward to train on a single batch of data:"
   ]
  },
  {
   "cell_type": "code",
   "execution_count": 311,
   "metadata": {
    "deletable": false,
    "editable": false,
    "nbgrader": {
     "cell_type": "code",
     "checksum": "14bd8c317ed86e66c5c7ba211682f58b",
     "grade": false,
     "grade_id": "cell-78972c6d342b4da9",
     "locked": true,
     "schema_version": 3,
     "solution": false
    }
   },
   "outputs": [],
   "source": [
    "def train_batch(rnn, xs, ys, optimizer):\n",
    "\n",
    "    # Compute the output for all samples in the batch and the average loss\n",
    "    output, loss = batch_forward_prop(rnn, xs, ys)\n",
    "\n",
    "    # Zero gradients before computing backward-propagation\n",
    "    optimizer.zero_grad()\n",
    "\n",
    "    # Backward-propagation\n",
    "    loss.backward()\n",
    "\n",
    "    # Clip the gradient norm (optional, helps to stabilize training)\n",
    "    nn.utils.clip_grad_norm_(rnn.parameters(), 2)\n",
    "\n",
    "    # Perform one step of optimization\n",
    "    optimizer.step()\n",
    "\n",
    "    return output, loss\n"
   ]
  },
  {
   "cell_type": "markdown",
   "metadata": {
    "deletable": false,
    "editable": false,
    "nbgrader": {
     "cell_type": "markdown",
     "checksum": "576143bb6960f21f2b68bd6bb977a9f0",
     "grade": false,
     "grade_id": "cell-f2b194756febe3f1",
     "locked": true,
     "schema_version": 3,
     "solution": false
    }
   },
   "source": [
    "We will also need a function for computing metrics of interest in the validation set. In this case, we will plot both the loss and the F1-score in the validation set. The F1-score of a classifier is the [harmonic mean](https://en.wikipedia.org/wiki/Harmonic_mean) of its [precision and recall](https://en.wikipedia.org/wiki/Precision_and_recall), two metrics that are more useful than accuracy for imbalanced datasets. [This blog post](https://towardsdatascience.com/accuracy-precision-recall-or-f1-331fb37c5cb9) can help you to familiarize yourself with these new metrics."
   ]
  },
  {
   "cell_type": "code",
   "execution_count": 312,
   "metadata": {
    "deletable": false,
    "editable": false,
    "nbgrader": {
     "cell_type": "code",
     "checksum": "208a5f56500847a17c3da081f13fc9f6",
     "grade": false,
     "grade_id": "cell-94021e46113ec8cb",
     "locked": true,
     "schema_version": 3,
     "solution": false
    }
   },
   "outputs": [],
   "source": [
    "from sklearn.metrics import precision_recall_fscore_support\n",
    "\n",
    "\n",
    "def compute_metrics_on_validation_set(rnn, val_dataset):\n",
    "    # Get all the input and labels in the training set.\n",
    "    x_val, y_val = val_dataset[:]\n",
    "\n",
    "    # Perform forward-prop in the entire validation set, with autograd disabled\n",
    "    with torch.no_grad():\n",
    "        val_output, val_loss = batch_forward_prop(rnn, x_val, y_val)\n",
    "\n",
    "    # Get numpy arrays for the true labels and the predictions\n",
    "    y_true = y_val.cpu().numpy()\n",
    "    y_pred = val_output.argmax(dim=1).cpu().numpy()\n",
    "\n",
    "    # Compute precision, recall, and F-score\n",
    "    precision, recall, fscore, _ = precision_recall_fscore_support(\n",
    "        y_true, y_pred, average=\"macro\")\n",
    "\n",
    "    return val_loss, precision, recall, fscore\n"
   ]
  },
  {
   "cell_type": "markdown",
   "metadata": {
    "deletable": false,
    "editable": false,
    "nbgrader": {
     "cell_type": "markdown",
     "checksum": "06672da367df025e50d1fc66d1a14015",
     "grade": false,
     "grade_id": "cell-2e37e571600c2220",
     "locked": true,
     "schema_version": 3,
     "solution": false
    }
   },
   "source": [
    "Lastly, we define a function for plotting the metrics in real-time."
   ]
  },
  {
   "cell_type": "code",
   "execution_count": 313,
   "metadata": {
    "deletable": false,
    "editable": false,
    "nbgrader": {
     "cell_type": "code",
     "checksum": "9378a010371205dca7d327ef558bb638",
     "grade": false,
     "grade_id": "cell-2807fe4cfa2d8b29",
     "locked": true,
     "schema_version": 3,
     "solution": false
    }
   },
   "outputs": [],
   "source": [
    "def plot_metrics(fig, ax, ns, train_losses, train_fscores, val_losses, val_fscores):\n",
    "\n",
    "    # Plot losses\n",
    "    ax[0].clear()\n",
    "    ax[0].plot(ns, train_losses)\n",
    "    ax[0].plot(ns, val_losses)\n",
    "    ax[0].set_title('Loss')\n",
    "    ax[0].legend(['Train','Validation'])\n",
    "    ax[0].set_xlabel('Number of trained batches')\n",
    "    ax[0].grid()\n",
    "\n",
    "    # Plot F1-scores\n",
    "    ax[1].clear()\n",
    "    ax[1].plot(ns, train_fscores)\n",
    "    ax[1].plot(ns, val_fscores)\n",
    "    ax[1].plot(ns, [0.3]*len(ns), 'k--')\n",
    "    ax[1].set_title('Macro F1-score')\n",
    "    ax[1].legend(['Train','Validation', 'F1-score threshold'])\n",
    "    ax[1].set_xlabel('Number of trained batches')\n",
    "    ax[1].grid()\n",
    "    \n",
    "    \n",
    "    fig.canvas.draw()\n",
    "    "
   ]
  },
  {
   "cell_type": "markdown",
   "metadata": {
    "deletable": false,
    "editable": false,
    "nbgrader": {
     "cell_type": "markdown",
     "checksum": "520a4c1ba775bfc75e1ed71009bcf6b9",
     "grade": false,
     "grade_id": "cell-2a8edc5c0c4d13d6",
     "locked": true,
     "schema_version": 3,
     "solution": false
    }
   },
   "source": [
    "With these helper functions, the `train` function becomes:"
   ]
  },
  {
   "cell_type": "code",
   "execution_count": 314,
   "metadata": {
    "deletable": false,
    "editable": false,
    "nbgrader": {
     "cell_type": "code",
     "checksum": "1a9b23a5e750c299ed81585d822ad073",
     "grade": false,
     "grade_id": "cell-61029512380ba880",
     "locked": true,
     "schema_version": 3,
     "solution": false
    }
   },
   "outputs": [],
   "source": [
    "from torch.utils.data import DataLoader\n",
    "\n",
    "def train(rnn, n_epochs, learning_rate, batch_size, train_dataset, val_dataset):\n",
    "    \n",
    "    # Setup the figure for plotting progress during training\n",
    "    %matplotlib notebook\n",
    "    fig, ax = plt.subplots(ncols=2, figsize=(12,4))\n",
    "    plt.ion()\n",
    "    plot_interval = 100\n",
    "    \n",
    "    # Create arrays to average training metrics across batches\n",
    "    preds = []\n",
    "    labels = []\n",
    "    losses = []\n",
    "    \n",
    "    # Create dictionaries to hold the computed metrics in\n",
    "    train_data = {'losses': [], 'fscores': []}\n",
    "    val_data = {'losses': [], 'fscores': []}\n",
    "    \n",
    "    optimizer = Adam(rnn.parameters(), lr=learning_rate)\n",
    "    train_data_loader = DataLoader(train_dataset, batch_size=batch_size, shuffle=True, drop_last=True)\n",
    "    batch_idxs = []\n",
    "    \n",
    "    # Training loop\n",
    "    i_batch = 0\n",
    "    for n in range(n_epochs):\n",
    "        for i, (x_batch, y_batch) in enumerate(train_data_loader):\n",
    "            i_batch += 1\n",
    "            \n",
    "            # Compute loss and outputs\n",
    "            output, loss = train_batch(rnn, x_batch, y_batch, optimizer)\n",
    "            \n",
    "            # Aggregate for later averaging\n",
    "            preds += output.argmax(dim=1).cpu().tolist()\n",
    "            labels += y_batch.cpu().tolist()\n",
    "            losses.append(loss)\n",
    "            \n",
    "            # Compute metrics and plot after every `plot_interval` batches\n",
    "            if i % plot_interval == 0:\n",
    "              \n",
    "                val_loss, _, _, val_fscore = compute_metrics_on_validation_set(rnn, val_dataset)\n",
    "                train_fscore = precision_recall_fscore_support(labels, preds, average='macro')[2]\n",
    "                \n",
    "                val_data['losses'].append(val_loss.cpu())\n",
    "                val_data['fscores'].append(val_fscore)\n",
    "                train_data['losses'].append((sum(losses)/len(losses)).item())\n",
    "                train_data['fscores'].append(train_fscore)\n",
    "                batch_idxs.append(i_batch)\n",
    "\n",
    "                preds = []\n",
    "                labels = []\n",
    "                losses = []\n",
    "\n",
    "                plot_metrics(fig, ax, batch_idxs, train_data['losses'], train_data['fscores'], val_data['losses'], val_data['fscores'])"
   ]
  },
  {
   "cell_type": "markdown",
   "metadata": {
    "deletable": false,
    "editable": false,
    "nbgrader": {
     "cell_type": "markdown",
     "checksum": "0f89bbf2c0e1f3ab9e64a937f8e24863",
     "grade": false,
     "grade_id": "cell-f92f1fd576a8a7cb",
     "locked": true,
     "schema_version": 3,
     "solution": false
    }
   },
   "source": [
    "Make sure that you completely understand the `train` function before proceeding (e.g. that we aggregate predictions from different batches and compute metrics only at a certain interval, etc)."
   ]
  },
  {
   "cell_type": "markdown",
   "metadata": {
    "deletable": false,
    "editable": false,
    "nbgrader": {
     "cell_type": "markdown",
     "checksum": "487f8bd9d91b0abeeae00e8c120a6f15",
     "grade": false,
     "grade_id": "cell-18f5c7620b914ebd",
     "locked": true,
     "schema_version": 3,
     "solution": false
    }
   },
   "source": [
    "### 1.5 Training!\n",
    "\n",
    "Now we're ready to train the network! Create an RNN and use the `train` function to train it.\n",
    "\n",
    "*Hints*:\n",
    "\n",
    "- Tuning the hyper-parameters (number of hidden units, learning rate, batch size, etc) will take some trial-and-error. Try simple things first, and then once you manage to train them, start scaling up. Also, have in mind the bias-variance tradeoff mentioned in the lectures.\n",
    "- When tuning the learning rate, focus first on being able to decrease the training loss. Keep decreasing the learning rate until that starts happening.\n",
    "- You should use a GPU for fast training times. Using a CPU, training a network can take ~5-10 minutes with suitable hyper-parameters. With a GPU training takes ~1 minute with the same hyper-parameters."
   ]
  },
  {
   "cell_type": "code",
   "execution_count": 326,
   "metadata": {
    "deletable": false,
    "nbgrader": {
     "cell_type": "code",
     "checksum": "0e3d64e9c5c79168399628331405b8ed",
     "grade": true,
     "grade_id": "cell-937381af9dcaf490",
     "locked": false,
     "points": 0,
     "schema_version": 3,
     "solution": true
    }
   },
   "outputs": [
    {
     "data": {
      "application/javascript": [
       "/* Put everything inside the global mpl namespace */\n",
       "/* global mpl */\n",
       "window.mpl = {};\n",
       "\n",
       "mpl.get_websocket_type = function () {\n",
       "    if (typeof WebSocket !== 'undefined') {\n",
       "        return WebSocket;\n",
       "    } else if (typeof MozWebSocket !== 'undefined') {\n",
       "        return MozWebSocket;\n",
       "    } else {\n",
       "        alert(\n",
       "            'Your browser does not have WebSocket support. ' +\n",
       "                'Please try Chrome, Safari or Firefox ≥ 6. ' +\n",
       "                'Firefox 4 and 5 are also supported but you ' +\n",
       "                'have to enable WebSockets in about:config.'\n",
       "        );\n",
       "    }\n",
       "};\n",
       "\n",
       "mpl.figure = function (figure_id, websocket, ondownload, parent_element) {\n",
       "    this.id = figure_id;\n",
       "\n",
       "    this.ws = websocket;\n",
       "\n",
       "    this.supports_binary = this.ws.binaryType !== undefined;\n",
       "\n",
       "    if (!this.supports_binary) {\n",
       "        var warnings = document.getElementById('mpl-warnings');\n",
       "        if (warnings) {\n",
       "            warnings.style.display = 'block';\n",
       "            warnings.textContent =\n",
       "                'This browser does not support binary websocket messages. ' +\n",
       "                'Performance may be slow.';\n",
       "        }\n",
       "    }\n",
       "\n",
       "    this.imageObj = new Image();\n",
       "\n",
       "    this.context = undefined;\n",
       "    this.message = undefined;\n",
       "    this.canvas = undefined;\n",
       "    this.rubberband_canvas = undefined;\n",
       "    this.rubberband_context = undefined;\n",
       "    this.format_dropdown = undefined;\n",
       "\n",
       "    this.image_mode = 'full';\n",
       "\n",
       "    this.root = document.createElement('div');\n",
       "    this.root.setAttribute('style', 'display: inline-block');\n",
       "    this._root_extra_style(this.root);\n",
       "\n",
       "    parent_element.appendChild(this.root);\n",
       "\n",
       "    this._init_header(this);\n",
       "    this._init_canvas(this);\n",
       "    this._init_toolbar(this);\n",
       "\n",
       "    var fig = this;\n",
       "\n",
       "    this.waiting = false;\n",
       "\n",
       "    this.ws.onopen = function () {\n",
       "        fig.send_message('supports_binary', { value: fig.supports_binary });\n",
       "        fig.send_message('send_image_mode', {});\n",
       "        if (fig.ratio !== 1) {\n",
       "            fig.send_message('set_device_pixel_ratio', {\n",
       "                device_pixel_ratio: fig.ratio,\n",
       "            });\n",
       "        }\n",
       "        fig.send_message('refresh', {});\n",
       "    };\n",
       "\n",
       "    this.imageObj.onload = function () {\n",
       "        if (fig.image_mode === 'full') {\n",
       "            // Full images could contain transparency (where diff images\n",
       "            // almost always do), so we need to clear the canvas so that\n",
       "            // there is no ghosting.\n",
       "            fig.context.clearRect(0, 0, fig.canvas.width, fig.canvas.height);\n",
       "        }\n",
       "        fig.context.drawImage(fig.imageObj, 0, 0);\n",
       "    };\n",
       "\n",
       "    this.imageObj.onunload = function () {\n",
       "        fig.ws.close();\n",
       "    };\n",
       "\n",
       "    this.ws.onmessage = this._make_on_message_function(this);\n",
       "\n",
       "    this.ondownload = ondownload;\n",
       "};\n",
       "\n",
       "mpl.figure.prototype._init_header = function () {\n",
       "    var titlebar = document.createElement('div');\n",
       "    titlebar.classList =\n",
       "        'ui-dialog-titlebar ui-widget-header ui-corner-all ui-helper-clearfix';\n",
       "    var titletext = document.createElement('div');\n",
       "    titletext.classList = 'ui-dialog-title';\n",
       "    titletext.setAttribute(\n",
       "        'style',\n",
       "        'width: 100%; text-align: center; padding: 3px;'\n",
       "    );\n",
       "    titlebar.appendChild(titletext);\n",
       "    this.root.appendChild(titlebar);\n",
       "    this.header = titletext;\n",
       "};\n",
       "\n",
       "mpl.figure.prototype._canvas_extra_style = function (_canvas_div) {};\n",
       "\n",
       "mpl.figure.prototype._root_extra_style = function (_canvas_div) {};\n",
       "\n",
       "mpl.figure.prototype._init_canvas = function () {\n",
       "    var fig = this;\n",
       "\n",
       "    var canvas_div = (this.canvas_div = document.createElement('div'));\n",
       "    canvas_div.setAttribute('tabindex', '0');\n",
       "    canvas_div.setAttribute(\n",
       "        'style',\n",
       "        'border: 1px solid #ddd;' +\n",
       "            'box-sizing: content-box;' +\n",
       "            'clear: both;' +\n",
       "            'min-height: 1px;' +\n",
       "            'min-width: 1px;' +\n",
       "            'outline: 0;' +\n",
       "            'overflow: hidden;' +\n",
       "            'position: relative;' +\n",
       "            'resize: both;' +\n",
       "            'z-index: 2;'\n",
       "    );\n",
       "\n",
       "    function on_keyboard_event_closure(name) {\n",
       "        return function (event) {\n",
       "            return fig.key_event(event, name);\n",
       "        };\n",
       "    }\n",
       "\n",
       "    canvas_div.addEventListener(\n",
       "        'keydown',\n",
       "        on_keyboard_event_closure('key_press')\n",
       "    );\n",
       "    canvas_div.addEventListener(\n",
       "        'keyup',\n",
       "        on_keyboard_event_closure('key_release')\n",
       "    );\n",
       "\n",
       "    this._canvas_extra_style(canvas_div);\n",
       "    this.root.appendChild(canvas_div);\n",
       "\n",
       "    var canvas = (this.canvas = document.createElement('canvas'));\n",
       "    canvas.classList.add('mpl-canvas');\n",
       "    canvas.setAttribute(\n",
       "        'style',\n",
       "        'box-sizing: content-box;' +\n",
       "            'pointer-events: none;' +\n",
       "            'position: relative;' +\n",
       "            'z-index: 0;'\n",
       "    );\n",
       "\n",
       "    this.context = canvas.getContext('2d');\n",
       "\n",
       "    var backingStore =\n",
       "        this.context.backingStorePixelRatio ||\n",
       "        this.context.webkitBackingStorePixelRatio ||\n",
       "        this.context.mozBackingStorePixelRatio ||\n",
       "        this.context.msBackingStorePixelRatio ||\n",
       "        this.context.oBackingStorePixelRatio ||\n",
       "        this.context.backingStorePixelRatio ||\n",
       "        1;\n",
       "\n",
       "    this.ratio = (window.devicePixelRatio || 1) / backingStore;\n",
       "\n",
       "    var rubberband_canvas = (this.rubberband_canvas = document.createElement(\n",
       "        'canvas'\n",
       "    ));\n",
       "    rubberband_canvas.setAttribute(\n",
       "        'style',\n",
       "        'box-sizing: content-box;' +\n",
       "            'left: 0;' +\n",
       "            'pointer-events: none;' +\n",
       "            'position: absolute;' +\n",
       "            'top: 0;' +\n",
       "            'z-index: 1;'\n",
       "    );\n",
       "\n",
       "    // Apply a ponyfill if ResizeObserver is not implemented by browser.\n",
       "    if (this.ResizeObserver === undefined) {\n",
       "        if (window.ResizeObserver !== undefined) {\n",
       "            this.ResizeObserver = window.ResizeObserver;\n",
       "        } else {\n",
       "            var obs = _JSXTOOLS_RESIZE_OBSERVER({});\n",
       "            this.ResizeObserver = obs.ResizeObserver;\n",
       "        }\n",
       "    }\n",
       "\n",
       "    this.resizeObserverInstance = new this.ResizeObserver(function (entries) {\n",
       "        var nentries = entries.length;\n",
       "        for (var i = 0; i < nentries; i++) {\n",
       "            var entry = entries[i];\n",
       "            var width, height;\n",
       "            if (entry.contentBoxSize) {\n",
       "                if (entry.contentBoxSize instanceof Array) {\n",
       "                    // Chrome 84 implements new version of spec.\n",
       "                    width = entry.contentBoxSize[0].inlineSize;\n",
       "                    height = entry.contentBoxSize[0].blockSize;\n",
       "                } else {\n",
       "                    // Firefox implements old version of spec.\n",
       "                    width = entry.contentBoxSize.inlineSize;\n",
       "                    height = entry.contentBoxSize.blockSize;\n",
       "                }\n",
       "            } else {\n",
       "                // Chrome <84 implements even older version of spec.\n",
       "                width = entry.contentRect.width;\n",
       "                height = entry.contentRect.height;\n",
       "            }\n",
       "\n",
       "            // Keep the size of the canvas and rubber band canvas in sync with\n",
       "            // the canvas container.\n",
       "            if (entry.devicePixelContentBoxSize) {\n",
       "                // Chrome 84 implements new version of spec.\n",
       "                canvas.setAttribute(\n",
       "                    'width',\n",
       "                    entry.devicePixelContentBoxSize[0].inlineSize\n",
       "                );\n",
       "                canvas.setAttribute(\n",
       "                    'height',\n",
       "                    entry.devicePixelContentBoxSize[0].blockSize\n",
       "                );\n",
       "            } else {\n",
       "                canvas.setAttribute('width', width * fig.ratio);\n",
       "                canvas.setAttribute('height', height * fig.ratio);\n",
       "            }\n",
       "            /* This rescales the canvas back to display pixels, so that it\n",
       "             * appears correct on HiDPI screens. */\n",
       "            canvas.style.width = width + 'px';\n",
       "            canvas.style.height = height + 'px';\n",
       "\n",
       "            rubberband_canvas.setAttribute('width', width);\n",
       "            rubberband_canvas.setAttribute('height', height);\n",
       "\n",
       "            // And update the size in Python. We ignore the initial 0/0 size\n",
       "            // that occurs as the element is placed into the DOM, which should\n",
       "            // otherwise not happen due to the minimum size styling.\n",
       "            if (fig.ws.readyState == 1 && width != 0 && height != 0) {\n",
       "                fig.request_resize(width, height);\n",
       "            }\n",
       "        }\n",
       "    });\n",
       "    this.resizeObserverInstance.observe(canvas_div);\n",
       "\n",
       "    function on_mouse_event_closure(name) {\n",
       "        /* User Agent sniffing is bad, but WebKit is busted:\n",
       "         * https://bugs.webkit.org/show_bug.cgi?id=144526\n",
       "         * https://bugs.webkit.org/show_bug.cgi?id=181818\n",
       "         * The worst that happens here is that they get an extra browser\n",
       "         * selection when dragging, if this check fails to catch them.\n",
       "         */\n",
       "        var UA = navigator.userAgent;\n",
       "        var isWebKit = /AppleWebKit/.test(UA) && !/Chrome/.test(UA);\n",
       "        if(isWebKit) {\n",
       "            return function (event) {\n",
       "                /* This prevents the web browser from automatically changing to\n",
       "                 * the text insertion cursor when the button is pressed. We\n",
       "                 * want to control all of the cursor setting manually through\n",
       "                 * the 'cursor' event from matplotlib */\n",
       "                event.preventDefault()\n",
       "                return fig.mouse_event(event, name);\n",
       "            };\n",
       "        } else {\n",
       "            return function (event) {\n",
       "                return fig.mouse_event(event, name);\n",
       "            };\n",
       "        }\n",
       "    }\n",
       "\n",
       "    canvas_div.addEventListener(\n",
       "        'mousedown',\n",
       "        on_mouse_event_closure('button_press')\n",
       "    );\n",
       "    canvas_div.addEventListener(\n",
       "        'mouseup',\n",
       "        on_mouse_event_closure('button_release')\n",
       "    );\n",
       "    canvas_div.addEventListener(\n",
       "        'dblclick',\n",
       "        on_mouse_event_closure('dblclick')\n",
       "    );\n",
       "    // Throttle sequential mouse events to 1 every 20ms.\n",
       "    canvas_div.addEventListener(\n",
       "        'mousemove',\n",
       "        on_mouse_event_closure('motion_notify')\n",
       "    );\n",
       "\n",
       "    canvas_div.addEventListener(\n",
       "        'mouseenter',\n",
       "        on_mouse_event_closure('figure_enter')\n",
       "    );\n",
       "    canvas_div.addEventListener(\n",
       "        'mouseleave',\n",
       "        on_mouse_event_closure('figure_leave')\n",
       "    );\n",
       "\n",
       "    canvas_div.addEventListener('wheel', function (event) {\n",
       "        if (event.deltaY < 0) {\n",
       "            event.step = 1;\n",
       "        } else {\n",
       "            event.step = -1;\n",
       "        }\n",
       "        on_mouse_event_closure('scroll')(event);\n",
       "    });\n",
       "\n",
       "    canvas_div.appendChild(canvas);\n",
       "    canvas_div.appendChild(rubberband_canvas);\n",
       "\n",
       "    this.rubberband_context = rubberband_canvas.getContext('2d');\n",
       "    this.rubberband_context.strokeStyle = '#000000';\n",
       "\n",
       "    this._resize_canvas = function (width, height, forward) {\n",
       "        if (forward) {\n",
       "            canvas_div.style.width = width + 'px';\n",
       "            canvas_div.style.height = height + 'px';\n",
       "        }\n",
       "    };\n",
       "\n",
       "    // Disable right mouse context menu.\n",
       "    canvas_div.addEventListener('contextmenu', function (_e) {\n",
       "        event.preventDefault();\n",
       "        return false;\n",
       "    });\n",
       "\n",
       "    function set_focus() {\n",
       "        canvas.focus();\n",
       "        canvas_div.focus();\n",
       "    }\n",
       "\n",
       "    window.setTimeout(set_focus, 100);\n",
       "};\n",
       "\n",
       "mpl.figure.prototype._init_toolbar = function () {\n",
       "    var fig = this;\n",
       "\n",
       "    var toolbar = document.createElement('div');\n",
       "    toolbar.classList = 'mpl-toolbar';\n",
       "    this.root.appendChild(toolbar);\n",
       "\n",
       "    function on_click_closure(name) {\n",
       "        return function (_event) {\n",
       "            return fig.toolbar_button_onclick(name);\n",
       "        };\n",
       "    }\n",
       "\n",
       "    function on_mouseover_closure(tooltip) {\n",
       "        return function (event) {\n",
       "            if (!event.currentTarget.disabled) {\n",
       "                return fig.toolbar_button_onmouseover(tooltip);\n",
       "            }\n",
       "        };\n",
       "    }\n",
       "\n",
       "    fig.buttons = {};\n",
       "    var buttonGroup = document.createElement('div');\n",
       "    buttonGroup.classList = 'mpl-button-group';\n",
       "    for (var toolbar_ind in mpl.toolbar_items) {\n",
       "        var name = mpl.toolbar_items[toolbar_ind][0];\n",
       "        var tooltip = mpl.toolbar_items[toolbar_ind][1];\n",
       "        var image = mpl.toolbar_items[toolbar_ind][2];\n",
       "        var method_name = mpl.toolbar_items[toolbar_ind][3];\n",
       "\n",
       "        if (!name) {\n",
       "            /* Instead of a spacer, we start a new button group. */\n",
       "            if (buttonGroup.hasChildNodes()) {\n",
       "                toolbar.appendChild(buttonGroup);\n",
       "            }\n",
       "            buttonGroup = document.createElement('div');\n",
       "            buttonGroup.classList = 'mpl-button-group';\n",
       "            continue;\n",
       "        }\n",
       "\n",
       "        var button = (fig.buttons[name] = document.createElement('button'));\n",
       "        button.classList = 'mpl-widget';\n",
       "        button.setAttribute('role', 'button');\n",
       "        button.setAttribute('aria-disabled', 'false');\n",
       "        button.addEventListener('click', on_click_closure(method_name));\n",
       "        button.addEventListener('mouseover', on_mouseover_closure(tooltip));\n",
       "\n",
       "        var icon_img = document.createElement('img');\n",
       "        icon_img.src = '_images/' + image + '.png';\n",
       "        icon_img.srcset = '_images/' + image + '_large.png 2x';\n",
       "        icon_img.alt = tooltip;\n",
       "        button.appendChild(icon_img);\n",
       "\n",
       "        buttonGroup.appendChild(button);\n",
       "    }\n",
       "\n",
       "    if (buttonGroup.hasChildNodes()) {\n",
       "        toolbar.appendChild(buttonGroup);\n",
       "    }\n",
       "\n",
       "    var fmt_picker = document.createElement('select');\n",
       "    fmt_picker.classList = 'mpl-widget';\n",
       "    toolbar.appendChild(fmt_picker);\n",
       "    this.format_dropdown = fmt_picker;\n",
       "\n",
       "    for (var ind in mpl.extensions) {\n",
       "        var fmt = mpl.extensions[ind];\n",
       "        var option = document.createElement('option');\n",
       "        option.selected = fmt === mpl.default_extension;\n",
       "        option.innerHTML = fmt;\n",
       "        fmt_picker.appendChild(option);\n",
       "    }\n",
       "\n",
       "    var status_bar = document.createElement('span');\n",
       "    status_bar.classList = 'mpl-message';\n",
       "    toolbar.appendChild(status_bar);\n",
       "    this.message = status_bar;\n",
       "};\n",
       "\n",
       "mpl.figure.prototype.request_resize = function (x_pixels, y_pixels) {\n",
       "    // Request matplotlib to resize the figure. Matplotlib will then trigger a resize in the client,\n",
       "    // which will in turn request a refresh of the image.\n",
       "    this.send_message('resize', { width: x_pixels, height: y_pixels });\n",
       "};\n",
       "\n",
       "mpl.figure.prototype.send_message = function (type, properties) {\n",
       "    properties['type'] = type;\n",
       "    properties['figure_id'] = this.id;\n",
       "    this.ws.send(JSON.stringify(properties));\n",
       "};\n",
       "\n",
       "mpl.figure.prototype.send_draw_message = function () {\n",
       "    if (!this.waiting) {\n",
       "        this.waiting = true;\n",
       "        this.ws.send(JSON.stringify({ type: 'draw', figure_id: this.id }));\n",
       "    }\n",
       "};\n",
       "\n",
       "mpl.figure.prototype.handle_save = function (fig, _msg) {\n",
       "    var format_dropdown = fig.format_dropdown;\n",
       "    var format = format_dropdown.options[format_dropdown.selectedIndex].value;\n",
       "    fig.ondownload(fig, format);\n",
       "};\n",
       "\n",
       "mpl.figure.prototype.handle_resize = function (fig, msg) {\n",
       "    var size = msg['size'];\n",
       "    if (size[0] !== fig.canvas.width || size[1] !== fig.canvas.height) {\n",
       "        fig._resize_canvas(size[0], size[1], msg['forward']);\n",
       "        fig.send_message('refresh', {});\n",
       "    }\n",
       "};\n",
       "\n",
       "mpl.figure.prototype.handle_rubberband = function (fig, msg) {\n",
       "    var x0 = msg['x0'] / fig.ratio;\n",
       "    var y0 = (fig.canvas.height - msg['y0']) / fig.ratio;\n",
       "    var x1 = msg['x1'] / fig.ratio;\n",
       "    var y1 = (fig.canvas.height - msg['y1']) / fig.ratio;\n",
       "    x0 = Math.floor(x0) + 0.5;\n",
       "    y0 = Math.floor(y0) + 0.5;\n",
       "    x1 = Math.floor(x1) + 0.5;\n",
       "    y1 = Math.floor(y1) + 0.5;\n",
       "    var min_x = Math.min(x0, x1);\n",
       "    var min_y = Math.min(y0, y1);\n",
       "    var width = Math.abs(x1 - x0);\n",
       "    var height = Math.abs(y1 - y0);\n",
       "\n",
       "    fig.rubberband_context.clearRect(\n",
       "        0,\n",
       "        0,\n",
       "        fig.canvas.width / fig.ratio,\n",
       "        fig.canvas.height / fig.ratio\n",
       "    );\n",
       "\n",
       "    fig.rubberband_context.strokeRect(min_x, min_y, width, height);\n",
       "};\n",
       "\n",
       "mpl.figure.prototype.handle_figure_label = function (fig, msg) {\n",
       "    // Updates the figure title.\n",
       "    fig.header.textContent = msg['label'];\n",
       "};\n",
       "\n",
       "mpl.figure.prototype.handle_cursor = function (fig, msg) {\n",
       "    fig.canvas_div.style.cursor = msg['cursor'];\n",
       "};\n",
       "\n",
       "mpl.figure.prototype.handle_message = function (fig, msg) {\n",
       "    fig.message.textContent = msg['message'];\n",
       "};\n",
       "\n",
       "mpl.figure.prototype.handle_draw = function (fig, _msg) {\n",
       "    // Request the server to send over a new figure.\n",
       "    fig.send_draw_message();\n",
       "};\n",
       "\n",
       "mpl.figure.prototype.handle_image_mode = function (fig, msg) {\n",
       "    fig.image_mode = msg['mode'];\n",
       "};\n",
       "\n",
       "mpl.figure.prototype.handle_history_buttons = function (fig, msg) {\n",
       "    for (var key in msg) {\n",
       "        if (!(key in fig.buttons)) {\n",
       "            continue;\n",
       "        }\n",
       "        fig.buttons[key].disabled = !msg[key];\n",
       "        fig.buttons[key].setAttribute('aria-disabled', !msg[key]);\n",
       "    }\n",
       "};\n",
       "\n",
       "mpl.figure.prototype.handle_navigate_mode = function (fig, msg) {\n",
       "    if (msg['mode'] === 'PAN') {\n",
       "        fig.buttons['Pan'].classList.add('active');\n",
       "        fig.buttons['Zoom'].classList.remove('active');\n",
       "    } else if (msg['mode'] === 'ZOOM') {\n",
       "        fig.buttons['Pan'].classList.remove('active');\n",
       "        fig.buttons['Zoom'].classList.add('active');\n",
       "    } else {\n",
       "        fig.buttons['Pan'].classList.remove('active');\n",
       "        fig.buttons['Zoom'].classList.remove('active');\n",
       "    }\n",
       "};\n",
       "\n",
       "mpl.figure.prototype.updated_canvas_event = function () {\n",
       "    // Called whenever the canvas gets updated.\n",
       "    this.send_message('ack', {});\n",
       "};\n",
       "\n",
       "// A function to construct a web socket function for onmessage handling.\n",
       "// Called in the figure constructor.\n",
       "mpl.figure.prototype._make_on_message_function = function (fig) {\n",
       "    return function socket_on_message(evt) {\n",
       "        if (evt.data instanceof Blob) {\n",
       "            var img = evt.data;\n",
       "            if (img.type !== 'image/png') {\n",
       "                /* FIXME: We get \"Resource interpreted as Image but\n",
       "                 * transferred with MIME type text/plain:\" errors on\n",
       "                 * Chrome.  But how to set the MIME type?  It doesn't seem\n",
       "                 * to be part of the websocket stream */\n",
       "                img.type = 'image/png';\n",
       "            }\n",
       "\n",
       "            /* Free the memory for the previous frames */\n",
       "            if (fig.imageObj.src) {\n",
       "                (window.URL || window.webkitURL).revokeObjectURL(\n",
       "                    fig.imageObj.src\n",
       "                );\n",
       "            }\n",
       "\n",
       "            fig.imageObj.src = (window.URL || window.webkitURL).createObjectURL(\n",
       "                img\n",
       "            );\n",
       "            fig.updated_canvas_event();\n",
       "            fig.waiting = false;\n",
       "            return;\n",
       "        } else if (\n",
       "            typeof evt.data === 'string' &&\n",
       "            evt.data.slice(0, 21) === 'data:image/png;base64'\n",
       "        ) {\n",
       "            fig.imageObj.src = evt.data;\n",
       "            fig.updated_canvas_event();\n",
       "            fig.waiting = false;\n",
       "            return;\n",
       "        }\n",
       "\n",
       "        var msg = JSON.parse(evt.data);\n",
       "        var msg_type = msg['type'];\n",
       "\n",
       "        // Call the  \"handle_{type}\" callback, which takes\n",
       "        // the figure and JSON message as its only arguments.\n",
       "        try {\n",
       "            var callback = fig['handle_' + msg_type];\n",
       "        } catch (e) {\n",
       "            console.log(\n",
       "                \"No handler for the '\" + msg_type + \"' message type: \",\n",
       "                msg\n",
       "            );\n",
       "            return;\n",
       "        }\n",
       "\n",
       "        if (callback) {\n",
       "            try {\n",
       "                // console.log(\"Handling '\" + msg_type + \"' message: \", msg);\n",
       "                callback(fig, msg);\n",
       "            } catch (e) {\n",
       "                console.log(\n",
       "                    \"Exception inside the 'handler_\" + msg_type + \"' callback:\",\n",
       "                    e,\n",
       "                    e.stack,\n",
       "                    msg\n",
       "                );\n",
       "            }\n",
       "        }\n",
       "    };\n",
       "};\n",
       "\n",
       "function getModifiers(event) {\n",
       "    var mods = [];\n",
       "    if (event.ctrlKey) {\n",
       "        mods.push('ctrl');\n",
       "    }\n",
       "    if (event.altKey) {\n",
       "        mods.push('alt');\n",
       "    }\n",
       "    if (event.shiftKey) {\n",
       "        mods.push('shift');\n",
       "    }\n",
       "    if (event.metaKey) {\n",
       "        mods.push('meta');\n",
       "    }\n",
       "    return mods;\n",
       "}\n",
       "\n",
       "/*\n",
       " * return a copy of an object with only non-object keys\n",
       " * we need this to avoid circular references\n",
       " * https://stackoverflow.com/a/24161582/3208463\n",
       " */\n",
       "function simpleKeys(original) {\n",
       "    return Object.keys(original).reduce(function (obj, key) {\n",
       "        if (typeof original[key] !== 'object') {\n",
       "            obj[key] = original[key];\n",
       "        }\n",
       "        return obj;\n",
       "    }, {});\n",
       "}\n",
       "\n",
       "mpl.figure.prototype.mouse_event = function (event, name) {\n",
       "    if (name === 'button_press') {\n",
       "        this.canvas.focus();\n",
       "        this.canvas_div.focus();\n",
       "    }\n",
       "\n",
       "    // from https://stackoverflow.com/q/1114465\n",
       "    var boundingRect = this.canvas.getBoundingClientRect();\n",
       "    var x = (event.clientX - boundingRect.left) * this.ratio;\n",
       "    var y = (event.clientY - boundingRect.top) * this.ratio;\n",
       "\n",
       "    this.send_message(name, {\n",
       "        x: x,\n",
       "        y: y,\n",
       "        button: event.button,\n",
       "        step: event.step,\n",
       "        modifiers: getModifiers(event),\n",
       "        guiEvent: simpleKeys(event),\n",
       "    });\n",
       "\n",
       "    return false;\n",
       "};\n",
       "\n",
       "mpl.figure.prototype._key_event_extra = function (_event, _name) {\n",
       "    // Handle any extra behaviour associated with a key event\n",
       "};\n",
       "\n",
       "mpl.figure.prototype.key_event = function (event, name) {\n",
       "    // Prevent repeat events\n",
       "    if (name === 'key_press') {\n",
       "        if (event.key === this._key) {\n",
       "            return;\n",
       "        } else {\n",
       "            this._key = event.key;\n",
       "        }\n",
       "    }\n",
       "    if (name === 'key_release') {\n",
       "        this._key = null;\n",
       "    }\n",
       "\n",
       "    var value = '';\n",
       "    if (event.ctrlKey && event.key !== 'Control') {\n",
       "        value += 'ctrl+';\n",
       "    }\n",
       "    else if (event.altKey && event.key !== 'Alt') {\n",
       "        value += 'alt+';\n",
       "    }\n",
       "    else if (event.shiftKey && event.key !== 'Shift') {\n",
       "        value += 'shift+';\n",
       "    }\n",
       "\n",
       "    value += 'k' + event.key;\n",
       "\n",
       "    this._key_event_extra(event, name);\n",
       "\n",
       "    this.send_message(name, { key: value, guiEvent: simpleKeys(event) });\n",
       "    return false;\n",
       "};\n",
       "\n",
       "mpl.figure.prototype.toolbar_button_onclick = function (name) {\n",
       "    if (name === 'download') {\n",
       "        this.handle_save(this, null);\n",
       "    } else {\n",
       "        this.send_message('toolbar_button', { name: name });\n",
       "    }\n",
       "};\n",
       "\n",
       "mpl.figure.prototype.toolbar_button_onmouseover = function (tooltip) {\n",
       "    this.message.textContent = tooltip;\n",
       "};\n",
       "\n",
       "///////////////// REMAINING CONTENT GENERATED BY embed_js.py /////////////////\n",
       "// prettier-ignore\n",
       "var _JSXTOOLS_RESIZE_OBSERVER=function(A){var t,i=new WeakMap,n=new WeakMap,a=new WeakMap,r=new WeakMap,o=new Set;function s(e){if(!(this instanceof s))throw new TypeError(\"Constructor requires 'new' operator\");i.set(this,e)}function h(){throw new TypeError(\"Function is not a constructor\")}function c(e,t,i,n){e=0 in arguments?Number(arguments[0]):0,t=1 in arguments?Number(arguments[1]):0,i=2 in arguments?Number(arguments[2]):0,n=3 in arguments?Number(arguments[3]):0,this.right=(this.x=this.left=e)+(this.width=i),this.bottom=(this.y=this.top=t)+(this.height=n),Object.freeze(this)}function d(){t=requestAnimationFrame(d);var s=new WeakMap,p=new Set;o.forEach((function(t){r.get(t).forEach((function(i){var r=t instanceof window.SVGElement,o=a.get(t),d=r?0:parseFloat(o.paddingTop),f=r?0:parseFloat(o.paddingRight),l=r?0:parseFloat(o.paddingBottom),u=r?0:parseFloat(o.paddingLeft),g=r?0:parseFloat(o.borderTopWidth),m=r?0:parseFloat(o.borderRightWidth),w=r?0:parseFloat(o.borderBottomWidth),b=u+f,F=d+l,v=(r?0:parseFloat(o.borderLeftWidth))+m,W=g+w,y=r?0:t.offsetHeight-W-t.clientHeight,E=r?0:t.offsetWidth-v-t.clientWidth,R=b+v,z=F+W,M=r?t.width:parseFloat(o.width)-R-E,O=r?t.height:parseFloat(o.height)-z-y;if(n.has(t)){var k=n.get(t);if(k[0]===M&&k[1]===O)return}n.set(t,[M,O]);var S=Object.create(h.prototype);S.target=t,S.contentRect=new c(u,d,M,O),s.has(i)||(s.set(i,[]),p.add(i)),s.get(i).push(S)}))})),p.forEach((function(e){i.get(e).call(e,s.get(e),e)}))}return s.prototype.observe=function(i){if(i instanceof window.Element){r.has(i)||(r.set(i,new Set),o.add(i),a.set(i,window.getComputedStyle(i)));var n=r.get(i);n.has(this)||n.add(this),cancelAnimationFrame(t),t=requestAnimationFrame(d)}},s.prototype.unobserve=function(i){if(i instanceof window.Element&&r.has(i)){var n=r.get(i);n.has(this)&&(n.delete(this),n.size||(r.delete(i),o.delete(i))),n.size||r.delete(i),o.size||cancelAnimationFrame(t)}},A.DOMRectReadOnly=c,A.ResizeObserver=s,A.ResizeObserverEntry=h,A}; // eslint-disable-line\n",
       "mpl.toolbar_items = [[\"Home\", \"Reset original view\", \"fa fa-home\", \"home\"], [\"Back\", \"Back to previous view\", \"fa fa-arrow-left\", \"back\"], [\"Forward\", \"Forward to next view\", \"fa fa-arrow-right\", \"forward\"], [\"\", \"\", \"\", \"\"], [\"Pan\", \"Left button pans, Right button zooms\\nx/y fixes axis, CTRL fixes aspect\", \"fa fa-arrows\", \"pan\"], [\"Zoom\", \"Zoom to rectangle\\nx/y fixes axis\", \"fa fa-square-o\", \"zoom\"], [\"\", \"\", \"\", \"\"], [\"Download\", \"Download plot\", \"fa fa-floppy-o\", \"download\"]];\n",
       "\n",
       "mpl.extensions = [\"eps\", \"jpeg\", \"pgf\", \"pdf\", \"png\", \"ps\", \"raw\", \"svg\", \"tif\", \"webp\"];\n",
       "\n",
       "mpl.default_extension = \"png\";/* global mpl */\n",
       "\n",
       "var comm_websocket_adapter = function (comm) {\n",
       "    // Create a \"websocket\"-like object which calls the given IPython comm\n",
       "    // object with the appropriate methods. Currently this is a non binary\n",
       "    // socket, so there is still some room for performance tuning.\n",
       "    var ws = {};\n",
       "\n",
       "    ws.binaryType = comm.kernel.ws.binaryType;\n",
       "    ws.readyState = comm.kernel.ws.readyState;\n",
       "    function updateReadyState(_event) {\n",
       "        if (comm.kernel.ws) {\n",
       "            ws.readyState = comm.kernel.ws.readyState;\n",
       "        } else {\n",
       "            ws.readyState = 3; // Closed state.\n",
       "        }\n",
       "    }\n",
       "    comm.kernel.ws.addEventListener('open', updateReadyState);\n",
       "    comm.kernel.ws.addEventListener('close', updateReadyState);\n",
       "    comm.kernel.ws.addEventListener('error', updateReadyState);\n",
       "\n",
       "    ws.close = function () {\n",
       "        comm.close();\n",
       "    };\n",
       "    ws.send = function (m) {\n",
       "        //console.log('sending', m);\n",
       "        comm.send(m);\n",
       "    };\n",
       "    // Register the callback with on_msg.\n",
       "    comm.on_msg(function (msg) {\n",
       "        //console.log('receiving', msg['content']['data'], msg);\n",
       "        var data = msg['content']['data'];\n",
       "        if (data['blob'] !== undefined) {\n",
       "            data = {\n",
       "                data: new Blob(msg['buffers'], { type: data['blob'] }),\n",
       "            };\n",
       "        }\n",
       "        // Pass the mpl event to the overridden (by mpl) onmessage function.\n",
       "        ws.onmessage(data);\n",
       "    });\n",
       "    return ws;\n",
       "};\n",
       "\n",
       "mpl.mpl_figure_comm = function (comm, msg) {\n",
       "    // This is the function which gets called when the mpl process\n",
       "    // starts-up an IPython Comm through the \"matplotlib\" channel.\n",
       "\n",
       "    var id = msg.content.data.id;\n",
       "    // Get hold of the div created by the display call when the Comm\n",
       "    // socket was opened in Python.\n",
       "    var element = document.getElementById(id);\n",
       "    var ws_proxy = comm_websocket_adapter(comm);\n",
       "\n",
       "    function ondownload(figure, _format) {\n",
       "        window.open(figure.canvas.toDataURL());\n",
       "    }\n",
       "\n",
       "    var fig = new mpl.figure(id, ws_proxy, ondownload, element);\n",
       "\n",
       "    // Call onopen now - mpl needs it, as it is assuming we've passed it a real\n",
       "    // web socket which is closed, not our websocket->open comm proxy.\n",
       "    ws_proxy.onopen();\n",
       "\n",
       "    fig.parent_element = element;\n",
       "    fig.cell_info = mpl.find_output_cell(\"<div id='\" + id + \"'></div>\");\n",
       "    if (!fig.cell_info) {\n",
       "        console.error('Failed to find cell for figure', id, fig);\n",
       "        return;\n",
       "    }\n",
       "    fig.cell_info[0].output_area.element.on(\n",
       "        'cleared',\n",
       "        { fig: fig },\n",
       "        fig._remove_fig_handler\n",
       "    );\n",
       "};\n",
       "\n",
       "mpl.figure.prototype.handle_close = function (fig, msg) {\n",
       "    var width = fig.canvas.width / fig.ratio;\n",
       "    fig.cell_info[0].output_area.element.off(\n",
       "        'cleared',\n",
       "        fig._remove_fig_handler\n",
       "    );\n",
       "    fig.resizeObserverInstance.unobserve(fig.canvas_div);\n",
       "\n",
       "    // Update the output cell to use the data from the current canvas.\n",
       "    fig.push_to_output();\n",
       "    var dataURL = fig.canvas.toDataURL();\n",
       "    // Re-enable the keyboard manager in IPython - without this line, in FF,\n",
       "    // the notebook keyboard shortcuts fail.\n",
       "    IPython.keyboard_manager.enable();\n",
       "    fig.parent_element.innerHTML =\n",
       "        '<img src=\"' + dataURL + '\" width=\"' + width + '\">';\n",
       "    fig.close_ws(fig, msg);\n",
       "};\n",
       "\n",
       "mpl.figure.prototype.close_ws = function (fig, msg) {\n",
       "    fig.send_message('closing', msg);\n",
       "    // fig.ws.close()\n",
       "};\n",
       "\n",
       "mpl.figure.prototype.push_to_output = function (_remove_interactive) {\n",
       "    // Turn the data on the canvas into data in the output cell.\n",
       "    var width = this.canvas.width / this.ratio;\n",
       "    var dataURL = this.canvas.toDataURL();\n",
       "    this.cell_info[1]['text/html'] =\n",
       "        '<img src=\"' + dataURL + '\" width=\"' + width + '\">';\n",
       "};\n",
       "\n",
       "mpl.figure.prototype.updated_canvas_event = function () {\n",
       "    // Tell IPython that the notebook contents must change.\n",
       "    IPython.notebook.set_dirty(true);\n",
       "    this.send_message('ack', {});\n",
       "    var fig = this;\n",
       "    // Wait a second, then push the new image to the DOM so\n",
       "    // that it is saved nicely (might be nice to debounce this).\n",
       "    setTimeout(function () {\n",
       "        fig.push_to_output();\n",
       "    }, 1000);\n",
       "};\n",
       "\n",
       "mpl.figure.prototype._init_toolbar = function () {\n",
       "    var fig = this;\n",
       "\n",
       "    var toolbar = document.createElement('div');\n",
       "    toolbar.classList = 'btn-toolbar';\n",
       "    this.root.appendChild(toolbar);\n",
       "\n",
       "    function on_click_closure(name) {\n",
       "        return function (_event) {\n",
       "            return fig.toolbar_button_onclick(name);\n",
       "        };\n",
       "    }\n",
       "\n",
       "    function on_mouseover_closure(tooltip) {\n",
       "        return function (event) {\n",
       "            if (!event.currentTarget.disabled) {\n",
       "                return fig.toolbar_button_onmouseover(tooltip);\n",
       "            }\n",
       "        };\n",
       "    }\n",
       "\n",
       "    fig.buttons = {};\n",
       "    var buttonGroup = document.createElement('div');\n",
       "    buttonGroup.classList = 'btn-group';\n",
       "    var button;\n",
       "    for (var toolbar_ind in mpl.toolbar_items) {\n",
       "        var name = mpl.toolbar_items[toolbar_ind][0];\n",
       "        var tooltip = mpl.toolbar_items[toolbar_ind][1];\n",
       "        var image = mpl.toolbar_items[toolbar_ind][2];\n",
       "        var method_name = mpl.toolbar_items[toolbar_ind][3];\n",
       "\n",
       "        if (!name) {\n",
       "            /* Instead of a spacer, we start a new button group. */\n",
       "            if (buttonGroup.hasChildNodes()) {\n",
       "                toolbar.appendChild(buttonGroup);\n",
       "            }\n",
       "            buttonGroup = document.createElement('div');\n",
       "            buttonGroup.classList = 'btn-group';\n",
       "            continue;\n",
       "        }\n",
       "\n",
       "        button = fig.buttons[name] = document.createElement('button');\n",
       "        button.classList = 'btn btn-default';\n",
       "        button.href = '#';\n",
       "        button.title = name;\n",
       "        button.innerHTML = '<i class=\"fa ' + image + ' fa-lg\"></i>';\n",
       "        button.addEventListener('click', on_click_closure(method_name));\n",
       "        button.addEventListener('mouseover', on_mouseover_closure(tooltip));\n",
       "        buttonGroup.appendChild(button);\n",
       "    }\n",
       "\n",
       "    if (buttonGroup.hasChildNodes()) {\n",
       "        toolbar.appendChild(buttonGroup);\n",
       "    }\n",
       "\n",
       "    // Add the status bar.\n",
       "    var status_bar = document.createElement('span');\n",
       "    status_bar.classList = 'mpl-message pull-right';\n",
       "    toolbar.appendChild(status_bar);\n",
       "    this.message = status_bar;\n",
       "\n",
       "    // Add the close button to the window.\n",
       "    var buttongrp = document.createElement('div');\n",
       "    buttongrp.classList = 'btn-group inline pull-right';\n",
       "    button = document.createElement('button');\n",
       "    button.classList = 'btn btn-mini btn-primary';\n",
       "    button.href = '#';\n",
       "    button.title = 'Stop Interaction';\n",
       "    button.innerHTML = '<i class=\"fa fa-power-off icon-remove icon-large\"></i>';\n",
       "    button.addEventListener('click', function (_evt) {\n",
       "        fig.handle_close(fig, {});\n",
       "    });\n",
       "    button.addEventListener(\n",
       "        'mouseover',\n",
       "        on_mouseover_closure('Stop Interaction')\n",
       "    );\n",
       "    buttongrp.appendChild(button);\n",
       "    var titlebar = this.root.querySelector('.ui-dialog-titlebar');\n",
       "    titlebar.insertBefore(buttongrp, titlebar.firstChild);\n",
       "};\n",
       "\n",
       "mpl.figure.prototype._remove_fig_handler = function (event) {\n",
       "    var fig = event.data.fig;\n",
       "    if (event.target !== this) {\n",
       "        // Ignore bubbled events from children.\n",
       "        return;\n",
       "    }\n",
       "    fig.close_ws(fig, {});\n",
       "};\n",
       "\n",
       "mpl.figure.prototype._root_extra_style = function (el) {\n",
       "    el.style.boxSizing = 'content-box'; // override notebook setting of border-box.\n",
       "};\n",
       "\n",
       "mpl.figure.prototype._canvas_extra_style = function (el) {\n",
       "    // this is important to make the div 'focusable\n",
       "    el.setAttribute('tabindex', 0);\n",
       "    // reach out to IPython and tell the keyboard manager to turn it's self\n",
       "    // off when our div gets focus\n",
       "\n",
       "    // location in version 3\n",
       "    if (IPython.notebook.keyboard_manager) {\n",
       "        IPython.notebook.keyboard_manager.register_events(el);\n",
       "    } else {\n",
       "        // location in version 2\n",
       "        IPython.keyboard_manager.register_events(el);\n",
       "    }\n",
       "};\n",
       "\n",
       "mpl.figure.prototype._key_event_extra = function (event, _name) {\n",
       "    // Check for shift+enter\n",
       "    if (event.shiftKey && event.which === 13) {\n",
       "        this.canvas_div.blur();\n",
       "        // select the cell after this one\n",
       "        var index = IPython.notebook.find_cell_index(this.cell_info[0]);\n",
       "        IPython.notebook.select(index + 1);\n",
       "    }\n",
       "};\n",
       "\n",
       "mpl.figure.prototype.handle_save = function (fig, _msg) {\n",
       "    fig.ondownload(fig, null);\n",
       "};\n",
       "\n",
       "mpl.find_output_cell = function (html_output) {\n",
       "    // Return the cell and output element which can be found *uniquely* in the notebook.\n",
       "    // Note - this is a bit hacky, but it is done because the \"notebook_saving.Notebook\"\n",
       "    // IPython event is triggered only after the cells have been serialised, which for\n",
       "    // our purposes (turning an active figure into a static one), is too late.\n",
       "    var cells = IPython.notebook.get_cells();\n",
       "    var ncells = cells.length;\n",
       "    for (var i = 0; i < ncells; i++) {\n",
       "        var cell = cells[i];\n",
       "        if (cell.cell_type === 'code') {\n",
       "            for (var j = 0; j < cell.output_area.outputs.length; j++) {\n",
       "                var data = cell.output_area.outputs[j];\n",
       "                if (data.data) {\n",
       "                    // IPython >= 3 moved mimebundle to data attribute of output\n",
       "                    data = data.data;\n",
       "                }\n",
       "                if (data['text/html'] === html_output) {\n",
       "                    return [cell, data, j];\n",
       "                }\n",
       "            }\n",
       "        }\n",
       "    }\n",
       "};\n",
       "\n",
       "// Register the function which deals with the matplotlib target/channel.\n",
       "// The kernel may be null if the page has been refreshed.\n",
       "if (IPython.notebook.kernel !== null) {\n",
       "    IPython.notebook.kernel.comm_manager.register_target(\n",
       "        'matplotlib',\n",
       "        mpl.mpl_figure_comm\n",
       "    );\n",
       "}\n"
      ],
      "text/plain": [
       "<IPython.core.display.Javascript object>"
      ]
     },
     "metadata": {},
     "output_type": "display_data"
    },
    {
     "data": {
      "text/html": [
       "<img src=\"data:image/png;base64,iVBORw0KGgoAAAANSUhEUgAACWAAAAMgCAYAAACnZVlMAAAAAXNSR0IArs4c6QAAIABJREFUeF7s3QeUFMW+x/H/kqMkMZAERZSkKEkRc0AMiAEVRMXIvdecMAdMV8UcEXNWTHgFRO5VAQURUFHMKBjJWZKkfedf+2ad3Zndma7taaprv3WO573LdnVXf37VS/fwn+q8/Pz8fKEhgAACCCCAAAIIIIAAAggggAACCCCAAAIIIIAAAggggAACCCCAAAIIIIAAAggEFsijACuwGR0QQAABBBBAAAEEEEAAAQQQQAABBBBAAAEEEEAAAQQQQAABBBBAAAEEEEAAASNAARYTAQEEEEAAAQQQQAABBBBAAAEEEEAAAQQQQAABBBBAAAEEEEAAAQQQQAABBBCwFKAAyxKObggggAACCCCAAAIIIIAAAggggAACCCCAAAIIIIAAAggggAACCCCAAAIIIIAABVjMAQQQQAABBBBAAAEEEEAAAQQQQAABBBBAAAEEEEAAAQQQQAABBBBAAAEEEEDAUoACLEs4uiGAAAIIIIAAAggggAACCCCAAAIIIIAAAggggAACCCCAAAIIIIAAAggggAACFGAxBxBAAAEEEEAAAQQQQAABBBBAAAEEEEAAAQQQQAABBBBAAAEEEEAAAQQQQAABSwEKsCzh6IYAAggggAACCCCAAAIIIIAAAggggAACCCCAAAIIIIAAAggggAACCCCAAAIIUIDFHEAAAQQQQAABBBBAAAEEEEAAAQQQQAABBBBAAAEEEEAAAQQQQAABBBBAAAEELAUowLKEoxsCCCCAAAIIIIAAAggggAACCCCAAAIIIIAAAggggAACCCCAAAIIIIAAAgggQAEWcwABBBBAAAEEEEAAAQQQQAABBBBAAAEEEEAAAQQQQAABBBBAAAEEEEAAAQQQsBSgAMsSjm4IIIAAAggggAACCCCAAAIIIIAAAggggAACCCCAAAIIIIAAAggggAACCCCAAAVYzAEEEEAAAQQQQAABBBBAAAEEEEAAAQQQQAABBBBAAAEEEEAAAQQQQAABBBBAwFKAAixLOLohgAACCCCAAAIIIIAAAggggAACCCCAAAIIIIAAAggggAACCCCAAAIIIIAAAhRgMQcQQAABBBBAAAEEEEAAAQQQQAABBBBAAAEEEEAAAQQQQAABBBBAAAEEEEAAAUsBCrAs4eiGAAIIIIAAAggggAACCCCAAAIIIIAAAggggAACCCCAAAIIIIAAAggggAACCFCAxRxAAAEEEEAAAQQQQAABBBBAAAEEEEAAAQQQQAABBBBAAAEEEEAAAQQQQAABBCwFKMCyhKMbAggggAACCCCAAAIIIIAAAggggAACCCCAAAIIIIAAAggggAACCCCAAAIIIEABFnMAAQQQQAABBBBAAAEEEEAAAQQQQAABBBBAAAEEEEAAAQQQQAABBBBAAAEEELAUoADLEo5uCCCAAAIIIIAAAggggAACCCCAAAIIIIAAAggggAACCCCAAAIIIIAAAggggAAFWMwBBBBAAAEEEEAAAQQQQAABBBBAAAEEEEAAAQQQQAABBBBAAAEEEEAAAQQQQMBSgAIsSzi6IYAAAggggAACCCCAAAIIIIAAAggggAACCCCAAAIIIIAAAggggAACCCCAAAIUYDEHEEAAAQQQQAABBBBAAAEEEEAAAQQQQAABBBBAAAEEEEAAAQQQQAABBBBAAAFLAQqwLOHohgACCCCAAAIIIIAAAggggAACCCCAAAIIIIAAAggggAACCCCAAAIIIIAAAghQgMUcQAABBBBAAAEEEEAAAQQQQAABBBBAAAEEEEAAAQQQQAABBBBAAAEEEEAAAQQsBSjAsoSjGwIIIIAAAggggAACCCCAAAIIIIAAAggggAACCCCAAAIIIIAAAggggAACCCBAARZzAAEEEEAAAQQQQAABBBBAAAEEEEAAAQQQQAABBBBAAAEEEEAAAQQQQAABBBCwFKAAyxKObggggAACCCCAAAIIIIAAAggggAACCCCAAAIIIIAAAggggAACCCCAAAIIIIAABVjMAQQQQAABBBBAAAEEEEAAAQQQQAABBBBAAAEEEEAAAQQQQAABBBBAAAEEEEDAUoACLEs4uiGAAAIIIIAAAggggAACCCCAAAIIIIAAAggggAACCCCAAAIIIIAAAggggAACFGAxBxBAAAEEEEAAAQQQQAABBBBAAAEEEEAAAQQQQAABBBBAAAEEEEAAAQQQQAABSwEKsCzh6IYAAggggAACCCCAAAIIIIAAAggggAACCCCAAAIIIIAAAggggAACCCCAAAIIUIDFHEAAAQQQQAABBBBAAAEEEEAAAQQQQAABBBBAAAEEEEAAAQQQQAABBBBAAAEELAUowLKEoxsCCCCAAAIIIIAAAggggAACCCCAAAIIIIAAAggggAACCCCAAAIIIIAAAgggQAEWcwABBBBAAAEEEEAAAQQQQAABBBBAAAEEEEAAAQQQQAABBBBAAAEEEEAAAQQQsBSgAMsSjm4IIIAAAggggAACCCCAAAIIIIAAAggggAACCCCAAAIIIIAAAggggAACCCCAAAVYzAEEEEAAAQQQQAABBBBAAAEEEEAAAQQQQAABBBBAAAEEEEAAAQQQQAABBBBAwFKAAixLOLohgAACCCCAAAIIIIAAAggggAACCCCAAAIIIIAAAggggAACCCCAAAIIIIAAAhRgMQcQQAABBBBAAAEEEEAAAQQQQAABBBBAAAEEEEAAAQQQQAABBBBAAAEEEEAAAUsBCrAs4eiGAAIIIIAAAggggAACCCCAAAIIIIAAAggggAACCCCAAAIIIIAAAggggAACCFCAxRxAAAEEEEAAAQQQQAABBBBAAAEEEEAAAQQQQAABBBBAAAEEEEAAAQQQQAABBCwFKMCyhKMbAggggAACCCCAAAIIIIAAAggggAACCCCAAAIIIIAAAggggAACCCCAAAIIIEABFnMAAQQQQAABBBBAAAEEEEAAAQQQQAABBBBAAAEEEEAAAQQQQAABBBBAAAEEELAUoADLEo5uCCCAAAIIIIAAAggggAACCCCAAAIIIIAAAggggAACCCCAAAIIIIAAAggggAAFWMwBBBBAAAEEEEAAAQQQQAABBBBAAAEEEEAAAQQQQAABBBBAAAEEEEAAAQQQQMBSgAIsSzi6IYAAAggggAACCCCAAAIIIIAAAggggAACCCCAAAIIIIAAAggggAACCCCAAAIUYDEHEEAAAQQQQAABBBBAAAEEEEAAAQQQQAABBBBAAAEEEEAAAQQQQAABBBBAAAFLAQqwLOHohgACCCCAAAIIIIAAAggggAACCCCAAAIIIIAAAggggAACCCCAAAIIIIAAAghQgMUcQAABBBBAAAEEEEAAAQQQQAABBBBAAAEEEEAAAQQQQAABBBBAAAEEEEAAAQQsBSjAsoSjGwIIIIAAAggggAACCCCAAAIIIIAAAggggAACCCCAAAIIIIAAAggggAACCCBAARZzAAEEEEAAAQQQQAABBBBAAAEEEEAAAQQQQAABBBBAAAEEEEAAAQQQQAABBBCwFKAAyxKObggggAACCCCAAAIIIIAAAggggAACCCCAAAIIIIAAAggggAACCCCAAAIIIIAABVjMAQQQQAABBBBAAAEEEEAAAQQQQAABBBBAAAEEEEAAAQQQQAABBBBAAAEEEEDAUoACLEs4uiGAAAIIIIAAAggggAACCCCAAAIIIIAAAggggAACCCCAAAIIIIAAAggggAACFGAxBxBAAAEEEEAAAQRiJ7DffvvJ+PHjzbivv/56ueGGG2J3DgwYAQQQQAABBBBAAAEEEEDAPYHk583E6N566y3p1atX1oO99NJL5a677iqyPc+uWfNZb/jzzz9LixYtAvffddddZfr06Wn7rV69Wj7//HOZOnWq+W/atGkyc+ZMyc/P5zOJwNJ0QAABBBBAAAEE/BagAMvvfDk7BBBAAAEEEEDASwEKsLyMlZNCAAEEEEAAAQQQQAABBDa7QLoCrGOOOUZef/31rMa2ceNGadq0qcydO7fI9hRgZcVXpo3CLsC6/PLLTSGdZlpSI9cyRUZnBBBAAAEEEEDAKwEKsLyKk5NBAAEEEEAAAQTKhwAFWOUjZ84SAQQQQAABBBBAAAEEEIhaIF0BVpUqVWTevHlSr169jMMZM2aM9OzZM2U7CnUy0pV5g+IFWKeccorUrl07436bNGkiV1xxRcp2AwYMkGeeeabU/uSakZcNEEAAAQQQQACBciNAAVa5iZoTRQABBBBAAAEE/BGgAMufLDkTBBBAAAEEEEAAAQQQQMAlgeTnzTZt2sg333xjhvfwww/LP//5z4xD7devn7z00ktmu+T+FOpkpCvzBsULsGbPni3Nmze33m+iAKtly5bSuXPnwv8GDRokH3/8sdkvuVrz0hEBBBBAAAEEEPBOgAIs7yLlhBBAAAEEEEAAAf8FKMDyP2POEAEEEEAAAQQQQAABBBDYHALJz5s33XST3HjjjbJ+/XrZY489CotuShrXihUrZJtttpE1a9ZIhw4dZKeddpJXXnnFbE6hTu7TDLsAa+bMmbLlllumrHzGZxK5z5IjIIAAAggggAACcRSgACuOqTFmBBBAAAEEEECgnAvwYWc5nwCcPgIIIIAAAggggAACCCCQI4Hk581HHnlE3nnnHfnPf/5jjvbDDz/IjjvuWOKRn3jiCTnzzDPNz++55x6ZPHkyBVg5yindbsMuwCpp6HwmEWGoHAoBBBBAAAEEEIiRAAVYMQqLoSKAAAIIIIAAAggUCIT9Yee7775rPhT/6KOPZN68eebbzVtttZXsvvvu0qtXL+nfv79Urlw5I7/20/288cYbMn36dFmwYIHZV4MGDcy3Zps2bSoHHHCA9OjRQ9q1a1fi/qZOnSrPPPOMTJo0SfSVCStXrpTatWubfei4unTpYvaxzz77SPXq1TOOiw0QQAABBBBAAAEEEEAAAQSyEyhegNWwYUM57rjjTOdrrrlGdFWsktq+++4rEyZMkEqVKskff/wh559/ftYFWJ9++qmMHTtWJk6caF57qM+T69atM6sv7bDDDrL//vvLwIEDpVmzZtmdyP9vtXbtWnnxxRdlzJgxosdYuHCh6J/VrVvXrNC11157ydFHHy1du3ZN2e8NN9wggwcPNn+eWMFLV/fS/emz73fffVf4DP3555+bVb+Smz7LPvnkkzJq1Cj5+uuvZdGiReYZtnHjxua5/uSTT0573EAnmLSxrwVYv/32m3F877335Pvvv5dly5ZJlSpVzGcEOj/btm0rhxxyiBx88MHmzzI1LSocMWKEmWtz584VXbmtZs2asv3225vXLB5++OFy2GGHmXlcUsvPz5fXXnvNfP4xZcoUmT9/vtl06623Npkec8wxcuyxx0peXl6pw0m+3j744AMzL3RMTz31lBnjr7/+auasfiai51286WcuL7/8srz99tsybdo0s+2mTZvMZye6at3xxx8vvXv3zjiOTGb8HAEEEEAAAQQQyEaAAqxslNgGAQQQQAABBBBAwCmBsAqw9APtfv36mQ8xS2v6DWf9gLlTp04lbqbfhNYP9b799tusrPRVBi1btiyy7YYNG+Scc86RYcOGZbWPq6++Wm6++eastmUjBBBAAAEEEEAAAQQQQACBzALFC7BOP/102XbbbWXJkiXSvHlzmTVrVtpiDi3+0QIWLUzRApaRI0fKiSeemFUBln7JRr+Ik6npF4P0GXDQoEGZNjU/1+IYLQLTYrBMTVf7+sc//lFks+IFWCeccIL06dPHFFMVb8ULsPT8zzrrLFOgVVrTZ/LHHntMatSokWmIGX/uYwHWo48+KhdddJF5rWWmpsV0+sWykprmNmDAAFOolKlp1lrYlK7p5xn6c828tNaxY0cz/7WAsKRWvABr+fLlctppp8nSpUuLdKlTp05KAda4cePMinM//fRTqePQQiwtFtPCPxoCCCCAAAIIIJBLAQqwcqnLvhFAAAEEEEAAAQRyIhBGAZZ+O1M/nEz+oE4/FNRvalatWtV84/iTTz4pHH+tWrXMN4a1T/H2559/mm+c6rdStVWoUEF22203ad26tWi/1atXmw+8v/jiC/ONX23pCrAuvPBCue+++wp3rx8O6gfx+g1W/RB/8eLFZlz6jVdtFGDlZHqxUwQQQAABBBBAAAEEECjHAsULsLQo6Z///KcMHTrUqGjRh650VbzdeOONZpUobVp0oivvZFuAtc0225gVhPRZVJ8t9cs6WnCiz4G6GpA+myaeJXX/t99+e8YirLvuuksuu+wysw9tuhLRrrvuKm3atDHPqVpQNmPGjMLnS31loj6TJrfkAqxzzz3XvIpRVySqVq2a7L333rLddtuJPg/rqxZ1taLEClh6/ieddJJs3LjR7K5ixYrSvXt3c166KtaHH34oc+bMKTzUnnvuKe+//77Zb1mabwVYaqqrkyXaFltsIWrVpEkTszqVFivpl8G++uors1paaQVYOm91hW/NK9F0NTX9zKF+/fqyatUqMxf0cwtdVeqoo44ymRZv+qUznf+60lSitW/f3mSvc0yLsnReJZquiKWrwrVq1SpttMnX2y233CI65xIrieuq3/p5iH55Tvf7yy+/FO7j1VdfNXNMt9Wmc0cLrbRIUuebunz88ceiX3TTpiuSa5GjjoeGAAIIIIAAAgjkSoACrFzJsl8EEEAAAQQQQACBnAmEUYCly+nrsvva9Ju2+o1b/eZtctNvheq3OvUbzokP7L788kvzqobkdu+995pvpGrTD7P1W8b6KofiTT/41n3qUvpXXnml+QAw0fTDdP1WtX44qB8WPvHEE3LKKaek/Wa1fgCv397UcZ9xxhk5c2bHCCCAAAIIIIAAAggggEB5E0hXgKWFHN26dTMUuiKWPq8Vb7py8o8//mieF/WZTQtCsi3A+te//iVHHHGEec1gutfMayHTc889J1oEpYUyuhKWFsu0aNEibTyjR482+0sUXx1wwAHy0EMPyc4775yyvb72Xp9R9QtJp556apGfJxdgacGPPq/q6xh1tazkV93pK990jDou/ZKTFuNooZU2XUlaV5RWn0TT7fU5WgvE9P/Xdt5558n9999fpunmWwGWOmpBlDbNXgvv0q0Uptb6+Ya+YvK2225LMdQvi+2+++6FRXw6bzTDHj16pGyrK08NHz7czOUhQ4YU+bkWeWnBVmJM+vrD559/3rz+MLnpqzS1OCpRNKjH1iI9nR/FW/L1pnNM55EWM15++eVFtv/rr79MgaI2XclLx6FfdtOmhYPXXnutKSRLbvpZjs7pxKpgPXv2FL02aAgggAACCCCAQK4EKMDKlSz7RQABBBBAAAEEEMiZQFkLsD744APRD6AT7a233jLfBE3X9ANc/dBTv1mqbfDgwXLdddcV2VQ/gH799dfNn/33v/+Vgw46KPC56+sZjjzySNNPP6jUDzFpCCCAAAIIIIAAAggggAAC0QqkK8DSEeiXbHRVHV2FSF+rl1woNWnSpMLVks8++2zR18Zpy7YAK9sz1JWldJ/a9DWEWpBTvGmRlBY76bOsNi3EevPNN82KSUFbcgGW9tVCGy300VWfS2pa8PLss8+aH+srGbUoqPiXmBJ9ddWtiy++2PxP3acW/ZRUVJbN2IsXYOmXmmrXrl1qV11N6oorrshm94XblPUziWwOpkVVibHrl7d09SddYcqm9e/fX1544QXTVVct0xXVbFaC0kI9LUDUpsVUWpiorxlM13S1KS1aTKxA9cwzz5gvmRVvyZb6M33Fpq72XVo78MADzYpp2WyvBYudO3cWXblLmxaC6crnNAQQQAABBBBAIBcCFGDlQpV9IoAAAggggAACCORUoKwfdiZ/CK5FT/oahdLaHXfcYb59qU1XqdLXCSZ/8KkfQmvhlbbp06eb1zoEbfqNYC280qbf3tQPomkIIIAAAggggAACCCCAAALRCpRUgKWFIbrKjjZ9fuvbt2/hwPQ1hYmiK11tJ/Hq+rALsHR1IC1m0uIcXVVIi5uKt+QirZo1a5pCrOTVqoJoFi/A+uabb6R169Yl7mLZsmWir1PU1Yq06ReVjjnmmBK319WvdtllF7OikTYthPr3v/8dZIhFti1egJXNjvT5XZ/jg7SyfiaRzbH0FY2NGzc2m+qXwvQVfDZNP7/Q1/IlCqG0gO7QQw+12ZV5xZ8Wb2nLZsUyXdlNV9rSpn21YKt4S7bU89UMSysW1NW3Eq+61Nca6pzUVcRLay+//HLh9ZrNuK1w6IQAAggggAACCOhrv/MTa9DCgQACCCCAAAIIIIBATATK+mGnftNzwYIF5mz1m8C9e/cu9cwXLlxoPkROvBpBvzmZ/OqGM888s/AVFMnfdg7CqR/S77333qaLfrt1ypQp5pg0BBBAAAEEEEAAAQQQQACB6ARKKsDSFYh0dSb9JxUtYEm80l6LjfTZTYuP9DV+uopTotkUYM2YMUM+++wzU4iyYsWKwmKmxD51dak///zTrEC0du3alNWoTjvtNHn66afN5vqs+thjj1njJRdgaaFU4tVzJe1QX+92+OGHmx83aNDArBSWaeWtu+++Wy655BLTR1cm0hWKbJtPBVjr16+XOnXqyJo1a0yBka74tM8++wSm0ZWnBgwYYPrpymi6iptN06I/Lf7TIkBtWhCWKIQqaX86jxMrZOk56MriWhSY3JKvt/PPP1/uu+++UoenBXpXXXWV2UZXytLCyExNP/9JrPi12267meuLhgACCCCAAAII5EKAAqxcqLJPBBBAAAEEEEAAgZwKlKUAS7/9qa8YSLT58+fLVlttlXG8+i3f7777zmynS/f369evsI+ufqWrYCWafqCnr13o0aNHkUKt0g6iH67qh6H6ob62+vXrm33oCl36TdHk11tkHCwbIIAAAggggAACCCCAAAIIWAmUVIClO0v8TItJfv/9d1N49eqrr8rxxx9vjqUFS9dff33hcYMUYGmhzK233hqoQGbJkiVSr169IudZ2rNrUJDkAiwt7HryySdL3cUtt9wi11xzjdnmsMMOk1GjRmU8pK6opM+82qpUqWKKymxftVe8AGv27Nlm9aewW1k+kwgyFl0lW1db06YFd8cdd5z5b9999zUFbtm0f/7znzJ06FCz6VlnnSXDhg3LplvKNhMnTpTu3bubP69Vq5YppirtVZS6nX6JTV/Zqa8B1Kb70NcSJrdky5JeU5i8fa9eveTtt982f3TAAQeUuiJbop8WTT788MPmf+pqcPolOxoCCCCAAAIIIJALAQqwcqHKPhFAAAEEEEAAAQRyKlCWDzv11QJaIKVNi5pWr16d1Vh79uwpY8aMMdvqNzL1m5nJ7eKLL0772kD9cE9fP6FjPvbYY83qViU1XQVLvy2s33JObvohtL5eQr/tqj/XlbJsP5DO6mTZCAEEEEAAAQQQQAABBBAopwKlFWBpAdIZZ5xhZO68806zcpN+aWbkyJHmGU1Xv9p+++0L5bIpwNLiEN3nU089FVhcv8DTrFmzIv30yzxLly41f6avfEsUNwXe+f8XlA0ePNh0HTRokNx+++2l7ubCCy8sXMFIC38SRS+lddIvRSWv/qyFPVq0Y9NcLsDSQrPnnnuu1NM6+eSTzSpgiaYrN2mxVeLLYIk/17mmq3LrZwP6ZTD9nKBatWpp962vgNSVv7Xp6lH6mkebNmLECDn66KNNVy3y01f/ZdOSCwLfeust0QKq5JZ8vekKavrZS2mtU6dOaV+9mc1YdBstnky8jjHbPmyHAAIIIIAAAghkK0ABVrZSbIcAAggggAACCCDgjEBZCrCSX/UX5JuP+i3T119/3RjoEve61H3xpt/CvO2222TSpElprfRDUv3AUl+xsN1226XdRj8wvummm+SVV14p/JZo8Q1btWpljpP48NOZYBgIAggggAACCCCAAAIIIBBzgdIKsPTVf1ospF/k0Vfy6WrIjRs3NgUdWgwzYcKEImefTQGWrkg0cODAwn5HHHGEnHDCCeaLQ7rvGjVqmJWhEk1XdEqsnJxuhSddKSlRYKKvM2zXrp11IskrYOnKXvq/S2v6ysMnnnjCbHLppZfKkCFDMh5bX21Xu3btwu10ZTE9b5vmcgGWvhZSVxErrWkRXuJ1gYnt1Oeuu+4yK1fNmTMnbXddBU0L5C677DJTYJTcDj74YPnf//5n/uiBBx6Qc88914ZWnn/+edECMW1aBDV16tSs9pNcMKX70FW9klvy9fbBBx+YL6+V1nTl8OTXfGY1iGIbadEjDQEEEEAAAQQQyIUABVi5UGWfCCCAAAIIIIAAAjkVKEsBVq5WwEo+YX3N4bhx4+TDDz80/xX/Zqi+KkCLtLSQqqS2Zs0as41+gK/7mDx5suifJTf9EFZX3qIhgAACCCCAAAIIIIAAAgiEI1BaAZYeIfm1cFoso4U12h577DHRAqTklk0Blj4Xzpw503TTV/hdddVVpZ6IPk/qqwe1pSvAytUKWNkUYLECVsnR2RZgJfaor/P77LPPCj8j0C+XLVq0qMgBjzrqKLPaVfKK2XFaASubAqwOHTrIF198Yc5bV+XSc6YhgAACCCCAAAKuCFCA5UoSjAMBBBBAAAEEEEAga4GyFGBpcVSTJk0Kj7Vw4ULRlbAytTZt2si3335rNnvhhRekX79+mboU/ly/wasftuqqVatWrTJ/rq8I0NdUZNu0+Oqdd96RG2+8sfDDRv0W9KxZs6y/HZztsdkOAQQQQAABBBBAAAEEECgvApkKsN5991059NBDi3Do69/mzZsnderUKfLnmQqwfvvtt8JXCOoqRvrKuUqVKpVIra+rr1u3riRW8ElXgJX8yrcXX3xR+vbtax1d0BWwtIDsmmuuCfTMO2XKlMLX7ukz7tq1a4sUEAUZvMsrYAU5j2y21YIsfcWkvgpTC5ES7dVXXxVdwTvR9FWQQ4cONf/z7LPPlkcffTSb3adsM3HkYkKlAAAgAElEQVTiROnevbv581q1aonOxeRCr3Q71THq6yQTn4PoPrp161Zk06ArYPXo0UPGjh1r9qErrOlKazQEEEAAAQQQQMAVAQqwXEmCcSCAAAIIIIAAAghkLVCWAiw9yNZbb20+2Nb21ltvSa9evUo99uLFi2WrrbYS/fBQmxZi7bzzzlmPN7HhSy+9VFi4pa+F0NdXVK1aNdB+li5dKloMph/ua9PXO5x++umB9sHGCCCAAAIIIIAAAggggAAC6QUyFWBt3LjRFE0lvw5OXxn48ssvp+wwUwHWJ598InvssYfpp/9XC2pKa6NHjzZf5km0dAVY+pq7xKpcuiKXrsxl24IWYCWPr2HDhjJ37tyUV+IVH8s999xTuLJz165dzerPtq08FWAljLQYr2fPnqKFgdr0NYHPPvtsIeEzzzxT+FpDfX3fDz/8YMWrr0LU4j+d/9p0FSp9DWdp7fPPP5fdd9/dbKKvRly+fLnUrFmzSJegBVjXXXed3HTTTWYfBx10kHkNKA0BBBBAAAEEEHBFgAIsV5JgHAgggAACCCCAAAJZC5S1ACv5Q/Cjjz5a3njjjVKPfffdd8sll1xitmnUqJHoilaZvumZbodacKXf/kw0/cB+2223zfq8Exsee+yxhWO+9dZb5corrwy8DzoggAACCCCAAAIIIIAAAgikCmQqwNIel112mVl5KNFGjRolhx12WMrOMhVgTZ06Vbp06WL6aTFL4tVqJeVy5JFHFllJOV0B1vDhw0ULwrTpSkW6TTarPqc7ZtACrGXLlsk222wjf/31l9ldpi88afHQbrvtVnje+myrz7i2rTwWYKnVAw88IOeff75hO+SQQwqLsfR/6+cO2223nWzYsMH8fMyYMaKrSNk0LRLUokFtF110kehnJaU1HZOOTduee+4pkyZNStk8aAFW8opp+rmMXjPt27e3OR36IIAAAggggAACoQtQgBU6KTtEAAEEEEAAAQQQyLVAWQuwPvjgAznggAMKh6mv9iv+ConED/WVELvuuqvoylPaBg8eLPqNy+S2aNGirD7Q/vrrr6Vdu3ama4UKFWT16tWFK2DpKlsNGjTIiq5z584ybdo0s61+m1m/1UxDAAEEEEAAAQQQQAABBBAou0A2BVhaaPTjjz8WHkyLiHSFn+ItUwGWPkvqastaiKTPiLo60Q477JD2JF555RXR/SW3dAVYWmjTsmVL+eWXX8ymRxxxhLz55pulvtqwJLWgBVi6n1NPPbVwBaZWrVqZZ9fatWunPcSDDz4o5513XuEzspq2aNHCOkSfCrASK2braxkzteSCwJNOOkmef/75Il369+8vL7zwgvkzLcbSIipdGTxoe+qppwpX4NZxaQFhSatg6epXuqLZ+vXrzWF0Ja5TTjkl5ZBBC7B0B/vvv7+MGzfO7EuP/+GHHxb5sltJ57Vu3TrzOkR93ScNAQQQQAABBBDIhQAFWLlQZZ8IIIAAAggggAACORUoawGWDk6/nayFV9r0W8FPPvmk9OnTp8i49QND/ebwzJkzzZ83bdpUvvzyS7PsfnLTZfw7depklvrXJfDTfUCqry3UDz0/++wz0/Xggw+WsWPHFu5GP9geMWKEnH322aKrcqVbGUs/gL355pvljjvuMP30A379wF3HRUMAAQQQQAABBBBAAAEEECi7QDYFWNkeJVMBlu5HVwZKvHZPC7n01fU77bRT4SE2bdokjzzyiFlxSP9/fZ392rVrzc/TFWDpn+uKXLpalhZ2adMvID300EOy8847pwxdi5b0eViLtooXyNgUYM2aNct8iUlfWZc4Py0I2n777Yuck45HzynxSjstxLr//vuzpU27nU8FWFpg1LdvX/MZwfHHHy9t27ZNOWe101dfnnHGGYWrjmmhVb9+/Ypsq18s07mlX/zSpkVuOqfSrYSlxYW6ipoWwyU+e0jsTAuYdMW2xEptutrZiy++aAqiktt7771nxrBgwQLzx/oaQp3jOneLN5sCrK+++spcN4k5pteLFvPp5zHpmp6LFjA+/PDD8uijj5qiRBoCCCCAAAIIIJALAQqwcqHKPhFAAAEEEEAAAQRyKpD8AZ1+a1M/9Mu23XjjjdKrVy+ZP3++7LXXXvLTTz8VdtVCKv2GphZQacGUfkCY+MC6Zs2aZhl/7VO8NW/evPDbxdWrVzffwNQPl/V1g7pylh7j008/Leym2+i+k78pmvzBti6jr9961tWy9FUR+o1RfW2ALtev39ZMtKuvvtoUZNEQQAABBBBAAAEEEEAAAQTCEYi6AEuLVfS1cVpcpU2LVPS5U58ptcBEV/eZO3eu+dktt9wiw4YNK3z+LKkAS7e9/fbb5YorrihE0edMLYzSQh79EtKSJUvMF4y+//57s80999wjF154YRFEmwIs3YEWu+hKTIniqkqVKsnee+9tnnP1mVbP6ffffy88lr7aTleqrlatWplCDLsAS5/D071aUgt6Es/m6T6TaNSokYwePbpM56IFWMmFTXocLaLSzz/Uc968eeZzhsTc0IOpsfbT1dSKN51nvXv3Lixa0p/ralhaUFW/fn3z57oC2/Tp081nEEcddZT5kljxpp+V7LvvvrJw4cLCH+m86tChg/nf2j/5VZq6wpvmrauhpWs2BVi6n5EjR5ovzOnK4ommX07TFcP1cxQtFtMx6liS59rbb79NAVaZZiadEUAAAQQQQKA0AQqwmB8IIIAAAggggAACsRNI/oAu6OB1yfwBAwaYblqEpd/KfP/990vdjX4TWL/VqR/kpWvt27cX/QZmNk2/aarf/u3WrVuRze+66y659NJLs9mFKRDT4qvir0LMqjMbIYAAAggggAACCCCAAAIIlCgQdQGWDmTo0KHmVXz6+sB0TQtqrrnmGtGCKH2mTLxesLQCLN2PFkJdcMEF5tk3U9PCrrPOOqvIZrYFWLoTLZA588wzMx5bV3l6/PHHpUaNGpmGmPHnYRdgFd9fxgH8/wZa2KR9y9L0NYHdu3cvcU4U3/dxxx1nVjIr6XWPur0WI+krIpMLpEoaY7pXGSa21UItXd1NVw0vrenKV7qaVkmv1dS+tgVYifPR1b+Sv/BW2nj0y3P6Os5EsVhZ8qEvAggggAACCCCQToACLOYFAggggAACCCCAQOwEwirASpy4rmyly/Z/9NFH5luk+m1P/ZamfrtUvyGqrw5Mt1R+or9+q1dXtNJv7E6ZMsV8g1i/KavfxNQPkfUbqvoBn668pa8OqFq1alpz/YD2v//9r1npasaMGeYD2xUrVphvr+prD1u3bm1eHaGvhdAPdGkIIIAAAggggAACCCCAAALhCmyOAiw9A30G1FWo9LlSnyd15eTGjRubZ8DTTz/dPJ9qS16BOVMBlm6vKzU9++yz8s4775jCG10VSJ9h69WrZ151qEU+WryT2H+yZlkKsHQ/uqqSFgVpMdbXX38tixYtMuelK0Tp6k76bKurUIfVfCrAUhNdUft///uf+axCi510dW19jaDmpytua2GTrh6mn1noSlbZNF3lW1e20v8+/vhjUyCnc0T3p6uu6X709ZX6esJ0K2kljqErtr322mvy+uuvm89BEq8b1M9SNFOdU8cee6zoymultbIUYCX2O3bsWHM+EydONNeOvkZRP3dp2LChWXlLjfR89LWFmcaTjSHbIIAAAggggAACJQlQgMXcQAABBBBAAAEEEEAAAQQQQAABBBBAAAEEEEAAAQQQQAABBBBAAAEEEEAAAQQsBSjAsoSjGwIIIIAAAggggAACCCCAAAIIIIAAAggggAACCCCAAAIIIIAAAggggAACCCBAARZzAAEEEEAAAQQQQAABBBBAAAEEEEAAAQQQQAABBBBAAAEEEEAAAQQQQAABBBCwFKAAyxKObggggAACCCCAAAIIIIAAAggggAACCCCAAAIIIIAAAggggAACCCCAAAIIIIAABVjMAQQQQAABBBBAAAEEEEAAAQQQQAABBBBAAAEEEEAAAQQQQAABBBBAAAEEEEDAUoACLEs4uiGAAAIIIIAAAggggAACCCCAAAIIIIAAAggggAACCCCAAAIIIIAAAggggAACFGAxBxBAAAEEEEAAAQQQQAABBBBAAAEEEEAAAQQQQAABBBBAAAEEEEAAAQQQQAABSwEKsCzh6IYAAggggAACCCCAAAIIIIAAAggggAACCCCAAAIIIIAAAggggAACCCCAAAIIUIDFHEAAAQQQQAABBBBAAAEEEEAAAQQQQAABBBBAAAEEEEAAAQQQQAABBBBAAAEELAUowLKEoxsCCCCAAAIIIIAAAggggAACCCCAAAIIIIAAAggggAACCCCAAAIIIIAAAgggQAEWcwABBBBAAAEEEEAAAQQQQAABBBBAAAEEEEAAAQQQQAABBBBAAAEEEEAAAQQQsBSgAMsSjm4IIIAAAggggAACCCCAAAIIIIAAAggggAACCCCAAAIIIIAAAggggAACCCCAAAVYzAEEEEAAAQQQQAABBBBAAAEEEEAAAQQQQAABBBBAAAEEEEAAAQQQQAABBBBAwFKAAixLOLohgAACCCCAAAIIIIAAAggggAACCCCAAAIIIIAAAggggAACCCCAAAIIIIAAAhRgMQcQQAABBBBAAAEEEEAAAQQQQAABBBBAAAEEEEAAAQQQQAABBBBAAAEEEEAAAUsBCrAs4eiGAALRCaxdu1ZmzJhhDtiwYUOpVKlSdAfnSAgggAACCCCAAAIIIICA4wIbNmyQhQsXmlG2b99eqlWr5viIGV55FODZvjymzjkjgAACCCCAAAIIIIBAtgI822crxXYIuCtAAZa72TAyBBD4f4GpU6dKly5d8EAAAQQQQAABBBBAAAEEEMggMGXKFOncuTNOCDgnwLO9c5EwIAQQQAABBBBAAAEEEHBUgGd7R4NhWAhkEKAAiymCAALOC/AhrfMRMUAEEEAAAQQQQAABBBBwRIAPaR0JgmGkCPBsz6RAAAEEEEAAAQQQQAABBLIT4Nk+Oye2QsA1AQqwXEuE8SCAQIrAzz//LC1atDB/rjcc2267rRNKa9askQkTJpix7LPPPlK9enUnxsUgwhEg33AcXdwL2bqYSjhjIttwHF3dC/m6mkzZx0W2ZTd0dQ9kG10yc+fOLVw1ePbs2dK8efPoDs6REMhSgGf7LKHYLDQB/h4KjdK5HZGtc5GEOiDyDZXTqZ2RrVNxhDoYsg2V07mdkW90kfBsH501R0IgVwIUYOVKlv0igEBoAr///rs0bdrU7O+3336TJk2ahLbvsuxIbzrHjh1rdnHIIYdQgFUWTAf7kq+DoYQ0JLINCdLB3ZCtg6GEOCTyDRHTsV2RrWOBhDgcsg0RM8OuXH1mik6AI8VBwNV5yu+qOMweuzGSrZ1bHHqRbRxSsh8j+drbud6TbF1PyH58ZGtvF4ee5BtdSq4+M0UnwJEQiL8ABVjxz5AzQMB7AVdvOLjp9Hvqka+/+ZIt2for4PeZce36my/Zkq2/AtGdmavPTNEJcKQ4CLg6T/l7KA6zx26MZGvnFodeZBuHlOzHSL72dq73JFvXE7IfH9na28WhJ/lGl5Krz0zRCXAkBOIvQAFW/DPkDBDwXsDVGw5uOv2eeuTrb75kS7b+Cvh9Zly7/uZLtmTrr0B0Z+bqM1N0AhwpDgKuzlP+HorD7LEbI9naucWhF9nGISX7MZKvvZ3rPcnW9YTsx0e29nZx6Em+0aXk6jNTdAIcCYH4C1CAFf8MOQMEvBdw9YaDm06/px75+psv2ZKtvwJ+nxnXrr/5ki3Z+isQ3Zm5+swUnQBHioOAq/OUv4fiMHvsxki2dm5x6EW2cUjJfozka2/nek+ydT0h+/GRrb1dHHqSb3QpufrMFJ0AR0Ig/gIUYMU/Q84AAe8FXL3h4KbT76lHvv7mS7Zk66+A32fGtetvvmRLtv4KRHdmrj4zRSfAkeIg4Oo85e+hOMweuzGSrZ1bHHqRbRxSsh8j+drbud6TbF1PyH58ZGtvF4ee5BtdSq4+M0UnwJEQiL8ABVjxz5AzQMB7AVdvOLjp9Hvqka+/+ZIt2for4PeZce36my/Zkq2/AtGdmavPTNEJcKQ4CLg6T/l7KA6zx26MZGvnFodeZBuHlOzHSL72dq73JFvXE7IfH9na28WhJ/lGl5Krz0zRCXAkBOIvQAFW/DPkDBDwXsDVGw5uOv2eeuTrb75kS7b+Cvh9Zly7/uZLtmTrr0B0Z+bqM1N0AhwpDgKuzlP+HorD7LEbI9naucWhF9nGISX7MZKvvZ3rPcnW9YTsx0e29nZx6Em+0aXk6jNTdAIcCYH4C1CAFf8MOQMEvBdw9YaDm06/px75+psv2ZKtvwJ+nxnXrr/5ki3Z+isQ3Zm5+swUnQBHioOAq/OUv4fiMHvsxki2dm5x6EW2cUjJfozka2/nek+ydT0h+/GRrb1dHHqSb3QpufrMFJ0AR0Ig/gIUYMU/Q84AAe8FXL3h4KbT76lHvv7mS7Zk66+A32fGtetvvmRLtv4KRHdmrj4zRSfAkeIg4Oo85e+hOMweuzGSrZ1bHHqRbRxSsh8j+drbud6TbF1PyH58ZGtvF4ee5BtdSq4+M0UnwJEQiL8ABVjxz5AzQMB7AVdvOLjp9Hvqka+/+ZIt2for4PeZce36my/Zkq2/AtGdmavPTNEJcKQ4CLg6T/l7KA6zx26MZGvnFodeZBuHlOzHSL72dq73JFvXE7IfH9na28WhJ/lGl5Krz0zRCXAkBOIvQAFW/DPkDBDwXsDVGw5uOv2eeuTrb75kS7b+Cvh9Zly7/uZLtmTrr0B0Z+bqM1N0AhwpDgKuzlP+HorD7LEbI9naucWhF9nGISX7MZKvvZ3rPcnW9YTsx0e29nZx6Em+0aXk6jNTdAIcCYH4C1CAFf8MOQMEvBdw9YaDm06/px75+psv2ZKtvwJ+nxnXbjj5rlu3TlauXCmrVq0S/f83bdoUzo7LsBcdw8KFC80eGjZsKBUqVCjD3ujqkgDZZp+GzvsqVapIzZo1pVatWub/D9JcfWYKcg5s67+Aq/OUewx/5x7Zkq2/An6fGdeuv/mSLdn6K+D3mXHtRpevq89M0QlwJATiL0ABVvwz5AwQ8F7A1RsObjr9nnrk62++ZEu2/gr4fWZcu2XLNz8/XxYtWmT+c63p2DRfbdWrV5e8vDzXhsh4LAXI1hLu/4sRGzRokPX14Oozk70APX0UcHWeco/h42wrOCeyJVt/Bfw+M65df/MlW7L1V8DvM+PajS5fV5+ZohPgSAjEX4ACrPhnyBkg4L2Aqzcc3HT6PfXI1998yZZs/RXw+8y4dsuW75w5c2T58uVFdqKFThUrVizbjkPqvWHDBrOnSpUqhbRHduOKANlml8TGjRtFC9aSW506daRRo0ZZ7cDVZ6asBs9G5UbA1XnKPYa/U5BsydZfAb/PjGvX33zJlmz9FfD7zLh2o8vX1Wem6AQ4EgLxF6AAK/4ZcgYIeC/g6g0HN51+Tz3y9TdfsiVbfwX8PjOuXft8165dK7Nnzy7cga6qs8UWW0jVqlWzXl3H/uiZe+pr6lasWGE21HHxCsLMZnHZgmyzT0qLr/766y9zLSxevLiw4/bbb2+u1UzN1WemTOPm5+VLwNV5yj2Gv/OQbMnWXwG/z4xr1998yZZs/RXw+8y4dqPL19VnpugEOBIC8RegACv+GXIGCHgv4OoNBzedfk898vU3X7IlW38F/D4zrl37fOfNmydLly41O9hqq61EC7BcahTpuJRGuGMhWztPLcBasGCB6VyvXj3ZZpttMu7I1WemjANng3Il4Oo85R7D32lItmTrr4DfZ8a162++ZEu2/gr4fWZcu9Hl6+ozU3QCHAmB+AtQgBX/DDkDBLwXcPWGg5tOv6ce+fqbL9mSrb8Cfp8Z1659vrNmzTIr62hr1aqVM68dTJwRRTr22brek2ztEtLXEf7www+ms65+patgZWquPjNlGrcvP//111/l/vvvl1GjRon+/5pby5Yt5fjjj5d//etfUqNGDetTnTZtmowfP16mTp0q33zzjSxcuFCWLFkiVapUMa+o3GOPPWTAgAGy//77Z3UMLfDTsY4YMUJ+/vln8+rLFi1aSO/eveX888/PaZGuq/OUe4yspk4sNyLbWMaW1aDJNium2G5EvrGNLuPAyTYjUWw3INvYRpfVwMk3K6ZQNnL1mSmUk2MnCJQTAQqwyknQnCYCcRZw9YaDm844z6rMYyffzEZx3YJs45pc5nGTbWajOG9BvvbpzZw5UzZs2CCVKlWSHXfc0X5HOepJkU6OYB3YLdnah6AFWFqIle116+ozk71AfHpq0dVJJ50ky5cvTzvonXbaSUaPHp1VIV26HXTv3l0mTpyYEaRPnz7y7LPPSrVq1UrcVou4jjrqKJk7d27abbSg66233pJOnTplPJ7NBq7OU+4xbNKMRx+yjUdONqMkWxu1+PQh3/hkFXSkZBtULD7bk218srIZKfnaqNn1cfWZye5s6IVA+RSgAKt85s5ZIxArAVdvOLjpjNU0CjxY8g1MFpsOZBubqAIPlGwDk8WqA/nax0UBlr0dPcsmQAGWvV/Q69bVZyZ7gXj0/OKLL6Rbt26yevVqqVWrllx55ZVmJSr9O+vll1+Wxx57zJzIzjvvbFaw0m2CtgMPPNAU4+lxWrdubV5Jqa+S1ZWw9PhDhw6V2bNnm92ecMIJ5rjp2h9//CEdO3aU+fPnm8K+iy++WI444giz6ciRI+Xuu+82xbpbb721fPrpp9K4ceOgQ824vavzlHuMjNHFdgOyjW10GQdOthmJYr0B+cY6vlIHT7Zk66+A32fGtRtdvq4+M0UnwJEQiL8ABVjxz5AzQMB7AVdvOLjp9Hvqka+/+ZIt2for4PeZce3a5xu0kMP+SHY9KdKxc4tDL7K1TynodevqM5O9QDx6arHVuHHjTEHThAkTZM899ywy8CFDhsigQYPMnw0ePFiuu+66wCeWWMGwpI7696MWaX388cdmky+//FLat2+fsrm+pvCZZ54xfz58+HDRFbOS26uvvmpemajttNNOkyeffDLwWDN1cHWeco+RKbn4/pxs45tdppGTbSaheP+cfOOdX2mjJ1uy9VfA7zPj2o0uX1efmaIT4EgIxF+AAqz4Z8gZIOC9gKs3HNx0+j31yNfffMmWbP0V8PvMuHbt8w1ayGF/JLueFOnYucWhF9napxT0unX1mclewP2euqJVly5dzEAHDhxoVqIq3vQaaNeunXz77bdSr149s/pU5cqVQz+5V155RU488USz3wcffFDOOeecIsfQ4+qKVrqSVo8ePWTMmDFpx3DooYfKu+++KxUrVhRdMUtXwwqzuTpPuccIM2W39kW2buUR5mjINkxN9/ZFvu5lEtaIyDYsSff2Q7buZRLmiMg3TM3S9+XqM1N0AhwJgfgLUIAV/ww5AwS8F3D1hoObTr+nHvn6my/Zkq2/An6fGdeufb5BCznsj2TXkyIdO7c49CJb+5SCXreuPjPZC7jf8+qrr5Zbb73VDHTy5MnStWvXtIO+7bbbzKsJtY0dO1YOPvjg0E9OXyF45JFHmv3eeeedcskllxQ5hr4K8eyzzzZ/pq8o1FcVpmv6s759+5ofDRs2TM4666xQx+rqPOUeI9SYndoZ2ToVR6iDIdtQOZ3bGfk6F0loAyLb0Cid2xHZOhdJqAMi31A5S92Zq89M0QlwJATiL0ABVvwz5AwQ8F7A1RsObjr9nnrk62++ZEu2/gr4fWZcu/b5Bi3ksD+SXU+KdOzc4tCLbO1TCnrduvrMZC/gfs999tlHPvzwQ6lZs6YsW7bMvIYwXdNXA3br1s38SF9BqK8iDLuddNJJ8uKLL5rdajHW4YcfXuQQp5xyijz33HPmz+bOnSvbbLNN2iHozxo1amR+pn0SrywMa7yuzlPuMcJK2L39kK17mYQ1IrINS9LN/ZCvm7mEMSqyDUPRzX2QrZu5hDUq8g1LMvN+XH1myjxytkAAgYQABVjMBQQQcF7A1RsOven8/sUrpOKmddKy3xCpXrOW85YMMHsBHiqyt4rblmQbt8SyHy/ZZm8Vxy3J1z61oIUc9key60mRjp1bWXr9/PPP0qJFC7OLp556SgYMGFCW3ZXYl2ztWYNet64+M9kLuN+zYcOGsmjRItl1111l+vTpJQ546dKlUr9+ffPzPn36yPDhw8t8cnptLVy4UL7++mt54IEHZMSIEWafO+20k3z11VcpxWCdO3eWadOmSZ06dUyxWGlNt1mxYoVonylTppR5rMk7cHWeJu4xli9fLvvtt59Ur1498HnXqlWrxH46T/Lz8wPvUzvUqFHDFPmla0uWLDGvlbRp1apVk9q1a6ftqnNk/fr1NruVKlWqmHmWrqnvunXrrParr+6sW7du2r5//vmnrF27Nu3PNNtx48aZn6XLVl+3mbg+i+9g1apVsnr1aqvx5uXlyZZbblnimFauXGm1X+2kv3vStb/++stcu7atQYMGUqFChZTumplmZ9v09avpClQ3bNgg+vvRtulcS2R7yCGHFF5/+vtx8eLFtruVLbbYQqpWrZq2v/7etW38jiiQy/Z3RKZrt3gOtr8jMuXJ74i/hcL6HVE8Wy38zsXvCP27SOdb8cbviL9Fwr6PSNxP6d9xe++9t9X9VLa/IzJdu/yOKFnI9j4i0+/lsH5HFB95ru4jSvodEXRu5WJ7V5+ZcnGu7BMBXwUowPI1Wc4LAY8EXL3hWDv3O6n02N5SadM62dSoo1To/bDIVjt7JF++T4V/6Pc3f7IlW38F/D4zrl37fIMWctgfya6nL0U6yUVNdhIFvWz/kT7IMSnACqK1ebYNet26+sy0efRyf1Qt9kgU6ehqU7rqVGlN/+Fdizn22GMP0RWxbFvz5s3ll19+Sdt9u+22k1GjRknbtm1Tfq4rXs2fP9/8TAbDDmUAACAASURBVAu0Smvt2rUzhV3aR1fECtJ0HpbWdH9dunQxm/zwww/SpEmTILvP2baa54QJE6R3797Wx7j77rvlH//4R9r+zZo1M8V6Nu2qq66Sa665Jm3Xjh07yrfffmuzW/NKynvvvTdt3x49epjV3Wza0UcfLS+88ELarrpS25tvvmmzW/MPue+++27avhdeeKF5ZaZNa926tXz66adpu958882FrxkNum8tvvr111/Tdhs6dKhcfPHFQXdZuH1JRWFvvPGG9O/f33q/+rsl3T/K6rVx6KGHWu9Xiz/btGmT0v+bb76RTp06We/3P//5j+g9pDZdkVCLCrVpkZT+PrRtzz//vBxzzDFpu2tBpG3jd0SBHL8jChz4HfH3lZSr3xFjxowxvxuKN35H/C0S9n1E4n5KX9Ot95I2jd8R/I4oPm+i/h1hM2/D7qPPVK1atTK7/e2335x5Zgr7PNkfAj4LUIDlc7qcGwKeCDj5jwn5+bL68cOlxh8T/1auWEVkn0Ei3S8UqVjZE/3yexr8Q7+/2ZMt2for4PeZce3a5xu0kMP+SHY9KcAq6kYBlt088q1X0OvWyWcm30JJOh/9x7utttrK/MkJJ5wgL7/8cqlnu/XWW8uCBQtEi5tmzJhhLZOuAEtXjdBXG15wwQVm5ZZ0TVdQ0qKNrl27yuTJk0s9vm6jK19p0ZiuLBSk6ao/2bbHH3+8xBWCst1H2NuVpQBLC5oOO+ywtEPS1znarkyk86tv375p93veeeeZf5SxaT179pSBAwem7VqWfzjV120OGjQo7X7vuOMOmTRpks1wTfHgLbfckrbvo48+Ku+8847Vfps2bWpWkUvXXnrpJXnllVes9qvX4rPPPpu27+jRo60LxnSHiRXviu984sSJMmTIEKvxaid95Wi61cv0d9a1115rvd/7779ftAixeNMCtfPPP996vzfddJO0b98+pb+u1nXqqada7/eyyy6TvfbaK21/fkcUsPA7osCB3xEFDvyO+PvXBb8j+B2R/JcHvyPi+TvC+gYixI76xY0zzzzT7JECrBBh2RUCEQpQgBUhNodCAAE7ASf/MeG3KSJPHJz2hJbXaS35vR6UujvYf5PPTopeYQrwD/1harq1L7J1K48wR0O2YWq6ty/ytc8kaCGH/ZHsevpSgKWva/r+++9LRNAVRebMmSP6mo2SVvHQzlqg4UvzJdvNkUfQ69bJZ6bNARfRMfWD8ERBwcknn1xioUViOLqt9tlhhx3kxx9/tB6lrhqlrwNLvD5HCy4eeeQRs7qSFuo8/PDDpnCqeNNXKGkfXUVIV7MprelqEbr6kfbRV4QFaRRgUYBFAVbBFUMB1t+/OSjAKrCgSLPAgd8R/I4ofl/B7wh+RyTPCX5H8Dtic/+OCPLsk6ttKcDKlSz7RSA6AQqworPmSAggYCng6j8m3PP4k3LUr7fL9hXmpZzZhvwK8mq1Y+THnf8lnVo2kq7bN5D6NVPfO29JQrcIBPiH/giQN9MhyHYzwUdwWLKNAHkzHoJ87fGDFnLYH8muZ3kp0kmsXKOvxdFXAJaHVl6yzUWWQa9bV5+ZcmHjwj431wpY6c596dKlogWeU6dOlV122UU++ugjqV27dpFNo1oBi1cQ8gpCXh1UcOnxerG/fwXl6tVBvIKwwJjXlBY48JrSv685XlNaYMErCKP/HcErCIveqfMq4wIPV19lXNLvCBeeNXkFoQspMAYEyiZAAVbZ/OiNAAIRCLj4jwn6apgut/xPVqxcKRdVel3OqjhSKublp2j8uKmRDFp/tnyW30p23qa27LF9A/Nf1xb1pR4FWRHMHvtD8A/99nau9yRb1xOyHx/Z2tvFoSf52qcUtJDD/kh2PctLkQ4FWFtIhQoV7CZJOewV9Lp18ZnJ59j0H5iqV69uTvHwww+XkSNHlnq6uirVqlWrZI899pCPP/44dJpvv/1W2rRpY/Z75ZVXyq233lrkGNtss43Mnz/fvMbtq6++KvX4ugrf119/Ldpn7ty5oY7V1XmauMfQV5ftt99+hdkGOXnNODEnivfTb7Hbvl62Ro0aogV06dqSJUtk48aNQYZZuG21atVSCvUSP1y2bJnoqo42rUqVKmlfY6f7Ul9dwc2mVa5cWerWrZu2q74qU6/JdE2zHTdunPlRumx1pbf69eun7avXbEmFDJnOQVeD0yKsksa0cuXKTLso8ecNGzZM+7O//vrL+lWXusMGDRqk/XtaM9PsbFu9evVEX5VavOkKe1pAatt0riWyPeSQQwqvv8QKgbb71dXLqlatmra7Ft/aNn5HFMhl+zsi07VbPAfb3xGZ8uR3xN9CYf2OKJ6trg6ci98R+kpVnW/FG78j/hYJ+z4icT+lf8dpUWRJ90WlXXfZ/o7IdO3yO6JkIdv7iEy/l8P6HVF85Lm6jyjpd0TQuZWL7V19ZsrFubJPBHwVoADL12Q5LwQ8EnDxhmPdhk0ybNwPMmraTJm1Ik92yp8ld1QeJjtX+C31wS4/T57e2EOGbDhe1kg18/O8PJGdt9lC9ti+vuxpCrIaSJ0alT1KLf6nwj/0xz/Dks6AbMnWXwG/z4xr1z7foIUc9key60kBVsE/Co8fP1723Xdf84+Jmtl9991nXlX4xx9/iM7/2bNnixZxadOiiDfffFPef/99+eKLL8yrDfUfMvUfezt16iT9+vWTPn36lFjwpCtwtWjRwuzrqaeekgEDBhQJ74YbbpDBgwebP9OiAf2H7QceeEBeeuklMzZtrVu3llNOOUX+8Y9/pP1HE92mvGRrN/NL7xX0unXxmSkXLi7tU//xQgtrdt11V5k+fXqJQ9MCg0SBh16Xw4cPz8lptGrVylyfO+64o+irCpOb/l749NNPTWGMFteU1nSbFStWSOfOnWXKlCmhjtXVeco9RqgxO7UzsnUqjlAHQ7ahcjq3M/J1LpLQBkS2oVE6tyOydS6SUAdEvqFylrozV5+ZohPgSAjEX4ACrPhnyBkg4L2AqzcciZvOjfkijdp2lS9+WyYNv3hIjlz2glTOS/0W6q+bGsoVG86SSZvapWSmBVltttWCrAamIKtzi/pSpzoFWZtzcvNQsTn1c3tsss2t7+bcO9luTv3cH5t87Y2DFnLYH8muZ3kp0iltBazkAqyLLrpITjrpJLNaTnJLFGDpaif6zWB1K60dfPDB8sYbb4iuuFC8BSnAmjdvnnm9mRZ6pWtHHnmkjBgxIm2xV3nJ1m7ml94r6HXr6jNTLmxc2ec+++wjH374oVmdSIua0q3eoGPVFa+6detmhn3dddcVFjeGfR577bWXTJo0yfx+0JVwkpsWSz733HPmj7SAU1e3Stf0Z7oShTbt88wzz4Q6TFfnKfcYocbs1M7I1qk4Qh0M2YbK6dzOyNe5SEIbENmGRuncjsjWuUhCHRD5hspZ6s5cfWaKToAjIRB/AQqw4p8hZ4CA9wKu3nCUdNO5fs4MWffGv6Tmoi/TZvPihv3l3xtOkj+lRonZVcgTaduoTsEKWTs0kL13bCiVK/LKlignOw8VUWpHeyyyjdY7yqORbZTa0R+LfO3NgxZy2B/Jrmd5KdLJpgBLV6XS19vo6xouueQS8+oGffXJ1KlT5cQTTzQrXOlKV/pqHC3a6tmzp7Rv3150JR59BdOsWbPkscceK3zFWUkFFEEKsLRwZNq0aWalKy220pV8vv/+e7nppptEX3umbejQoTJw4MCUCVBesrWb+aX3CnrduvrMlAsbV/Z51VVXyb///W8znMmTJ0vXrl3TDu22224zrwXUpqva6auyctESv2P0Gl28eHGRQwwbNqzwGn355ZflhBNOSDsE/Vnfvn3Nzx599FE5++yzQx2qq/OUe4xQY3ZqZ2TrVByhDoZsQ+V0bmfk61wkoQ2IbEOjdG5HZOtcJKEOiHxD5Sx1Z64+M0UnwJEQiL8ABVjxz5AzQMB7AVdvOEq96dy4QWTyQyIf3CqyYW1KRnPz68vV60+X9zftnlV+LbasKXcdv6vs3qxeVtuzUdkFeKgou6GreyBbV5Mp+7jItuyGLu+BfO3TybaQY9OmfFm6ep39gSx7apHOnytXmt61a9Uq8bV5lrsvsVu9GlWkgla9R9SyKcDSoejqM7piTrNmzdKOTF8J+NNPP0nLli1LHPn1118vN954o+Tl5ZliKX0lWXILUoBVuXJlGTt2rCn4Sm5LliyRNm3ayPz582WXXXZJu0IWBVj2kyvb6zZxBFefmewF3O+pr+dLFF1pAaIWIhZveg20a9fOFCvWrVtXFixYIHpNhd20SLNLly5mt4lXmSYfQ1eya9y4sVk5T1e0GzNmTNohHHrooaZIrEKFCub1pyWtlGU7flfnKfcYtom6349s3c/IdoRkaysXj37kG4+cbEZJtjZq8ehDtvHIyXaU5GsrF7yfq89Mwc+EHgiUXwEKsMpv9pw5ArERcPWGI6ubzkU/ivznXJFfP07rPbH6/nLJn31l3obUV8MU76D/Pnju/i3lvAN3ZDWsCGZvVvlGMA4OEb4A2YZv6soeydaVJHIzDvK1d822kGPxyr+k483/sz9QzHp+es1B0qBW1chGnW0B1rPPPisnn3xymcalrynUwolFixbJnXfeaVbTSm5BCrAuvvhiueuuu9KOR1f10dV9tOkr2OrUqVNkOwqw7GPM9rpNHMHVZyZ7gXj0TLyGUF8/OGHCBNlzzz2LDHzIkCEyaNAg82daGHnDDTcU+fnTTz8tp512Wok/1yIv3ffuu5f8xR0tlNJXjiZWpHv88cfljDPOSAFMfg3hq6++Kscdd1yRbfTPjj/+ePNnp556qujYwm6uzlPuMcJO2p39ka07WYQ9ErINW9St/ZGvW3mEORqyDVPTrX2RrVt5hD0a8g1btOT9ufrMFJ0AR0Ig/gIUYMU/Q84AAe8FXL3hyPqmc9MmkWlPiPz3epH1q1Lyyq+xpfzY6XoZtbGrTJ69RD77dZms27CpxFzbN64j95zQQVpulbloy/vJkcMTzDrfHI6BXedGgGxz4+rCXsnWhRRyNwbytbfNtpCDAix742x6ZlOAVaVKFVm+fLlUq1Ytm12abbTISVe30VcQrl+/vrCfFnFNnz7dFHNpUVdyC1KA9emnn5ZY/PHaa69Jnz59zK4///xz6dChQ5HjUICVdYwpG2Z73SY6uvrMZC8Qj5467/faay/Rv6Nq1aol+lrC/fff3/xvfZ2fvvpPW6tWrcyrPGvXrl3kxDIVYCV+rq8C1VeA6jWmrxzVpoVXH3zwgTz11FPm94a2gw46qHAFq+KCv/32m3Ts2NG85lSLurQw84gjjjCbjRw50hRa6itOdf+fffaZNGnSJPQQXJ2n3GOEHrUzOyRbZ6IIfSBkGzqpUzskX6fiCHUwZBsqp1M7I1un4gh9MOQbOmmJO3T1mSk6AY6EQPwFKMCKf4acAQLeC7h6wxH4pnPZryJvXyDy0/vpM9v5CJHD75K11RrK578uk8mzFsu7X8+T7+b9mbJ91UoV5KrDWsspe25nXi1DC18gcL7hD4E95kiAbHME68BuydaBEHI4BPK1x822kIMCLHvjbHpmU4DVtm1b+eqrrzLuTl9D+MILL8gTTzwhn3zyiSn2KKn17NlTRo8eXeTHQQqwVq1aJTVq1Ei7+/fff18OPPBA8zNd/Wfvvfcush0FWBmjLHGDbK/bxA5cfWayF4hPz7ffflv69+8vK1asSDtoLb4aNWpU2teGZluAlY3GgAED5KGHHirxetV96O+L3r17m6LNdE1XzhsxYkThqxWzOW6QbVydp9xjBEkxXtuSbbzyCjJasg2iFb9tyTd+mWU7YrLNVip+25Ft/DILMmLyDaJVtm1dfWYq21nRG4HyJUABVvnKm7NFIJYCrt5wWN105ueLTH9B5N2rRNYWfEu5SKtWR6THv0U69BPJy5MNGzfJI+N+kvvemykbNuWnbL73jlvKnX12la23yH6VhFhOgs0waKt8N8M4OWRwAbINbhaXHmQbl6Tsxkm+dm7aK9tCDgqw7I2z6ZlNAVb37t3lww8/LHV3a9eulWOOOUbeeeedbA4r++23n1klJ7kFKcDSYq+S2rhx48xqP9r0GHqs5EYBVlYRpd0o2+s20dnVZyZ7gXj1/OWXX+S+++4zhVaaha5m17JlS7NC3LnnnltiUVSmAiz9u09/J2ix46RJk8yqVwsWLJB169bJFltsITvuuKNZgUtXuttll12yQtNXk+pYtdBKfxdoa9GihRx11FFy4YUXSoMGDbLaj81Grs5T7jFs0oxHH7KNR042oyRbG7X49CHf+GQVdKRkG1QsPtuTbXyyshkp+dqo2fVx9ZnJ7mzohUD5FKAAq3zmzlkjECsBV284ynTTuWKuyKhLRL4flT6LHQ4UOfJekbrNzM+//H2ZXPjKdJm1MPUVhnWqV5Zbj24vh++ybaxydX2wZcrX9ZMr5+MjW38nANn6m62eGfna55ttIcemTfmydPU6+wNZ9tQinT9XrjS9a9eqJRUqVLDcU7Bu9WpUkQoVoltJNJsCrH333Ve0qKm0du2118rNN99sNtHtzznnHPOKQF25pnr16oV+++yzjyncSLdPCrCCzZXNsXW2121ibK4+M20OO47proCr85R7DHfnTFlHRrZlFXS3P9m6m00YIyPfMBTd3AfZuplLGKMi2zAU3d0H+UaXjavPTNEJcCQE4i9AAVb8M+QMEPBewNUbjjLfdOpqAl+/ITJ6kMjqRak5VqklctANIp3OEKlQQdas2yi3j/lOnp5U8C3l4u3o3RrLDb3aihZk0couUOZ8yz4E9pAjAbLNEawDuyVbB0LI4RDI1x43aCGH/ZHsepaXVZLCKMDS1agaNWpkXh+mq2WNHz++xIK19u3bm9cZUoBlNy83d6+g162rz0yb25HjuyXg6jzlHsOteRLmaMg2TE239kW2buUR9mjIN2xRd/ZHtu5kEfZIyDZsUbf2R77R5eHqM1N0AhwJgfgLUIAV/ww5AwS8F3D1hiO0m85Vi0XGXC4y49X0WTbrJnLUgyINdjA/n/DDQrnstS9k/oq/UrZvVKea3Hn8rtJthy29nxe5PsHQ8s31QNl/YAGyDUwWmw5kG5uorAZKvlZsplPQQg77I9n1pABLzKv7tJgq0wpYixcvli23LLjPu//+++W8885Li75y5UqpX7++rF+/ngIsu2m52XsFvW5dfWba7JAMwCkBV+cp9xhOTZNQB0O2oXI6tTOydSqO0AdDvqGTOrNDsnUmitAHQrahkzq1Q/KNLg5Xn5miE+BICMRfgAKs+GfIGSDgvYCrNxyh33R+/47IyItE/pybmmnlGiKH3y3Soa/52bLV6+TqN7+SUTPSbCsiZ3ZvIZf22EmqVa7o/fzI1QmGnm+uBsp+AwuQbWCy2HQg29hEZTVQ8rViM52CFnLYH8muJwVY2RdgzZ8/37xqUNttt90ml19+eVr0++67Ty688ELzM1bAspuXm7tX0OvW1Wemze3I8d0ScHWeco/h1jwJczRkG6amW/siW7fyCHs05Bu2qDv7I1t3sgh7JGQbtqhb+yPf6PJw9ZkpOgGOhED8BSjAin+GnAEC3gu4esORk5vONctE/nutyGfPps+1w0kihw0RqVJT9BU0b02fI9e+9ZX8uXZDyvattq4l95zQQdo2quP9HMnFCeYk31wMlH0GFiDbwGSx6UC2sYnKaqDka8VmOgUt5LA/kl1PCrCyL8BSqwYNGsiyZcukQ4cO8sknn0iVKlWKwE+dOlUOOOAA0VWwtFGAZTcvN3evoNetq89Mm9uR47sl4Oo85R7DrXkS5mjINkxNt/ZFtm7lEfZoyDdsUXf2R7buZBH2SMg2bFG39ke+0eXh6jNTdAIcCYH4C1CAFf8MOQMEvBdw9YYjpzedP30g8vb5Ist+Tc13y1YifZ4W2bqt+dkfy9bIpcO/kI9nLU7ZtnLFPLn44J3k7H22l4oV8ryfK2GeYE7zDXOg7CuwANkGJotNB7KNTVRWAyVfKzbTKWghh/2R7HpSgJV9AZYKn3vuufLQQw8Z7C5dushFF10kLVu2lOXLl8vo0aPl4Ycfllq1aplXEP7www8UYNlNy83eK+h16+oz02aHZABOCbg6T7nHcGqahDoYsg2V06mdka1TcYQ+GPINndSZHZKtM1GEPhCyDZ3UqR2Sb3RxuPrMFJ0AR0Ig/gIUYMU/Q84AAe8FXL3hyPlN518rRd69Mv1qWJWqifS8XWT3U0Xy8mTTpnx5cuJsuePd72Xdhk0pc6Jz83py9/EdpGn9Gt7Pl7BOMOf5hjVQ9hNYgGwDk8WmA9nGJiqrgZKvFZvpFLSQw/5Idj0pwApWgKWFVvvtt59Mnz49LbgWXr355pty3XXXyfjx4ynAspuWm71X0OvW1WemzQ7JAJwScHWeco/h1DQJdTBkGyqnUzsjW6fiCH0w5Bs6qTM7JFtnogh9IGQbOqlTOyTf6OJw9ZkpOgGOhED8BSjAin+GnAEC3gu4esMR2U3njNdE3r5AZF3Ba2SKtHbHihxxr0i1Lcwffz/vT7nwleny7dwVKZvWrFJRru/VVvp0bCJ5eayGlenCiSzfTAPh56ELkG3opM7skGydiSInAyFfe9aghRz2R7LrSQFWsAIsVV69erXcfffdMnz4cFNgV6lSJWnatKkcfvjhcsEFF0iTJk1MkRYFWHZz0oVeQa9bV5+ZXLBkDO4IuDpPucdwZ46EPRKyDVvUnf2RrTtZ5GIk5JsLVTf2SbZu5JCLUZBtLlTd2Sf5RpeFq89M0QlwJATiL0ABVvwz5AwQ8F7A1RuOSG86F/8k8uoAkXlfpuZdr0XBKwkbdTA/+2vDRrn3fzNl6PifJD8/dfMebbeWW49uLw1qVfV+7pTlBCPNtywDpW9gAbINTBabDmQbm6isBkq+VmymU9BCDvsj2fUsLwVYdjrx7kW29vkFvW5dfWayF6CnjwKuzlPuMXycbQXnRLZk66+A32fGtetvvmRLtv4K+H1mXLvR5evqM1N0AhwJgfgLUIAV/ww5AwS8F3D1hiPym84Nf4mMvVZkyqOpmVesInLIzSJdzjavJNQ2ZfYSuXj4dPl96ZqU7besVVXuOK69HLDz1t7PH9sTjDxf24HSL7AA2QYmi00Hso1NVFYDJV8rNtMpaCGH/ZHselKkY+cWh15ka59S0OvW1WcmewF6+ijg6jzlHsPH2VZwTmRLtv4K+H1mXLv+5ku2ZOuvgN9nxrUbXb6uPjNFJ8CREIi/AAVY8c+QM0DAewFXbzg2203nN/8R+c+5ImuXp2a/8xEiRz0oUr2e+dmfa9fLTSO/keHTfk87T/p1bSZXH9Zaalat5P08CnqCmy3foANl+8ACZBuYLDYdyDY2UVkNlHyt2EynoIUc9key60mRjp1bHHqRrX1KQa9bV5+Z7AXo6aOAq/OUewwfZ1vBOZEt2for4PeZce36my/Zkq2/An6fGddudPm6+swUnQBHQiD+AhRgxT9DzgAB7wVcveHYrDedS38Ree10kT+mpeZfp5nIcU+KNO1c+LMxX82Tq96cIUtWrUvZvnmDGnLvibtJh6Z1vZ9LQU5ws+YbZKBsG1iAbAOTxaYD2cYmKquBkq8Vm+kUtJDD/kh2PSnSsXOLQy+ytU8p6HXr6jOTvQA9fRRwdZ5yj+HjbCs4J7IlW38F/D4zrl1/8yVbsvVXwO8z49qNLl9Xn5miE+BICMRfgAKs+GfIGSDgvYCrNxyb/aZz43qR924UmXR/6hyoUEnkwOtF9jxXpEIF8/MFf66VK16fIe9/tyBl+8oV8+TGo9pJ3y7NvJ9P2Z7gZs8324GyXWABsg1MFpsOZBubqKwGSr5WbKZT0EIO+yPZ9aRIx84tDr3I1j6loNetq89M9gL09FHA1XnKPYaPs63gnMiWbP0V8PvMuHb9zZdsydZfAb/PjGs3unxdfWaKToAjIRB/AQqw4p8hZ4CA9wKu3nA4c9P5w1iRNweKrFmSOhd2PESk91CRmg3Mz/Lz8+WlKb+Z1xKuWb8xZXstwLqhVxupWqmi9/Mq0wk6k2+mgfLzwAJkG5gsNh3INjZRWQ2UfK3YTKeghRz2R7LrSZGOnVscepGtfUpBr1tXn5nsBejpo4Cr85R7DB9nW8E5kS3Z+ivg95lx7fqbL9mSrb8Cfp8Z1250+br6zBSdAEdCIP4CFGDFP0POAAHvBVy94XDqpnP5HyKvnyny66TU+VB7W5FjnxBpvlfhz35etEouGj5dPv91Wcr2uzerK0P7d5Sttqjm/dwq7QSdyrdcJxH+yZNt+Kau7JFsXUkiN+MgX3vXoIUc9key60mRjp1bHHqRrX1KQa9bV5+Z7AXo6aOAq/OUewwfZ1vBOZEt2for4PeZce36my/Zkq2/An6fGddudPm6+swUnQBHQiD+AhRgxT9DzgAB7wVcveFw7qZz4waR8beJTLhT17oqOi/yKojsd5XI3heLVChY3WrDxk1y+5jv5LEPZ6fMoa1qV5VH+neUjtvV835+lXSCzuVbbpMI/8TJNnxTV/ZItq4kkZtxkK+9a9BCDvsj2fWkSMfOLQ69yNY+paDXravPTPYC9PRRwNV5yj2Gj7Ot4JzIlmz9FfD7zLh2/c2XbMnWXwG/z4xrN7p8XX1mik6AIyEQfwEKsOKfIWeAgPcCrt5wOHvT+dMHIm+cLbJqQercaLGvyDGPidTeuvBnb03/Qy5//UtZu35Tke0rV8yTwb3aSb+uzbyfY+lO0Nl8y2Ua4Z402Ybr6dLeyNalNMIfC/namwYt5LA/kl1PinTs3OLQi2ztUwp63br6zGQvQE8fBVydp9xj+DjbCs6JbMnWXwG/z4xr1998yZZs/RXw+8y4dqPL19VnpugEOBIC8RegACv+GXIGCHgv4OoNh9M3nX/OF3njLJHZ41PnR82GBUVYO+xftHkGLwAAIABJREFU+LOv5yyXgc99Kr8vXZOyfd8uTeWGXm2laqWClbPKS3M63/ISQo7Ok2xzBOvAbsnWgRByOATytccNWshhfyS7nhTp2LnFoRfZ2qcU9Lp19ZnJXoCePgq4Ok+5x/BxthWcE9mSrb8Cfp8Z166/+ZIt2for4PeZce1Gl6+rz0zRCXAkBOIvQAFW/DPkDBDwXsDVGw7nbzo3bRT56G6RD24VyS+6upVInsjel4jsd6VIxUpmDi1dtU7Ofekzmfjj4pQ5tXuzuuaVhFtvUc37+ZY4QefzLTdJhH+iZBu+qSt7JFtXksjNOMjX3jVoIYf9kex6UqRj5xaHXmRrn1LQ69bVZyZ7AXr6KODqPOUew8fZVnBOZEu2/gr4fWZcu/7mS7Zk66+A32fGtRtdvq4+M0UnwJEQiL8ABVjxz5AzQMB7AVdvOGJz0/nLJJHXzhD5c07qXGnWTeTYx0XqNDY/27Bxkwx593t5dMKslG0b1q4qQ/vvLh23q+/9nOODWr8jjs2163cMOTk7ss0JqzM7JV/7KIIWctgfya4nRTp2bnHoRbb2KQW9bl19ZrIXoKePAq7OU+4xfJxtBedEtmTrr4DfZ8a162++ZEu2/gr4fWZcu9Hl6+ozU3QCHAmB+AtQgBX/DDkDBLwXcPWGI1Y3nasWi4z4h8jMsanzpXp9kWMfE2l5UOHP/vPFHBn02heydn3RlbMqV8wzryM8qet23s+7WOXrfRrhniDZhuvp0t7I1qU0wh8L+dqbBi3ksD+SXU+KdOzc4tCLbO1TCnrduvrMZC9ATx8FXJ2n3GP4ONsKzolsydZfAb/PjGvX33zJlmz9FfD7zLh2o8vX1Wem6AQ4EgLxF6AAK/4ZcgYIeC/g6g1H7G46N20SmfyQyP9uENm0oei8qVBJ5LinRNr0Kvzzb+askLOfmya/L12TMsf6dmlqCrGqVqro7fyLXb7eJhH+iZFt+Kau7JFsXUkiN+MgX3vXoIUc9key60mRjp1bHHqRrX1KQa9bV5+Z7AXo6aOAq/OUewwfZ1vBOZEt2for4PeZce36my/Zkq2/An6fGddudPm6+swUnQBHQiD+AhRgxT9DzgAB7wVcveGI7U3n79NEXj1NZPmvRedOXkWR454Uadu78M+Xrlon5730uXz046KUebZbs7oytH9H2XqLal7Owdjm62Ua4Z4U2Ybr6dLeyNalNMIfC/namwYt5LA/kl1PinTs3OLQi2ztUwp63br6zGQvQE8fBVydp9xj+DjbCs6JbMnWXwG/z4xr1998yZZs/RXw+8y4dqPL19VnpugEOBIC8RegACv+GXIGCHgv4OoNR6xvOtcsFXnrXJHvRhadP6YI6wmRtkcX/vmGjZtkyLvfy6MTZqXMtYa1q8rQ/rtLx+3qezcPY52vd2mEe0JkG66nS3sjW5fSCH8s5GtvGrSQw/5Idj0p0rFzi0MvsrVPKeh16+ozk70APX0UcHWeco/h42wrOCeyJVt/Bfw+M65df/MlW7L1V8DvM+PajS5fV5+ZohPgSAjEX4ACrPhnyBkg4L2Aqzccsb/p1FcSjr5EZNqTReeQFmEd+5hIu2OL/PnbX8yRQa99KWvWbyzy55Ur5pnXEfbr0kzy8vK8mY+xz9ebJMI/EbIN39SVPZKtK0nkZhzka+8atJDD/kh2PSnSsXOLQy+ytU8p6HXr6jOTvQA9fRRwdZ5yj+HjbCs4J7IlW38F/D4zrl1/8yVbsvVXwO8z49qNLl9Xn5miE+BICMRfgAKs+GfIGSDgvYCrNxxe3HTm54uMvlRk6uNF51FeBZFjHhNpf1yRP/9mzgoZ+Pw0+W3JmpR5d2LnpjL4qLZStVJFL+akF/l6kUT4J0G24Zu6skeydSWJ3IyDfO1dgxZy2B/JridFOnZucehFtvYpBb1uXX1mshegp48Crs5T7jF8nG0F50S2ZOuvgN9nxrXrb75kS7b+Cvh9Zly70eXr6jNTdAIcCYH4C1CAFf8MOQMEvBdw9YbDm5tOLcJ6Z5DIlGFF55IWYR09TGSXPkX+fOmqdXL+y5/LhzMXpcy9Dk3rytD+HWWbOtViPy+9yTf2SYR/AmQbvqkreyRbV5LIzTjI1941aCGH/ZHselKkY+cWh15ka59S0OvW1WcmewF6+ijg6jzlHsPH2VZwTmRLtv4K+H1mXLv+5ku2ZOuvgN9nxrUbXb6uPjNFJ8CREIi/AAVY8c+QM0DAewFXbzi8uunUIqwxV4h8MrTofNIirN5DRXY9ocifb9i4SYaM/V4eHT8rZf41rF1VHjlpd+nUvH6s56ZX+cY6ifAHT7bhm7qyR7J1JYncjIN87V2DFnLYH8muJ0U6dm5x6EW29ikFvW5dfWayF6CnjwKuzlPuMXycbQXnRLZk66+A32fGtetvvmRLtv4K+H1mXLvR5evqM1N0AhwJgfgLUIAV/ww5AwS8F3D1hsO7m05ThHWlyCePFJtTeSK9HxHp0Ddlrr39xRwZ9NqXsmb9xiI/q1QhT67v1Vb6d20meXl5sZyj3uUbyxRyM2iyzY2rC3slWxdSyN0YyNfeNmghh/2R7HpSpGPnlqnXDTfcIIMHDzab5et9XrG23377yfjx42XfffeVcePGZdpdiT9P3Otdf/31osdMblFnm+mcrU9yM3QMet26+sy0Geg4pMMCrs5T7jEcnjRlHBrZlhHQ4e5k63A4IQyNfENAdHQXZOtoMCEMi2xDQHR4F+QbXTiuPjNFJ8CREIi/AAVY8c+QM0DAewFXbzi8vOnUf5x792qRyQ8Vm1dahPWwSId+KfPt27kr5OznpslvS9ak/OyETk3lxt5tpWqlirGbp17mG7sUcjNgss2Nqwt7JVsXUsjdGMjX3jZoIYf9kex6Rl2kYzfK7HoNHDhQhg0reK3z+++/L/vvv392HUXkvffek4MOOshsf84558iDDz6Ydd90G2YqRqIAq0y8Oe8c9Lp19Zkp51AcIFYCrs5T7jFiNY0CDZZsA3HFamOyjVVcgQdLvoHJYtOBbGMTVeCBkm1gslh1IN/o4nL1mSk6AY6EQPwFKMCKf4acAQLeC7h6w+HtTacWYY29RuTj4v/olydy1IMiu/VPmXPLVq+T8176XD6cuSjlZx2a1pVHT+4oW29RLVZz1dt8Y5VCbgZLtrlxdWGvZOtCCrkbA/na2wYt5LA/kl1PnwqwJk6cKN27dzcQp512mjz55JNZo+j2Tz/9tNl+8uTJ0rVr16z7ptvQlwIsNVEbbbNnz5bmzZuX6JLpnMsEGnHnoNetq89MEbNxOMcFXJ2n3GM4PnHKMDyyLQOe413J1vGAyjg88i0joMPdydbhcMo4NLItI6Dj3ck3uoBcfWaKToAjIRB/AQqw4p8hZ4CA9wKu3nB4fdOpRVj/vU5k0v3F5leeSK/7RXY/JWXebdyUL0Pe/T/2zgNMqiJrw98Mw5CDSAYBQckImAgSBAQTYgTFsOYsZlFcf8MaUFFETJjzGlFQUILkpIJKUEAUJCxKlhwn/E/dcbqnmZ4O1berT9V893n2Qaar6px637pD1c6Ze3/FiGnLC312ZPXy+HJAJ5Quac+TsJz26/x3jcgTpFt3FwDduutWzYx+9f3GW8ihH0mvp0sFWIrAEUccgeXLl6NChQpYv349ypQpExWMWt81atTAjh070KRJEyxdujRqn2gNTBUjJfsVhPEUYEVjYtPn8d63Us9MNjFnrsknIHWdco+RfPepikC3qSKf/Lh0m3zGqYxAv6mkn9zYdJtcvqkcnW5TST/5sek3+YzzI0g9M5kjwEgkYD8BFmDZ75AzIAHnCUjdcDi/6VRFWN88CMwaVniNnfEscMxlYdfemIV/4q5PFmLPgeyQz6/r2gj3nNrUmvXqvF9rTPifKN36z1TKiHQrxURy8qBffa7xFnLoR9Lr6VoB1n/+8x888MADHowPPvgAF1xwQVQwqt2FF+a96vmRRx7Bv//976h9ojVgAVY0QrI/j/e+lXpmkk2Z2ZkmIHWdco9heiWYi0e35libjkS3pombjUe/ZnmbjEa3JmmbjUW3Znmbjka/5ohLPTOZI8BIJGA/ARZg2e+QMyAB5wlI3XAUi02nKsKa9B9g5tDC66z3MODYvNfBHHwtXbcdV78zD2u27Al8VCI9DZ/f0BFH1a1sxZotFn6tMOF/knTrP1MpI9KtFBPJyYN+9bnGW8ihH0mvp2sFWOo1eY0aNUJubi5OO+00jB07NioY1e7rr7+GepqU6l+/fv2ofaI1YAFWNEKyP4/3vpV6ZpJNmdmZJiB1nXKPYXolmItHt+ZYm45Et6aJm41Hv2Z5m4xGtyZpm41Ft2Z5m45Gv+aISz0zmSPASCRgPwEWYNnvkDMgAecJSN1wFJtNpyrCmvwIMOOpwmvt9KHAcVeGXYPL1u/A6cNn4EB2buDzpjUr4IubOiEzI138ui02fsWb8D9BuvWfqZQR6VaKieTkQb/6XOMt5NCPpNfTtQIsRaFLly6YMWMGMjIysHbtWlSvXr1IOOo1hXXr1kVWVhZOPPFETJkyxWv77bffYsyYMZg5c6b3SsItW7agdOnSXtuuXbtiwIABaN68eZHjRivAUrGmTZvmjTV16tQix3n//ffx6quvYsGCBThw4AAaNGiAc889F7fddhsqV67sFY2pSz31S8UseCm3ah5fffUVvv/+eyxevBgbN25EyZIlUatWLXTs2BHXX3892rdvXyi+yqlbt25RF5Xipeairmhzzh9s5cqVePbZZzFhwgSsXr0a2dnZqFOnDrp3746bbroJrVq1KjLuwfOdO3cuhg4d6vlWc6tatao3zr333otmzZpFzb+oBvHet1LPTNoA2NFJAlLXKfcYTi43b1J0S7fuEnB7Zrx33fVLt3TrLgG3Z8Z715xfqWcmcwQYiQTsJ8ACLPsdcgYk4DwBqRuOYrXpVEVYUx4Dpj9ZeL2d9hRw/NVh1+HwSb9h6MRlIZ/ddlJj3HLSkeLXbbHyK96GvwnSrb88JY1Gt5Js+J8L/eozjbeQQz+SXk8XC7Bee+01XH113v5o2LBhuOWWW4qEoz5XxUzqeuONN3D55Zfjrbfe8v6MdJUoUQLDhw/HDTfcELZZtGKkaAVYqiBMvT5x5MiRYcdXT/maOHEiGjZs6H0ergBr8uTJ6NGjR9SFcc8992Dw4MEh7ZJVgPXOO+/gmmuuwb59+8Lmpbg+/PDDGDRoUNjPCxZgqWIr5U6xOvgqW7as91QzVYync8V730o9M+nMnX3cJSB1nXKP4e6ao1u6dZeA2zPjveuuX7qlW3cJuD0z3rvm/Eo9M5kjwEgkYD8BFmDZ75AzIAHnCUjdcBTLTeeUwcC0xwuvuVOHAO2uKfT1A9k5OOO5mVi6bkfgs5Il0jBmQGc0qVlB9Notln5FG/EvObr1j6W0kehWmhF/86FffZ7xFnLoR9Lr6WIB1vbt21GzZk3vyRvHHHMM5s2bVyQc9fmPP/4IVbCzbt06VKhQAaqAa+DAgejTp4/3hKojjzwS5cqVw59//um1VYVXmzZt8p4+9c0333hPXDr4SrQASz1h6/nnn/eGbdKkiZfPUUcdhW3btuGTTz7xnoqlcldPgFJXuAIs9YSpc845B7169ULPnj29J3ZVrFgRGzZswC+//OLNY9WqVV7//OKz/Hns2rXLex3j6NGjcd9993lfHj9+PGrXrh0y1cMPP9xjo65oc1avgzzjjDO810OWL18ed9xxB0466STvSWWzZ8/2isAUV3W9+OKL3tO5Dr7yC7DUU7u+++47j4kqsFNPzVK+P//8c+/pWmpd16tXD+r+y8zMjPvmiPe+lXpminvi7OA0AanrlHsMd5cd3dKtuwTcnhnvXXf90i3dukvA7Znx3jXnV+qZyRwBRiIB+wmwAMt+h5wBCThPQOqGo9huOqc+DkwNfUKBtwhPeQJof12h9bjof9tw1ouzkJ0TfBVh67qVMPL6jsgoIfdVhMXWr/PfUfgaCpcV87512S7v3UTsxlzIkZMD7NmSSCitvqpQZceOvGJtVXyUnm5of1CmCpDEWP3798eHH37ozUu9ei/c6+jU11u0aOG1ufDCC6Fe96cu9drCQw45xCvKCnepIij1ZKWFCxeiU6dO3uvvDr6iFSNFegKWGrdt27ZeEdHRRx/tvapQFSwVvNSTpC699NLAl8IVYKlCK/W9uVKlSl7h1cFu9+/fj969e3tP0qpfvz6WL18O9QSqglfBp4Gpgiz1CsSirkhzVq9PVMVaiq2ai2LWpk2bkKFUMViHDh3w119/eezV39VTrgpe+QVY6munnXaaV3B1cIHVo48+Giga++yzz3D22WfHfW/EfN/+M7LUM1PcE2cHpwlIXafcQ7q77OiWbt0l4PbMeO+665du6dZdAm7PjPeuOb9Sz0zmCDASCdhPgAVY9jvkDEjAeQJSNxzFetM57UlgyqOF197Jg4EOhV+D88S4pXhp6vKQ9vee1hTXdGkkdv0Wa79irfiTGN36w1HiKHQr0Yp/OdGvPsuYCzl2bQKGyP23WZ9AET3vWg6UCy2u8TOGev2cKtBRl3qd3WOPPVZoePX1xx/Pe7rouHHjcPLJJ8ecgnoy1FlnneW1V09tOvTQQ0P6JlKApV5r+NJLL3njqad3qSddhbvU/NQ81RWuACuWp5stWLAgUAgVLpZfBVgff/wxzj//fC9X9aQr9drDcJcqgrv44ou9j5588kncddddIc3yC7BKly7tFWhVr1690DCqoFAVbqkCM/WKwqFDh8bsNb9hzPftPx2knpninjg7OE1A6jrlHsPdZUe3dOsuAbdnxnvXXb90S7fuEnB7Zrx3zfmVemYyR4CRSMB+AizAst8hZ0ACzhOQuuEo9pvO6UOAyY8UXn8nPwZ0uDHk63sPZOO04TOwYuOuwNdLZaRj3K1dcHjVvFfGSLuKvV9pQnzMh259hClsKLoVJsTndOhXH2jMhRwswNKHHKZndnY2DjvsMO9pSupVdCtXrvReGZh/qdfgqac+rVmzBrVq1fL+PPjpT/lt1ev4Nm7cCPWn6qeu1atX4/TTT/f+e9KkSYVeQ5hIAVbjxo29V+ep1+qpp2EVdX366afo27ev93EsBVjqKVTr16/Hzp07vadrqSsrK8t72pa6Xn/9dVxxxRUh4fwqwLrmmmu81yYqB+pVj+EKp1RgVTSlPlNPGVOvTlSvPSx45TtUrzL84osvimTTsmVL7zWLZ555JkaNGhX32or5vv1nZKlnprgnzg5OE5C6TrnHcHfZ0S3dukvA7Znx3nXXL93SrbsE3J4Z711zfqWemcwRYCQSsJ8AC7Dsd8gZkIDzBKRuOLjpBDDjaWDSfwqvwV6PAB0HhHx93sot6PvyHPzzM0Pvs+MPr4IPr26P9PTgDyOlLGj6lWLC/zzo1n+mUkakWykmkpMH/epzjbmQgwVY+pCL6HnnnXfi6aef9j6dMmUK1Gv/8i/19+7du3t/veOOO/DUU0+FjKKeaqWenDRy5EivGCq/8CpcqI8++gj9+vUL+Ui3AGvv3r3e6/dUPFUMpYqiirpUEZgqIlNXUQVYqgDt5ZdfhnpilypIUoVpRV1PPPEEBg4cGPKxXwVYHTt2xJw5c7zXEK5YsSKi627dumHq1KmoXbu298rCgld+AZZ6MpZ6QlZRl3pFpHrNoXKsCuTivWK+b/8ZWOqZKd55s73bBKSuU+4x3F13dEu37hJwe2a8d931S7d06y4Bt2fGe9ecX6lnJnMEGIkE7CfAAiz7HXIGJOA8AakbDm46/1l6M58Bvnmw8Drs+R/ghFtCvv7gF7/grdkrQ7728JktcEmHBuLWMf2KU+JbQnTrG0pxA9GtOCW+JkS/+jhjLuRgAZY+5CJ6Llq0CEcddZT36cHFTOrvb775pveZeg1ffjv19x9++MF7HeHmzZtjykkVKV166aWh+64HH8RDDz3kfS1c8ZYqBps2bRq6du3qFRvlX+rpUOqJXOpSr+lTr+sr6tq3bx/Uq/jUFa4ASxU6qQIk9aq+WC5VNKbGKXj5VYDVtGlT/Prrr2jfvr1XiBXp6t+/Pz788ENvbup7T8ErvwAr3HwLtiuKbywcVJuY79t/BpR6Zop1vmxXPAhIXafcY7i7/uiWbt0l4PbMeO+665du6dZdAm7PjPeuOb9Sz0zmCDASCdhPgAVY9jvkDEjAeQJSNxzcdBZYerOeBSbeX3gtnvQg0Om2wNd37cvCycOm439/B3+QVS6zBMbf1gV1Dykrai3TrygdviZDt77iFDUY3YrS4Xsy9KuPNOZCDvVKuD1b9ANp9lSvotuxY4fXu0KFCkhPT9ccKc5uZaoABmK1adPGK7CqWLGi9+q7MmXKeEU9NWvWxPbt29G6dWvMnz8/kLx6BV6zZs28pzSVLFkSAwYM8F5jp14LeMghh6BUqVJeW/V5o0aNvP9WhVyXXXZZCADdJ2CpJ1apJz+pa9CgQXjssceKBButAKtz586YOXOm99o/lZ8qbFJzq1atWmAeyn/+qxfDFTX5XYDVoUMHzJ49O+JiueCCC6CeKsYCrDjvKTYngSgEeLbnEjFNgPtH08TNxaNbc6xTEYl+U0HdTEy6NcM5FVHoNhXUzcWkX3OspZ6ZzBFgJBKwnwALsOx3yBkUUwLqhzVfffUV5s6di3nz5nmvxti4caP3w5zKlSujefPmOO2003DllVfi0EMP9Y3SN998g/fee8/7QYr64UxGRgZq1Kjh/cZ+jx49cMkll6B8+fK+xVMDSd1wcNN5kObZzwET7ivsvsf9QOc7Al+f+dsmXPz6dyHtujSuhrcvP8774ZyUi36lmPA/D7r1n6mUEelWionk5EG/+lxjLsDSD5FQT1WAo/a26lJFSsYKsBLKOvbOzzzzDG6//Xavg3qq0vnnn+/9qYqR1KVeUZj/ufr7uHHjcOqpp3qfvfLKK7j66qvDBlNPyTr22GO9z/wswFKvIFRFYupK5BWES5cu9Yqt1KXmN2TIkLBu1VO+qlat6rVLZgGW368g5BOwYr8H2JIE8gnwbM+1YJoA94+miZuLR7fmWKciEv2mgrqZmHRrhnMqotBtKqibi0m/5lhLPTOZI8BIJGA/ARZg2e+QMyimBFQhVM+ePaPOXv0wQxVMqVeYJHL9/fffuPzyyzF69OiIw/z0009Qv+Xv5yV1w8FNZxjLc14Axt9b+INejwIdbwp8/e5PF+KjeWtC2j3VtzXOO6aun0snobHoNyF8ojvTrWg9CSVHtwnhE9+ZfvUVsQBLn50fPdevX4+6desiKysLp59+OsaMGeP9qX6ZQj35Se111dOw8i9VkHXnnXd6f1WFaeqpYOGul19+Gdddd533kZ8FWGo89bQttW5atWqFhQsXFolh5MiROO+887zPDy5IKviZ+uUN9eSpcMV148ePxymnnBJ2DPXFt99+O/B0rz/++AMNGhT96upIT/265ppr8Oqrr3oF/+pJZNWrVw87rwMHDnhP6Nq2bRt69eoFlV/Bi68g9OOu4BjFlQDP9sXVfOrmzf1j6tgnOzLdJptwasen39TyT2Z0uk0m3dSOTbep5Z/s6PSbbMLB8aWemcwRYCQSsJ8AC7Dsd8gZFFMCqgBL/UZ6t27dcMwxx+Cwww5DrVq1oJ4goP6B/vTTT/HZZ58hOzsbmZmZ3pOy1FOqdC71wwf1dCv1W/bqUj8wUq/lOOKII7zxV61a5Y2vYn755ZcswNKB7FKfb18Cxt0TOqP0ksCtC4GKea+z2bbnAHo9Mw3rt+8LtKtYOgPf3N4V1SuWFkGDhwoRGpKSBN0mBauIQelWhIakJUG/+mhZgKXPzq+e+QVX6umx6hcW2rZt6xVkqSddqUKsgtcTTzyBe+7J20upQiH1tNmDL7XnP+644/Djjz96H/ldgHXDDTfgpZde8sZWMVS+4a78eanPDi7AUq/wU2cGdU2cOBHdu3cPW4B19tlnY9SoUV67cE+VKjiOeqpWkyZNitQSqQDr448/9p4+pq7BgwcHGB882AcffIALL7zQ+/KTTz6Ju+66K6QJC7D8uis4TnEkIPWHCdxjuLsa6ZZu3SXg9sx477rrl27p1l0Cbs+M9645v1LPTOYIMBIJ2E+ABVj2O+QMiikBVfikfmM+0qV+kKF+oKGuc845B+q30HWuf/3rX3j33Xe91w2qp2nl/+Di4LFyc3O9gizVzs9L6oaDm84Ilr97Gfh6YGiDrncD3YJPx/pm8Xpc9c68kDYnt6iBERcfI+JVhPTr510sayy6leXDz2zo1k+a8saiX30nLMDSZ+dXz4LFPy1atMAvv/ziDa2KffKLlPJjqV+iOPfcc72/qmKsgQMP2lMBuPvuu73ioPzL7wKsBQsWeEVXan+vXnM4depUlCtXLgTH+++/j4svvjjwtYOLp1ThlvpFEXWpXxxRT586+AlYqshLFXvlX+EKsKZPn46uXbt6TcaOHeu9Zr2oK1IBlnqylXp61p9//uk9VWzGjBlo3bp1yFBr1qxB+/btvTZly5b1ftEk//WI+Q1ZgOXXXcFxiiMBnu2Lo/XUzpn7x9TyT2Z0uk0m3dSPTb+pd5CsDOg2WWRTPy7dpt5BMjOg32TSDR1b6pnJHAFGIgH7CbAAy36HnAEJRCTQrFkzqN8UVz842LhxY9y01OtCOnfu7PVTP9BQPxQxfUndcHDTGWUljL4J+OndYKPyNYBbfwYyMgNfu/mDn/DFgj9DBnrhwqNx+lG1TC+zQvHoN+UKkpYA3SYNbcoHptuUK0hqAvSrj5cFWPrs/Oq5d+9e72m1W7duDQxZsWJF7wlXZcqUCQmza9cuNGzYEBs2bPB+sUG9Oq9Pnz7efv7333/3CpkmTZqEE044AbNmzfL6+l2ApcYcMGAAnn/+eW/8pk2bekVf6pWE6um4n3zyCV555RUcffTRmDcvr6D+4OJgkIMcAAAgAElEQVQpVbylnsD7888/e5+rQjNVsKU4qEIn9Ysd6gm6BecRrgBrx44d3usCFUMVTz29ShVS5Rdz1alTJ8AwUgGWykEVcJ1xxhleYVn58uW9p1upJ/0qzrNnz8bjjz/ucVfXiy++iOuvv77QEmABll93BccpjgR4ti+O1lM7Z+4fU8s/mdHpNpl0Uz82/abeQbIyoNtkkU39uHSbegfJzIB+k0k3dGypZyZzBBiJBOwnwAIs+x1yBiQQkYD6jXX16kD1Awb1w4t4L/WDEvXaD9X/r7/+8v40fUndcHDTGWUlrPsZGHFCaKNzXwdanRf42pZd+9Fz6DRs3rU/8LWq5TMx4bauqFIuWKhles2pePSbCupmYtKtGc6piEK3qaBuLib96rNmAZY+Oz97qkIqVTyVf1155ZV47bXXwoYYP348zjrrLK/oKNx14oknesVRLVu29D5ORgGWemKUOguoJ3KFuw4//HCvEEwVi6krXPGUegqWKnAqWHhWcCxV0KXmWrt23muqw42hvn7wE78KjjFlyhQoHuqKVoCl2rz99tu49tprsW9f8FXYBcdTTxl++OGHMWjQoLDzZgGWn3cFxypuBHi2L27GUz9f7h9T7yBZGdBtssjKGJd+ZXhIRhZ0mwyqMsakWxkekpUF/SaLbOFxpZ6ZzBFgJBKwnwALsOx3yBmQQJEElixZ4v2WunotoCrEmjt3bly09u/fj0qVKnk/+Onbty/Uq1PUlZWVhbVr13qviatZsyYyM5NbKCN1w8FNZwzL6Y1TgdWzgw3rdQCuGBfS8csFf2LABz+FfO2sNrUx7IK2MQRIXhP6TR7bVI9Mt6k2kLz4dJs8thJGpl99CyzA0mfnZ0/1tKpOnToFhpw2bRq6dOlSZAj1mkL1RKbJkyd7T7KtXLkymjdvjosuugiqeGv16tVQRVDqSkYBVn5i6klV6mlXCxcuhCrKql+/vvea8zvvvBOHHHJI4NXR4YqncnJyvNctPvPMM9488l//d8QRR6Bfv3648cYbUbp06YhjqDzUE6tef/11vPPOO9546ilc6oyjrngLsFSflStXYtiwYZgwYYLHUeWpisC6d+/uPflLnaGKuliA5eddwbGKGwGe7Yub8dTPl/vH1DtIVgZ0myyyMsalXxkekpEF3SaDqowx6VaGh2RlQb/JIlt4XKlnJnMEGIkE7CfAAiz7HXIGJBBCYPfu3V5x1Jdffoknn3wS69ev9z5/9913vVd+xHOpgq3jjz/e6zJ06FD079/f+01w9coR9WoUdakfmHTr1g333XcfOnbsGM/wMbeVuuHgpjMGhT9/Bnx6eWjD62YCNYM/1FI/ULvm3R8wcXHeWs2/3rjsWHRvWiOGIMlpQr/J4SphVLqVYCE5OdBtcrhKGZV+9U2wAEufHXsmRkAVNm3fvt0bRL1yMf+1gYmNWjx6x3vfSj0zFQ9bnGWsBKSuU+4xYjVoXzu6tc9ZrBnTbayk7GxHv3Z6iyVruo2Fkp1t6NZOb7FmTb+xkkq8ndQzU+Iz4wgkUHwIsACr+LjmTB0m8NZbb+Hyyw8qcikwX/Xb6aoYK/+3tWNFoV7Pcdlll3nNH3vsMa8Ia9OmTWG7qx+mPP3007j11ltjHT7QTm0oIl3q1Yf5hWDLli1D3bp1446RjA7qyWDTp0/3hlZPL1DFaLwOIpB9AKVHHIu0ncHiqqzWF+PAKU+FNNywYx96v/AdduzLCny9RoVS+PKGdqhQOiMlWOk3JdiNBKVbI5hTEoRuU4LdWFD61UetnvCjnhZUsmRJNGrUSH+gJPVURTo7d+70Rlevu2aRTpJAp2BYutWHvnz5cu+JY+qViPXq1Ys6kDpTNW7c2Gu3Zs0aMWemqImzQbEiIPWHCfyBkrvLkG7p1l0Cbs+M9667fumWbt0l4PbMeO+a8yv1zGSOACORgP0EWIBlv0POgARQVAFWmzZtMGLECLRr106LknpVyO233+71LVWqFPbt24fevXvjwQcfRMuWLb1Xf4wcORL33HOP95vtqsBr7NixOPXUU+OKF09h2GuvvYaqVavGNT4bp5ZAk78+R9N1nweSyErLxISWz+JARrmQxL7dkIYPlpcI+VqH6jm4oFFOaifA6CRAAiRAAiRgOYFDDz0UZcqUQdmyZVGrVi3LZ8P0SaB4EFC/hKKebqz+j+7NmzdHnbT6RZmrrrrKa8cCrKi42CBFBKT+MIE/UErRgjAQlm4NQE5RCLpNEXhDYenXEOgUhKHbFEA3FJJuDYFOURj6NQde6pnJHAFGIgH7CbAAy36HnAEJYOvWrch/ipTaCKnflv7444/x+eefe085GDZsmFc4Fe/1yCOP4P/+7/8C3c444wyMGjWq0FMJZs6cia5du0L9hrsqzFq4cGFcT9tiAVa8ZuxqX+rAVvT6+TakIzuQ+KI6F2JF9VNCJpKbC4xYko6l29JDvn5j82w0rpRr16SZLQmQAAmQAAkIIsACLEEymAoJxEiABVgxgmIzqwhI/WECf6Bk1TKKK1m6jQuXVY3p1ipdcSdLv3Ejs6YD3VqjKu5E6TZuZFZ1oF9zuqSemcwRYCQSsJ8AC7Dsd8gZkECRBN59911ceumlXjHU66+/HnidYKzInnrqKdx1112B5kuXLkWTJk3Cdu/bty8+/fRT7zNVgNWqVatYwwSKx4rqwFcQxoxSbMOSo69FxtLRgfxyKjfAvmtmA2mhxVZrt+5Bnxe/x+4DwWKtupVLY/T17VA2M/TpWMmeLF91lWzCqRufblPHPtmR6TbZhFM7Pv3q8+crCPXZsWdiBPgKQn1+fAWhPjv2lEtA6g8T+AMluWsm0czoNlGCcvvTrVw3fmRGv35QlDkG3cr04kdWdOsHRblj0K85N1LPTOYIMBIJ2E+ABVj2O+QMSCAigfPPP997Gla5cuW8V1EccsghMRN7+eWXcd1113ntDz/8cKxYsaLIvurVgFdffbX3uSr2uuKKK2KOE62h1A0HN53RzBX4fNVs4M2DXk150UjgyJMKDfL27JV44ItfQr5+xQmH4/4zmscRMPGm9Js4Q6kj0K1UM4nnRbeJM5Q8Av3q2/ntt9+QlZWFjIwMHHnkkfoDJamnKtJRr7NWV8WKFQs9bTVJYTmsAQJ0qw853vtW6plJnwB7ukhA6jrlHsPF1ZY3J7qlW3cJuD0z3rvu+qVbunWXgNsz471rzq/UM5M5AoxEAvYTYAGW/Q45AxKISOC///0vLrroIq/N+++/jwsvvDBmYl999RVOP/10r33nzp0xffr0IvuOHz8ep5yS90q5wYMH45577ok5TrSGUjcc3HRGM1fgc+/9gp2A9T8Hv3jkycBFHxcaJCcnF+e/MgdzV/4d+CwtDfj0ug44pn6VOIIm1pR+E+MnuTfdSraTWG50mxg/6b3pV99QvIUc+pH0erJIR4+bDb3oVt9SvPet1DOTPgH2dJGA1HXKPYaLqy1vTnRLt+4ScHtmvHfd9Uu3dOsuAbdnxnvXnF+pZyZzBBiJBOwnwAIs+x1yBiQQkcDEiRPRq1cvr81jjz2GQYMGxUxs1apVaNCggde+Y8eOmDVrVpF9CxZrDRkyBHfeeWfMcaI1lLrh4KYzmrmDPp/3JjDm1gJfTANu/gmocnihgVZs3IlTn52BfVk5gc8aVSuHsTd3RumSZl5FSL9x+rWoOd1aJCvOVOk2TmCWNadffWHxFnLoR9LrySIdPW429KJbfUvx3rdSz0z6BNjTRQJS1yn3GC6utrw50S3dukvA7Znx3nXXL93SrbsE3J4Z711zfqWemcwRYCQSsJ8AC7Dsd8gZkEBEAm+99RYuv/xyr83w4cMxYMCAuIjVr18fq1evRo0aNbBu3boi+z733HO4+eabvc/VU7f69+8fV5xIjaVuOLjpjFPx/l3A082AfduCHTsOAHo9EnagEdOW4/Gvl4Z8dmO3Rrjr5KZxBtZrTr963GzoRbc2WNLLkW71uNnSi371TcVbyKEfSa8ni3T0uNnQi271LcV730o9M+kTYE8XCUhdp9xjuLja8uZEt3TrLgG3Z8Z7112/dEu37hJwe2a8d835lXpmMkeAkUjAfgIswLLfIWdAAhEJqFcIqqdTqWvKlCk48cQT4yJ2++2345lnnvH6qCdgqSdhhbu6deuGqVOneh+tWbMGdevWjStOpMZSNxzcdGooHjcI+PbFYMfSlYHblwCZZQsNlpWdg7NfnI1Fa4MFWyXS0zD6xhPQsk4ljeDxdaHf+HjZ1JpubbIVX650Gx8v21rTr76xeAs59CPp9WSRjh43G3rRrb6leO9bqWcmfQLs6SIBqeuUewwXV1venOiWbt0l4PbMeO+665du6dZdAm7PjPeuOb9Sz0zmCDASCdhPgAVY9jvkDIopAfVkqwsuuAClS5cukoAqnFIFVOpSrxJU/yd+RkZGoH3Bp2M98MADePDBBwuNpZ5+1aRJE+zduxfHHHMMpk2bhnLlyoW0e++993DJJZd4X1MFX2PGjPHVitQNBzedGpo3LweeOzq0Y5/ngaPz1s/B19J123HGczNxIDs38FHzWhUx+qYTULJEukYCsXeh39hZ2daSbm0zFnu+dBs7Kxtb0q++tXgLOfQj6fVkkY4eNxt60a2+pXjvW6lnJn0C7OkiAanrlHsMF1db3pzolm7dJeD2zHjvuuuXbunWXQJuz4z3rjm/Us9M5ggwEgnYT4AFWPY75AyKKQFVULVjxw6ce+656NSpExo1aoTy5ct7X1u0aBHef/9974lV6srMzMTYsWNx0kknhdCKpQBLdRgyZAgGDhzo9W3evLn33y1btsS2bdvw2WefYcSIEcjOzkbFihUxb948HHnkkb5akbrh4KZTU/O75wDLJwU71zwKuHY6kJYWdsBnJi7Ds5N+C/nszl6NcVN3f9fZwcHpV9OvBd3o1gJJminSrSY4S7rRr76oeAs59CPp9WSRjh43G3rRrb6leO9bqWcmfQLs6SIBqeuUewwXV1venOiWbt0l4PbMeO+665du6dZdAm7PjPeuOb9Sz0zmCDASCdhPgAVY9jvkDIopAVWAtWrVqqizV68CfOONN9CzZ89CbWMtwFIdBw0ahCeeeAK5ucEnERUcsHr16hg1ahQ6dOgQNad4G0jdcHDTGa/Jf9r/Og744PzQzldOBA47PuyA+7NyvKdg/bp+R+DzzBLpGHtzJxxZo4JmEtG70W90Rra2oFtbzUXPm26jM7K5Bf3q21uxYgX27duHtLQ078mm6k9JF4t0JNnwNxe61eOpzly//vqrd/YqVaoUGjZsGHUgqWemqImzQbEiIHWdco/h7jKkW7p1l4DbM+O9665fuqVbdwm4PTPeu+b8Sj0zmSPASCRgPwEWYNnvkDMopgSWL1+Ob775BlOmTMGSJUuwfv16bN682XslYY0aNdCmTRv07t0b/fr1Q9myZcNSiqcASw0wZ84cvPTSS5gxYwb++usvL1bjxo3Rp08fDBgwAJUqVUqKDakbDm46NXXnZAPD2wBbVwcHaNUPOPfVIgdcsGYrzn5xFnIK1P+1OawyRl7fESXSk/NDZPrV9GtBN7q1QJJminSrCc6SbvSrL0rtpdRTUtVVr169Qq+T1h/Zn54s0vGHo8RR6FbPyq5du6BeBa+uChUqQP1STbRL6pkpWt78vHgRkLpOucdwdx3SLd26S8DtmfHeddcv3dKtuwTcnhnvXXN+pZ6ZzBFgJBKwnwALsOx3yBmQgPMEpG44uOlMYOnNehaYeH9wgPSSwO2LgfLVixx08FdL8PL0FSGf33d6M1zVOfoTAXQypV8danb0oVs7POlkSbc61OzpQ7/6rrZv3461a9d6A6hXVqtiDklPwWKRjr5b6T3pNn5D6qlX6vyzc+dOr3OdOnW8V71Hu6SemaLlzc+LFwGp65R7DHfXId3SrbsE3J4Z7113/dIt3bpLwO2Z8d4151fqmckcAUYiAfsJsADLfoecAQk4T0DqhoObzgSW3u4twNBmQNbe4CDd7wO63FXkoHsPZOPUZ2fgj027Am1Kl0zH+Fu7oP6h5RJIJnxX+vUdqZgB6VaMCt8ToVvfkYoakH71dagimGXLlgVeJa2KsKpUqeI9JVVCIRaLdPTdSu9Jt7EbUoVXu3fvxpYtWwLFV+r+VE8cTk9PjzqQ1DNT1MTZoFgRkLpOucdwdxnSLd26S8DtmfHeddcv3dKtuwTcnhnvXXN+pZ6ZzBFgJBKwnwALsOx3yBmQgPMEpG44uOlMcOmNuhGY/15wkIp1gFsWAiUyihz4uxWbcf4r34Z83r5hFfz3qvZI9/lVhPSboF/B3elWsJwEU6PbBAEK706/iQlSryBUT8FSRR75lyruKFGiRGID+9Q7KyvLGykjo+h9gE+hOIxhAnQbG/Ds7OxC96d6+pV6BWEsl9QzUyy5s03xISB1nXKP4e4apFu6dZeA2zPjveuuX7qlW3cJuD0z3rvm/Eo9M5kjwEgkYD8BFmDZ75AzIAHnCUjdcHDTmeDS+/Mn4JUTQwfp9y7QvE/Ege8f/TPembMqpM2jZ7fERe3qJ5hQaHf69RWnqMHoVpQOX5OhW19xihuMfhNXEq4IK/FREx9BFYUpv+oqU6aMiKdyJT4rjqAI0K3eOlDFkfEUX6koUs9MegTYy1UCUtcp9xiurjh4+4sJEyZ4E+zVq5e3z+DlBgG6dcNjUbOgX3f90i3dukvA7Znx3jXnV+qZyRwBRiIB+wmwAMt+h5wBCThPQOqGg5tOH5beaycB/5sbHKhBZ+CyMREH3rkvCyc/Mx1rt+b9oFZdh5bLxOxB3VEqw7+neNCvD36FDkG3QsX4kBbd+gBR8BD0648c9Uq4nTt3Yvv27di/fz/UU3dSfamcNm7c6KVRrVq1mF63luqcGT82AnQbGyfVSj2NLjMzExUrVoR6TWgsrx0sOLrUM1PsBNiyOBCQuk65x3B39dEt3bpLwO2Z8d511y/d0q27BNyeGe9dc36lnpnMEWAkErCfAAuw7HfIGZCA8wSkbji46fRh6S34CPj8mtCBbvgOqN404uDTl23Ev974PqTNsPPb4Ky2dXxIKm8I+vUNpbiB6FacEt8SolvfUIociH5FavElKbr1BaPIQejWnBapZyZzBBjJBgJS1ym/V9mwevRypFs9bjb0olsbLOnnSL/67KT3pFvphvTzo1t9djb0pF9zlqSemcwRYCQSsJ8AC7Dsd8gZkIDzBKRuOLjp9GHpZe0DhjYHdm8KDnbcVcDpT0cd/MJXv8Xs5ZsD7Y6pfwhGXt8xar9YG9BvrKTsa0e39jmLNWO6jZWUne3o105vsWRNt7FQsrMN3ZrzJvXMZI4AI9lAQOo65fcqG1aPXo50q8fNhl50a4Ml/RzpV5+d9J50K92Qfn50q8/Ohp70a86S1DOTOQKMRAL2E2ABlv0OOQMScJ6A1A0HN50+Lb1J/wFmFCi4yiwP3L4EKF0xYoCvF/2F69//MaTN2Js7oUXtSr4kRr++YBQ5CN2K1OJLUnTrC0axg9CvWDUJJ0a3CSMUOwDdmlMj9cxkjgAj2UBA6jrl9yobVo9ejnSrx82GXnRrgyX9HOlXn530nnQr3ZB+fnSrz86GnvRrzpLUM5M5AoxEAvYTYAGW/Q45AxJwnoDUDQc3nT4tvW3/A4a1AnJzggOeOgRod9CrCQ8KdyA7Byc8PhkbduwLfNL/+HoYfE4rXxKjX18wihyEbkVq8SUpuvUFo9hB6FesmoQTo9uEEYodgG7NqZF6ZjJHILWRVq9ejeHDh2Ps2LFQ/12qVCkcccQR6NevH2644QaULVtWO8Ht27fjq6++wqRJk/DDDz9gxYoV2L17NypVqoQWLVqgd+/euOqqq1C5cuWIMRo0aIBVq1ZFzaN+/fpYuXJl1HY6DaSuU36v0rFpRx+6tcOTTpZ0q0PNnj70a4+reDOl23iJ2dOebu1xpZMp/epQ0+sj9cykNxv2IoHiSYAFWMXTO2dNAlYRkLrh4KbTx2X04UXA0jHBAas2Bm78HkhLixjkmYnL8Oyk3wJtymaWwLf39kDF0iUTTo5+E0YodgC6Fasm4cToNmGEogegX9F6EkqObhPCJ7oz3ZrTI/XMZI5A6iKpoquLLroI27ZtC5tEkyZNvAKqhg0bxp3k119/jbPPPhv79gV/6STcIDVq1MAHH3yAbt26FRmDBVhF4+f3qriXpjUd6NYaVXEnSrdxI7OqA/1apSuuZOk2LlxWNaZbq3TFnSz9xo1MuwPP9tro2JEExBBgAZYYFUyEBEigKAJSNxzcdPq4ZldMA97pEzrgv0YDDU+MGGTdtr044YnJyM7JDbR7qE8LXNqxQcLJ0W/CCMUOQLdi1SScGN0mjFD0APQrWk9CydFtQvhEd6Zbc3qknpnMEUhNpAULFqBjx47eE6nKly+PQYMGeUVQau1/+OGHePXVV73EmjZtirlz53pt4rnee+89XHLJJUhPT0fPnj1xyimnoHXr1t7TrpTz999/Hx999JE3pHrK1qxZs9CmTZuwIfILsM4880w88sgjRaaRmZmJxo0bx5NmzG2lrlN+r4pZoXUN6dY6ZTEnTLcxo7KyIf1aqS2mpOk2JkxWNqJbK7XFnDT9xowq4YZSz0wJT4wDkEAxIsACrGIkm1MlAVsJSN1wcNPp44rKzQVeaAds+jU4aNPewAXvRw1y/Xs/4Ouf1wXaHVG9PCbe1gVpUZ6eFW1g+o1GyN7P6dZed9Eyp9tohOz+nH7t9hcpe7qlW3cJmJuZ1DOTOQKpiaSKraZOnYqMjAxMnz4dHTp0CElkyJAhGDhwoPe1hx56CPfff39ciariqilTpuDee+9FvXr1wvZ97rnncPPNN3ufde/e3XtVYbgrvwDr0ksvxVtvvRVXHn41lrpO+e+QX4bljUO38pz4lRHd+kVS5jj0K9OLH1nRrR8UZY5BtzK9+JUV/fpFMvo4Us9M0TNnCxIggXwCLMDiWiABEhBPQOqGg5tOn5fOd68AX98VHDQtHbhlIVD5sIiBZv2+CRe99l1Imw+ubo8OjQ5NKEH6TQif6M50K1pPQsnRbUL4xHemX/GKtBOkW2104jvSrTlFUs9M5giYj6SeaHX88cd7ga+99lqMGDGiUBI5OTlo2bIllixZgkMOOQTr169HyZKJvy794EDHHXcc5s2b5z0pa8OGDTj00MJnIRZgFb1G+L3K/P1jKiLdmiJtPg7dmmduMiL9mqRtNhbdmuVtMhrdmqRtPhb9mmPOs7051oxEAskiwAKsZJHluCRAAr4RkLrh4KbTN8V5A+3dDgxtBuzfGRy48x1Aj8i/JZ6bm4seQ6dhxcZdgX6nt6qFFy46OqEE6TchfKI7061oPQklR7cJ4RPfmX7FK9JOkG610YnvSLfmFEk9M5kjYD7Sv//9bzz22GNe4G+//Rbt2rULm8Tjjz/uvZpQXRMmTPBeJej3ddddd+Gpp57yhlWFYccee2yhECzAKpo6v1f5vSLljEe3clz4nQnd+k1U1nj0K8uHn9nQrZ80ZY1Ft7J8+J0N/fpNtOjxeLY3x5qRSCBZBFiAlSyyHJcESMA3AlI3HNx0+qY4ONDYO4C5rwX/XrYqcPtiIKNUxGBvzPwD/xmzONAmIz0Ns+/pjuoVS2snSb/a6MR3pFvxirQTpFttdFZ0pF8rNGklSbda2KzoRLfmNEk9M5kjYD5Sly5dMGPGDJQrVw5bt271XkMY7pozZw46duzofaReQaheRej3pV5BqF5FqK4ffvgBRx9d+JdRWIBVNHV+r/J7RcoZj27luPA7E7r1m6is8ehXlg8/s6FbP2nKGotuZfnwOxv69Zto0ePxbG+ONSORQLIIsAArWWQ5LgmQgG8EpG44uOn0TXFwoA1LgRcP+s3xs18BWp8fMdi2PQfQ7rFvsPdATqDd7T0b4+YeR2onSb/a6MR3pFvxirQTpFttdFZ0pF8rNGklSbda2KzoRLfmNEk9M5kjYD5StWrVsGnTJrRu3Rrz588vMoG///4bVapU8T7v27cvPv74Y9+TVTksXLjQKwLbvHkzKlasWChGfgHW4YcfjvLly2P58uVQTxOuUaOG9yrF/v3748wzz0RaWprv+eUPKHWd8ntV0pSnfGC6TbmCpCVAt0lDK2Jg+hWhISlJ0G1SsIoYlG5FaEhaEvSbNLSFBpZ6ZjJHgJFIwH4CLMCy3yFnQALOE5C64eCmM0lL763ewMoZwcHrHAtcPSlqsHtGLsSHc9cE2tWsWBoz7+6GjBLpUfuGa0C/Wtis6ES3VmjSSpJutbBZ04l+rVEVd6J0GzcyazrQrTlVUs9M5giYjbR3716UKVPGC3r66adjzJgxERNQBU+7du1C+/btoZ6I5ec1duxY9O7dO2ou+QVYkWKfcMIJ+Oijj1CnTh2tFNU6jHT99ddfXrGXupYtW4a6detqxfG7k/I5ffp0b1j1ZLPSpfWfpOx3bhwvMQJ0mxg/yb3pVrKdxHOj38QZSh2BbqWaSTwvuk2coeQR6NecHXWmaty4sRdwzZo1Ys5M5ggwEgnYT4AFWPY75AxIwHkCUn+YwB8oJWnpLf4C+PiS0MGvngLUKfwajYKNfl67Db2fmxnSb8TFx+CUljW1EqVfLWxWdKJbKzRpJUm3Wtis6US/1qiKO1G6jRuZNR3o1pwqqWcmcwTMRtq4cSOqV6/uBT3//PPx4YcfRkxAPWVqw4YNaNmyJRYtWuRbslu2bPFeN7hq1SqUKFECc+fORdu2bcOOr/5P/GbNmqFXr15eHpUqVfJenagKwl566SXv/9xXl2qjvqY+j/eK5+lZr732GqpWrRpvCLYnARIgARIgARIgARIgARIgAWcJqKcsX3XVVd78WIDlrGZOzHECLMByXDCnRwIuEJD6wwT+QClJqys7C3j2KGD72mCANhcBZ70YNeBZL8zC/DVbA+06HVEV7/pBMQgAACAASURBVF110CsNo46S14B+YwRlYTO6tVBajCnTbYygLG1Gv5aKiyFtuo0BkqVN6NacOKlnJnMEzEZS/0d4vXr1vKCXXHIJ3nnnnYgJqLaqT6NGjfD777/7kmx2drb35Ktx48Z54z3wwAN48MEHixxbFVtVrlw57Oc7duzAeeedhwkTJnif33bbbRg6dGjcebIAK25k7EACJEACJEACJEACJEACJEACAQIswOJiIAH7CbAAy36HnAEJOE9A6g8T+AOlJC696UOAyY8EA5QoBdyxFChbJWLQkT/8D3d8siCkzeQ7uqJhtfJxJ0u/cSOzpgPdWqMq7kTpNm5kVnWgX6t0xZUs3caFy6rGdGtOl9QzkzkCZiNJeALWtddei1deecWbuHoN4ujRo72nYOle27Zt8wrENm/ejHLlykE9XSszMzOu4fgKwrhwsbEBAnxdjgHIKQpBtykCbygs/RoCnYIwdJsC6IZC0q0h0CkKQ7/mwPMVhOZYMxIJJIsAC7CSRZbjkgAJ+EZA6g8T+AMl3xQXHmjnBmBocyDnQPCzkx4COt0aMejeA9loP3gStu4O9ruy0+H4v97N406WfuNGZk0HurVGVdyJ0m3cyKzqQL9W6YorWbqNC5dVjenWnC6pZyZzBMxGUj+AKFOmjBdUFT+NGTMmYgLly5fHrl270L59e+/1folegwYNwuOPP+4N06lTJ+/JVfn5JDL2TTfdhBdeeMEbYtasWejYsWMiwxXqK3Wd8nuVr5pFDUa3onT4mgzd+opT3GD0K06JbwnRrW8oxQ1Et+KU+JoQ/fqKM+JgUs9M5ggwEgnYT4AFWPY75AxIwHkCUjcc3HQmeemNvBpY9HEwSOV6wM3zgfTIv9U9+KsleHn6ikC/iqUz8N29J6FMZny/DU6/SfabwuHpNoXwkxyabpMMOMXD02+KBSQxPN0mEW6Kh6ZbcwKknpnMETAfqVq1alCvh2jdujXmz59fZAJ///03qlTJe5Jv37598fHHBc44Gmk/8cQTuOeee7yeRx99NCZPnoxKlSppjFS4y4svvogbb7zR+0DlqfL185K6Tvm9yk/LssaiW1k+/MyGbv2kKW8s+pXnxK+M6NYvkvLGoVt5TvzMiH79pBl5LKlnJnMEGIkE7CfAAiz7HXIGJOA8AakbDm46k7z01nwPvN4zNEj/D4Emp0YMvGrzLnQdMjWkzZPnHoV+xx0WV8L0GxcuqxrTrVW64kqWbuPCZV1j+rVOWcwJ023MqKxrSLfmlEk9M5kjYD5Sly5dMGPGDO91fVu3bkVGRkbYJNQTr/KfJHX//ffjoYce0k62YIFUs2bNMH36dFStWlV7vIM7qqdfqadgqYsFWL5h5UApJMB/h1IIP8mh6TbJgFM8PP2mWEASw9NtEuGmeGi6TbGAJIen3yQDLjA8z/bmWDMSCSSLAAuwkkWW45IACfhGQOqGg5tO3xSHHyg3F3ilK/DXguDnjXoAl3wWNfClb3yPacs2Btq1qlMJXw7oFLVfwQb0GxcuqxrTrVW64kqWbuPCZV1j+rVOWcwJ023MqKxrSLfmlEk9M5kjYD7Svffei8GDB3uBv/32W7Rr1y5sEupVgeqVgeoaP348evXqpZXsu+++i0svvRS5ublo2LChV/xVu3ZtrbGK6qSefqWKvNQ1c+ZMnHDCCb6OL3Wd8nuVr5pFDUa3onT4mgzd+opT3GD0K06JbwnRrW8oxQ1Et+KU+JoQ/fqKM+JgUs9M5ggwEgnYT4AFWPY75AxIwHkCUjcc3HQaWHo/vgt8kfcb2IHrph+AqkdEDP7N4vW46p15IW1G33gCWh9WOeak6TdmVNY1pFvrlMWcMN3GjMrKhvRrpbaYkqbbmDBZ2YhuzWmTemYyR8B8pO+//z5QdHXttddixIgRhZLIyclBy5YtsWTJElSuXBkbNmxAyZIl4072s88+Q79+/ZCdnY26det6xVcNGjSIe5xIHbZt24ZGjRph8+bNKFu2LLZs2YJSpUr5GkPqOuX3Kl81ixqMbkXp8DUZuvUVp7jB6FecEt8SolvfUIobiG7FKfE1Ifr1FWfEwaSemcwRYCQSsJ8AC7Dsd8gZkIDzBKRuOLjpNLD0DuwBhjYD9vwdDNb+BuCUvN80L+rKzslFlyenYO3WPYEm5x1TF0/1bR1z0vQbMyrrGtKtdcpiTphuY0ZlZUP6tVJbTEnTbUyYrGxEt+a0ST0zmSOQmkj5ryFUrx9UrwPs0KFDSCJDhgzBwIEDva898MADePDBB0M+f+utt3D55ZcX+bn6YMKECTjjjDOwf/9+VK9e3YvTpEmTuCY8btw4dO3aFWXKlAnbb8eOHTjvvPO8WOoaMGAAhg8fHleMWBpLXaf8XhWLPTvb0K2d3mLJmm5joWRvG/q11120zOk2GiF7P6dbe93Fkjn9xkLJnzZSz0z+zI6jkEDxIMACrOLhmbMkAasJSN1wcNNpaFlNuA+Y/VwwWKlKwB1LgMxyERN4YcrvGDL+10CbUhnp+HZQDxxSLjOmxOk3JkxWNqJbK7XFlDTdxoTJ2kb0a626qInTbVRE1jagW3PqpJ6ZzBFITaSffvrJe02fWuvly5eHei1ht27dvL9/+OGHeOWVV7zEGjdujHnz5qFChQohiUYrwFKvNuzRowd2797tPTlLtT/qqKMiTlY9IUs9bavgdeKJJ2LRokU455xz0KlTJ+9JVyrfrVu3Ys6cOXjppZewZs0ar4sq7po9ezaqVKniO1Sp65Tfq3xXLWZAuhWjwvdE6NZ3pKIGpF9ROnxNhm59xSlqMLoVpcP3ZOjXd6RFDij1zGSOACORgP0EWIBlv0POgAScJyB1w8FNp6Glt+UPYHhbALnBgL2HAcfm/aZ4UdemnfvQYfAkHMgO9vv3ac1wdZeGMSVOvzFhsrIR3VqpLaak6TYmTNY2ol9r1UVNnG6jIrK2Ad2aUyf1zGSOQOoiffnll7j44ouxffv2sEmo4quxY8fiiCMKv0Y9WgGWemLWQw89FNfk3nzzTVx22WUhfVQB1rRp06KOo57o9d///hd16tSJ2langdR1yu9VOjbt6EO3dnjSyZJudajZ04d+7XEVb6Z0Gy8xe9rTrT2udDKlXx1qen2knpn0ZsNeJFA8CbAAq3h656xJwCoCUjcc3HQaXEbv9wN+Gx8MWL0FcP0sIC0tYhI3f/ATvljwZ6BN/UPLYsodJyI9PXI/1YF+Dfo1HIpuDQM3GI5uDcJOQSj6TQF0QyHp1hDoFIShW3PQpZ6ZzBFIbaRVq1bh2Wef9QqtlIvMzEyv4Kpv37646aabULZs2bAJmirAUk/fmjRpkve0q19//RWbNm3ynn6l8qpduzbatWuH/v37o1evXkiLcsZKhLTUdcrvVYlYld2XbmX7SSQ7uk2Envy+9CvfkW6GdKtLTn4/upXvKJEM6TcRevH1lXpmim8WbE0CxZsAC7CKt3/OngSsICB1w8FNp8Hl89s3wPvnhga8/GugfseIScxduQV9R8wJafPOFcejS+NqUZOn36iIrG1At9aqi5o43UZFZHUD+rVaX8Tk6ZZu3SVgbmZSz0zmCDCSDQSkrlP+O2TD6tHLkW71uNnQi25tsKSfI/3qs5Pek26lG9LPj2712dnQk37NWZJ6ZjJHgJFIwH4CLMCy3yFnQALOE5C64eCm0+DSy8kBnj8G2LIiGLTF2UDftyImkZubi1OfnYGl63YE2vVsXgOv/uvYqMnTb1RE1jagW2vVRU2cbqMisroB/VqtL2LydEu37hIwNzOpZyZzBBjJBgJS1yn/HbJh9ejlSLd63GzoRbc2WNLPkX712UnvSbfSDennR7f67GzoSb/mLEk9M5kjwEgkYD8BFmDZ75AzIAHnCUjdcHDTaXjpzXkBGH9vMGh6BnDrz0DFWhETee/bVbhv1M+BNurtgzPu7o46lcvwh8GGFUoJx3tXign/86Bb/5lKGpF+JdnwNxe69ZenpNHo1pwNqWcmcwQYyQYCUtcpv1fZsHr0cqRbPW429KJbGyzp50i/+uyk96Rb6Yb086NbfXY29KRfc5aknpnMEWAkErCfAAuw7HfIGZCA8wSkbji46TS89Pb8DTzdDMjaEwzc9R6g26CIiezcl4V2j36DXfuzA+1u6nYE7jy5ScR+9GvYr8FwdGsQtuFQdGsYuOFw9GsYuMFwdGsQtuFQdGsOuNQzkzkCjGQDAanrlN+rbFg9ejnSrR43G3rRrQ2W9HOkX3120nvSrXRD+vnRrT47G3rSrzlLUs9M5ggwEgnYT4AFWPY75AxIwHkCUjcc3HSmYOl9cTPw49vBwOVr5D0FKyMzYjL/N+pnvPvtqkCbquVLYfY93ZGZkV5kP/pNgV9DIenWEOgUhKHbFEA3GJJ+DcI2HIpuDQM3GI5uzcGWemYyR4CRbCAgdZ3ye5UNq0cvR7rV42ZDL7q1wZJ+jvSrz056T7qVbkg/P7rVZ2dDT/o1Z0nqmckcAUYiAfsJsADLfoecAQk4T0DqhoObzhQsvXWLgBGdQgOf9wbQ8tyIyfy6bgdOHjY9pM1z/dvijNa1i+xHvynwaygk3RoCnYIwdJsC6AZD0q9B2IZD0a1h4AbD0a052FLPTOYIMJINBKSuU36vsmH16OVIt3rcbOhFtzZY0s+RfvXZSe9Jt9IN6edHt/rsbOhJv+YsST0zmSPASCRgPwEWYNnvkDMgAecJSN1wcNOZoqX3xinA6jnB4PU6Ald8HTWZfi/Pwfd/bAm0O/7wKvj42g5F9qPfqEitbUC31qqLmjjdRkVkdQP6tVpfxOTplm7dJWBuZlLPTOYIMJINBKSuU/47ZMPq0cuRbvW42dCLbm2wpJ8j/eqzk96TbqUb0s+PbvXZ2dCTfs1ZknpmMkeAkUjAfgIswLLfIWdAAs4TkLrh4KYzRUtv0afAyCtDg183C6jZMmJCXy74EwM++Cmkzfhbu6BJzQph+9FvivwaCEu3BiCnKATdpgi8obD0awh0CsLQbQqgGwpJt4ZAA5B6ZjJHgJFsICB1nfJ7lQ2rRy9HutXjZkMvurXBkn6O9KvPTnpPupVuSD8/utVnZ0NP+jVnSeqZyRwBRiIB+wmwAMt+h5wBCThPQOqGg5vOFC29rP3AsJbAzvXBBI65DDjj2YgJ7c/KQcfHJ2PTzn2Bdpe0r4+HzwpfuEW/KfJrICzdGoCcohB0myLwhsLSryHQKQhDtymAbigk3RoCzQIsc6AZKSECPNsnhI+dNQjw3yENaJZ0oVtLRGmmSb+a4CzoRrcWSNJMkW41wVnSjX7NiZJ6ZjJHgJFIwH4CLMCy3yFnQALOE5C64eCmM4VLb8pjwLQngglklAFuXwyUrRIxqafG/4rnp/weaFO+VAa+vbcH1J8HX/SbQr9JDk23SQacwuHpNoXwDYSmXwOQUxSCblME3kBYujUA+Z8QUs9M5ggwkg0EpK5Tfq+yYfXo5Ui3etxs6EW3NljSz5F+9dlJ70m30g3p50e3+uxs6Em/5ixJPTOZI8BIJGA/ARZg2e+QMyAB5wlI3XBw05nCpbf9r7ynYOVkBZPo+TBwws0Rk1q7dQ86PzEZObnBZo+c1RIXt69fqB/9ptBvkkPTbZIBp3B4uk0hfAOh6dcA5BSFoNsUgTcQlm4NQP4nhNQzkzkCjGQDAanrlN+rbFg9ejnSrR43G3rRrQ2W9HOkX3120nvSrXRD+vnRrT47G3rSrzlLUs9M5ggwEgnYT4AFWPY75AxIwHkCUjcc3HSmeOl9cjnwy2fBJCrVA26ZD6SXiJjY1e/Mw8TFwdcXNq1ZAV/f0hlpaWkh/eg3xX6TGJ5ukwg3xUPTbYoFJDk8/SYZcAqHp9sUwk9yaLpNMuACw0s9M5kjwEg2EJC6Tvm9yobVo5cj3epxs6EX3dpgST9H+tVnJ70n3Uo3pJ8f3eqzs6En/ZqzJPXMZI4AI5GA/QRYgGW/Q86ABJwnIHXDwU1nipfe6u+AN3qFJnH++0Cz3hETm75sI/71xvchbT65rgOOaxD6+kL6TbHfJIan2yTCTfHQdJtiAUkOT79JBpzC4ek2hfCTHJpukwy4wPBSz0zmCDCSDQSkrlN+r7Jh9ejlSLd63GzoRbc2WNLPkX712UnvSbfSDennR7f67GzoSb/mLEk9M5kjwEgkYD8BFmDZ75AzIAHnCUjdcHDTmeKll5sLvNoN+POnYCINOgOXjYmYWE5OLro9PRWrNu8OtOvTujaG928b0o9+U+w3ieHpNolwUzw03aZYQJLD02+SAadweLpNIfwkh6bbJAMuMLzUM5M5AoxkAwGp65Tfq2xYPXo50q0eNxt60a0NlvRzpF99dtJ70q10Q/r50a0+Oxt60q85S1LPTOYIMBIJ2E+ABVj2O+QMSMB5AlI3HNx0Clh6Cz4EPr82NJHrZwM1WkRM7tXpK/DoV0sCbUqWSMOcQT1QtXypwNfoV4DfJKVAt0kCK2BYuhUgIYkp0G8S4aZ4aLpNsYAkhqfbJMI9aGipZyZzBBjJBgJS1ym/V9mwevRypFs9bjb0olsbLOnnSL/67KT3pFvphvTzo1t9djb0pF9zlqSemcwRYCQSsJ8AC7Dsd8gZkIDzBKRuOLjpFLD0svYBz7QAdm0MJnP0pUCf4RGT+3vXfrQfPAn7snIC7e46uQlu7HZE4O/0K8BvklKg2ySBFTAs3QqQkMQU6DeJcFM8NN2mWEASw9NtEuEeNLTUM5M5AoxkAwGp65Tfq2xYPXo50q0eNxt60a0NlvRzpF99dtJ70q10Q/r50a0+Oxt60q85S1LPTOYIMBIJ2E+ABVj2O+QMSMB5AlI3HNx0Cll6Ux4Dpj0RTCajDHD7YqBslYgJ3vnJAnz6w/8CbepULoPpA7uhRHqa9zX6FeI3CWnQbRKgChmSboWISFIa9JsksAKGpVsBEpKUAt0mCWyYYaWemcwRYCQbCEhdp/xeZcPq0cuRbvW42dCLbm2wpJ8j/eqzk96TbqUb0s+PbvXZ2dCTfs1ZknpmMkeAkUjAfgIswLLfIWdAAs4TkLrh4KZTyNLbsS7vKVg5WcGETnoI6HRrxAQXrNmKM1+YFdLmtX8di5Oa1/C+Rr9C/CYhDbpNAlQhQ9KtEBFJSoN+kwRWwLB0K0BCklKg2ySBDTOs1DOTOQKMZAMBqeuU36tsWD16OdKtHjcbetGtDZb0c6RffXbSe9KtdEP6+dGtPjsbetKvOUtSz0zmCDASCdhPgAVY9jvkDEjAeQJSNxzcdApaeiOvAhZ9Ekyo0mHAzfOBEhkRkzzjuZlYtHZboE3XxtXw9hXHe3+nX0F+fU6Fbn0GKmg4uhUkIwmp0G8SoAoZkm6FiEhCGnSbBKhFDCn1zGSOACPZQEDqOuX3KhtWj16OdKvHzYZedGuDJf0c6VefnfSedCvdkH5+dKvPzoae9GvOktQzkzkCjEQC9hNgAZb9DjkDEnCegNQNBzedgpbe/+YBr/UITajfu0DzPhGT/HjuGgwcuTDQJi0NmHrniah/aDkWYAnS63cqvHf9JipnPLqV4yIZmdBvMqjKGJNuZXhIRhZ0mwyq4ceUemYyR4CRbCAgdZ3ye5UNq0cvR7rV42ZDL7q1wZJ+jvSrz056T7qVbkg/P7rVZ2dDT/o1Z0nqmckcAUYiAfsJsADLfoecAQk4T0DqhoObTmFL79XuwNofgknV7wRcPjZiknv2Z6PdY99g+97g6wuv7dIQg05rxgIsYXr9TIf3rp80ZY1Ft7J8+J0N/fpNVM54dCvHhd+Z0K3fRIseT+qZyRwBRrKBgNR1yu9VNqwevRzpVo+bDb3o1gZL+jnSrz476T3pVroh/fzoVp+dDT3p15wlqWcmcwQYiQTsJ8ACLPsdcgYk4DwBqRsObjqFLb2FHwOfXR2a1HUzgZqtIib68JjFeH3mH4E2lcuWxLeDeiA3az8mTJjgfb1Xr14oU6aMsAkzHV0CvHd1ycnvR7fyHSWSIf0mQk92X7qV7SeR7Og2EXrx9ZV6ZopvFmztOgGp65Tfq9xdeXRLt+4ScHtmvHfd9Uu3dOsuAbdnxnvXnF+pZyZzBBiJBOwnwAIs+x1yBiTgPAGpGw5uOoUtvaz9wLCWwM71wcTaXgKc+XzERFds3InuT08LafN039Y4rfmhLMASptivdHjv+kVS3jh0K8+JnxnRr580ZY1Ft7J8+JkN3fpJM/JYUs9M5ggwkg0EpK5Tfq+yYfXo5Ui3etxs6EW3NljSz5F+9dlJ70m30g3p50e3+uxs6Em/5ixJPTOZI8BIJGA/ARZg2e+QMyAB5wlI3XBw0ylw6U19HJg6OJhYRmngtsVAuUMjJnvxa99h5u+bAm3aHFYZH1xxNAuwBCr2IyXeu35QlDkG3cr04ldW9OsXSXnj0K08J35lRLd+kYw+jtQzU/TM2aI4EZC6Tvm9yt1VSLd06y4Bt2fGe9ddv3RLt+4ScHtmvHfN+ZV6ZjJHgJFIwH4CLMCy3yFnQALOE5C64eCmU+DS27EeeKYFkHMgmFyPB4DOt0dMdtzP63Ddez+EtPn0muOwdtEc72t8BaFA1wmkxHs3AXjCu9KtcEEJpke/CQIU3J1uBctJMDW6TRBgHN2lnpnimAKbFgMCUtcpv1e5u/jolm7dJeD2zHjvuuuXbunWXQJuz4z3rjm/Us9M5ggwEgnYT4AFWPY75AxIwHkCUjcc3HQKXXqfXQMs/CiYXMU6wC0LgRIZRSaclZ2DTk9MwbrtewNtzmtbC51Lr/H+zgIsoa410+K9qwnOgm50a4GkBFKk3wTgCe9Kt8IFJZAe3SYAL86uUs9McU6DzR0nIHWd8nuVuwuPbunWXQJuz4z3rrt+6ZZu3SXg9sx475rzK/XMZI4AI5GA/QRYgGW/Q86ABJwnIHXDwU2n0KW39gfg1e6hyfV9G2hxVsSEh0/6DUMnLgu0KZ2Rjgfa7kfZDBZgCTWtnRbvXW104jvSrXhFCSVIvwnhE92ZbkXrSSg5uk0IX1ydpZ6Z4poEGztPQOo65fcqd5ce3dKtuwTcnhnvXXf90i3dukvA7Znx3jXnV+qZyRwBRiIB+wmwAMt+h5wBCThPQOqGg5tOwUvvtZOA/80NJlivI3DF1xET3rB9Lzo+PhlZObmBdmc3yMaJtXL5BCzBqnVS472rQ82OPnRrhyfdLOlXl5z8fnQr35FuhnSrSy7+flLPTPHPhD1cJiB1nfJ7lburjm7p1l0Cbs+M9667fumWbt0l4PbMeO+a8yv1zGSOACORgP0EWIBlv0POgAScJyB1w8FNp+Clt+hTYOSVoQleOx2o1Tpi0je+/yPGLvor0KZ66Vzc2yYbJ5/cC2XKlBE8YaYWDwHeu/HQsqst3drlK95s6TdeYva0p1t7XMWbKd3GS0y/vdQzk/6M2NNFAlLXKb9Xubja8uZEt3TrLgG3Z8Z7112/dEu37hJwe2a8d835lXpmMkeAkUjAfgIswLLfIWdAAs4TkLrh4KZT8NLL2g8MawXsXBdMss3FwFkvREx6zvLN6P/qtyFtbmyejZv69mQBlmDd8abGezdeYva0p1t7XOlkSr861OzoQ7d2eNLJkm51qOn1kXpm0psNe7lKQOo65fcqV1ccC7DcNUu3LrtVc+P3ZXcN0y3dukvA7Znx3jXnV+qZyRwBRiIB+wmwAMt+h5wBCThPQOqGg5tO4Utv2pPAlEeDSZYoBdy+GChXtcjEc3Nz0fOZ6fh9w85Am9ZVcvDhgJNYgCVcdzzp8d6Nh5ZdbenWLl/xZku/8RKzpz3d2uMq3kzpNl5i+u2lnpn0Z8SeLhKQuk75vcrF1ZY3J7qlW3cJuD0z3rvu+qVbunWXgNsz471rzq/UM5M5AoxEAvYTYAGW/Q45AxJwnoDUDQc3ncKX3s4NwDMtgOz9wUS7/x/Q5c6Iib89eyUe+OKXQJt05GLybZ3QoEZl4RNmerES4L0bKyn72tGtfc7iyZh+46FlV1u6tctXPNnSbTy0Emsr9cyU2KzY2zUCUtcpv1e5ttKC86FbunWXgNsz473rrl+6pVt3Cbg9M9675vxKPTOZI8BIJGA/ARZg2e+QMyAB5wlI3XBw02nB0vv8OmDBB8FEK9QGbl0IlChZZPLb9x5Au0cnYc+B7ECbG7o0wMDTWlgwYaYYCwHeu7FQsrMN3drpLdas6TdWUva1o1v7nMWaMd3GSirxdlLPTInPjCO4REDqOuX3KpdWWehc6JZu3SXg9sx477rrl27p1l0Cbs+M9645v1LPTOYIMBIJ2E+ABVj2O+QMSMB5AlI3HNx0WrD0/vwJeOXE0ETPexNoeU7E5Ad9tggffL860KZSmQzMvLs7KpQuunDLAhpM8R8CvHfdXQp0665bNTP6ddcv3dKtuwTMzUzqmckcAUaygYDUdcp/h2xYPXo50q0eNxt60a0NlvRzpF99dtJ70q10Q/r50a0+Oxt60q85S1LPTOYIMBIJ2E+ABVj2O+QMSMB5AlI3HNx0WrL0Xu8FrPkumOxh7YErx0dMfvGf23Ha8BkhbW47qTFuOelISybNNCMR4L3r7vqgW3fdqpnRr7t+6ZZu3SVgbmZSz0zmCDCSDQSkrlP+O2TD6tHLkW71uNnQi25tsKSfI/3qs5Pek26lG9LPj2712dnQ01W/a7bsxsTF63H5CQ2QlpYmQoXUM5MIOEyCBCwhwAIsS0QxTRIozgSkbjhc3XQ6t9Z+Hgl8ekXotK6ZCtRuG3GqV771HSYt3RRoU6FUBmbc3Q2Vy2Y6h6i4TYj3rrvG6dZdt2pm9OuuX7qlW3cJmJuZ1DOTOQKMZAMBqeuU/w7ZsHr0cqRbPW429KJbGyzp50i/+uyk96Rb6Yb086NbfXY29HTJ79+79mPsor8w6qe1mLfqbw//Zzd0xNH1DhGhQuqZSQQcJkEClhBgAZYlopgmCRRnAlI3HC5tOp1eX9kHMVcdkgAAIABJREFUgGGtgB1/BafZ+kLg7JciTnvByo04a8R3yEXwNx+u69oI95za1GlcxWFyvHfdtUy37rpVM6Nfd/3SLd26S8DczKSemcwRYCQbCEhdp/x3yIbVo5cj3epxs6EX3dpgST9H+tVnJ70n3Uo3pJ8f3eqzs6Gn7X73HsjGpCUb8PlPazFt2QYcyM4Nwf6vDvXxnzNbilAh9cwkAg6TIAFLCLAAyxJRTJMEijMBqRsO2zedxWpNTR8CTH4kOOUSmcBti4Hy1YrEoPxe9Pw3+HFzeqBN6ZLpmD6wG6pXKF2s8Lk2Wd67rhkNzodu3XWrZka/7vqlW7p1l4C5mUk9M5kjwEg2EJC6TvnvkA2rRy9HutXjZkMvurXBkn6O9KvPTnpPupVuSD8/utVnZ0NPG/1m5+TiuxWbvaKrcT+vw459WUWirlIuE9/d2wMlSwR/FpQqL1LPTKniwbgkYCMBFmDZaI05k0AxIyB1w2HjprOYLZ3gdHdtAoY2B7L3Bb/W7T6g611FIlF+3xs9AYPnl0BOgadgXdaxAR7s06LYonRh4rx3XbAYfg50665bNTP6ddcv3dKtuwTMzUzqmckcAUaygYDUdcp/h2xYPXo50q0eNxt60a0NlvRzpF99dtJ70q10Q/r50a0+Oxt62uI3NzcXi//ajtHz/8To+WuxfnuBnwcVAbpy2ZI4vVUt3HVyE1Qum5lyHVLPTCkHwwRIwCICLMCySBZTJYHiSkDqhsOWTWdxXTeF5j3qBmD++8Evl68J3PYzUKJkWET5fj9Yno5vNwR/8yGzRDqm3HUi6lQuQ7SWEuC9a6m4GNKm2xggWdyEfi2WFyV1uqVbdwmYm5nUM5M5AoxkAwGp65T/DtmwevRypFs9bjb0olsbLOnnSL/67KT3pFvphvTzo1t9djb0lO537dY9XsHVqJ/WYtn6nVGRZmako2ezGjirbR10bVwN6u9SLqlnJil8mAcJ2ECABVg2WGKOJFDMCUjdcEjfdBbzZVN4+n/OB17pGvr1c18HWp0XFlW+3y37gMcWlAx5L/gFxx2Gx889iogtJcB711JxMaRNtzFAsrgJ/VosL0rqdEu37hIwNzOpZyZzBBjJBgJS1yn/HbJh9ejlSLd63GzoRbc2WNLPkX712UnvSbfSDennR7f67GzoKdHvtt0HMHbRXxg1fy2+/2NLVIxpaUCHhod6RVentKyJiqXD/2J+1IGS3EDqmSnJ0+bwJOAUARZgOaWTkyEBNwlI3XBI3HS6uQJ8nNUbpwCr5wQHrHs8cNXEsAEK+v0+qwHen/u/QLsS6WmYdHtXNKhazsfkOJQpArx3TZE2H4duzTM3GZF+TdI2G4tuzfI2GY1uzdGWemYyR4CRbCAgdZ3ye5UNq0cvR7rV42ZDL7q1wZJ+jvSrz056T7qVbkg/P7rVZ2dDTyl+9x7IxpSlG7yiqylLN2J/dk5UfM1rVcRZbWujT+s6qFmpdNT2qW4g9cyUai6MTwI2EWABlk22mCsJFFMCUjccUjadxXRZ6E37l8+BTy4L7Xv1ZKDOMYXGK+i3bceu6DV8DvYeCG7oz2pTG8MuaKuXB3ullADv3ZTiT2pwuk0q3pQPTr8pV5C0BOg2aWhTPjDdmlMg9cxkjgAj2UBA6jrl9yobVo9ejnSrx82GXnRrgyX9HOlXn530nnQr3ZB+fnSrz86Gnqn0m5OTi+/+2OK9YlA98WrH3qyoyOpULoM+bWrjrDZ10KRmhajtJTWQemaSxIi5kIB0AizAkm6I+ZEACUDqhiOVm04uC00C2VnAs0cB29cGBzjqAuCclwsNeLDfYVNX4uVpKwLt1CNrx93SxboNvCY5p7rx3nVKZ8hk6NZdt2pm9OuuX7qlW3cJmJuZ1DOTOQKMZAMBqeuU/w7ZsHr0cqRbPW429KJbGyzp50i/+uyk96Rb6Yb086NbfXY29EyG39zcXOzen42d+7Ly/rc3C7vy/3tf3n+v3rIbYxf+hT+37Y2KqWLpDJx+VC2v6Oq4BlWQnp4WtY/EBlLPTBJZMScSkEqABVhSzTAvEiCBAAGpG45kbDqp3QCBGUOBSQ8FA6WXBG77BahQIyT4wX735pRA5yeneIeB/OuUFjUx4pLCT88yMAuGSIAA790E4AnvSrfCBSWYHv0mCFBwd7oVLCfB1Og2QYBxdJd6ZopjCmxaDAhIXaf8XuXu4qNbunWXgNsz473rrl+6pVt3Cbg9s6Lu3T827cKfW/d4T6VSBVO79mcF/juksGq/KrLKxs69B7BL/flP29zcxLhllkhH96bVcVbbOujWtBpKZZRIbEABvaWemQSgYQokYA0BFmBZo4qJkkDxJSB1w8EDo6Vrctdm4JnmQFaB35o48V7gxLtDJhTO7zMTl+HZSb+FtPvypk5oVbeSpTCKZ9q8d931TrfuulUzo193/dIt3bpLwNzMpJ6ZzBFgJBsISF2n/HfIhtWjlyPd6nGzoRfd2mBJP0f61WcnvSfdSjeknx/d6rOzoefBflf8vR8PjP4F81b9nZL02zes4j3p6tSWtVCpbMmU5JCsoFLPTMmaL8clARcJsADLRaucEwk4RkDqhoOHCosX2uibgJ/eDU6gfA3g1p+BjMzA18L53b73ALo8OQVbdx8ItOvauBrevuJ4i2EUv9R577rrnG7ddatmRr/u+qVbunWXgLmZST0zmSPASDYQkLpO+e+QDatHL0e61eNmQy+6tcGSfo70q89Oek+6lW5IPz+61WcnomfWfmDfdmDvtrz/ef/9z9/3bceBnZuxetkipGXtwd5sYOvWzaiA3SiHvVieWxtvZp+C2TktkzqVJjUqeE+66tOmNupULpN4rJwcYMlo4M/5QM8Cb0xJfOSERpB6ZkpoUuxMAsWMAAuwiplwTpcEbCQgdcPBQ4WNq+mfnNctAkZ0Cp3AOa8CR/ULfK0ovy9NXY4nxi0N6fvJdR2894rzsoMA7107POlkSbc61OzpQ7/2uIo3U7qNl5g97enWnCupZyZzBBjJBgJS1ym/V9mwevRypFs9bjb0olsbLOnnSL/67KT3pFvphvTzo1t9dknruWM9sHwysP1/IcVUeUVW2wsUXG0HsvYknMaM7JYYknU+FuY20horMyMd5UtleP8rVyoDFbw/S6BprYro07o2mtWqqDVuoU75hVdTnwA2Lsn7+PrZQI0W/oyf4ChSz0wJTovdSaBYEWABVrHSzcmSgJ0EpG44eKiwcz0Fsn7zdGDVzOAk6hwDXD058Pei/O7en4UuT07Fpp37Am2PP7wKPrqmPdLS0iyHUjzS573rrme6ddetmhn9uuuXbunWXQLmZib1zGSOACPZQEDqOuW/QzasHr0c6VaPmw296NYGS/o50q8+O+k96Va6If386Fafna89Ny8Hlo4Flo4B1nwPINfX4WMZbG7ZLhhf4yrsqtAQFUpnoFxmXiGV99//FFjlF1kVLLhSBVhJvcIVXuUHbH4m0O+dpIaPdXCpZ6ZY82c7EiABgAVYXAUkQALiCUjdcPBQIX7pRE5w8RfAx5eEtrlqElD3WO9rkfy+NesPPPjl4pC+7155PDofWc1yKMUjfd677nqmW3fdRvu+7PbM3Z8d7113HdOtObdSz0zmCDCSDQSkrlN+r7Jh9ejlSLd63GzoRbc2WNLPkX712UnvSbfSDennR7f67BLqmZsL/LUgWHS1IfRnFgmNnUjntBJA24uArvcAleokMlLifVXh1eJRwLQng0+8Cjfqjd8D1ZokHi/BEaSemRKcFruTQLEiwAKsYqWbkyUBOwlI3XDwUGHnegpknZ0FDG8DbFsTnEirvsC5r3l/j+R3X1Y2ug2Zij+37Q30bV23EkbdeAKfgmXBsuC9a4EkzRTpVhOcJd3o1xJRGmnSrQY0S7rQrTlRUs9M5ggwkg0EpK5Tfq+yYfXo5Ui3etxs6EW3NljSz5F+9dlJ70m30g3p50e3+uzi7ql+rrF6zj9FV2OBbavjHiJSh9z0ktifUR7r95fC1pwy2J5bFjtQFjtyy2L7P3/WqlEDPY9ujEMz9gKzhgM7/gw/ZIlSQLtrgE63A2Wr+Jpn1MFiLbyq3gI48W6g6RlAepKfwhU1aUDqmSmG1NmEBEjgHwIswOJSIAESEE9A6oaDhwrxSyd6gjOHAd88EGyXngHc+jNQsVbUV119+P1q3PPZopAYr/7rWPRsXiN6XLZIKQHeuynFn9TgdJtUvCkfnH5TriBpCdBt0tCmfGC6NadA6pnJHAFGsoGA1HXK71U2rB69HOlWj5sNvejWBkv6OdKvPjvpPelWuiH9/OhWn11MPQ/sAZZPySu6+vUrYM+WmLohswJQrx1Q9lCgVEWgdCWgdMXQ/y5d+Z+/V8TSrWn4vzG/Y+6qrWHHP7RULh4+pzVOa31Y8HOV2/evAjOeBvaG7+fFPuFmoN31QKnyseWu28rSwqv86Uo9M+nqYD8SKI4EWIBVHK1zziRgGQGpGw4eKixbSOHS3b0FGNocyNoT/LTr3UC3e6MWYB3IzkHPodOwcvPuQN+mNSvgq5s7Iz09zQE47k6B9y7dukvA7Znx3nXXL93SrbsEzM1M6pnJHAFGsoGA1HXKf4dsWD16OdKtHjcbetGtDZb0c6RffXbSe9KtdEP6+dGtPruIPXdtAqYOBuZ/ABzYFVuQctWAJqcBzc4ADu8CZJSK2m/73gN4ZuIyvDNnFbJzcgu1L5WRju41D6BHnVycfkovlClTpvCYe7YCs58Dvn0ROBD8mUlIw3LVga4DgaMvBTIyo+YVVwPLC6/y5yr1zBSXCzYmgWJOgAVYxXwBcPokYAMBqRsOHipsWD0x5PjFzcCPbwcbqgPKbb9gz4EcTJgwwft6r17hDxWjflqLWz+aHxJkeP+26NO6dgyB2SRVBHjvpop88uPSbfIZpzIC/aaSfnJj021y+aZydLo1R1/qmckcAUaygYDUdcrvVTasHr0c6VaPmw296NYGS/o50q8+O+k96Va6If386FafXdieWfuBua8CU58A9m2LPvghDYCmvfOKruoeB6SXiN4HQG5uLkbNX4tHxy7Fpp37wvY5qVl1DOzZCEvmzvA+L+pnJYHOO9YD04cAP7wJ5GSFz6NyfaD7fUDL8xJ/7V+g8OoJYOPSouct7FWDRSUq9cwU04JiIxIgAY8AC7C4EEiABMQTkLrh4KFC/NKJLcH1vwAvdQxte/bL2NP4zKgFWOq3QU59djqWrd8Z6N+wajlMuK0LMkqk/n3hsQEofq1477rrnG7ddatmRr/u+qVbunWXgLmZST0zmSPASDYQkLpO+e+QDatHL0e61eNmQy+6tcGSfo70q89Oek+6lW5IPz+61WdXqOdvE4Fxg4DNv0UetGYroOkZQLPeQPXmQFp8b+VYum477h/1C75fGf51hodVKYMHerfASc1r6P1/cltWAFMGA4s+UaVe4edSoyXQ437gyF5x549YC69UDPXWE1Wgli7/ZzZSz0w+rnAORQLOE2ABlvOKOUESsJ+A1A0HDxX2r63ADN7qDazM+w0O76rVBnsu+RoTJk70/hrptzrG/bwO1733QwiMJ887Cv2OLfAedIdQuTAV3rsuWAw/B7p1162aGf2665du6dZdAuZmJvXMZI4AI9lAQOo65b9DNqwevRzpVo+bDb3o1gZL+jnSrz476T3pVroh/fykuv17137M/H0T5q/ZitIl09H5yGo4tv4hMn95euMyYPy9wO95P5ModKWlA/U65BUSNT0dOKS+lrAdew9g2De/4a3ZK8O+bjAzIx3Xd22E609shNIl856klZDfdYuASf8Bfst720jYS82rxwNA/Q7R55STDSweBUx7MvITrywrvMqfuNQzU3QxbEECJJBPgAVYXAskQALiCUjdcCS06RRPvZgluGQM8NFFIZPed/EYjPsl77c/IhVgqcf09nl+FhatDT4KuE7lMph8Z1eUyojtUb/FjHbKp8t7N+UKkpYA3SYNrYiB6VeEhqQkQbdJwSpiULo1p0HqmckcAUaygYDUdcrvVTasHr0c6VaPmw296NYGS/o50q8+O+k96Va6If38pLg9kJ2Dn1ZvxYzfNmL6so1YuHYbcg96+FKVcpno0bQ6Tm5RE52OrBooMtKffYI992zNKyb6/uWiX9nXqh9w0gNApbrawdTPMUbP/xOPfrUEG3eEf91g96bV8cAZzVH/0HIhcXzxu3IWMOkhYM13Rc/hyJPznohVs2XhNo4XXuVPWOqZSXvhsSMJFEMCLMD6f/bOAzyqovv/302vJJAQQpXeQu8gVaqCKCggSBcbNsTyvupr/fm3V2yAgBRRBESUIiBKld57b6EmJIQkhLTd/T9zA0ludpPdvbk7O3P33OfhAXZn5pzz/Zy7mdmcO+OF0ClkUkA2BUSdcOgy6ZQNhlH9ZZP3L5sB18/lR5jb4H4sCxqo/N/RueZrjyZg9A/bVeq8c18cRravblTFpI6L7l2p8ZXoPLE1LlsWGfE1Ll9iS2yNqwC/yERdM/FTgCzJoICoeUo/h2TIHm0+ElttusnQi9jKQEm7j8RXu3ai9yS2ohPS7p8n2Z5LysC644nYcCwRm08mIS0r1+lAQgJ80aVuefSKq4C76lVARIi/031L3ZD9TmLXLOCfd4GMJPvDVWoB3P0hULVNqcwdvZyG138/gG2n7R83WKVsMN66N++4QXuXbnxZNdyxFXk7YiUcKiYmE9B4ENDtVaBcDcBLCq9uiyHqmqlUCUidSQEvU4AKsLwMOIVLCsiogKgTDt0mnTJCMaLP/04C/no9PzKrjx9WNfgEmQHlHBZgsadHBk/ZjO1nruX3Lx8eiPUvdUNwAO2CJVq60L0rGhH9/CG2+mkp4kjEV0Qq+vhEbPXRUcRRiC0/KqKumfgpQJZkUEDUPKXPKhmyR5uPxFabbjL0IrYyUNLuI/HVrp3oPYmt6IS0+8eTbXpWLjaduIoNx69i/fFEnE3K0O54oZ5+Pia0qxmF3nEV0LNhLGIjgnQZ1+4gpzcAK14Bruy3byOsAtDjLaDJQ4CPj2Y/2HGDX64+jh9KOG7wiS61ML7QcYP2jOnOlxVV7V8IrHkXSCl4KF5l28cfaDIEuLDDkEcNFgdV1DWT5iSkjqSAFypABVheCJ1CJgVkU0DUCYfuk07ZwBjN35vXgM8aAjkFC7ajFfrjSKUHHRZgMSm2nkrCkKlbVKq8ek99PNa5ltGUkj4eunelR1hsAMTWuGxZZMTXuHyJLbE1rgL8IhN1zcRPAbIkgwKi5in9HJIhe7T5SGy16SZDL2IrAyXtPhJf7dqJ3pPYik5Iu3/uZGuxWHHg4nXlSMH1x69i19lryLUUOVewBNeD/X3RpkY55di9Q5dSnQ6yadVIpRirV8NY1I4Jc7pfiQ2vnc17CPzQ7/ab+QYA7Z8COr0ABIZrtpmamYMFO85jyrqTSCjmuMFu9crjrf5xNscN2jPqNr65WcDOWcD6j4Abia7FW6ER0OU/QP1+pSpSc82o+1uLumZyf+RkgRQwjgJUgGUclhQJKWBYBUSdcLht0mlYkhIEtmQCsPOHfEez/MKxKu5z9OjTD8HBwQ4DGDF9q/Lkze2rbIg/1r/cDeFBHLcuduglNaB717g5QGyNy5ZFRnyNy5fYElvjKsAvMlHXTPwUIEsyKCBqntLPIRmyR5uPxFabbjL0IrYyUNLuI/HVrp3oPYmt6IS0+6c328vXM7HheF7B1cbjibiWkeOScw0qlkHnutHoUqc8WlYvi0C/vFMq4pMzsOrQFaw8eBk7ziTD2TquWuVD0TsuFr3iYtGkcgR8fEwu+YOsdGDj58CmrwBzlv2+rJCo17t5x+5pvE4kpGHWprP4ddd5ZGSb7Y5SOTJYKbzq0SAGJpNzcejN18Yxps+W74B/vwSy00qO3qCFV7eDFnXNpDElqRsp4JUKUAGWV2KnoEkBuRQQdcLh9kmnXJiM4W3CYeDbdqpYdlV7FA2G/p9TBVh74lNw/zf/qvpP7FkXz3avYwx9DBIF3bsGAWknDGJrXLYsMuJrXL7EltgaVwF+kYm6ZuKnAFmSQQFR85R+DsmQPdp8JLbadJOhF7GVgZJ2H4mvdu1E70lsRSek3b/Sss3MMWPb6WRllyv2gPPRKw6KcIq4Gh0WgE51yqNTnWh0rBONmHDHxwcmpWfh78MJSjHWhhNXkZ1rcUqA2DJB6NmwglKQ1bZmOfj7lnBEoMUC7F8ArH4TSLtkf/yYhkCf94GaXZ2yX7QR2yFszdEEzNx0RvVweNF2Ab4+eKJLTTzZtTaCA/IK0py9SsvXWTu4kQRs/AzY9r1toZrBC69uayTqmslphtSQFCAFQAVYlASkACkgvAKiTji4TTqFJ2QwB2f1B06vyw8qJfgOBD6zBcEhIU4F+ujsHfjr0JX8tuGBftjwn26IDAlwqj81cr8CdO+6X2NPWSC2nlKej13iy0dnT1ghtp5QnY9NYstHZ2ZF1DUTPwXIkgwKiJqn9FklQ/Zo85HYatNNhl7EVgZK2n0kvtq1E70nsRWdkHb/XGFrtVpxLjkDu8+lgD3QvDs+BYcvpiLb7FwBFPPS39eEVneUQ+e6eUVXDSuWcX1XqkLh3sjKxbpjiVh18DL+PpKAtMxcp8QoE+SH7g1YMVYFtKkRBXYiRv6uUud3Aiv+A5zfbn+s4LLAXf8DWowGfP2csle40fWb7JjBeMzZchZnkzJK7N+lbnm83T8O1aNDXbbDOrjCV5OBop2unwfWfQQc/TNvR7D2TxvuqMHidBJ1zaQLVxqEFPASBagAy0tAU5ikgMwKiDrh4D7plBmiTL4fWQ7MG6ryOOvhPxBYp4tTURy+lIp7Jm2AtdAx9E92rYX/9KnvVH9q5H4F6N51v8aeskBsPaU8H7vEl4/OnrBCbD2hOh+bxJaPzsyKqGsmfgqQJRkUEDVP6bNKhuzR5iOx1aabDL2IrQyUtPtIfLVrJ3pPYis6Ie3+lcT2ekYO9pxPwR6l4Ooa9p6/juQb2S4bq1k+FJ3rlFeOFmxXMwohAa4XLTljlO2EteVUElYduoxVB68gIa2YIwPtDMZ2mWoQfgMT8BO6Zf5t15zV5Au0HgdT1/8CIeWccUnVhh0zyHa7WrTrQrHHDLIOvj4mpTBsVPvqaFOjnNPHDdpziO5dlzFp7iDqmklzQNSRFPBCBagAywuhU8jGUCA1NRXLly/H9u3bsWPHDly4cAGJiYlKJXpkZCQaNmyIe+65B4888giioqJ0D/rSpUto0KABrl+/rozdpUsXrF27Vnc7bEBRJxw06XQLbs8PajEDk5oDKWfzfbFUbAGf0UuAwDCn/Hvm591Ysvdifttgf1+se7mrU1sfO2WAGpVKAbp3SyWf0J2JrdB4Su0c8S21hMIOQGyFRVNqx4htqSV0egBR10xOB0ANvUIBUfOUPquMm37EltgaVwFjR0b3rnH5Elvjs2WbWFVr0g6HE24qO1uxHa5OJd7QFHh4kB861o7O3+WqSlnnTqjQZKyYTux4v73nU7Dy4BVld6xTV4uPJRDZeMT3TzzltxihJvtFW+vNjfFO7gic86mGmDKBiAkPRIUyQcrfMWWC8v99+7XIWztqmdkxg0cSMGtzyccMsjDYLlxD21TD8HZ3oFJksC5y0L2ri4xODSLqmskp56kRKUAKKApQARYlAikgqQKrV69Gz549HXofHR2NH3/8Eb1793bY1pUGDz74IH799df8LlSA1QvBwfpMZl3hQG3dpMCmr4FVr6kHr94JGDYfCHC80DuVmI4en62DpdAuWGPurI43741zk8M0rCsK0ILRFbXkakts5eLlqrfE11XF5GlPbOVh5aqnxNZVxbS3py9ptWtHPfkpIGqe0mcVvxzgbYnY8lacnz1iy09rT1givp5QnY9NYstHZ15W2FGCF1JuKkVWO05dxbqD53A+HcixmjS54GMCmlWNvFVwVR5Nq0TAz9dH01ju6sR2n7pdjMV28sq7rOjtsx2v+c1FNZ9Eu6ZPWyrg/3JH4B9Lc/areafdYztqsUKtXLMVl1MzS+zHjmEcfWd19G9aCUH+vk7bcKYh3bvOqKRPG1HXTPpER6OQAt6hABVgeQdnitKACrACrLFjx6Jbt25o2bIlqlatiooVK8JisSg7Ri1cuBCLFi2C2WxGQECAslNWkyZNdFFiyZIl6N+/P2JiYpCQkKCMSQVYVIClS3KJMkhmKizftIVPWsEuVoprte4CHvoZ8A9y6OlLC/Ziwc7z+e3YYmntS111e+rEoQPUoFgFaMFo3OQgtsZlyyIjvsblS2yJrXEV4BcZfUnLT2uypF0BUfOUfg5pZyp6T2IrOiHt/hFb7drJ0JP4ykBJm4/EVptuovRKz8rFvviU/J2tdp9LwdV054/nKxpHdFiAUnCV96csmlSNQJkgf1HCdejHpcSrOL12Nioem4saOSfstk+zBmNS7gDMNPdBDvQ/MpEdM9gnLlYpvGp1R9lSHTNYUsB07zpMB90aiLpm0i1AGogU8AIFqADLCyBTiMZUgBVW+fqWXMW+ePFiDBgwQBFg4MCBqh2rtKqSnp6uHG8YHx+P2bNnY+TIkcpQVIBFBVhac0rUfpnndsM0+14E5qapXazbBxg8B/ALKNH1+OQM3PXpWuSYC7bBGtqmKt4fqE8hpKi6yeAXLRhloKTNR2KrTTdZehFfWUi57iexdV0zWXoQW36k6EtaflqTJe0KiJqn9FmlnanoPYmt6IS0+0dstWsnQ0/iKwMlbT4SW226ebrXiYR0/PfXfdh57hqshU58cMWvAD8fNKpURim0alYtEs2rRqJK2WC3FQy54pvLbROPATumA3t+BrJu74KlHsUKE/bH9MdvZcfg1M1QXEnNREJaFpJvZLtszl6HcqEBYL9rYMcMVoxw/8ksdO/qgs2pQURdMznlPDUiBUgBRQEqwKK7QEmTAAAgAElEQVREIAUMrkCDBg1w5MgRsKMIExPtb3/qigTPPvssvvrqK2XnrX/++Sd/gkwFWFSA5UoeydCWLSq2LJ6GO0+8jwBzkbPdG/QHHvwB8C35qZU3fj+A2ZvP5ofLnkj5e2IXVI8OlUECw/pIC0bDoqUdkoyLVomM7l3jAia2xNa4CvCLjL6k5ac1WdKugKh5Sj+HtDMVvSexFZ2Qdv+IrXbtZOhJfGWgpM1HYqtNN0/2yjFb0OeL9TiZWOT7cQdO1YgOLbS7VSQaVCwDVoQl7WXOAY4sBbZPB85sKDmMau2BPh8AlZrZtMvOtSAxPQsJqZm4kpqFhLRMJKRm5RdoOSrUiqtUBqM7VMe9bjhmsKSg6N7ll7mirpn4KUCWSAH5FaACLPkZUgSkQIkKtGrVCjt37kRYWBjS0ors5OOidtu2bUP79u3h5+eHffv2oV69elSAtWqVomKvXlSA5WI6Cd/89qIi8sYpdD7zKUzZRe6fxoOAAVMAn+J3omMLps4frUFWriU/3gHNK+PzIbaLL+EFMZCDtGA0EMwioRBb47JlkRFf4/IltsTWuArwi4y+pOWnNVnSroCoeUo/h7QzFb0nsRWdkHb/iK127WToSXxloKTNR29mm5ljxvlrGahaLgSBfiWfbKJNXff0mrHxNN5ZeqjEwSOC/dGkcjhCM6/ijjArRt3bFZWiyrjHId6jXr8A7JwJ7JoNpF8u2XrkHUCPN4G4gYDJVCpPixZqpWXmoF5sOBpXjvDIrmHefO+WCqSGzqKumTSEQl1IAa9VgAqwvBY9Be4NChw+fBiNGzcGO66QFWJt375dc9i5ubnKGHv37sXrr7+Od955RxnLdGsiSTtgUQGW5uQStGPhRUWfhmUROP8hIKfIkz7NhgP9vwJ8in96573lhzF1/an8KNkts3JCZ9StEC5o5MZ3ixaMxmVMbI3LlkVGfI3Ll9gSW+MqwC8y+pKWn9ZkSbsCouYp/RzSzlT0nsRWdELa/SO22rWToSfxlYGSNh+9le2208l45uddyo5HbCeo2WPboHx4oDYROfZix+V1/XgNUjNz8636+ZjQUDlKMFL507xaWVSPCkFmZiZWGeVhdYsFOLUG2DEDOLocsBY8XG0rvwmo0xNo9Uje3yU8rM0Rne6mvPXe1V1IJwYUdc3khOvUhBQgBW4pQAVYlAqkgMEUyMjIwIULF7BkyRJ89NFHuHLlihLhnDlzMHz4cM3RfvDBB3jllVdQq1YtHDhwAEFBQcpYVIBFO2BpTirBO9osKi7vAOY+CORmqj1vNRbo+1mxT7WwhWqnD//BjWxzfr8+cbGYPKKl4AoY1z1aMBJb4ypg7Mjo3jUuX2JLbI2rAL/I6EtaflqTJe0KiJqn9HNIO1PRexJb0Qlp94/YatdOhp7EVwZK2nz0RrbbzyRj1IxtyCj03XDfJhXxzbAW2kTk2Ov1xQcwZ8tZlcWFT7RHq+rlbLwwBNuMZGDP3LzCq+SCB6rtSh4SBTQfAbQaA5StzpGKZ0wZgq9npHPZqqhrJpcDoQ6kgBcrQAVYXgyfQjeOAjNnzsSYMWOKDejFF19UirFuF0u5GvmpU6fQqFEjZeeJlStXKsft3b70KMBiE4qSrkuXLqFNmzZKk2PHjqFKlSquhuCW9uypjvXr1ytjd+7cOb8ozS3GaFDuCtjj63N6LQJ+HQmTOVvlT27LR5HT/Z1ii7AmrTmF79afUS9WH20FdmY7XfwVoHuXv+a8LBJbXkp7xg7x9YzuPKwSWx4qe8YGseWnO1tT1a1bVzEYHx8vzJqJnwJkSQYFRP1lAv1CSYbs0eYjsdWmmwy9iK0MlLT7SHy1ayd6T29ju+NW8VXhB3NvM2K7YHWuW15YZEcvp+HuL9fDYi1w8d6mlfDV0OZ2fZaWrdUKXNgJbJ8GHFgEmLNKZlK1HdB6HNCwP+An/i5meiWYtHz1EoDjOKKumThKQKZIAekVoAIs6RFSAKQAUFwBVrNmzTB58mS0bdu2VDL17NkTq1evxpAhQzBv3jzVWHoUYLlSGDZt2jRER0eXKh7qTAqURoEK13ejzalJ8EHBjlZsvOMxfXGo0mC7RVg3c4F3dvkiw1xw9nuDSAueaFDS9sWl8ZL6kgKkAClACpACpAApQAp4kwJXr17FuHHjlJCpAIs/+XPnzmHSpElYtmwZ2L8DAwNRu3ZtDB48GOPHj0dISIhmp1JTU7F8+XL8/fff2LlzJ9gDUmzn64iICMTFxaFfv34K+8jISKdsJCUlKb4uXrwYZ86cgdVqRY0aNXD//ffj2WefRVRUlFPjaGkk6i8T6BdKWmjK0YfYysFJi5fEVotq8vQhvvKwctVTb2JbUvEV040d27diQmcE+fu6KqPb27P54cgZ27Dh+NV8W0H+Pvj7ha6oHBls1750bLNvAPsX5hVeXd5XsqYBYUCTIQA7CSO2kdv1F9GAdHxFFNFJn0RdMznpPjUjBUgBdnqYlf0kpYsUIAWkViAlJQW3d5FiE6GTJ09i/vz5+O2335QjA7/44gvlS1kt1+zZszFq1CiUKVMGR44cQcWKFVXDUAGWFlWpj+wKVEzZjlanv4EP1AVUR2IH4GjFAXbD++uCCUvPqRfUz8XloiZtgiV7OpD/pAApQAqQAqQAKUAKeFwBKsDyHAJWdPXwww/j+vXrdp2oV6+eUkBVs2ZNl538888/MWDAAGRllfwkfoUKFfDzzz+jW7duJdrYvn077rvvPrBdpu1dlSpVwu+//45WrVq57KszHUT9ZQL9QskZenK2IbZycnPGa2LrjErytiG+8rJz5Lm3sN15Nhkjp2+DvZ2vCms0oUcdTOiRt4utSNfqQ1cwbvYOlUvPdq+DiT2L91UatolHge3Tgb3zgCz78/f8wGMaAq0fySu+CgwXCRF3X6Thy10Z/Q2KumbSP1IakRQwrgJUgGVcthQZKYA5c+YoxVOsSGr69OkYPXq0S6qwL/EbNGgA9vdXX32Fp59+2qa/HgVYdAShS1ioMScFHB2Z43voN/gvGQ8T1HXMOV1eQ267Z2y8zMg2o9ekTUi6kZP/Xus7IjFrVHPNx4NyksJwZhyxNVzAXhQQsTU2bOJrXL7EltgaVwF+kdERhPy0Lmxp79696NChg7IjVVhYGF555RWlCIr9goLtHv39998rzevXrw9W/MTauHL9+OOPGDFiBHx8fMB2pu7Tpw+aNm2q7HbFmM+dOxe//PKLMiTbZevff/8F2wnb3nXhwgW0bNkSV65cgZ+fHyZOnJj/oNbSpUvx2WefITc3F6yYi+20VblyZVdcdaqtqL9MoF8oOYVPykbEVkpsTjlNbJ2SSdpGxFdadA4d9wa2O89ew6gZ25CelavSo0eDGCTfyMaucyn5rwf4+WDVhM6oHh3qUDteDbJzLej9xXqcvnoj32RsmSD882IXhAT4FeuGsGzZHiTX44H4bcDOmcCZDSVL6eMPxN0PtHoEqNbO7mkXvFiIZEdYviKJpJMvoq6ZdAqPhiEFvEIBKsDyCswUpDcrwI4NZLthhYaGKkdRlC1b1mk5Ro4cqRRxsadft27dqnzpW/TSowDLkUOiTjho0umInNzvO8V391zg9/G2gfb5AGj3pM3rMzaexjtLD6le//GRtuhYh47V5JktTrHl6RDZ0k0BYqublEIORHyFxKKLU8RWFxmFHITY8sMi6pqJnwKescSKrdauXasUNK1fvx7t27dXOfLxxx/j5ZdfVl57++238cYbb7jkKCuuWrNmDV599VVUq1bNbl/2sBQ7OpBdd911l3JUob2LPZA1a9Ys5S32HcGgQYNUzRYsWKAcmciuMWPGYMaMGS756kxjUfOUPqucoSdnG2IrJzdnvCa2zqgkbxviKy87R54bne2uc9eUna+KFl91rx+Db4e3wMmEG7j3640wWwoe6O1UJxqzx7YR5gHdaRtO4d1lh1UoPx/SFAOaVykRr8fZskKrtEtAwiEg4QiQeBhIOAywHa+y0x2lJhBRDWg1Bmg+Aggr77i9l7XwOF8v0lvUNZMXIaBQSYFSK0AFWKWWkAYgBcRW4KefflKOQ2AXezp22LBhTjl88eLF/Cde2RfGzZs3t9tv6NChyutsp6zbXybXqFEDbdu2dcqOM41EnXDQpNMZevK2cZrvjhnA0udtA+37Wd4WxYWuzBwzun2yFpeuZ+a/2rRqJBaP7yDMIlteYs577jRb54ekloIoQGwFAeEmN4ivm4QVYFhiKwAEN7lAbN0krJ1hRV0z8VOAvyW2o1WbNm0Uw48//jgmT55s44TFYkGjRo1w+PBh5WEotvuUv7+/7s62bt0aO3bsUB6aSkhIQFRUlMoGs8t2tDKbzejduzdWrFhh1we2w9bKlSvh6+sLtmMW2w1Lz0vUPKXPKj0pizUWsRWLh57eEFs91RRvLOIrHhO9PDIy2923iq/Siux8dVf9GHw3vAUC/XwVGf9v6SFM33haJek3w1qgb5OKesmseZyk9Cx0/WQt0jILdu9qVjUSi57sAB8fU4njcmPLCq1uJNoWWrGiK0dHCtpEYALq9ARajwNq9wB88hjRZasAN74kvrLTcdWqVRUl2KYaVaqUXPxIkpECpIB4ClABlnhMyCNSQFcF/vrrL/Tq1UsZ87333lOORHDmOnPmDFghlZaLHXs4c+ZMLV3t9hF1wkGTTt0QCzmQS3y3fAes+K9tHPd9AzQfrnr9523n8Mqi/arXpo5oiV5xsULqYESnXGJrRAEMHBOxNTBcQDnOadWqVUqQbG4THBxs7IC9KDpia1zYxJYfW1HXTPwU4G/ptddeU9bY7NqyZUuxDyF98MEH+etw9nOMHSWo9/XSSy/hk08+UYZlhWFsF+vCFzsK8bHHHlNeYkcjsp2y7V3svdsPWU2dOhWPPvqorq6Kmqf0WaUrZqEGI7ZC4dDVGWKrq5zCDUZ8hUOim0NGZbsnPgUjpm2Fo+IrJiTbHavHp+twObXgAd0KZQKxemIXhAfpX6jvCrxXf9uPn7aeU3VZNL4DWlRzfKqKW9jeSCq0k9WRvB2t2J+bya6EZds2JApoMRJoORooW710Y3lJb7fw9RLtXA1T1DWTq3FQe1LAmxWgAixvpk+xe4UCrBCKHR/ArkmTJuGZZ55xKm4qwHIsE006HWskcwuX+W78HFj9VpGQTcDA74EmBcd75Jgt6PHZOpxNyshvW61cCFZO6IzgAHrKhkfOuMyWh1NkQxcFiK0uMgo7CPEVFk2pHSO2pZZQ2AGILT809CUtP61vW+rcuTM2bNiA0NBQpKSkKMcQ2rs2b96MDh06KG+xXaPZUYR6X+wIQnYUIbt27tyJFi1aqEyMHDkSc+bMUV67dOkSYmPtP/zB3qtUqZLSjvW5fWShXv6Kmqf0WaUXYfHGIbbiMdHLI2Krl5JijkN8xeSih1dGZLs3PgXDp29V7RrFtOpWrzwmj2iZv/NVYf2W77+E8XN3qSQde2cNvHFvQz1k1jTG4Uup6DtpAwqdjoj7m1XCFw/ZPxmlqBHNbLPSgLQreccHJp0AElmh1a1jBG8kaIrFbqegCKBSc6DZcKBhf8AvUL+xvWAkzXy9QBu9QxR1zaR3nDQeKWBkBagAy8h0KTZSAEDfvn2xfPlyRYs1a9aga9euuupiMuVtPdulSxesXbtW17FvDybqhIMmnW7BLcygmviu/QBY+746BpMvMOgHoOF9+a//tvs8nv9lr6rdE11q4b931xcmfiM7oomtkQUxUGzE1kAw7YRCfI3Ll9gSW+MqwC8yUddM/BTgb6l8+fK4evUqmjZtij179hTrwLVr11CuXDnl/UGDBmH+/Pm6O8t82Ldvn1IElpSUhDJlyqhs3D6iMCIiQikWK+libVJTU8H6bNu2TVdfRc1T+jmkK2ahBiO2QuHQ1Rliq6ucwg1GfIVDoptDRmNbXPFVl7rlMWVESwT523/Y1mq1YvQP27HuWGK+tuyEvyXPdERcpQhteufcBK5fAPyDgcAwICDM6SP1mD8PT9uKTSeT8m0H+/vinxe7oGKEc7uPq9j27IlgUzaQdhlIv5xXYKX8fetPOiu4uvXvnBva4i2uF4u7fH0ghv1peOvfDYDwisCt32Xpa9A7RjPavSsyNVHXTCJrRr6RAqIpQAVYohEhf0gBJxVgO1s99NBDCAoKKrbH559/jokTJyrvV69eHcePH1c9lVt4d6w333wTb71VdPcex85QARYdheQ4S+RsoWlRwc6g//ttgO2GVfjy8QOGzAXq9VFetVisGDxlM3acvZbfytfHhKXPdESDiupflsipnthea2Irdkjk3S0FiK2xU4H4GpcvsSW2xlWAX2T0JS0/rZmlzMzM/KNw2UNPS5cuLdGBsLAw3LhxA+3atQPbEUvPa9myZejXr58yZHG+sB2vrly5gri4OBw4cKBE840aNcLBgweVXbLYjliuXCwPS7rYeG3atFGaHDt2DFWqVHFleLe1ZTzXr1+vjM92Nivpexa3OUEDu0UBYusWWYUYlNgKgcFtThBft0nr8YGNxPbAxVSMnb3H5tjBTrXL4ashje3ufFUYwNnkDPT/dhuyzZb8l5tWKYOfxraEj4uFQj4nVyNg2bMwFTmaz8qKsQLCYWVFSQFhsAaEAoFF/h8QjqMpwOzd13DDGox0BCPdGoR7W9XGQx3qwhoYnlfM5RsAsO++bybDdCMBpvQrMKVfhik9AaYbV2C5fglpl44jKCcFIeZUmMxZbs03q18wrNF1YImuB2t0PVii6yt/W8tUoUIrNyhvpHvXDfLoOiRbU9WtW1cZMz4+Xpg1k65B0mCkgMEVoAIsgwOm8IyrACuoSktLwwMPPICOHTuiVq1aYF/qstf279+PuXPn4t9//1UECAgIAPtStkePHipBqACrdPlBvywsnX6i99bMly1EV74KbPlWHSJbpA6dB9Turrx+/Eoa7pm0ATlma367ZlUj8euTHcCKsehynwKa2brPJRpZJwWIrU5CCjoM8RUUjA5uEVsdRBR0CGLLDwwVYPHTmllKTExETEyMYnTIkCGYN29eiQ5UqFABCQkJYMVNbL2u15WcnKwcN3j27Fn4+vpi+/btaN7c9pgYdkxiRkYG2rZtiy1btpRonrVhO1/d/n7BFV9vP6DlTJ9p06YhOjramabUhhQgBUgBUoAUIAVIAaEUiE8Hvjnki5tm9Xe49SMsGFffAn8f59xdEW/Cn+fVu2QNqWlGhwoF3xc7Gqlq0kY0OzcNPigo5HLUR8v7ZpMfTLDCx2rW0l1zH2Y3PagSUoMqI439Ca6i/DsjoDxgclJozdapIynAXwG2y/K4ceMUw1SAxV9/skgK6KEAFWDpoSKNQQp4QAFWgMW+ZHV0sSdKZ8yYgZ49e9o0pQIsR+qV/D79Qql0+oneu1R8WRHWsheAHdPVYfoFAw8vAGp0Ul7/dNVRfPXPCVWbt/vHYVSH6qLLI7V/pWIrdeTGd57YGpsx8TUuX2JLbI2rAL/IqACLn9a3vwivVq2aYnTEiBGYPXt2iQ6wtuzLc/bg1IkT6vm/Vs/NZrOy89WKFSuUIUra1ZoVZ1ksFnTq1Cl/p6fi7LIdoDZs2KAUdOXm5rrkHhVguSQXNSYFSAFSgBQgBUgBCRVgxVffHvJFRimLr1jouRbgg72+SMwsKOQK8bXiteZmhPk7FqdWwp9odOFnxw0laJHjE4ybAeWUIqvUoCpIC2YFV1VwIzAGVpP9oxwlCItcJAVcVoAKsFyWjDqQAsIpQAVYwiEhh0gB5xQ4efIkVq9ejTVr1uDw4cPKcQJJSUnKVvns6dpmzZopX8YOHjwYISEhdgelAizntC6uFf2ysHT6id671HwtFuCPZ4A9P6pD9Q8FRvwGVGuLzBwz7v5yA05fLTjrPizQD39N7IyKEcGiSyStf6VmK23kxnec2BqbMfE1Ll9iS2yNqwC/yKgAi5/WzJIIO2A9/vjjmDp1qhI4O3rw999/V4qm7F28dsCiIwj55iFZc6wAHZfjWCNZWxBbWck55zfxdU4nGVvJzvbQpTSMnb0b1zPVReodapbFNw81QZC/64VC/55Mxrgf96hwDmgWi/fua1g8YqsVfuvehf/Wb4RPA2tQJKxhFWANrQBrWEzev8NigdDb/2bvxQDseES6hFVA9ntXWGHtOEZHEMpEi3wlBewrQAVYlBmkACkgvAKi/jKBflkofOqUykFd+FrMwKLHgAML1b4ElgFGLgYqt8Smk1cx7Putqvd7NayAqSNblcp/6ly8ArqwJYGFVIDYColFN6eIr25SCjcQsRUOiW4OEVvdpHQ4kKhrJoeOS9qA/QIiODjvgQlW/LR06dISI2HH+d24cQPt2rXD5s2bSx31K6+8gg8++EAZp2PHjli1alW+P/YGj42NVR7aiouLw4EDB0q0z45JPHjwIFifS5culdrXwgOImqf0WaUrZqEGI7ZC4dDVGWKrq5zCDUZ8hUOim0Mysz148ToenrYVKRk5Kj061o7GtFGtNBVf3R7o6Z92Yek+9bxr/uPt0aZGOVvtzbnAkudsH/plLds/DXR+EchKB7LT8/7OSi34t/Jaav77u47HIzEpCWG4iVDTTYQhE9XCLAgwZwBZaQBKOAoxJBoIj837ExaLnOAoHI5PRqZ/JJre2RuBUdWAsAqAf5Bu+UMDeU4Bme9dz6mmzbKoayZt0VAvUsA7FaACLO/kTlGTAlIpIOqEgyadUqWRy87qxpctiheOAQ7/ofYhKBIYtQSo2AQvLdiLBTvPq96fMqIlesfFuuw3dXCsgG5sHZuiFpwVILacBedsjvhyFpyjOWLLUWzOpogtP8FFXTPxU4C/pfLly4MdD9G0aVPs2aPetaCwN9euXUO5cnm/PBs0aBDmz59fKmc//PBD/Pe//1XGaNGiBf755x9ERESUOGarVq2wc+dOpV1KSkqJbVmb1NRUtG7dGtu2bSuVr0U7i5qn9FmlK2ahBiO2QuHQ1Rliq6ucwg1GfIVDoptDsrItrvjqztpRmDayNYIDXN/5qrCoV1Iz0f3TdUjPKthZq26FMCx7thP8fX0KmubcBBaOBY4ut2XS8x3gzuecZnXgwnXc+/VGWAvVWA1sURmfDW6WNwY73SEnQ13IxQqy2O5VYTGAr/qMRFnZOi2YlzckvvwSQNQ1Ez8FyBIpIL8CVIAlP0OKgBQwvAKiTjho0mns1NOVb242MH8EcGyFWrSQKGD0MlwLrYXun61D8o3s/PdjywQpRxGGB6kXs8ZWnU90urLl4zJZcVIBYuukUJI2I76SgnPCbWLrhEiSNiG2/MCJumbipwB/S507d8aGDRvAjvdjRU1+fn52nWA7XnXo0EF574033sDbb7+t2dlvv/0WTz31lNK/QYMGWL9+PaKjox2ON3LkSMyZM0dpx3a1Yrtb2bvYe5UqVVLeYn1mzZrlcGxXGoiap/RZ5QpFudoSW7l4ueItsXVFLfnaEl/5mDnrsYxsD11MxbBpW2x2vupQKwrTR5W++Oq2dj/8expvLzmkkvK/d9fHE11q5b12MwX4+SHgXJHdVE2+QP9JQPPhzmKA1WrFQ1O3YOvp5Pw+IQG+WPNiV1Qoo23HKhnZOi0YNQTx5ZcEoq6Z+ClAlkgB+RWgAiz5GVIEpIDhFRB1wkGTTmOnnu58czKBeUOBk/+ohWNbMT/yF34744vnf9mrem9U+zvw9n2NjC20B6LTna0HYiCT9hUgtsbODOJrXL7EltgaVwF+kYm6ZuKnAH9Lr776Kt5//33F8JYtW9C2bVu7TrCjAtmRgexauXIlevXqpclZVkA1atQo5RdmNWvWVIq/bhdLORpw6tSpePzxx5Vm8+bNw5AhQ+x2Ye8NHTpUeW/KlCl47LHHHA3t0vui5in9HHIJo1SNia1UuFxylti6JJd0jYmvdMicdlg2tocvpWLY91twrcixg+1rRmHGaP2Kr5iAuWYL7vvmXxy8mJqvZ7C/L1a/0AWVfa8DcwYCCQfVWvsFAQ/+ANS/x2kGrOGf+y/hybm7VH1e7FUXT99Vx6VxCjeWja3mQL20I/HlB17UNRM/BcgSKSC/AlSAJT9DioAUMLwCok44aNJp7NRzC9/sDOCnwcCZDWrx6t4N69CfMXLGNmw4fjX/PZMJWPRkBzSvVtbYYnOOzi1sOcdA5uwrQGyNnRnE17h8iS2xNa4C/CITdc3ETwH+ltjxfLeLrlhx0+TJk22csFgsaNSoEQ4fPozIyEgkJCTA39/1HW4XLVqEwYMHw2w2o0qVKkrxVfXq1Z0O+vLly6hcuTKYP71798aKFUV25r01Up8+fZQiMR8fH1y4cKHYnbKcNlykoah5Sj+HtBIVvx+xFZ+RVg+JrVbl5OhHfOXgpMVLmdgeucyKr7aqTixgMberWU4pvgoJsL/7qRZdbvfZfe4aBn63SXUs4PA6OXg37XUg5Zx66MAIYNg84I68nVadvTJzzOjx2Tqcv3Yzv0vlyGD8/UIXBPlrP0pRJrbOakXtChQgvvyyQdQ1Ez8FyBIpIL8CVIAlP0OKgBQwvAKiTjho0mns1HMb36x04MeBQPxWtYBP/Iuz/jXQ6/P1yMq15L9XPzYcS57pCH9fH2MLzjE6t7HlGAOZsq8AsTV2ZhBf4/IltsTWuArwi0zUNRM/BTxj6fYxhOz4QXYcYPv27VWOfPzxx3j55ZeV195880289dZbqvdnzpyJMWPGFPs+e2PVqlW49957kZ2djZiYGMVOvXr1XA648DGECxYswIMPPqgag73GirzYxXbaYr7pfYmap/RzSG/S4oxHbMVhobcnxFZvRcUaj/iKxUNPb2RhW1zxVdsa5fDDGPcUX93W+dXf9uOnrXnFVnGm05gV8CGiTQW7YilvhMUCw38FYl0/OeHbtSfw0YqjKqxfD2uOfk3yjqHWesnCVmt83t6P+PLLAFHXTPwUIEukgHkF8qcAACAASURBVPwKUAGW/AwpAlLA8AqIOuGgSaexU8+tfG+mAJOaAzeTC0Rs9ADw4Ax8t/YkPlxxRCXuf/rUx5NdaxlbcI7RuZUtxzjIlK0CxNbYWUF8jcuX2BJb4yrALzJR10z8FPCMpd27d+POO+8E+xwLCwsDO5awW7duyv/ZcX7s6D921a1bFzt27EB4eLjKUUcFWOxow+7duyMjI0PZOYu1b9KkSYnBsh2y2G5bRa/4+Hi0bNkSiYmJYAVjL7zwAvr166c0W7p0KT799FPk5uaifPny2LVrl7LTlt6XqHlKP4f0Ji3OeMRWHBZ6e0Js9VZUrPGIr1g89PRGWLaX9wObvgLObUFauTg8daYj1meodxttU6McZrq5+IppfT0jB3d9uhZ1b+7GVP/PEG4q2KlKYVGuJjDiN6Cs87uh3maYkJqJbp+sxY1scz7W1tXLYv7j7WFiRzGU4hKWbSlioq4FChBfftkg6pqJnwJkiRSQXwEqwJKfIUVAChheAVEnHDTpNHbquZ3vuo+ANf+vQESTD/D0DuRE1sC9X23Ekctp+e8F+ftg1YQuqBYVYmzROUXndrac4iAztgoQW2NnBfE1Ll9iS2yNqwC/yERdM/FTwHOWlixZguHDhyM1tcjOBLdcYsVXy5YtQ+3atW2cdFSAxXbMevvtt10K7ocffsDo0aPt9tm6dSvuv/9+sCMJ7V2xsbFYvHhx/tGKLhl2orGoeUo/h5yAJ2kTYispOCfcJrZOiCRxE+IrMTwHrgvF1moFzm4CNn4OnPjLxvMN5kb4OncAtlrro031KGXnq9BA/Y8dtCfZliXT0XzHywg05arfrtgUePhXIKy8piR5acFeLNh5Pr8vq7n646mOaFwlQtN4hTsJxbbU0dAARRUgvvxyQtQ1Ez8FyBIpIL8CVIAlP0OKgBQwvAKiTjho0mns1HM735vXgM8bA9kFhVZoPhy47xvsPncNA7/bBPY9wO2rU51ozB7bptRPIxmbmnPRuZ2tc25QKzcoQGzdIKpAQxJfgWDo7Aqx1VlQgYYjtvxgiLpm4qeAZy2dPXsWX375pVJoxVgEBAQoBVeDBg3C008/jZAQ+w9S8C7AYipdvXpV8ZUVWp05c0YRrkaNGrjvvvswYcIEREVFuU1MUfOUPqvchtzjAxNbjyNwmwPE1m3SCjEw8RUCg1ucEIKtxQIc+zOv8Or8dodxHvaPQ42BbyGofk+glLtEOTTGGmyfDuuyF2BCoS+GAWyyxKHCYwtRq4q2owL3n7+O/t9sVH3fPKhlFXw8qKlTbjlqJARbR07S+5oVIL6apXO5o6hrJpcDoQ6kgBcrQAVYXgyfQicFZFFA1AkHTTplySBtfnLh+9ebwL9fFDjo4wc8uweIrIo3fz+AWZvPqpz/Ykgz3N+8sraAqFe+AlzYkt4eUYDYekR2bkaJLzepuRsittwl52aQ2HKTWin6qVq1qmKQHTXnjuPj+EVDloyqgKh5Sp9VRs04KMeBrlq1SgmwV69eCA4ONm6wXhYZsTU2cOJrXL4eZWvOAfYvADZ+AVw96rrIlZoDnV8C6t4N+Pi43t9RD/YkLjsxYe17Ni2Xmdvg+Zyn0KJmBfz8aDuXH9C1Wq0YPGUztp+5lj92aIAv1rzUFTHhQY48c+p9j7J1ykNqVBoFiG9p1HOtr6hrJteioNakgHcrQAVY3s2foicFpFBA1AkHTTqlSB/NTnLhm54AfNEYyM0s8LPN48A9HyEtMwc9P1uPy6kF70WFBmD1xC4oGxqgOS7qSF/CGzkHuNy3RhZQ8NiIr+CASuEesS2FeIJ3Jbb8AIm6ZuKnAFmSQQFR85Q+q2TIHm0+ElttusnQi9jKQEm7j8RXu3ai9/QI2+wbwK7ZwKavgdSC4/eKapVkDcef5jbo5bsTMaaU4qWMaQh0egGIGwD4+OojOduV68+Xge3f24z3Y253vJE7BhbkFX19PqQpBjSv4pLdpfsu4umfdqv6vNynHsZ3tT0i26WBCzX2CFutzlI/lxUgvi5LprmDqGsmzQFRR1LACxWgAiwvhE4hkwKyKSDqhIMmnbJlkmv+cuO7/GVg25QC5/yCgAn7gbAYrDx4GY/P2alyXM+toV1TxDitubE1jmTSREJspUGlyVHiq0k2KToRWykwaXKS2GqSTVMnUddMmoKhToZVQNQ8pc8qw6Yc7YBlXLTE1sBsWWj0uWxcwFzZZiQD26YCWycDNwt2fiqq7nlrNKbm9sV8c1dkIhCByMaL5bfhEdPv8Em9UDyMcrXyCrGaDAZ8/bVDy80GfnscOLjIZoycji+j6/Z2uHC94AHd6LAA/D2xKyJCnLOZmWNG90/X4ULKzfzxq5YLxl/Pd0GQv04FZHTfaucvSU+u964kmrjLTVHXTO6Kl8YlBYyoABVgGZEqxUQKGEwBUSccNOk0WKIVCYcb3+vngS+bApbcAg/unAD0fFv5/2Ozd2DVoSsq79hW0+1rRRkbgBuj48bWjTHQ0PYVILbGzgzia1y+xJbYGlcBfpGJumbipwBZkkEBUfOUfg7JkD3afCS22nSToRexlYGSdh+Jr3btRO/JhS37rnXzN8DOmUBORrGSHLFUxeTce7HU0g658Mtv171+DL54qBnC/azAvl+ADZ8C104XL21ENaDjc0Cz4YC/i8f5ZaUBv4wATq0pMr4JuOdjoM2j+OvQFTw6e4fq/eHtquHd+xs7hfurv4/j07+Oqdp+93AL3N24olP9nW3Eha2zzlA73RUgvrpLWuyAoq6Z+ClAlkgB+RWgAiz5GVIEpIDhFRB1wkGTTmOnHle+vz8F7P6xQNCAcOD5/UBwWVy6flM5ijA9q6BAq2Z0KJY/10nXp5SMTVMdHVe23iSsALESWwEguNEF4utGcT08NLH1MAA3mie2bhS3yNCirpn4KUCWZFBA1DylzyoZskebj8RWm24y9CK2MlDS7iPx1a6d6D3dyjbhCPDvl8D++eoHXYuIcsC3IT692RdrLM0AmPLfDQ3wxev9GmJI66owmQpehzkXOPgbsOETIPFI8RKHxQJ3Pgu0HA0EhDpGceMqMHcQcHGXuq2PPzBwCtDogfzXx83agdWHCx7QZe4tHn8nmlaNLNHOldRMdP14LW7mmPPbta1RDvMea6eO0bG3Dlu4la1D69TA3QoQX3crXDC+qGsmfgqQJVJAfgWoAEt+hhQBKWB4BUSdcNCk09ipx5Vv0kng61aA1VIgatdXga7/Uf4/a9MZvPnHQZXgz95VGxN71TM2BDdFx5Wtm2KgYe0rQGyNnRnE17h8iS2xNa4C/CITdc3ETwGyJIMCouYp/RySIXu0+UhstekmQy9iKwMl7T4SX+3aid7TLWzjtwMbPweOLisx/NPlOuGVhLuwJdf2+9TW1cvi00HNUC0qpPgxLJY8G+s/Bi7tLb5dSBTQ/img9aNAUBn77VLOAXMGAknH1e/7hwIP/QjUukv1enxyBnp+vg6ZOQXfHTeuHIHFT90JX59CxWJFrE2cvweLdhUco8gKt5Y83RGNKkfonipuYau7lzSgVgWIr1blXO8n6prJ9UioByngvQpQAZb3sqfISQFpFBB1wkGTTmlSSJOj3PkuHAsc+LXA1+CywIQDQGAYzBYrHvhuE/bEp+S/7+9rwvJnO6FOhXBN8XlzJ+5svVlszrETW86CczZHfDkLztEcseUoNmdTxJaf4KKumfgpQJZkUEDUPKXPKhmyR5uPxFabbjL0IrYyUNLuI/HVrp3oPXVja7UCJ/7OK7w6u7H4sE2+SK97P/6XeBcWXyxr0y7A1wcv9KqLcZ1qlljIpOqo2F4NrPsIOL+teNtBEUCbx4F2TwIh5QraJRzOK75Ku6juywq3Hl4AVG5pd8xv157ARyuOqt57u38cRnWobrc9+x75/m/+Vb33UOuq+OCBJm5JE93YusU7GrS0ChDf0irofH9R10zOR0AtSQFSgAqwKAdIAVJAeAVEnXDQpFP41CmVg9z5Xj4ATL5T7XOvd4EOzyivHb6Uinu/2ohcizW/DXs665fH2sOnhCedSiWCQTtzZ2tQHUUMi9iKSEU/n4ivflqKNhKxFY2Ifv4QW/20dDSSqGsmR37T+96lgKh5Sp9Vxs1DYktsjauAsSOje9e4fEvNlh0HeGgxsPEL4Mr+4oXyC4K1+Qj8FjwQr61JVR3Bd7tTg4pl8PmQpqgfW8wuVY4wsEKsMxvydsQ6vb741mxXq9aPAO2fBq6dAX4aDGQWPGSrdIyoBoxYBETXKXac7FwL+k7agOMJ6fltwgP98PcLXRBTJkjVz2rNe5h317kCO2GBfljzYleUDw90FJmm90vNVpNV6sRLAeLLS2lA1DUTPwXIEikgvwJUgCU/Q4qAFDC8AqJOOGjSaezU8wjfnx4Cjv1ZIGxYBeC5fYB/3iL6gz+PYPK6kyrh3xvQGMPaVjM2DJ2j8whbnWOg4ewrQGyNnRnE17h8iS2xNa4C/CITdc3ETwGyJIMCouYp/RySIXu0+UhstekmQy9iKwMl7T4SX+3aid5TM9vUS8CBhcD2aXlFTMVdyq5TjyGhwSi8+OclrD+WaNOSPcf6ZNdaeK57XQT4+egjWfw2YP0nwPGVxY/nd6tIKjdT3aZ8g7ziqzKVHPqy5VQSHpq6RdWuf9NKmDS0ueq13/dcwHPz9qhee+Xu+ni8Sy2HNrQ20MxWq0Hqx1UB4stPblHXTPwUIEukgPwKUAGW/AwpAlLA8AqIOuGgSaexU88jfM/vAKZ1Vwvb91Og9TjltZvZZvT6Yh3ik2/mtwkP8sPfE22fdDI2ndJF5xG2pXOZejupALF1UihJmxFfScE54TaxdUIkSZsQW37gRF0z8VOALMmggKh5Sp9VMmSPNh+JrTbdZOhFbGWgpN1H4qtdO9F7usQ2Kw04vBTY9wtweh1gtRQfXnjFvB2mWo7C74dT8friA0jNzLVpXz0qBJ8OboaWd9geR6iLdpf25hViHf7DueGqtgWGzlMfUeig58Rf9mDR7guqVj8+0hYd60Tnf39816drcel6QaHXHVEhWPV8ZwT6+Trnl4ZWLrHVMD518awCxJef/qKumfgpQJZIAfkVoAIs+RlSBKSA4RUQdcJBk05jp57H+M7qn/elwu2LbUH97C7A1195hT25NXLGNpX4fZtUxDfDWhgbiI7ReYytjjHQUPYVILbGzgzia1y+xJbYGlcBfpGJumbipwBZkkEBUfOUfg7JkD3afCS22nSToRexlYGSdh+Jr3btRO/pkC07YvDUmryiK1Z8lVvwEKrd2KJqA3dOAJoMxrUsE17//QCW7rtkt+nwdtXw6j0NEBLg536ZEg4DGz7L27WruMKxOr2BQTOBgBCX/LmanoW7PlmrKjCrGR2KPyd0Ugqsvlh9DF+sPq4ac8qIlugdF+uSHVcbO2Tr6oDUXigFiC8/HKKumfgpQJZIAfkVoAIs+RlSBKSA4RUQdcJBk05jp57H+J5eD8y6Vy3u/ZOBZkPzX5swbzcW77moavPD6NboVj/G2FB0is5jbHXyn4YpXgFia+zsIL7G5Utsia1xFeAXmahrJn4KkCUZFBA1T+nnkAzZo81HYqtNNxl6EVsZKGn3kfhq1070nnbZWq3Axd3Avvl5BUs3bI8NtImrUgug4/NA/b6Ajy/WHE3AfxbuQ0Jalk3TCmUC8dGDTdGlbnn+8iSdBP79AtjzM2DJKbDfdCjQ/6v8B25ddezHLWfxv8UHVN1e6FkXD7aqgm6frEVmTsFuYR1qRWHuuLYwmUyumnGpPd23LsklXWPiyw+ZqGsmfgqQJVJAfgWoAEt+hhQBKWB4BUSdcNCk09ip5zG+7EuH6b2A84V2uYquC4zfCvj4KKKzJ516fLYOKRkFC/fKkcHKVtKhgRye4pIcvcfYSq6bDO4TWxkoafeR+GrXTvSexFZ0Qtr9I7batXO1p6hrJlfjoPbGVkDUPKXPKuPmHbEltsZVwNiRiXzvHrmcisvXM3Fn7Wj4++Z9T0eX8woUZtu7bX0EHfsjr/Dq6jHHgwSEAw37A82GAXfcCZhMuJGVi/+3/DB+2nrObv/+TSvhnfviEBkS4Hh8d7ZIiQe2TQXYzlgN+gHNR+Z/z6vFrMVixYDvNmFvfEp+90A/H7SpUQ4bjl/Nf83HBCx7thMaVCyjxYxLfUS+b10KhBrbVYD48ksMUddM/BQgS6SA/ApQAZb8DCkCUsDwCog64aBJp7FTz6N8j64Afh6iFnjQLCDu/vzX5u+Ix8sL96najOtYA//r19DYYHSIzqNsdfCfhiheAWJr7OwgvsblS2yJrXEV4BeZqGsmfgqQJRkUEDVP6eeQDNmjzUdiq003GXoRWxkoafdRVL5frj6Oz1fnFQrVqxCOWWPbIDYiSHugXtjz5rVLOLroQ1RN/hdRN5woujL5ArV7AE2HAHXvVh3Xt+NMMibO34tzyRk2SkYE++Pd+xvh3qaVDKvygQvX0f/rjbBYiw9xWNtqeG9AYy4aiHrfcgneC4wQX36QRV0z8VOALJEC8itABVjyM6QISAHDKyDqhIMmncZOPY/yZbtgTe4EXNlfIHJsE+Dx9crTXeyyWq0Y+v0WbDmVnN+GPdX0x9Md0ahyhLHhlDI6j7Itpe/UvWQFiK2xM4T4GpcvsSW2xlWAX2Sirpn4KUCWZFBA1Dyln0MyZI82H4mtNt1k6EVsZaCk3UcR+U5edxIf/HlEFVS1ciHK0W5Vy4VoD9YbeuZmAcdXAft+gfXYSpjM2Y6jrtwSaDIEiBsIhKmPDszKNeOL1ccxZd1Ju8VHXeuVx4cPNEGFMsYvjnvrj4OYuemMXT3Dg/yw9sWuiAoLdKy3Di1EvG91CIuGuKUA8eWXCqKumfgpQJZIAfkVoAIs+RlSBKSA4RUQdcJBk05jp57H+R5YBCwcoxZ52AKgbq/8104lpqPPlxuQnWvJf61x5Qj8Nr4D/Ggb9GIT1ONsjX3reDQ6YutR+d1unPi6XWKPGSC2HpPe7YaJrdslzjcg6pqJnwJkSQYFRM1T+qySIXu0+UhstekmQy9iKwMl7T6KxvfHLWfxv8UH7AZUMSJIKcKqWT5Me8BG7MkeLj23RSm6wsHfgMyCo/KKDbds9byiq8aDgejadpsdvpSK53/ZgyOX02zeD/b3xf/6NcCwNtVguvUAqxGlLRxTamYOun+6DolpWTah/q9vA4zrVJObBKLdt9wC9xJDxJcfaFHXTPwUIEukgPwKUAGW/AwpAlLA8AqIOuGgSaexU8/jfC1m4Js2QNKJAqGrtgXGrszfBYu9Menv4/jsL/WW3bwX2LJlgsfZyiaYRP4SW4lgaXCV+GoQTZIuxFYSUBrcJLYaRNPYRdQ1k8ZwqJtBFRA1T+mzyqAJB4DYElvjKmDsyES6d3/bfV455o7VExV3RYcFKkVY9WLDjQ3GmeiuHs8rumJ/Us457hEUCTQaCDR5CKjaRvWdZ+HO12/mYPrG05i89iSyzQUPot5u0/KOsvh0UFNUjw51bNNgLf7YexHP/rxbFVWN6FCsnNAZAX4+3KIV6b7lFrQXGSK+/GCLumbipwBZIgXkV4AKsORnSBGQAoZXQNQJB006jZ16QvDd/SPw+1NqoUcvA6p3zH+N7X7Vd9IGHE9Iz38tJMAXq57vjCplaQt0e1kqBFtj3z4ei47Yekx6LoaJLxeZPWKE2HpEdi5GiS0XmRUjoq6Z+ClAlmRQQNQ8pc8qGbJHm4/EVptuMvQitjJQ0u6jKHxXHryM8XN3wWxRV1/FhAciociOQ2VD/DHnkbZoVDlCe+Ay98y8Dix7Adi/wGEUZpMfrkQ0R9RdTyGwYV/AL6DYPsk3sjF94ynM3nQWaVm5Nu38fU2Y2LMeHutcE74+Joe2jdjAarVi5Ixt2HD8an5400e1QvcGFbiGK8p9yzVoLzJGfPnBFnXNxE8BskQKyK8AFWDJz5AiIAUMr4CoEw6adBo79YTga84BJjUHrscXiF2zGzBysUr87WeSMWjyZtVrd9WPAVtse8uW265koxBsXXGY2jqtALF1WiopGxJfKbE55TSxdUomKRsRW37YRF0z8VOALMmggKh5Sp9VMmSPNh+JrTbdZOhFbGWgpN1HEfhuOJ6IR2busNlt6bnudTDmzupKwcu+89dVQYYH+WHmmDZguzF51XVxD7BgNHDtdMlh33EnshsMxF8XQpDrF4pevXohODjYbp+EtEx8v/4UftxyDjdzzHbb1I8Nx2eDm6FhpTJeJbe9YFMysvHa4gM4mZCOh9tWw4j21blrIsJ9yz1oLzJIfPnBFnXNxE8BskQKyK8AFWDJz5AiIAUMr4CoEw6adBo79YThu+17YPmLarEf/Qeo3FL12iuL9uPnbeqtvb8Z1gJ9m1Q0NigN0QnDVoPv1KVkBYitsTOE+BqXL7EltsZVgF9koq6Z+ClAlmRQQNQ8pZ9DMmSPNh+JrTbdZOhFbGWgpN1HT/PdcSYZI6Zvsyn8eaRjDfyvbwPlYcfUzByM/WE7dpy9pgqU7Uo/bVQrdKgVrV0AWXqycxl3TAdWvAKYs+17HV0PaDoEaDwIiKzm8GjYiyk3MWXdSfy8PR5s1397l8kEPN65Fp7vWQeBfr6yqGV4Pz193xpeYA8HSHz5ARB1zcRPAbJECsivABVgyc+QIiAFDK+AqBMOmnQaO/WE4ZtzE/iiCXAjoUDwen2BoT+pAFy/mYMen61DYqEt0MuHB2L1xC6ICPY3NiwXoxOGrYt+U3PHChBbxxrJ3IL4ykyvZN+JLbE1rgL8IhN1zcRPAbIkgwKi5in9HJIhe7T5SGy16SZDL2IrAyXtPnqS74EL1zF06hab4+4eal0V7w9srNppPiM7F4/O3oF/TySpgg3088GUES3RtV6MdhFE75mZCix5Dji4yNbToAig2cNAkyFAxaYAq5i6dRXH9lxSBr5bdwILd55Hjll95OPtvmyYexpXxNPdaqNBRdr1SrQU8eR9K5oWRvSH+PKjKuqaiZ8CZIkUkF8BKsCSnyFFQAoYXgFRJxw06TR26gnF998vgb/eUAv+5CagQpzqtaX7LuLpn3arXhvWthreG9DY2LBcjE4oti76Ts1LVoDYGjtDiK9x+RJbYmtcBfhFJuqaiZ8CZEkGBUTNU/o5JEP2aPOR2GrTTYZexFYGStp99BTfEwlpGDxlC5JvqHdz6tekIr58qDl8fQoKiW5Hl5ljxvi5u/DPkUIPTgLw9zXhq6Et0KdRrHYhRO15eT8wfxSQfNLWwyptgAdnAJFV7XpflO2FNDO+XXsCv++5CLPFfuEV0/2+ppUwvlst1I4JF1UVr/fLU/et1wvPSQDiy0loAKKumfgpQJZIAfkVoAIs+RlSBKSA4RUQdcJBk05jp55QfLPSgM8bAZkpBaKzrbsfmKaCYLVa8cisHTZf+rCn7nrHGfALH40pKBRbjTFQN/sKEFtjZwbxNS5fYktsjasAv8hEXTPxU4AsyaCAqHlKP4dkyB5tPhJbbbrJ0IvYykBJu4+e4BufnIEHJ2/CldQslePd68dg8oiW8Pf1KTYgdlTehF92Y/n+y6o2rHDos8FNcV+zytrFEKknO3Jw50zgz/8AZrVOipvtnwZ6vAX4Fr8T/222F28A+8yVsOJQAtiw9i5WxPZAiyp4smst3BEVKpIS5IsdBTxx3xIIfgoQX35ai7pm4qcAWSIF5FeACrDkZ0gRkAKGV0DUCQdNOo2desLxXfM+sO6DAtFNPsDTO4CoWioQ569loOdn63Ezx5z/up+PSXlSr2+TisaG5mR0wrF10m9q5lgBYutYI5lbEF+Z6ZXsO7EltsZVgF9koq6Z+ClAlmRQQNQ8pZ9DMmSPNh+JrTbdZOhFbGWgpN1H3nyvpGZi0OTNOJecoXK6fc0o/DCmNYL8fR0Gk2u24OWF+7Bo9wVVW3Zs3ocDm2Bwa/s7QjkcWJQGWenA0gnA/gW2HrEjB++fDNS/x6G3209ewTsLt2H/teIL2gL8fDC0dVU81qUWKkcGOxyTGoihAO/7VoyovccL4suPtahrJn4KkCVSQH4FqABLfoYUASlgeAVEnXDQpNPYqScc34xk4IvGQHZ6gfAtRgL9v7IBMW3DKby77LDqdbZL+ieDmmJgiyrGBudEdMKxdcJnauKcAsTWOZ1kbUV8ZSXn2G9i61gjWVsQW37kRF0z8VOALMmggKh5Sp9VMmSPNh+JrTbdZOhFbGWgpN1HnnzZcYNDpmzG8YRC37cBaFY1Ej+Oa4uwQD+nA7FYrHht8QH8vO2cTZ+3+8dhVIfqTo8lVMMrB/OOHEw6butW5ZbAgz8AZe8o0eWdZ5Mx6e8TWHcssdh2wf6+GN6uGh7tVBMxZYKEkoCccawAz/vWsTfUQm8FiK/eihY/nqhrJn4KkCVSQH4FqABLfoYUASlgeAVEnXDQpNPYqSck31WvA5smFQjv4w88tweIUBdVsS98Xlm0H7/siFdBYk/d/b/7G2NY22rGhucgOiHZejUR/YIntvppKeJIxFdEKvr4RGz10VHEUYgtPyqirpn4KUCWZFBA1DylzyoZskebj8RWm24y9CK2MlDS7iMvvqmZOXj4+63Yf+G6ytn6seGY91g7RIYEuByE1WrFO0sP4Yd/z9j0/e/d9fFEF/VO9i4b4NmBnQ24ew6w/CUgN9PWcrvxQI+3AT/7OjEtNp9Mwlf/nMDmU0nFes6K3EZ1uANj76yBqLBAnhGSLR0V4HXf6ugyDeWCAsTXBbFK2VTUNVMpw6LupIBXKUAFWF6Fm4IlBeRUQNQJB0065cwnZ70Wkm/albxdsMxZBWG0fQK4+0ObsFgR1ltLDmL25rM2773RryHGdqzhrBSGayckW8Op7JmAiK1ndOdllfjyUpq/HWLLX3NeFoktL6UBUddM/BQgSzIoIGqe0meVDNmjzUdiq003GXoRWxkoafeRI7X+YwAAIABJREFUB9+b2WaMnLEV289cUzlaIzoU8x9vj/Lh2guBWOHRJ6uO4ps1J21EeK57HUzoUQcm9pSkyFf2DWDpRGDfPFsvA9mRg98ADe61GwGLf+2xRHz9zwnsPKvWt3CHiCA/jO1YE6M7VEdEiL/IapBvTijA4751wg1q4iYFiK+bhLUzrKhrJn4KkCVSQH4FqABLfoYUASlgeAVEnXDQpNPYqScs32UvANunFYjvFwxM2A+ElbcBwr7weP/PI5i6/pTNey/3qYfxXWsbG2Ix0QnL1itp6Bs0sdVXT9FGI76iEdHPH2Krn5aijURs+RERdc3ETwGyJIMCouYpfVbJkD3afCS22nSToRexlYGSdh/dzTcr14xxs3Zgw/GrKicrRwZj/hPtwf7W4/r6n+P4ZNUxm6Ee61wTr9xd3yNFWJk5ZrCdv2AFLFb2lzXvb6sVbMMr9sf36hGUX/EYAq7ZHjl4s3wTxHf/Ftnh1ZS2FtYPt/62AhdTbirfQxbdVaywCGF+VnSrZMGbw7ohOjJcD6lpDAEUcPd9K0CIXu0C8eWHX9Q1Ez8FyBIpIL8CVIAlP0OKgBQwvAKiTjho0mns1BOWb8o5YFJzwJJbAKDjRKDHm3aBsC9QPl99HJP+tv3S5NnudfC8DE/d6ZxqwrLVOU5vHI7YGps68TUuX2JLbI2rAL/IRF0z8VOALMmggKh5Sj+HZMgebT4SW226ydCL2MpASbuP7uSba7bg6Z92Y8XByyoHo8MCseCJ9mA7YOl5Td94Gv+39JDNkCPa3YG3+8fBx8f9O2ElpGZi5aErWHXwsnIkYC6ruCrmesBnPf7P/weEmArtvn+r7Q+5vfF+7jBkQ9tuVTHhgRjboRqirh1GgC/Qq1cvBAfrU+ymJzMaS5sC7rxvtXlEvfRUgPjqqWbJY4m6ZuKnAFkiBeRXgAqw5GdIEZAChldA1AkHTTqNnXpC8108HtgztwBAYJm8XbCCI4uF8u3aE/hoxVGb9x/vXBP/9dBTd57KIKHZekoUg9gltgYBWUwYxNe4fIktsTWuAvwiE3XNxE8BsiSDAqLmKf0ckiF7tPlIbLXpJkMvYisDJe0+uouvxWLFiwv3YtGuCyrnIoL98cvj7VA/tox2p0voOXfrWfxv8QFlx6jC14Mtq+DDB5rA1w1FWGeTbmDlwctYceAydsen2Ngu6m4QsvCO30wM9ltnE0mqNRj/yXkMf1raatKH7Sj2RNdaGNSyCqy52Vi1apUyDhVgaZJT2E7uum+FDdjLHCO+/ICLumbipwBZIgXkV4AKsORnSBGQAoZXQNQJB006jZ16QvO9ehz4ujWU/cJvX93+B3R5qUQoMzaexjt2nrob2f4OvHUvn6fuRMgaodmKIJDEPhBbieE54TrxdUIkSZsQW0nBOeE2sXVCJJ2aiLpm0ik8GsYgCoiap/RZZZAEsxMGsSW2xlXA2JG5495lO8S/+cdBzN58ViVeaIAv5j7aDs2qFv9Qox5qL9p1Hi8u2Ksc91f46tekIj4f0gz+vj6lMsPiO3olTSm4Yn+OXE5zerxapgv41v9L1PM5b9PngKU6nsp5FmetsU6Pd7th9agQjO9WGwOaV86Pzx1sXXaMOrhFAWLrFlmFGZT48kMh6pqJnwJkiRSQXwEqwJKfIUVAChheAVEnHDTpNHbqCc93/ijg0OICCMHl8nbBCgwrEcxPW8/htcX7bZ58G9KqKt4b2NgtT92JlinCsxVNMIn8IbYSwdLgKvHVIJokXYitJKA0uElsNYimsYuoayaN4VA3gyogap7SZ5VBEw4AsSW2xlXA2JG54979aMURfLv2pEq4QD8fzBzTBu1rRXERdNm+S3hu3m6bIwB7NqyAr4c1R6Cfr0t+sB299pxPwUpWdHXwMs4mZbjUnzW+32cj/p//dITaOXJwTm4PvJs7HFkIUMY1mQB2YKKPyZT3b/b3rf+zTbyU/5uAOjFhGNWhOvo2rgi/IoVl7mDrctDUwS0KEFu3yCrMoMSXHwpR10z8FCBLpID8ClABlvwMKQJSwPAKiDrhoEmnsVNPeL6X9gFTOqkh9H4PaP+UQzC/7jyPlxbaPnV3X7NK+HRQU5svRxwOKFkD4dlKpqdI7hJbkWjo7wvx1V9TUUYktqKQ0N8PYqu/psWNKOqaiZ8CZEkGBUTNU/qskiF7tPlIbLXpJkMvYisDJe0+6s3327Un8NGKoyqH/HxMmDqyJe6qX0G7oxp6/n34Cp6cuwvZuRZV7051ojF1RCsEB5RchJVjtmDrqWTleEH2JyEtyykvwgP90K1+DPo0ikWr6mXhb85C6D+vImDfjzb9rQFhMPf9EtZGA/OKrW4XX7HqqlJeerMtpTvUXUcFiK2OYgo4FPHlB0XUNRM/BcgSKSC/AlSAJT9DioAUMLwCok44aNJp7NSTgu/cwcDxlQUgwisCz+0F/AIdwlm67yImzNtj89Td3Y1i8eVDzRHgV7qtzx064MEGUrD1oD4ymya2MtNz7DvxdayRrC2IrazkHPtNbB1rpFcLUddMesVH4xhDAVHzlD6rjJFf9qIgtsTWuAoYOzI97905m8/g9d8PqgRjuzVNGtoc/ZpU8oiQG49fxaOzd+Bmjlllv02NcpgxujXCAv1Ur2fmmLH+WCJWHryC1Yev4PrNHKf8jgoNANtdq3ejWHSoFVWww9bV4wDbWT9BrYsyaIXGwOBZQFQtp2y42khPtq7apvbuVYDYuldfT49OfPkREHXNxE8BskQKyK8AFWDJz5AiIAUMr4CoEw6adBo79aTgG78NmN5TDaLf50CrsU7BWXXwMp7+aTeyzeqn7u6qH4NvH26BIH/Xtj53yqgAjaRgK4BOMrpAbGWk5rzPxNd5rWRrSWxlI+a8v8TWea1K21LUNVNp46L+xlJA1Dylzypj5VnhaIgtsTWuAsaOTK97l+0A/8KCvTZiffRAEwxuXdWjIm4/k4wxP2xHelauyo9mVSMxa0wbmHyANUcSsOLAZaw9mmhTrFWc85Ujg9E7Lha94yqgVfVy8GXVZoWv/QuBJc8B2em2Q7QcDfT5APAPdps2erF1m4M0sGYFiK1m6aToSHz5YRJ1zcRPAbJECsivABVgyc+QIiAFDK+AqBMOmnQaO/Wk4TuzH3BmQwGMyDuAZ3YBvuqn5Yqjte5YIh6bvQNZRbY+71g7WtmKPSTAuXFkygZp2MokqiC+EltBQLjJDeLrJmEFGJbYCgDBTS4QWzcJa2dYUddM/BQgSzIoIGqe0meVDNmjzUdiq003GXoRW89TYkfhsdIeP1/9d1DXg++KA5cwfu4uWKxqrV7v1xCPdKzheQEB7I1PwcgZ22x2tIoJD8S1jGzkmIs4X4zXtWPC0EcpuopFo8plYCp8VODNFODMRuDU2rw/ScdtR/EPBe79EmgyyO266MHW7U6SAU0KEFtNsknTifjyQyXqmomfAmSJFJBfASrAkp8hRUAKGF4BUSccNOk0dupJw/fkGmDO/WoYA6YATR9yGtDmk0l4ZNZ2ZGQX2fq8ejlMH90K4UH+To8lQ0Np2MogpmA+ElvBgOjsDvHVWVCBhiO2AsHQ2RViq7OgJQwn6pqJnwJkSQYFRM1T+qySIXu0+UhstekmQy9i61lKS/ddxNtLDiH5Rjaeuas2JvSoq6tDpeXLHjYcN2u7TQHTxJ518Wz3Orr6WtrBDl1MxYjpW5F0I9uloZpUibi101UsWAFW/pWbBbAd828XXF3cBVjVO9+rDMXE5R05GM1Hl9KydUkkasxVAWLLVW7uxogvP8lFXTPxU4AskQLyK0AFWPIzpAhIAcMrIOqEgyadxk49afharcC07sCFnQVAousB47cAPs4/hbjzbDJGz9iOtGK2Po8IMU4RljRsjX2LuSU6YusWWYUZlPgKg0J3R4it7pIKMyCx5YdC1DUTPwXIkgwKiJqn9FklQ/Zo85HYatNNhl7E1nOUZmw8jXeWHlI58PWw5ujXpJJuTmnmm56IpEUvIPnkTpyxVMBuSy3ssdbGfktNDO3cCK/cXV+9O5RuHpduoBMJaXh42lZcSc0qdiB2kmDr6uXQp1EsesXFgh01qFwWC3DlQEHB1dlNQO5N5xxqPgK4+yMgIMS59jq00sxWB9s0hHsVILbu1dfToxNffgREXTPxU4AskQLyK0AFWPIzpAhIAcMrIOqEgyadxk49qfgeWQ7MG6oGMngO0LC/S5D2n7+OETO2IiUjR9WvYcUymPNIG0SFBbo0nqiNpWIrqoiC+kVsBQWjk1vEVychBRyG2AoIRSeXiK1OQjoxjKhrJidcpyZepICoeUqfVcZNQmJLbI2rAP/IrFYrPl55FN+uPWljvGyIP1Y93wXlw/X53kjTvZt2GTen3YPg67b+scMSTdF1YarSCqjcMu9PhTjAV5yHDc8m3cCw77fiQkpB8VSArw/urB2lFF31aFCh4Hu5lHMFBVen1gEZV11LiLBYoOc7QNMhrvXTobUmtjrYpSHcrwCxdb/GnrRAfPmpL+qaiZ8CZIkUkF8BKsCSnyFFQAoYXgFRJxw06TR26knFlz3tNrkjkHCwAErFpsBj6wCTySVQhy/lbX1+NV299XmdmDDMHdcWMWWCXBpPxMZSsRVRQIF9IrYCw9HBNeKrg4iCDkFsBQWjg1vEVgcRnRxC1DWTk+5TMy9RQNQ8pc8q4yYgsSW2xlWAb2S5Zgte++0AftkRX6zhng0rYOqIlrrsMOXqvWu9fh5pU+5GmYxzzgvjFwyw786UoqwWQOVWQGQ1l79Hc96g45ZX07Pw/fpTSM3MRftaUehWrzzCg/yBjGTgzIaCoqvkU44HK9zCNxC4oz1Qs2ven9gmgI+va2Po1NpVtjqZpWE4KEBsOYjsQRPEl5/4oq6Z+ClAlkgB+RWgAiz5GVIEpIDhFRB1wkGTTmOnnnR89y8Efn1EDeXhX4E6PVwGdSIhHQ9P22Kz9XmN6FClCKvS7W3OXR5ZjA7SsRVDNim8ILZSYNLsJPHVLJ3wHYmt8Ig0O0hsNUvnckdR10wuB0IdDK2AqHlKn1XGTTtiS2yNqwC/yDJzzHjm593469AVh0Y/H9IUA5pXcdjOUQNX7t2sq2eQPuVuROVcdDSs4/dDy+cVYlW5tUtWpRZAcKTjfnq3yMkE4rcUFFxd3APA6oIVU15x2e2Cq2rtAP9bRxa6MIo7mrrC1h32aUz3KUBs3aetCCMTX34URF0z8VOALJEC8itABVjyM6QISAHDKyDqhIMmncZOPen4WszA162Awk/BVWsPjF2hCZS9rc/ZQFXKBuPnR9uharn/z955gElRpP//O7M5kJckOQcBUclRQBEFE1EEJRgwgOlvOPXO8DtPPfXMIioikgRETGRUECSIREHJWSTHDWyc+T89i7vbbJienu6aqp7vPM89dzdT9b5vfT7VTddsTXe8qbgydFLOrQzQFKmBbhURZbJM+jUJToFudKuAJJMl0q1JcCa6ybpmMjEUdnEwAVnnKc9Vzp10dEu3ziUgZmRnz2fh7s/WYs2+U7qEbhfwYrey+Hb1H1idVhVA7t3XS8dGYvGjXVE5yLunGz12TxzYBs/EG1DJc0xX3x5PFewt0xbdSh2E+8hmwJNlHlhSw9xNWdpdsrS7ZVVuVvSjC3OygaxUIDMNyEoDMlMv+m/t/aI+v/j9FODYViA7PbCay9XJ33BVpwsQXz6w/oJaG3UrqBymsZAA3VoIU8JQ9CtOiqxrJnEEmIkE1CfADVjqO+QISMDxBGS94OBFp7OnnpJ+108Cvh2jFzNiPlCrgylZh86cx20fr8b+k2m6/lVKx2La3W1Rt2Kiqbih7qSk21BDUyQ/3SoiymSZ9GsSnALd6FYBSSZLpFuT4Ex0k3XNZGIo7OJgArLOU56rnDvp6JZunUvA/pEdPZeOYRPWYNuRZF2yhEgP5jb5HrV3TQK8HizIaY3RWWOQjUhfO+2xeROGtw7qUYRGjt3fN69H0pf9URkndfXt8lyCxa3H457eHRCh7RTLzgC0TVh/rgUOrQMOrdX/eDFQlJGxQPl6QE6mfoOV9v9FvuIrAHW6Xth01RUoV1tkdtO5jLg1HZwdQ0qAbkOK3/bk9Gs74rwEsq6ZxBFgJhJQnwA3YKnvkCMgAccTkPWCgxedzp56SvrNzgTeuRw492e+nHo9gNtnm5alfeE2ZPwv0B5LWPCVlBjjexxhoyqlTMcOVUcl3YYKlmJ56VYxYQGWS78BAlOoOd0qJCvAUuk2QGBBNJd1zRTEkNjVgQRknac8Vzlwsl0YEt3SrXMJ2DuyPcdTcMeENfjz9HldotqxKfi28niUPrpG9/647D54Jfu2vPde7d8CA1vVMF2kv2N3/pKfcMXSYajsOq3LscNbAwf6fI6rWzcvOXfaqQubsdZd2Ji1Fjivj2W6eLs6RsYBtdoDdbvlbrrS7sTldtuVzba4/tzalpiBbSdAt7YjDmkC+hWHX9Y1kzgCzEQC6hPgBiz1HXIEJOB4ArJecPCi09lTT1m/v3wIzH9CL2fobKB+D9PCTqRk4PZP1mDr4XO6GOXiozD5zrZoVq2M6dih6Kis21DAUiwn3SomLMBy6TdAYAo1p1uFZAVYKt0GCCyI5rKumYIYErs6kICs85TnKgdOtgtDolu6dS4B+0a2+c+zGP7pGpxM1d/RqUfCXoyLeQdRaUeLTH535qNY7Gnl+6xUTCQWPtIFl5SNM1VoccduVo4HH34xB4O2PoCKLv13VDtcdYDbv0bDuibuBOX15t4V69D63DtkaXfLOvJb7l2uQvVyuYFLLs9/rGD1NkBUbKiqsSwvz8uWoZQuEN1Kp8TSgujXUpwlBpN1zSSOADORgPoEuAFLfYccAQk4noCsFxy86HT21FPWb2Ya8FZzIO1EvqCIaOCWD4FmfU1LO5OW6bv1/KY/z+pilI6NxLejO6F2UoLp2KI7KutWNCgF89GtgtICKJl+A4ClWFO6VUxYAOXSbQCwgmwq65opyGGxu8MIyDpPea5y2EQrMBy6pVvnErBnZD/vPIFRk9ciNTOnQAIvHin9Ex7M/hQuT1axic9549E78z846K3sa9O5QRImjWxj6lGERR27J1My8N+Js/Dk8SdRwaV/LOKeqAYoP2ouyibl5rbkpT268OgW4M8Ljy3UNmWd2m08tCsCiE4AouKB6HggKuHCf2v/38/7CRWBmm2BuHLG8ynSkudlRUSZKJNuTUBTqAv9ipMl65pJHAFmIgH1CXADlvoOOQIScDwBWS84eNHp7KmntN8VbwOLn71IkAvo9TLQ7j7T4s6lZ2Hkp79i7X79bdlb1iiLWfe2R2SEGrc+V9qtaXvh0ZFune2Zfp3rl27p1rkExI1M1jWTOALMpAIBWecp/x1SYfaYq5FuzXFToRfdWm/pu01/4dGZG5GV480LHosMfFB6ErplLimcMLYMkK7/kd4WT230y3weGYj2tf/PLc0wpG2tgIu92O/uU5l447OZeCPjOZR1peri/ZlwKarcPxeRCQI2K2mPLvxrA5ByDIiKK3kjlfZjSJcr4LE7vQOPXecaplvnutVGRr/i/Mq6ZhJHgJlIQH0C3IClvkOOgAQcT0DWCw5edDp76intNycbmHkHsH1uYUkdxgBX/x/gNrdZKjUjG3dPWouVu0/qYj98dQM8fHVDJSaF0m6VIBy6Iuk2dOxFZKZfEZRDk4NuQ8NdRFa6FUE5N4esayZxBJhJBQKyzlOeq1SYPeZqpFtz3FToRbfWWvps5T48/93v0J7E9/erhusopiS+i1pZewonq3sV0G8CMP8JYMss3efTsrvj6ey7fO/FR0dg4cNdUKN8fEAFF/SbWbUFZn77HT6JeBmlXWm6OCfLtUSFUd8BsaUDis/GoSPAYzd07O3OTLd2Ew5tfPoVx1/WNZM4AsxEAuoT4AYs9R1yBCTgeAKyXnDwotPZU095v9omrPmPA2snFBbVrD9w81ggMsaUxLTMbPR+52fsPZH/q8MIt8t3F6zLawr4xaGpqvM7Ke82yPE7uTvdOtkuf23nZLs8dp1rl27FuZV1zSSOADOpQEDWecpzlQqzx1yNdGuOmwq96NYaS16vF28u3oF3ftylC3iVewPGxn6AeE9K4USdHgW6/xNwRwAZKcDH3YET23XtHs28F7M9XXzvtatbHtPuage32/jdoDS/8xcuwpz9bpw9shMTo19FKdd5XY6UKm2ROGI2EJNoDQxGEUKAx64QzCFJQrchwS4sKf0KQ80fV4lDzUwkYBsBbsCyDS0DkwAJWEWAX9JaRZJxAiHgiEWF9tPF5a8DP75YeOh1ugCDpgDaLeNNvDYePIN+H6xEjif/55G1K8Rj7oOdkRATaSKiuC6OcCsOl1KZ6FYpXQEXS78BI1OmA90qoyrgQuk2YGSmO8i6ZjI9IHZ0JAFZ5ynPVY6cbr5B0S3dOpdA8CPTvs/559db8PmaA3nBXPDgwYiv8FDUbLhR4HZYWovoUsAtHwBNbtAnP7YN+LgbkJV/d6rz3mjcnPl/2O6t6Wv7wo2XYliH2oaLPnzqHIZ/+BPKnNuOT6NfRYIrQ9c3s2ZnRA+dkfsIQL6UIsDzslK6AiqWbgPCpVxj+hWnTNY1kzgCzEQC6hPgBiz1HXIEJOB4ArJecPCi09lTz1F+N0wFvh0DeHP00io3A4bMAkpXNSXz7e934s3vd+j6Dm5TEy/3bW4qnqhOjnIrCpoieehWEVEmy6Rfk+AU6Ea3CkgyWSLdmgRnopusayYTQ2EXBxOQdZ7yXOXcSUe3dOtcAsGNLD0rBw9N34CFvx/NC1QaKXgz6gP0iNhQOHjFxrk/4ktqUHTi32YCs+/WfbbbUxU3Zr6IVMQhLioC8x/qjNpJ/jdMbT+SjLs+W4MaZ9fik6jXEefK1MX11O0B9+CpQFRccBDYOyQEeF4OCXYhSelWCOaQJaFfcehlXTOJI8BMJKA+AW7AUt8hR0ACjicg6wUHLzqdPfUc53fn98DMO4Cs/McG+gyWqZG7CatS44CFZud4MODDVdhw4Iyu78d3tMI1TSsHHE9UB8e5FQVOgTx0q4CkIEqk3yDgSd6VbiUXFER5dBsEvAC7yrpmCnAYbO5wArLOU56rnDvx6JZunUvA/MjOpWfh7s/W4pe9p/KCNHYdwLjoN1Hblb8hK+/DpjcDN73v/1F/cx4B1k7QFTYnpx1GZ40B4ELr2uUw/Z72iCjhUYQLthzGozM3oVX2enwU9QZiXVn6gTbsBQz4DIiKNQ+APUNKgOflkOK3NTnd2oo35MHpV5wCWddM4ggwEwmoT4AbsNR3yBGQgOMJyHrBwYtOZ089R/o9tB6YNhBIPa6Xpz2GcPAMoFb7gKXuP5mK695ejrTM/LtrVUiIxoKHu6BiqZiA44no4Ei3IsApkINuFZAURIn0GwQ8ybvSreSCgiiPboOAF2BXWddMAQ6DzR1OQNZ5ynOVcyce3dKtcwmYG9mx5HQMm/Arth4+lxfgJvfPeCVqfKE7TcEVAVzzAtB+NOBy+U+YlQ5MuBY4vFHX9rmsYfgs51rfe//s3QR3da5bKJbH4/XdYf3dH3ehu3s9Poh6CzGubH27xn2A/p8CkdH+a2ELaQnwvCytmqALo9ugEUodgH7F6ZF1zSSOADORgPoEuAFLfYccAQk4noCsFxy86HT21HOs31N7gSn9gFO79QIjYoB+44GmNwYsdsavB/Dkl5t1/bo3roRPhrWCy8iXdAFnDK6DY90Gh8URvenWERqLHQT9Otcv3dKtcwmIG5msayZxBJhJBQKyzlP+O6TC7DFXI92a46ZCL7oN3JL2A7rbP1mDA6fSfJ2jkI2nI6diROTCwsHik4ABnwJ1ugSW6PQ+4MMuQPrZvH6Z3ggMzHwOG731ERPpxryHOqNexcS8z5PTs/DIjI34fusx9HT/ivei3kG0K/9Hfr6G2l24tO+sIqICq4etpSPAY1c6JZYVRLeWoZQyEP2K0yLrmkkcAWYiAfUJcAOW+g45AhJwPAFZLzh40ensqedov6kncu+EdWjdRRJdwHWvAm3vCUiu1+vFqMnrsOgP/a3qX7y5GYa2qxVQLBGNHe1WBECJc9CtxHIsKI1+LYAoaQi6lVSMBWXRrQUQDYaQdc1ksHw2CxMCss5TnqucOwHplm6dSyCwkW05dBbDP12DEymZvo4VcRpjo99Ga/eOwoGqtQIGTgLKVAssyd+tt88HPr9V1/eQtwJ6Z7yEMyiFljXK4sv7OvgeRbj7eArumbQWu4+n4jr3L3gn6j1EXbT5KrtpX0T2+xiIiDRXD3tJRYDnZal0WFoM3VqKU7pg9CtOiaxrJnEEmIkE1CfADVjqO+QISMDxBGS94OBFp7OnnuP9ZqYCs0YCOxYUFtnpEaDHc8ZuMX+h98mUDFz71nKcSMnIixcb5cbcB/W/bJRh1jjerQyQQ1QD3YYIvKC09CsIdAjS0G0IoAtKSbeCQAOQdc0kjgAzqUBA1nnKc5UKs8dcjXRrjpsKvejWuKWVu07gnsnrkJKR+0i/Vq5tGBv9Diq5zhQO0mok0OsVIDLGeIKiWi5+Dljxlu6TpTmXYUTW4/DCjSd7NUajKol46PONSM7Ixo3ulXgjaiwiXR5dnwPlO6HinTMQl5B/x6zgCmPvUBPgsRtqA/blp1v72MoQmX7FWZB1zSSOADORgPoEuAFLfYccAQk4noCsFxy86HT21AsLvznZwNxHgfWfFZbZ4lbgxneByGjDopdsP4YRn/6qa9+iehnfLxujItyG49jdMCzc2g1R0vh0K6kYi8qiX4tAShiGbiWUYlFJdGsRSANhZF0zGSidTcKIgKzzlOcq505CuqVb5xIwNrJ5mw/j4ekbkZmjbWzyYnjEQjwTObXQXaYQEQP0eRO4fIixwP5aad83TboR2L9C1/L1rAF4L+cWRLpdyPF64fUCfd32jarfAAAgAElEQVTL8FrUh4hweXVt91Xoik01RqDntb0QFxfnLyM/V4QAz8uKiDJRJt2agKZQF/oVJ0vWNZM4AsxEAuoT4AYs9R1yBCTgeAKyXnDwotPZUy9s/Grfdv30KrD0pcJC63YDBk0GYkoZlv2vr7dg8ur9uvYPdq+PR3s2MhzD7oZh49ZukBLGp1sJpVhYEv1aCFOyUHQrmRALy6FbC2H6CSXrmkkcAWZSgYCs85TnKhVmj7ka6dYcNxV60a1/S1NW78e/vtni2+QUh3S8HDUeN0esLNyxTM3c734uaek/aCAtko8A4zoDqcfyenm8Ltye9Q+s8DT3vTcwYgleiRwP90Wbr7IvH4653qsAlxs9e/bkBqxAuEvelseu5IKCKI9ug4CnQFf6FSdJ1jWTOALMRALqE+AGLPUdcgQk4HgCsl5w8KLT2VMv7PyunwR89zDgzdGLrdICGPIFUKqKIeHnM3PQ+93l2HM8Na+92wV8cW97XFmrvKEYdjcKO7d2A5UoPt1KJMOGUujXBqiShKRbSUTYUAbd2gC1mJCyrpnEEWAmFQjIOk95rlJh9pirkW7NcVOhF90Wbcnr9WLFrpN498ed+GXvKV+jWq4jGBf1Jpq4DxbuVK870O8TIN6m72v2Ls+9E5Y3/9GCJ7yl0TvjJVwdsR7/iZpQuKa29+F812exaPFi32fcgKXCEWm8Rh67xlmp1pJuVTMWWL30GxivYFrLumYKZkzsSwLhRoAbsMLNOMdLAgoSkPWCgxedCk6mAEoOS787FgJfDAey0vSkytYEhs4GkhoYIrj5z7O4ZewKZHvybx9fs3w85j3UGYkxkYZi2NkoLN3aCVSi2HQrkQwbSqFfG6BKEpJuJRFhQxl0awPUYkLKumYSR4CZVCAg6zzluUqF2WOuRro1x02FXsq7Pb0fWP46cGA14I4EYkrn3n1c+0/s3//74v/++7MCbaPiAZcL2sarH7cdw7s/7sLGg2fyFHZ3r8dbUWNR2nXR9zxaiy6PA1c9Bbgj7FW+/A3ghxd0OQ56KqKG+3jhvB0eBK75P5xPT8eiRYt8n3MDlr16REdX/tgVDUyhfHSrkCwTpdKvCWgmu8i6ZjI5HHYjgbAkwA1YYamdgyYBtQjIesHBi0615lGg1Yat3z/XAdMGAGkn9cjiygG3zQRqtDGE8v0lu/Dawu26tgNbVcer/S8z1N/ORmHr1k6oksSmW0lE2FQG/doEVoKwdCuBBJtKoFubwBYRVtY1kzgCzKQCAVnnKc9VKsweczXSrTluKvRS1m3WeWDFO8DPbwDZ6UGj9roikBWZiNM5MTiVHYtkxCHFG4dkxCMCHvSJWF04h7bZ65YPgcbXB53fUACPB5g+GNixoOTmnR8Duv/Tt6FMWb+GgIR3I7p1rn+6da5bbWT0K86vrGsmcQSYiQTUJ8ANWOo75AhIwPEEZL3g4EWns6deWPs9uRuY0g84vVcvOTIW6D8BaNzbr/wcjxeDPlyFtftP69qOG3oFejWr6re/nQ3C2q2dYCWITbcSSLCxBPq1EW6IQ9NtiAXYmJ5ubYR7UWhZ10ziCDCTCgRknac8V6kwe8zVSLfmuKnQSzm3Xi+wfR6w4B/AmQOhQ1ypKTBoClChntga0k4BH3YFzhYz9queBq56Mq8m5fyKpal0NrpVWl+JxdOtc91qI6NfcX5lXTOJI8BMJKA+AW7AUt8hR0ACjicg6wUHLzqdPfXC3m/K8dw7Yf21QS/a5Qaufx1ofaffCXDwVBque3s5UjKy89qWi4/Cwoe7oFLpWL/97WoQ9m7tAitBXLqVQIKNJdCvjXBDHJpuQyzAxvR0ayPci0LLumYSR4CZVCAg6zzluUqF2WOuRro1x02FXkq5PbELWPAksOv70KJt1g+48V0gOiE0dRxaD0y4FsjJ1Ofv8SzQ+f/p3lPKb2hoKpuVbpVV57dwuvWLSOkG9CtOn6xrJnEEmIkE1CfADVjqO+QISMDxBGS94OBFp7OnHv0CyEgBvhgO7FpcWHaBW8OXNBNmrfsTj32xSdekS8OK+GxEa7hcrpBMIroNCXYhSelWCOaQJaHfkKG3PTHd2o44ZAnoVhx6WddM4ggwkwoEZJ2nPFepMHvM1Ui35rip0EsJt9p3KsteA1a9D3iyCmPVfuDW+i6gehsg4xyQkVzgv5OBdO293Pc9GcnISDkNd2YKYnDRBiZ/wlwRQM8XgXb3+R7vF9LX2gnAnEfyS7jm30DHBwuVpITfkIJUNzndquvOX+V064+Q2p/Trzh/sq6ZxBFgJhJQnwA3YKnvkCMgAccTkPWCgxedzp569HvBb04WMOdhYMOUwsJbDgFueBuIiCp2Mni9Xtw/dT3mbzmia/PCjZdiWIfaIZlEdBsS7EKS0q0QzCFLQr8hQ297Yrq1HXHIEtCtOPSyrpnEEWAmFQjIOk95rlJh9pirkW7NcVOhl9RutccNbvkSWPQvIPmvonHW6ghc9ypQpVmJuFMzsjH1l/34aNlenEjJ8LWNQjYSkYZE13mUwnkk4jyalAdublIal1Vyw523mSsZ0DZ5XXYrUO0KebTu/B7Y/zNQ/xqgdsci65LarzwklayEbpXUZqhoujWESdlG9CtOnaxrJnEEmIkE1CfADVjqO+QISMDxBGS94OBFp7OnHv0W8Kt9ebjkJWDZq4Wl178aGDipxFvYn07NxLVvLcOx5NwvC7VXTKQbcx/shPqVSgmfSHQrHLmwhHQrDHVIEtFvSLALSUq3QjCHJAndisMu65pJHAFmUoGArPOU5yoVZo+5GunWHDcVeknr9ujvwLwncjcYFfUqVTX3blTa4wBLuBvV2fNZmLRyHz5ZsRdn0oq4e9aF2JdVL4Mx3RugR5NKIbvLuB3zRVq/dgw2zGLSrXOF061z3Wojo19xfmVdM4kjwEwkoD4BbsBS3yFHQAKOJyDrBQcvOp099ei3CL9rPwXmPgp4PfoPa7YHbpsBxJYpdlIs23Ecd0xYo/v80ktK46v7OyI60i10MtGtUNxCk9GtUNzCk9GvcOTCEtKtMNTCE9GtOOSyrpnEEWAmFQjIOk95rlJh9pirkW7NcVOhl3Ruz58Blr4MrPkY8OYURuiOAtrfD3R5HIgp/odop1IzMeHnvfhs5T4kZ2QXq6JNnfIY070+OtVPctTGq78HLJ1fFQ4KRWqkW0VEmSiTbk1AU6gL/YqTJeuaSRwBZiIB9QlwA5b6DjkCEnA8AVkvOHjR6eypR7/F+N02D5g1Esg+r29QtSVw+1dAfPliJ8bz3/6OiSv36T6//6p6eKJXY6GTiW6F4haajG6F4haejH6FIxeWkG6FoRaeiG7FIZd1zSSOADOpQEDWecpzlQqzx1yNdGuOmwq9pHHr8QCbpgGLnwPSThSNrl53oNd/gYoNi0V77Fw6Pl6+B1NWH8D5rCI2cF3o2blBEkZ3q4+2dSuooMl0jdL4NT0CdiyOAN06d27QrXPdaiOjX3F+ZV0ziSPATCSgPgFuwFLfIUdAAo4nIOsFBy86nT316LcEvwd/BaYNAM6f1jeq2AS442ugVJUiO6dn5eCGd3/GzmMpeZ9rd9yfcU97aL/eFPWiW1GkxeehW/HMRWakX5G0xeaiW7G8RWajW3G0ZV0ziSPATCoQkHWe8lylwuwxVyPdmuOmQi8p3B5aD8x7HDi0tmhkZWoCvV4GGvcu9nGDh86cx4c/7cb0Xw8iM/uiu40XiHp1k8oY3b0+WtYoq4KeoGuUwm/Qo2CAogjQrXPnBd061602MvoV51fWNZM4AsxEAuoT4AYs9R1yBCTgeAKyXnDwotPZU49+/fg9+jsw6WYg9Zi+Yfm6wB3fAGVrFhng97/O4ub3VyArx5v3ebWycZj/cGeUjo0SMqnoVgjmkCSh25BgF5aUfoWhFp6IboUjF5aQboWhhqxrJnEEmEkFArLOU56rVJg95mqkW3PcVOgVUrepJ4EfXgDWTwKQ/91GHrfIWKDjw0Cnh4GouEI4tU1XK3aewE87j2PhliPI9hQRA7l7tq5vXhUPXFUfTS8prYIWy2oMqV/LRsFARRGgW+fOC7p1rlttZPQrzq+sayZxBJiJBNQnwA1Y6jvkCEjA8QRkveDgRaezpx79GvB7Yhcw6Sbg3J/6xqWrA8O+BSrUKzLIuJ9245X523Sf9b2iGt4Y2NJA0uCb0G3wDGWNQLeymrGmLvq1hqOMUehWRivW1ES31nA0EkXWNZOR2tkmfAjIOk95rnLuHKRburWUQE42sO5T4McXgfQzRYdu3Ae49j9Audp5n589n4XVe07i550nsGLXCew5kVpiWRFuF25qeQnuv6o+6ldKtHQIqgTjsauKqcDrpNvAmanSg25VMWWuTvo1x81ML1nXTGbGwj4kEK4EuAErXM1z3CSgEAFZLzh40anQJDJRKv0ahHbmQO4mrFN79B0SKuU+jrDypYUC5Xi8GPzxaqzZe0r32fu3XYHeLaoaTGy+Gd2aZyd7T7qV3VBw9dFvcPxk7k23MtsJrja6DY5fIL1lXTMFMga2dT4BWecpz1XOnXt062y3Wz//F2qeWoZyZUojolRlIKEikFgp97///s/f/z+2TLGPATREaf+q3McNHt1cdPPy9YDrXgUaXO17lOCGA6fx864Tvv9sOngGxdzkShcrKsKF/lfWwH1d66FmhXhDZTm1EY9dp5rlXXSca5ZunexWGxvPy+IMy7pmEkeAmUhAfQLcgKW+Q46ABBxPQNYLDl50Onvq0W8AfpOP5D6O8PhWfae4csDQ2UC1KwoF+/N0Gq57azmSM7LzPisTF4WFD3dBlTKxASQPvCndBs5MlR50q4opc3XSrzluKvSiWxUsmauRbs1xM9NL1jWTmbGo2OfAgQN45513MHfuXGj/OyYmBvXr18fAgQNx//33Iz7e/B/Ss7OzsXnzZqxZswa//vqr77//+OMP5OTk+FDt3bsXtWvn32mlOH5am/379/vFW6tWLezbt89vOzMNZJ2nPFeZsalGH7pVw5OZKjM2f4OYL+8w3jUi+sKmrCRA+8GYb2PWhf/t27j196atSkB8BSAiMje29n3H4meB32YUnSsqAd4uj2Nn3duxbM853x2uftl7CmmZuedoI6+YSDcGt6mJUV3romqZwo8sNBLDaW147DrNaP546JZunUvA2SPjsSvOr6xrJnEEmIkE1CfADVjqO+QISMDxBGS94OBFp7OnHv0G6Df1JDClL3B4o75jdClgyEygVodCAb/ecAgPz9C371Q/CZNGtoHb7QqwAOPN6dY4K9Va0q1qxgKrl34D46VSa7pVyVZgtdJtYLyCaS3rmimYManSV9t0NWTIEJw9e7bIkhs1aoR58+ahbt26pob0wgsv4Pnnny+2LzdgmcKq68RzVfAMZY1At7KaCbKurHR43msN99kDQQYqrrsLiC+fu1Hr7EEgM6XIhgeqXY8JcSMxd78Lx5MzAqpF+wFax/oV0LF+Eq69tAqSEmMC6u/0xjx2nWuYbunWuQScPTIeu+L8cm0vjjUzkYBdBLgByy6yjEsCJGAZAVkvOHjRaZliKQPRrwkt6WeBaYOAA6v0nSPjgFunAvV76N73er0Y8/kGzPntsO79Z/s0xchOdUwUYKwL3RrjpGIrulXRmvGa6dc4K9Va0q1qxozXS7fGWQXbUtY1U7Djkr3/pk2b0KFDB6SlpSExMRFPPfUUunXr5ntEx/Tp0/Hxxx/7htC4cWPf3au0NoG+tM1X2iYs7RUbG4uWLVvi+PHj2L17t++9QDdg3XTTTXjxxReLLSM6OhoNGzYMtExD7WWdpzxXGdKnZCO6VVKb/6J/eg1YUvx5zH+A4FrsddfCP87fgV+8TQwHio5wo1XtcujUIAnaD88uvaQMImz84ZnhwiRtyGNXUjEWlEW3FkCUNATdSirGorLo1yKQBsLIumYyUDqbkAAJXCDADVicCiRAAtITkPWCgxed0k+doAqkX5P4MlOB6UOAPUv0AbTb/ff/FGjSR/f+2bQs9Hp7GQ6fTc97PzrSje9Gd0KjKqVMFlFyN7q1BasUQelWCg22FUG/tqENeWC6DbkC2wqgW9vQFgos65pJHIHQZNI2Wy1duhSRkZFYtmwZ2rdvryvktddewxNPPOF7T9tE9eyzzwZc6MKFC32PBGzdujVatGjhyzV8+HB89tlnvliBbsAaNmwYJk6cGHAdVnSQdZ7yXGWFXTlj0K2cXoKq6sxB4L3WQPb5vDCeKi3gbnQdkHocSDkGpJ4AUo8BKceBzOSg0hXsfM4bj/9lD8CUnKuRgwi/cZtWLY3ODZJ8d7lqXbs84qL99/EbNEwa8Nh1rmi6pVvnEnD2yHjsivMr65pJHAFmIgH1CXADlvoOOQIScDwBWS84eNHp7KlHv0H4zUoHZo0Ets/VB3FFALeMA1oM1L2/YtcJDBn/i+69xlVK4ZvRHRETaf0XlHQbhFvJu9Kt5IKCLI9+gwQocXe6lVhOkKXRbZAAA+gu65opgCEo11S7o1WbNm18dY8aNQrjxo0rNAaPx4NmzZph69atKFeuHI4ePYqoqKigx8oNWEEj1AXgucpanjJFo1uZbFhUyxfDgd+/ygvmhQsZwxcjtnbrohNknc/dmOXbnHXhv7XNWdomLd9mrQL/O+0kAG+RcWZkX4VXswfhJMoUO5BqZeN8d7fS7nLVoV4FVOBjBU1L57FrGp30HelWekWmC6Rb0+iU6Ei/4jRxbS+ONTORgF0EuAHLLrKMSwIkYBkBWS84eNFpmWIpA9FvkFpysoCv7wM2f3FRIBfQ502g1Qjd+y/O+QPjf96re29Ul7p46nrjt/Q3WjHdGiWlXju6Vc9ZIBXTbyC01GpLt2r5CqRaug2EVnBtZV0zBTcquXs/88wzeOmll3xFrl69Gm3bti2y4FdeecX3aELttWjRIlxzzTVBD4wbsIJGqAvAc5W1PGWKRrcy2bCglr3LgM9u0AXam9QdVe6chri4uOATeHKAtJM4+Od+/Hv6T4jNPIUYVxbWehphr7dqofilYiN9G606Najo23hVu0I8XC5X8HUwgu9Rvtq/mdqrZ8+e1vglVykI0K0UGmwpgm5twSpNUPoVp4Jre3GsmYkE7CLADVh2kWVcEiABywjIesHBi07LFEsZiH4t0KJ9eTnnYWD9pMLBev4H6DA67/30rBzc/P4KbDuS/3gA7XvLaXe1Q/t6FSwoJj8E3VqKU6pgdCuVDsuLoV/LkUoTkG6lUWF5IXRrOdJiA8q6ZhJHQHymLl26YPny5UhISMCZM2d8jwYs6rVq1Sp06NDB95H2CELtUYTBvrgBK1iC+v48V1nLU6ZodCuTjSBryckGPuwMHPsjL1BmRAK+b/oqul3fz7INOqdSM3HL2BXYfzKtUMFRES5cUbNc3mMFm1crg8gId5ADY/eiCPDYde68oFu6dS4BZ4+Mx644v1zbi2PNTCRgFwFuwLKLLOOSAAlYRkDWCw5edFqmWMpA9GuRFq8XWPgMsPr9wgGvehro+gRw4ReiWw+fw03vrUBmjievrfaL0js71cGIjnVQJi74x7VogenWIrcShqFbCaVYWBL9WghTslB0K5kQC8uhWwth+gkl65pJHAHxmSpWrIgTJ07gsssuw8aNG4st4PTp0yhfvrzv8wEDBmDmzJlBFxvMBqw6deogMTERu3fvhtfrReXKlX2PUhw8eDBuuukmW+/eIus85bkq6CkpbQC6lVZN4IX98iEw/wldv001hmNfUnfL7pCk/TBs6PhfsHb/aV0e7e5Wd3aug7Z1yiM+uujNtoEPiD1KIsBj17nzg27p1rkEnD0yHrvi/Mq6ZhJHgJlIQH0C3IClvkOOgAQcT0DWCw5edDp76tGvhX61TVhLXwZ++m/hoB3GANf8O28T1vjle/Di3K2F2pWKicSIjrUxslMdlI2PDqo4ug0Kn9Sd6VZqPUEXR79BI5Q2AN1Kqybowug2aISGA8i6ZjI8AMUapqen591tpXfv3pgzZ06JI9A2PKWmpqJdu3bQ7ogV7CuYDVgl5e7YsSNmzJiBatWqmSpRm4clvQ4fPuzb7KW9duzYgerVq5vKY3UnzeeyZct8YbU7m8XGxlqdgvFCRIBuQwTe6rRpJxD7UUe4Ms7mRc6u2BRzq2k/6HJbctxqG1Ifn/0H5m45qqu+adVSmDz8CsRHR1g9KsYrgQCPXedOD7qlW+cScPbIeOyK86utqRo2bOhLePDgQWnWTOIIMBMJqE+AG7DUd8gRkIDjCcj6xwT+QcnZU49+bfC74m1g8bOFA7caCVz/P8DthsfjxdBPfsHK3SeLLCAxJhLDO9T23RWrXIK5jVh0a4NbSULSrSQibCqDfm0CK0FYupVAgk0l0K1NYIsIK+uaSRwBsZmOHz+OSpUq+ZIOGjQI06dPL7EA7S5Tx44dQ7NmzbB58+agizWzAUv7Er9Jkya+O8VodZQpU8b36ERtQ9gHH3zg+3Jfe2lttPe0zwN9uS7c2dZIv/HjxyMpKclIU7YhARIIcwKXHfgEtU/+pKOwvMEzOJXYyDIy8w64sfCQ/nGCZaO9eLR5DsqY++rBstoYiARIgARIgARIIHwIaHdZvuuuu3wD5gas8PHOkTqLADdgOcsnR0MCjiQg6x8T+AclR063vEHRr01+fx0PzP1/hYO3uBW46X0gIhLJ6Vl4+qst+G7TX8UWkRAdgTs61MbdneuifIAbsejWJrcShKVbCSTYWAL92gg3xKHpNsQCbExPtzbCvSi0rGsmcQTEZtK+CK9Zs6Yv6e23345JkyaVWIDWVutTr1497Nq1K+hizWzA0jZblS1btsjcycnJ6N+/PxYtWuT7/JFHHsEbb7wRcJ3cgBUwMnYgARLwQ6Bs2h502f4CXPDmtTxYrgPW177XMnZrjrswdZf+Dlcxbi8eapaDagmWpWEgEiABEiABEiABEvBLgBuw/CJiAxKQngA3YEmviAWSQNEEzp07h3nz5uHXX3/F2rVrcejQIWi/wtX+yKF9qdq0aVNcf/31uPPOO1GhQgXTGP/O88MPP2DdunXYs2cP0tLSfL+GvfTSS9GnTx/fbuzivsg1nbhAR1n/mMA/KFlhV94Y9Gujm42fA9/cD3g9+iRNbgD6fQJExvje33bkHN79cRfmbT4M7SmGRb20xwDc3q4W7u5SF0mJuf38vejWHyF1P6dbdd0ZqZx+jVBSsw3dqunNSNV0a4SSNW1kXTNZMzr5oqh4Byx/FM+ePevbIHby5EkkJCTg1KlTiI4O7LYvfAShP8r8XDQBPi5HNHGL83k9iJlyA9x/rcsL7I2KR/rdK5AeVc6SR4eu2Xcad03eiCxP/pcObhfwweDL0KWB+e9TLSYRduF47DpXOd3SrXMJOHtkPHbF+eUjCMWxZiYSsIsAN2DZRZZxScBmAt9//z2uueYav1m0W/pPmTIF1157rd+2FzeYP38+brnlFmRkZJTYV3ucwueff45u3boFnMNIB1n/mMA/KBmxp24b+rXZ3R/fALPuBDxZ+kT1rwYGTgai4/Pe33E02bcRa85vfxW7ESs2yo2hbWvhnq51UalUbInF063NbkMYnm5DCF9AavoVADlEKeg2ROAFpKVbAZAvpJB1zSSOgNhM2h8g4uLifEl79+6NOXPmlFhAYmIiUlNT0a5dO9/j/YJ9mbkDlpGco0ePxvvvv+9rumLFCnTo0MFIN8NtZJ2nPFcZVqhcQ7pVTpm+4I3TgK/v07939fNAp0d8P0D9+6592qNV/z4nBzLi3cdT0HfsSpw9r/9e4t83N/P90Iuv0BGwwm/oqmfmkgjQrXPnB9061602MvoV51fWNZM4AsxEAuoT4AYs9R1yBGFKQNuANXLkSN+mpyuvvBI1atRA1apV4fF4oP0DPWvWLMyePRs5OTm+X61qd8pq0aJFQLS0jVva4xTcbrdvs1evXr1w2WWX+e52peWYOnUqZsyY4YsZHx/v+4K2ZcuWAeUw0ljWCw5edBqxp24b+hXgbudiYMZQIDtdn6xWR2DwdCC2tO79XcdS8N6PO/Htpr9Q4MepujYxkW4MaVsL92obsUoXvRGLbgW4DVEKug0ReEFp6VcQ6BCkodsQQBeUkm4FgQZ86zNtTai9tEfdVa9eXVzyMM1UsWJFaI+H0NbIGzduLJbC6dOnUb58ed/nAwYMwMyZM4MmZtcGrLFjx+KBBx7w1afVqdVr5UvWecpzlZWW5YpFt3L5CKia9HPAu1cCqcfyu5WvB9y/ynfX7GDdnkrNxC1jV2D/yTRdWXd2qoN/9WkaUKlsbD2BYP1aXxEjWkWAbq0iKV8cupXPiZUV0a+VNEuOJeuaSRwBZiIB9QlwA5b6DjmCMCWgbayKiIgocfRff/217w5W2qtv37748ssvA6Klba5asmQJnn76adSsWbPIvu+++y4efPBB32fdu3eH9qhCq1+yXnDwotNq03LFo19BPvb9DEwbBGSm6BNecgUw9EsgPvePVQVfe46n4L0lu/DNxr+QU8xOrOhIN25rUxP3dq2HKmX0G7HoVpDbEKSh2xBAF5iSfgXCFpyKbgUDF5iObsXBlnXNJI6A+ExdunTB8uXLfY/rO3PmDCIjI4ssQrvj1d93knr22WfxwgsvBF2sXRuwtLtfaXfB0l7cgBW0JgaQgAD/HZJAgtkSFj4DrHpP3/u2L4CGPX3vBeM2PSsHQ8f/grX7T+viX9O0MsYNvRIR2jMI+QopgWD8hrRwJvdLgG79IlK2Ad0qq85Q4fRrCJMljbi2twQjg5BASAlwA1ZI8TM5CdhPoEmTJti2bRu0RxEeP37cloStW7fG2rVrfXfKOnbsGCpUqGBpHlkvOHjRaalm6YLRr0Alf64FpvQD0s/ok1a6FLjjayCxUpHF7DuRiveX7MLsDYeK34gV4cag1jVw31X1cEnZ3MfE0K1At4JT0XDechAAACAASURBVK1g4ILT0a9g4ALT0a1A2IJT0a044LKumcQREJ9J+6HSyy+/7Eu8evVqtG3btsgiXnnlFTz11FO+zxYuXAjtUVnBvuzagKXd/Uq7C5b2+vnnn9GxY8dgS9X1l3We8lxlqWapgtGtVDqMF3N8O/BBB8CTnd+nYS/gtty78Gsvs269Xi8emr7Rd2ftgq/m1cpgxqh2iI8uejOt8eLZ0goCZv1akZsx7CVAt/byDWV0ug0lfftz06/9jP/OIOuaSRwBZiIB9QlwA5b6DjkCEiiRQKtWrbBu3TokJiYiOTnZFlqPP/44Xn/9dV9s7VGHWk4rX7JecPCi00rL8sWiX8FOjmwBJt8MpF60UbRCA2DEfCCxYrEFHTiZhrFLd2HWuj+RXcwdsaIiXBjYKncjVoVYFxYtWuSLp/0BLC4ud2MWX+oT4HGrvsOSRkC/zvVLt3TrXALiRibrmkkcAfGZ1qxZk7fpatSoURg3blyhIjweD5o1a4atW7eibNmyvh8sRUVFBV2sHRuwzp49i3r16uHkyZOIj4/HqVOnEBMTE3StBQPIOk/575ClmqUKRrdS6TBWjNcLTL4F2LMkv31ENHD/aqBCvbz3zLp9Y9F2vPPjLl0tl5SJxVcPdETl0vq7ZxsrmK3sIGDWrx21MKa1BOjWWp4yRaNbmWxYXwv9Ws+0uIiyrpnEEWAmElCfADdgqe+QIyCBYgloX/I2b94c2uMKtU1R2uYoO17aIwi1RxFqL22z1xVXXGFpGlkvOHjRaalm6YLRbwiUnNgJTLoJOHdIn7xKc2D4XCC2TIlFHTyVhg9+2o0v1h5EVo63yLbaRqybL6uKJt4DqBDLDVghsGxrSh63tuINeXD6DbkC2wqgW9vQhjww3YpTIOuaSRyB0GT6+zGE2uMHly1bhvbt2+sKee211/DEE0/43nvuuefw/PPP6z6fOHEiRowYUeznxY0q0A1YCxYsQNeuXYv94YH2Y63+/fvn/UhhzJgxeOeddyyHKus85bnKctXSBKRbaVQYL2TrHGDGEH37To8CVz+ne8+MW+1HW499sUkXJzEmEl/c2x5NqpY2XiNb2k7AjF/bi2ICSwjQrSUYpQxCt1Jqsawo+rUMpd9Asq6Z/BbOBiRAAnkEuAGLk4EEHEYgLS0Nhw4dwnfffYdXX30VR48e9Y1w8uTJGDp0qC2jveyyy/Dbb79B+9JZ+7Vs6dLWfmkh6wUHLzptmU7SBKXfEKk4vR+YdCNwep++gJodgKFfAtHxfgs7dOY8Pli6CzN//ROZOZ4i27tdXrRO8uK1OzqjZsWyfmOygRoEeNyq4clslfRrlpz8/ehWfkdmK6Rbs+QC7yfrminwkajVY8OGDb7H9GlzXbvrtPZYwm7duvn+//Tp0/HRRx/5BtSwYUOsXbsWpUqV0g3QyAaslJQUzJo1S9dv/PjxWLFihe89bZNXUlJS3uctW7aE9p+Cr6uuugqbN29G37590alTJ9+drrR6z5w5g1WrVuGDDz7AwYMHfV0aNWqElStXonz58pbLkHWe8lxluWppAtKtARU5WYAnB4iS4O5PWeeB99sAZw7kF17qEmD0r0BMom4wgbpdtfsk7pjwi+7HWhFuFz4Z1gpXNapkABSbiCQQqF+RtTFXcAToNjh+MvemW5ntBF8b/QbP0GgEWddMRutnOxIgAYAbsDgLSMABBAp+aVvUcB577DHfZiyXy2X5aOfOnYs+ffr44vbu3Rtz5swJOId2QVHS6/Dhw2jTpo2vyY4dO1C9evWAc9jRIT093fcrZ+2l/fI5NlaCL6vsGGiYxqTfEIpPPoyYqTfBfbbAl64Acur2QGbfiUCEsce2HDmXjvE/H8AX6/8qdiNWldLRmHFXa1QqZe3jVUJIL6xT87h1tn76da5fuqVb5xIQNzJtTaVt8tFe2kYaWdZM4giELpP24yftx07nzp0rsgjNi7Zurl+/fqHPjWzA2rdvH+rUqWN4gEXdaUvbgPXTTz/5jaGta6dNm4Zq1ar5bWumgax/TOAflMzYVKMP3frxtPoDYPGzQFQ80P2fQJu7Qyt26X+BpS/pa+j3CdC8f6G6AnG7+3gK+o5dibPns3Rx/n1zM9zerlZox8zsRRIIxC8RqkWAbtXyFUi1dBsILfXa0q84Z7KumcQRYCYSUJ8AN2Cp75AjIAEUtwFL+9XruHHj0LZtW1sonTp1yve4wf379yMiIsL3iMPLL7884FyBbAzTfulb8Ne9ASdjBxIgASUIxGccRecdLyI2+6yu3j/LtcO6WvcCLrfhcZzNBH445MbKoy5keQtvRK2R4MWYS3MQE2E4JBuSAAmQAAmQAAmQgFQETpw4gbvuustXEzdgiVejrYnffvtt30Yr7Qvz6Oho34arAQMGYPTo0YiPL/ourqI2YGl33/rhhx98d7vavn07tPmi3f1Kq+uSSy7xfWcwePBg9OzZ05Yfbv1tRNY/JvAPSuKPGVEZ6bYE0ofWAx930zdoex9w7X8AdwgWx9pdr95rDWSn59dUqyMwfC5QxA9Kjbo9mZKBW8auxIFTabqx3tWpDv7Zp6moqcg8ARIw6jfAsGwuAQG6lUCCTSXQrU1gJQlLv+JEyLpmEkeAmUhAfQLcgKW+Q46ABHxfnP59FyntQmj37t2YOXMmvvrqK9+jBd566628u1RZhSsnJ8cXc8GCBb6QRf3K1mgubsAySortSCC8CJQ6fxCddv4H0Tn6L0r3JvXAb9XvKPJL2JIIaRuxfvzLjRXaRiyPfiNW83IejGzkgdv6GwWGlzSOlgRIgARIgARIICQEuAErJNiZNEACsv4xgX9QClCkQs3pthhZXi/w2Q3AvuWFGzTuA/T9GIgueuOobfpn3gH88U1+eO1HV6OWAVWaF5nSiNv0rBwMGf8L1u0/rYtxTdPKGDf0SmiPIORLTgJG/MpZOavyR4Bu/RFS93O6Vdedkcrp1wgla9rIumayZnSMQgLhQYAbsMLDM0cZpgQmT56MYcOG+X7B+sknn2D48OGWkRg1ahQ++ugjXzzt0YPffPON7y5YZl58BKEZauxjNwE+Dsluwsbiuw+tRfSMAXBlndd1yGr/CLK7PGksyEWtDhw/hyGf/IoTGfovW0e2r4nHexZ+NIypJOwUEgI8bkOCXVhS+hWGWngiuhWOXFhCuhWG2veDHD6CUBxvZjJHQNY/JvAPSuZ8qtCLbouxtHMxMLXwY/3yWldrBdw2A0hIEqN5z1Jg0k36XK3vAnr/r9j8/tx6PF48NGMjvtv0ly5G82plMGNUO8RHR4oZG7OYIuDPr6mg7CQFAbqVQoMtRdCtLVilCUq/4lTIumYSR4CZSEB9AtyApb5DjoAESiQwaNAg392wEhISfI+iKFeuXNDEnnrqKbzyyiu+OJ06dcKiRYsQFxcXdNziAsh6wcGLTtuUSxGYfqXQkFvErh+AaYMAT5a+qJ7/ATqMDrhQze3kbxbhrc0RSMvRb8J66ZbmuK1tzYBjsoMcBHjcyuHBriro1y6yoY9Lt6F3YFcFdGsX2cJxZV0ziSPATCoQkHWe8lylwuwxVyPdFsHNkwOM6wwc+71kqOXqAENmAUk2/0gpJyu3nuNb8+uJKw+MWQfEly+2Rn9u/7doO979cZeu/yVlYvH1Ax1RqXSsuQnFXsII+PMrrBAmspwA3VqOVJqAdCuNClsKoV9bsBYZVNY1kzgCzEQC6hPgBiz1HXIEJFAigWnTpmHIkCG+NlOnTsVtt90WFLH//ve/+Mc//uGLccUVV+DHH39EmTJlgorpr7OsFxy86PRnTu3P6Vcyf79/DcwaAXg9+sJueh+4fGhAxf7tdudZF8Zti0S2x5vXX3sEwcQRrdG5QcWAYrKxHAR43Mrhwa4q6NcusqGPS7ehd2BXBXRrF9nCcWVdM4kjwEwqEJB1nvJcpcLsMVcj3RbBbeM04Ov79B+0vhvYPBNIP6t/X9sINXg6ULOtOQFGeq3+AFiQ+z1j3qvPm0CrkSX2LsntrHV/4rEvNun6J8ZE4ot726NJ1dJGqmKbEBPgsRtiATamp1sb4YY4NN2GWIDN6enXZsAFwsu6ZhJHgJlIQH0C3IClvkOOgARKJLB48WL07NnT1+all16Cdvcqs6+xY8figQce8HVv0qQJli1bhqQk+29HLusFBy86zc4kNfrRr4Se1n0GfPegvjCXGxg4CWhyg+GCC7pNrdQcT39T4Je2AErFRGL2/R3QoHIpwzHZUA4CPG7l8GBXFfRrF9nQx6Xb0DuwqwK6tYts4biyrpnEEWAmFQjIOk95rlJh9pirkW4v4pZ1Hnj3SuDcofwPKl0K3LscOLETmDoAOHtA3ykiBuj7EXDpzeYklNQr5XhuPRkFNn5VaQHcsxRwR5SYrzi3q3afxB0TfkFWjv6HVp8Ma4WrGlWyfgyMaAsBHru2YJUiKN1KocGWIujWFqzSBKVfcSpkXTOJI8BMJKA+AW7AUt8hR0ACJRKYOHEiRowY4WvzzjvvYMyYMaaITZ48GcOGDYPX60XdunWxfPlyXHLJJaZiBdpJ1gsOXnQGalKt9vQrqa8VbwOLn73oC+FoYMgXQN2rDBV9sdv3lu3H+0t26/pWLxeHr+7viIqlYgzFZCM5CPC4lcODXVXQr11kQx+XbkPvwK4K6NYusoXjyrpmEkeAmVQgIOs85blKhdljrka6vYjbz28B3z+nf/O2L4CGuT/cRPJRYNoA4LD+7lGAC+j5ItD+AcDlMiejqF7fjAY2TNZ/MnIhULOd3xxFud11LAV9x67AufRsXf9/39wMt7er5TcmG8hDgMeuPC6sroRurSYqTzy6lceFHZXQrx1Ui44p65pJHAFmIgH1CXADlvoOOQISKJFA7969MW/ePF+bJUuW4KqrjG1QKBh09uzZGDhwIHJyclC9enXf5qvatWsLIy/rBQcvOoVNgZAkot+QYDeW9PvngZ/f1LeNSgCGfQtUb+U3xsVuY2JiMebzDZi7+bCu7+U1y+Lzu9shNqrkX976TcgGwgjwuBWGOiSJ6Dck2IUkpVshmEOShG7FYZd1zSSOADOpQEDWecpzlQqzx1yNdFuAW9op4O2W+rtN1e4MDPtOv6kqIwWYNRLYubAw9Db3AL1e8Xt3KkO2Dq0DPu4BIP9OVWgxKPduWwZeF7tNy3HjlrErceBUmq73XZ3q4J99mhqIyCYyEeCxK5MNa2uhW2t5yhSNbmWyYX0t9Gs90+IiyrpmEkeAmUhAfQLcgKW+Q44gTAlod7a69dZbERsbWyyBN998E48++qjvc23D1M6dOxEZGZnXvuDdsZ577jk8//zzhWItWrQIN9xwAzIzM1GpUiXfYwcbNWoklLqsFxy86BQ6DYQno1/hyI0n9HqBOQ8D6ybq+8SVA0bMByo1KTFWUW7Ts3Jw60ersfHgGV3f3i2q4t1bL4fbbeGvfI2PlC0DJMDjNkBgijWnX8WEBVAu3QYAS7GmdCtOmKxrJnEEmEkFArLOU56rVJg95mqk2wLcFj4DrHpPD/LuJUC1KwrDzckG5j8OrJ1Q+LNGvYF+44HoeHNStF4eD/DJ1YC2CevvV3QiMHotULqqobgF3Xbt3gN3TvkN6/af1vXt2bQyPhh6JSK4njfEVKZGPHZlsmFtLXRrLU+ZotGtTDasr4V+rWdaXERZ10ziCDATCahPgBuw1HfIEYQpAW1DVXJyMvr164dOnTqhXr16SExM9L23efNmTJ06FStWrPDRiY6Oxty5c3H11VfraPnbgLV69Wr06NEDaWlpiIqKgta+RYsWJRLX7pBVtmxZS63IesHBi05LNUsXjH6lU6IvyJMDfHkn8PtX+vdLVQVGLgDKFX+XvuLcHk/OwC1jV+DP0+d1MUd3q4/HrhW78VRy+tKWx+NWWjWWFEa/lmCUMgjdSqnFkqLo1hKMhoLIumYyVDwbhQ0BWecpz1XOnYJ0e8Ht6f3Ae62AnMx82Zf2BQZ8Wrx87YdPK94u/MhCrUe1K4HBM4DEiuYmz4apwDf36/te/QLQ6WHD8f526/ECi1Muwbwtx3R9m1crgxmj2iE+Ov+HqIaDs2HICfDYDbkC2wqgW9vQhjww3YZcga0F0K+teHXBZV0ziSPATCSgPgFuwFLfIUcQpgS0DVj79+/3O3ptQ9SECRNwzTXXFGrrbwOWdkesF154wW+Ogg0+/fRTDB8+PKA+/hrLesHBi05/5tT+nH4V8JedCUwfDOz6Xl9suTrAyIVAqcpFDqIktzuOJqPf2JVIzsjW9X2tfwsMaFVDASjhXSKPW2f7p1/n+qVbunUuAXEjk3XNJI4AM6lAQNZ5yn+HVJg95mqk2wvcZt8D/DYjH6I7Chi9Bihf1z/YzbOAr+/Tb97SepWtBQz9Ekhq4D9GwRbpZ4F3rwRSj+e/W74ecP8qIDLGcKy/3c494MaiQ25dv0vKxOLrBzqiUuninxpgOBEbhoQAj92QYBeSlG6FYA5JEroNCXZhSelXGGrIumYSR4CZSEB9AtyApb5DjiBMCezevRvff/89lixZgq1bt+Lo0aM4efKk75GElStXRsuWLdGnTx8MHDgQ8fFF3xacG7CCmzy86AyOn+y96Vd2Qxfqy0wFJt8CHPxFX3DlZsDwOYD2WMKLXv7cLttxHCMm/ooc7ae0F15RES5MGtkW7etVUARMeJbpz214UnHOqOnXOS4DPS87d+TOHxmPW3GO+SWtONbMZJ6ArPOU5yrzTmXvSbcADm8CPuyiV9X2XuC6/xrXt28FMP02IP2Mvo+23r71c6BWe+OxFjwNrH5f337ILKBB4R+OlhQ0NS0Nz0/+Hl/sjdA1S4yJxKz72qNxldLGa2JL6Qjw2JVOiWUF0a1lKKULRLfSKbG0IPq1FGeJwWRdM4kjwEwkoD4BbsBS3yFHQAKOJyDrBQcvOp099ehXIb/nTwMT+wBHt+iLrtEWuP0rIDpB974Rt1N/2Y9nvtLHKxMXhdn3d0C9iokKwQmvUo24DS8izhot/TrLZ8HR0C3dOpeAuJHJumYSR4CZVCAg6zzlv0MqzB5zNdItgEk3A3uW5AOMLgU8tBFISAoM6vEdwNR+wJkD+n4RMcAt44Bmff3HO7YNGNcR8BS443TD64Dbpvvve6FFakY2Zq//E5+u2Is9J9J0/SLcLkwY3hpdG5p8NKLhKtjQbgI8du0mHLr4dBs69nZnplu7CYc2Pv2K4y/rmkkcAWYiAfUJcAOW+g45AhJwPAFZLzh40ensqUe/ivlNPgpMuBY4vVdfeL0ewODpQGR03vtG3f5n7h/4eLk+Xq0K8fjq/o4on5AfTzFSji7XqFtHQ3Dw4OjXuXLplm6dS0DcyGRdM4kjwEwqEJB1nvLfIRVmj7kaw97trh+AKRdtjOr+L6DLY+aAphwDpg0E/tpQuP/VLwAdHwJcrqJje73AZG0z2NL8zyOigftXAxXq+a1n/8lUTFq1HzN/PYjkjAIbuAr0fPHmZhjarpbfWGwgP4GwP3blV2S6Qro1jU76jnQrvaKgCqTfoPAF1FnWNVNAg2BjEghzAtyAFeYTgMMnARUIyHrBwYtOFWaP+Rrp1zy7kPU8vQ+Y0AtIPqwv4dJbgH6fAO7cRxMYdas9gvDeKeuw+I+junhtapfH5LvaICZS/6iDkI2bifMIGHVLZGoSoF81vRmpmm6NUFKzDd2K8ybrmkkcAWZSgYCs85TnKhVmj7kaw9qtxwN81AU4sjkfXqmqwJj1QHS8OaBar8xUYNZIYMeCwjFa3Qlc9yoQEVn4sz++BWbern+/8/8DejxbbC1erxcrdp3ExJV78cO2Y9D2cBX3uqdLXTx9fRPz42JPqQiE9bErlQnri6Fb65nKEpFuZTFhTx30aw/XoqLKumYSR4CZSEB9AtyApb5DjoAEHE9A1gsOXnQ6e+rRr6J+j20FPr0O0B5LWPB1xTDghrd9v8YNxG1aZjYGfrgKWw6d04W75fJqeGPgZXAV9+teRfGpXnYgblUfazjWT7/OtU63dOtcAuJGJuuaSRwBZlKBgKzzlP8OqTB7zNUY1m43zQC+ukcP7oZ3gCuHmYNZsFdONjD/CWDtJ4VjNewF9J8ARCfkf5Z1HnivDXC2wOMLS10CjFmrb3ehh7YO/2rDIUxcsQ87j6WUWG+VOC8evrYpBrWtw/V58GaliRDWx640FuwphG7t4SpDVLqVwYJ9NdCvfWwvjizrmkkcAWYiAfUJcAOW+g45AhJwPAFZLzh40ensqUe/Cvv9cx3w2Q1AVqp+EB0fBq55IaANWFqAo+fScfP7K3D4bLou3qPXNMSDPRooDMp5pfO4dZ7TgiOiX+f6pVu6dS4BcSOTdc0kjgAzqUBA1nnKf4dUmD3magxbt1npwHut9RueKjYG7l1R9N2pzODVbke18h1gcRF3sKraErhtJlCqcm7kpa8AS1/WZ9HuUt28v+69g6fSMHn1fkxfcwDn0ot+zKDWQfsdVLeGSWgccRQNS3tx7bU9ERcXZ2YU7CMpgbA9diX1YWVZdGslTbli0a1cPqyuhn6tJlp8PFnXTOIIMBMJqE+AG7DUd8gRkIDjCch6wcGLTmdPPfpV3O+epcDUAUBOpn4gVz+P81fei0WLFvne79nT2Be1f/x1DgPGrURqZo4u3tu3tsRNLaspDss55fO4dY7LokZCv871S7d061wC4kYm65pJHAFmUoGArPOU/w6pMHvM1Ri2ble+Byx6Rg9t8HSg0XXmQJbUa8uXwFf3Fl57l6kJDJ0FRMYC77cBsgv8oKlWJ2D4HN9OKu0xg6v2nPTd7er7rUfhKeExg6ViIzGoVQ3c0b42Ksa7Al7XWz94RrSLQNgeu3YBlSgu3Uokw+JS6NZioJKFo19xQmRdM4kjwEwkoD4BbsBS3yFHQAKOJyDrBQcvOp099ejXAX63fgfMvAPwenSDybz2dcw/Vsn3ntENWFrbH7cdxV2frdV9IRwd4ca0u9uiVe3yDgCm/hB43KrvsKQR0K9z/dIt3TqXgLiRybpmEkeAmVQgIOs85b9DKsweczWGpdvzp4G3WwLpZ/Kh1ewAjJiXe+soO177VwKfD9bn1PLElgG0O28d/CU/q8sNjFqO8+Wb4JuNhzBx5T5sO5JcYlX1KiZgeMc66Ht5NSTERPrahqVbO9xJGpN+JRVjQVl0awFESUPQraRiLCqLfi0CaSCMrGsmA6WzCQmQwAUC3IDFqUACJCA9AVkvOHjRKf3UCapA+g0KnzydN0wBvnlAV48XLqytfT/+Ktc2oA1YWpBPV+zFC9/9oYtXPiEaX93fAbUqJMgz7jCthMets8XTr3P90i3dOpeAuJHJumYSR4CZVCAg6zzlv0MqzB5zNYalW+2RgCve1gO76wegeitzEI32OrETmNIPOLO/xB4pl43Ae7H3YvqvB3AmLavEtt0bV8LwDrXRqX4S3G795rGwdGvUhQPa0a8DJBYzBLqlW+cScPbIeOyK8yvrmkkcAWYiAfUJcAOW+g45AhJwPAFZLzh40ensqUe/DvK76n1g4dO6AXlcEVhd9xFc3v8xxMXFBTTY577Zgs9W6b9U1n6RO/u+jigTHxVQLDa2lgCPW2t5yhaNfmUzYl09dGsdS9ki0a04I7KumcQRYCYVCMg6T3muUmH2mKsx7NyeOQi8eyWQk5EPrOlNwMBJ5gAG2ivlGDBtEPDX+iJ7prhLo/P513Ham1hs5MSYSAxoVd33mME6ScX/yCns3AbqQvH29Ku4wBLKp1u6dS4BZ4+Mx644v7KumcQRYCYSUJ8AN2Cp75AjIAHHE5D1goMXnc6eevTrML8/vggse003qGx3NDx93kF0i75AZIzhAWfneHDXpLVYuv24rk+HehUwcUQbREe6DcdiQ2sJ8Li1lqds0ehXNiPW1UO31rGULRLdijMi65pJHAFmUoGArPOU5yoVZo+5GsPO7Vf3AZum5cNyRwIPrAEq1DMH0EyvzFTgy7uA7fMK9X4q6058ntOjyKjaZivtblf9rqwObROWv1fYufUHxGGf06/DhBYYDt3SrXMJOHtkPHbF+ZV1zSSOADORgPoEuAFLfYccAQk4noCsFxy86HT21KNfh/n1eoF5jwO/flx4YLFlAO1Xwc0HALU6Au4Iv4NPychG/w9WYtuRZF3bQa1q4JV+zeFy6R+P4DcgG1hCgMetJRilDUK/0qoJujC6DRqhtAHoVpwaWddM4ggwkwoEZJ2nPFepMHvM1RhWbo9sAcZ1AuDNh9X6bqD36+bgBdPLk4NzX/0/lN78aV6UzZ7auCnzRXig/8FS14YVMbxjbXRtULHQYwZLKiGs3AbjQtG+9KuoOANl060BSIo2oVtFxRksm34NgrKgmaxrJguGxhAkEDYEuAErbFRzoCSgLgFZLzh40anunDJSOf0aoaRYG48H+OoeYPMXxRdeqipwaV+geX/gksuBEjZSHTpzHje/vwLHkws83gHAk70a476rBP7CWDENdpbL49ZOuqGPTb+hd2BXBXRrF9nQx6VbcQ5kXTOJI8BMKhCQdZ7yXKXC7DFXY1i5ndIf2LU4H1R0IvDgRiCxojl4QfRauv0YHvx8Pa7N+gF3RCzCEW8FPJ01EsdRzhc1IToC/a+sjjs61Ea9isU/jrCkEsLKbRAuVO1Kv6qa81833fpnpGoLulXVnLG66dcYJytaybpmsmJsjEEC4UKAG7DCxTTHSQIKE5D1goMXnQpPKgOl068BSCo2yclCzue3IWLXIv/Vl6+be1esZv2Big2LbP/bn2cw8MNVSM/y6D4fO+QKXN+8qv8cbGEpAR63luKULhj9SqfEsoLo1jKU0gWiW3FKZF0ziSPATCoQkHWe8lylwuwxV2PYuN3zEzDpRj2kq54GrnrSHDiTvbxeL8Yu3Y3XF22HdhPqi1+1KsRjWPva6N+qOkrHRpnMktstbNwGRUndzvSrJcCo7wAAIABJREFUrjt/ldOtP0Lqfk636rozUjn9GqFkTRtZ10zWjI5RSCA8CHADVnh45ihJQGkCsl5w8KJT6Wnlt3j69YtI2QbnU1OwbcazqHHyZySlbjc2jiotLmzG6geUqabrs2DLEdw3dZ3uC+aYSDdmjGqPljXKGovPVpYQ4HFrCUZpg9CvtGqCLoxug0YobQC6FadG1jWTOALMpAIBWecpz1UqzB5zNYaFW+1Ozx93Aw5vzIeUWBkYsx6IMXd3KTO0UzOy8fisTZi3+Uih7g0rJ/ruFN2tUaWAHjNYUh1h4daMCIf0oV+HiCxiGHRLt84l4OyR8dgV51fWNZM4AsxEAuoT4AYs9R1yBCTgeAKyXnDwotPZU49+neu3oNtr2zVF7M65wJZZwJHNBgbtAmp1yH1EYdObgfjyvj4f/rQbL8/fpuuflBiDr+7vgBrl4w3EZRMrCPC4tYKivDHoV143wVZGt8ESlLc/3YpzI+uaSRwBZlKBgKzzlOcqFWaPuRrDwu3mWcCXd+oB9XkTaDXSHDQTvfadSMU9k9dix9GUQr17N6+KV/u3QEJMpInIxXcJC7eWElMrGP2q5SuQauk2EFpqtaVbtXwFWi39BkrMfHtZ10zmR8SeJBB+BLgBK/ycc8QkoBwBWS84eNGp3FQKqGD6DQiXUo2LdXtsW+5GLO0L7NN7/Y/JHQnU6+G7M5a3US88PXcvPl9zUNcvMSYSD/aoj+Ed6iA60u0/JlsERYDHbVD4pO9Mv9IrMl0g3ZpGJ31HuhWnSNY1kzgCzKQCAVnnKc9VKsweczU63m12BvBea+DM/nxAFRoA968GIqzd8FScgSXbj+GhzzfgXHq2ronLBTxxbWPc27UuXNr/sfjleLcW81ItHP2qZsx4vXRrnJVqLelWNWOB1Uu/gfEKprWsa6ZgxsS+JBBuBLgBK9yMc7wkoCABWS84eNGp4GQKoGT6DQCWYk39uvV6gUPrgc1fAL/PBlKO+h9hVDw8DXvhzSOXYdyhOsiC/svuukkJ+NcNTX2PXODLPgJ+3dqXmpEFEKBfAZBDlIJuQwReQFq6FQD5QgpZ10ziCDCTCgRknac8V6kwe8zV6Hi3qz8AFvxDD2fQVKBJH3PAAujl9XoxduluvL5oO7QldMFX6dhIvHvbFejasGIAEQNr6ni3geFwXGv6dZzSvAHRLd06l4CzR8ZjV5xfWddM4ggwEwmoT4AbsNR3yBGQgOMJyHrBwYtOZ089+nWu34DcenKAfctzN2P98R2QcdYvmHNIxJzs1vg6pxPWeBsDyP+1b/fGlfCvPk1RJynBbxw2CJxAQG4DD88eISZAvyEWYGN6urURbohD0604AbKumcQRYCYVCMg6T3muUmH2mKvR0W7TzwJvtwTOn8qHU6MtMHIhYMMdpwoaSM3IxmNfbML8LUcKiWlUuRQ+uuNK1Kpg75rX0W7NTXdH9aJfR+nUDYZu6da5BJw9Mh674vzKumYSR4CZSEB9AtyApb5DjoAEHE9A1gsOXnQ6e+rRr3P9mnarPd5h5+LczVg7FgDZ6X4hzctpg8ezRiEVcXltoyJcGNmpDsZ0bwDtEYV8WUfAtFvrSmAkGwnQr41wQxyabkMswMb0dGsj3ItCy7pmEkeAmVQgIOs85blKhdljrkZHu/3+BeDnN/RgRi4CarY1B8tgr70nUjFq8lrsOJpSqEfv5lXxav8WSBCwznW0W4MunNyMfp1rl27p1rkEnD0yHrvi/Mq6ZhJHgJlIQH0C3IClvkOOgAQcT0DWCw5edDp76tGvc/1a4jYjGdg2F9g8C9j9I+DNKRbYDk813JP1KPZ5q+raVCwVgyd7NUbfy6vB7c6/S5Zzyds/Mkvc2l8mM5gkQL8mwSnQjW4VkGSyRLo1Cc5EN1nXTCaGwi4OJiDrPOW5yrmTzrFuz/0FvHMFkH0+X17jPsCtU22VuWT7MTz4+QYkp2fr8mg33Hri2sa4t2tduGy++9bfiR3r1laD6gSnX3VcBVop3QZKTJ32dKuOKzOV0q8Zaub6yLpmMjca9iKB8CTADVjh6Z2jJgGlCMh6wcGLTqWmUcDF0m/AyJTpYLnb1BPA718BW74EDqwqkkMy4jEmczSWeloW+rxljbJ4/sZLof03X8ERsNxtcOWwt8UE6NdioBKFo1uJZFhcCt1aDLSEcLKumcQRYCYVCMg6T3muUmH2mKvRsW6/GQ1smJwPxRUBPPALkNTAHCg/vbxeL8Yu3Y3XF22H16tvXCYuCu8MvhxdG1a0JXdxQR3rVihFeZPRr7xugq2MboMlKG9/upXXjRWV0a8VFI3FkHXNZKx6tiIBEtAIcAMW5wEJkID0BGS94OBFp/RTJ6gC6TcofFJ3ttXtmQO5G7FWvA2cP63j4IUL/8sZiPeybtQuwQox6n9ldTzRqxEqlYqVmp/MxdnqVuaBh0lt9Otc0XRLt84lIG5ksq6ZxBFgJhUIyDpP+e+QCrPHXI3nj+3Fic/vQ5nzBxHb4W5Ed3nYXCCZeh3bCnzQAfB68qu6cgRww1u2VJmSkY3HZm7Cgt+PFIrfuEopfHj7lahVIcGW3CUF5XErHLnQhPQrFLfQZHQrFLfQZHQrFLfwZPQrDrmsayZxBJiJBNQnwA1Y6jvkCEjA8QRkveDgRaezpx79OtevELen9gLThwDHfi8E8tf4zhh2agTSUHijVWJMJMZ0r48RHesgOtLtXAk2jUyIW5tqZ1j/BOjXPyNVW9Ctqub81023/hlZ1ULWNZNV42McZxCQdZ7yXOWM+VVoFCnH4ZnQC+5Tu/I/GjobqN9D7QFPGwTsWJA/hqgE4MENQKnKlo9r74lU3DNpLXYeSykUu3eLqnitfwvER0dantdIQB63Riip24Z+1XXnr3K69UdI3c/pVl13RiqnXyOUrGkj65rJmtExCgmEBwFuwAoPzxwlCShNQNYLDl50Kj2t/BZPv34RKdtAmNvMVOCbB3IfT3jRK6VMQ4zKehQrTpUukmOdpAQ826cpujWupCznUBQuzG0oBsecoF/nTgK6pVvnEhA3MlnXTOIIMJMKBGSdp/x3SIXZE2CN588An/UBjmzWd2zUGxg8LcBgEjXf9zMwsbe+oK5PAt2etrzIJduP4cHPNyA5PVsX2+0CnujVGKO61IXLVfjOzpYXUkxAHreiSIcmD/2GhruIrHQrgnJoctBtaLiLykq/okgDsq6ZxBFgJhJQnwA3YKnvkCMgAccTkPWCgxedzp569Otcv0Lder3AireA718A4NVB9caWxfxGL+KJjZWgPdahqFe3RhXxrz5NUbdionOFWDgyoW4trJuhjBGgX2OcVGxFtypaM1Yz3RrjZEUrWddMVoyNMZxDQNZ5ynOVc+aYbyTaD2Em9wUOri48MFcE8OhWW+4WZTtFbW05vgdwaF1+qoSKuXe/iillWXqv14v3l+zC/xbvgJay4KtMXBTeHXw5ujSsaFk+s4F43Jolp0Y/+lXDk5kq6dYMNTX60K0ansxWSb9myQXeT9Y1U+AjYQ8SCF8C3IAVvu45chJQhoCsFxy86FRmCpkqlH5NYVOiU0jc7voemDUSSD+rZ+RyI6XTM3j+5NWYtf5QkfyiIlwY2bEORnevj1KxUUowDlWRIXEbqsGGYV76da50uqVb5xIQNzJZ10ziCDCTCgRknaf8d0iF2WOwxuwM4PNbgd0/Ft/hmv8DOj5kMKBEzbQ7K38xXF/Q9a8Dbe62rEjth0GPzdyEBb8fKRSzcZVS+PD2K1GrQoJl+YIJxOM2GHry96Vf+R2ZrZBuzZKTvx/dyu8omArpNxh6gfWVdc0U2CjYmgTCmwA3YIW3f46eBJQgIOsFBy86lZg+poukX9PopO8YMrcndwPThwDHtxZmdGlfbLriRTy7YB82HTxTJMOkxBg82asR+l1RHW7tuQ98FSIQMrd0IYQA/QrBHJIkdBsS7EKS0q0QzL4ksq6ZxBFgJhUIyDpPea5SYfYYqDEnG5g1Atj6bcmNkxoCD6wBQvj4PAOj0TfJzgTGtgVO7cl/v3w94IFfgAhrfqSz90Qq7pm0FjuPpRQqr3eLqnitfwvER0cGXLpdHXjc2kVWjrj0K4cHO6qgWzuoyhGTbuXwYFcV9GsX2cJxZV0ziSPATCSgPgFuwFLfIUdAAo4nIOsFBy86nT316Ne5fkPqNiMF+Pq+ov8oULkZPAOnYPa+KPx3wTYcT84oUsJlNcri+Rua4vKa5ZwryeTIQurWZM3sZpwA/RpnpVpLulXNmPF66dY4q2BbyrpmCnZc7O8sArLOU56rHDDPPB7g2zHAxim6wXhjy+G3pBtx2Z+f6Qc5chFQs606A//lI2D+4/p6B3wGXHqzJWNYsu0YHpy+Acnp2bp42u9+nujVGKO61IVLsg1rPG4tUS9tEPqVVk3QhdFt0AilDUC30qqxpDD6tQTj/2fvPMCjKtY3/qYnJKEm9N577wLCBQWlWgABBVFEBRT7X/SqeO2CKCiI4vViAREQRKqIqCC9d5QiBukBQoCQuvt/zkazOewm2c3uzs7Mvud5fNQ9M195f985zLCzMy4ZkXXO5FLwbEQFqIBNAS7AYiFQASogvQKyDjg46JS+dDwKkHw9kk/qzn5na7UCa98BVr8KwGrWKqoEcOf/cKViR7y/+hA+/fUPZGRd1+bvHrc3r4B/96yPktHhUustMji/sxWZbAD6Il99oZMt2eqrgLjMZJ0ziVOAnlRQQNY65Z9DKlRPPjEa86vvnwM2TjM3Co9B6sC5+H7POXQ98Axi0s7Y7ze7B+j7gRqJpyYDU5oBKYn2eCu0BEas8ngXL6vViqk/HcY7P/wOQ8bcV7GoMLw/qBk61Y6XUic+t1Ji8VpQ5Os1KaUzRLbSIfFaQGTrNSmlNES+4rDIOmcSpwA9UQH1FeACLPUZMgMqoL0Csg44OOjUu/TIV1++0rD9fSXwzQgg7ZJZ7KBg4Kb/AO3G4I/zKXh1yX78ePCsUyDxsRF4+87G6FKntL7A3MhMGrZuxMymritAvq5rpVpLslWNmOvxkq3rWnnaUtY5k6d5sb9eCshap3xXKV5nP78J/PyGOYmQCODu+bhWthVWrlyJWqcXo/6pefY24THAk78BETHyJ7/6NWDN2+Y4hy8HqrT3KPYraZl4au4urNh32sFO3bKx+PielqhcqohHPnzZmc+tL9X1v23y9T8DX0VAtr5S1v92ydb/DHwZAfn6Ul2zbVnnTOIUoCcqoL4CXIClPkNmQAW0V0DWAQcHnXqXHvnqy1cqtuePAF8NAhJ/cxS8UX+g9xQgvAh++u0sXlm8H0cTrzoFM7RdFYy7pR6iwkP0BedCZlKxdSFeNnFPAfJ1Ty+VWpOtSrTci5Vs3dPLk9ayzpk8yYl99VNA1jrlu0rhWtswDfh+nDmBoBDgrllAnVvwD9vIjIu4ed/jCLJa7G37TgWa3S138pdPZ+9+lZFij7P2LcDgOR7FfSzxKkZ+sRW/n7niYKdn43KYcGdjFAkP9ciHrzvzufW1wv61T77+1d+X3snWl+r61zbZ+ld/X3snX18rbLcv65xJnAL0RAXUV4ALsNRnyAyogPYKyDrg4KBT79IjX335Ssc27TKw8CHg4BJH0cs2AgbOAkpUQXqmBZ+tP4bJPx6C8Wvl668a8dGYfFczNKxQTF94BWQmHduAJeGbxMnXN7rKYJVsZaDgmxjI1je6OrMq65xJnAL0pIICstYp31UqVI+TGHd8CSwafd2NIOD2GUDj/rbPc7Ptlfw5Qo6ssrev3A64b4XcyS8eC2ybaY/R2C354Q1A6bqFjvuX38/hkdnbkZxqnlMGBwHP9KiLBztVR1BQUKHti+rI51aU0v7xQ77+0V2EV7IVobJ/fJCtf3QX5ZV8RSkNyDpnEqcAPVEB9RXgAiz1GTIDKqC9ArIOODjo1Lv0yFdfvlKytViAtROBn15zFD6qJNB/JlD9Rtu9s8mp+L9vduOn3845tA0NDsLjN9XGQzfWQIjxN+gBdknJNsAY+DJd8vWluv61Tbb+1d+X3snWl+qabcs6ZxKnAD2poICsdcp3lQrVc12M+xcB8+4Fcu9oZTTpOQlodX9O49xse1TNRMTC+8yGxmwF4mrJKcClE8DkxoAl10Kp5kOBPu8XKl6r1YqP1hzF2ysOwmI1mygWFYb3BzVDp9rxhbLtj058bv2hujif5CtOa9GeyFa04uL8ka04rf3hiXzFqS7rnEmcAvREBdRXgAuw1GfIDKiA9grIOuDgoFPv0iNffflKzfa35cCCkUBashmAcYzGza8CbR8GgoJg/OX5rE0JeHXpfqRm5DpG4+9eraqWwKQBTVGpZBF9QTrJTGq2AUXCN8mSr290lcEq2cpAwTcxkK1vdHVmVdY5kzgF6EkFBWStU76rVKieXDEeXgXMvguwZJgD7zYe6PC46TMT266dETWtOZCSaG9zw2PATS/LKcDKfwPrcy22Co0EHt0JFC3ndrwp6Zl4Zv5uLNl9yqFvnTKx+HhoC1QpFe22XX924HPrT/V975t8fa+xvzyQrb+U971fsvW9xv70QL7i1Jd1ziROAXqiAuorwAVY6jNkBlRAewVkHXBw0Kl36ZGvvnylZ5t4CPhqEHD+kCOExgOB3pOBsCjbvSPnruCxOTux58Qlh7YxEaF4uU8D3N68ghJHSHij4qRn640kA9gG+eoLn2zJVl8FxGUm65xJnAL0pIICstYp/xxSoXr+jjFhI/B5PyDzmjloY+GVsQDrusuB7ZpXgQ0f2FvFlAEe3w+EhBZahBNJ13D+ShoalC/mvV2IUy8BkxoA6ZftcbUaAfR8x+04j19IwcgvtuHAqet+5APgloZlMbF/E0RHFD5/twPyUgc+t14SUlIz5CspGC+ERbZeEFFSE2QrKRgvhUW+XhLSBTOyzplcCJ1NqAAV+FsBLsBiKVABKiC9ArIOODjolL50PAqQfD2ST+rOSrA1/sJ9wYPA78sdtSzXBBg4CyheyXYvI8uCyasOYdrPhx2OkjDu92xUDq/d1hDFi4RLzcUbwSnB1huJBqgN8tUXPNmSrb4KiMtM1jmTOAXoSQUFZK1T/jmkQvUAOLULmNnLcbfglvdlHz0Y5HgEuwPby8eAaW3NCQ+aA9S5pVAifL0lAeMW7LHNw6rHR2PcLfXQrV5pz38As24K8MMLuWIKAh7ZBpSq4Vac6w8nYvTs7biYYt4tzJDqqZvrYFTnGp7H6lZE3mvM59Z7WspoiXxlpOKdmMjWOzrKaIVsZaTivZjI13taFmRJ1jlTQXHzPhWgAnYFuACL1UAFqID0Csg64OCgU/rS8ShA8vVIPqk7K8PWYgF+eQv45U1HPYvEAQM+A6p2yLm39dgFPD53J45fuO7X4ADKFI2w/bK5Y614qdl4GpwybD1NNED7k6++4MmWbPVVQFxmss6ZxClATyooIGud8s8hBarH2CX40x7m4wONsBv1B277GAgOdpqEU7YzugInttrb1+0F3DXLbRF2HU/CndPXIyPLaurbtnpJPH9rfTSqWMxtm7YOmenA5CbA5ZP2/vX6AAO/cNmecWT9p+uO4fVlB5BlrA7LdcVGhmLKXc3QpW5pl+3J2JDPrYxUvBcT+XpPS9kska1sRLwXD9l6T0sZLZGvOCqyzpnEKUBPVEB9BbgAS32GzIAKaK+ArAMODjr1Lj3y1ZevcmwPLAEWPgikXzFDCQoBmg0B2o8F4mra7l1OzcB/Fu/HvG1/OQV43w3V8EyPOogMC9ESsHJstaTgu6TI13fa+tsy2fqbgO/8k63vtL3esqxzJnEK0JMKCshap3xXSV49ScezF18lXzfHqd0DGPglEBKWZwJO2W6bCSwea+8THAo8cQCIcX1BUnJqBnpOWev0xy//GL6tWQU81b0OKhTPPj7e5WvXnOz5X+7r/lVApVYumUjNyMJzC/dgwfYTDu1rlo7Bx/e0QPX4GJdsydyIz63MdDyPjXw911BWC2QrKxnP4yJbzzWU2QL5iqMj65xJnAL0RAXUV4ALsNRnyAyogPYKyDrg4KBT79IjX335Ksn27EFgzmDgwhEnYIKA+n2AGx4DKjS33V++5xTGLdyDpOuOmjDu1S4Tg/cGNkP98kW1g6wkW+0o+C4h8vWdtv62TLb+JuA7/2TrO22vtyzrnEmcAvSkggKy1infVRJXz5Wz2Yuvrp8HVe0IDJkHhOW/uMkp29RkYGJtIDPXzsE3vQLc8KhLQhi7S435ageW7j5VYPvw0GDc36EaHu5cA0Uj814olmPIagWmdwDO7LXbrtwOuG9Fgb6MBieTruGhL7dh91+XHNp3q1cG7w5sglhX4nDJm38b8bn1r/6+9k6+vlbYf/bJ1n/a+9oz2fpaYf/aJ19x+ss6ZxKnAD1RAfUV4AIs9RkyAyqgvQKyDjg46NS79MhXX77Ksr2WBCwYCRz6Pm841TtnL8Sq3hlnLqfhqXm7sPZQokP78JBgPNW9NkZ0qI7g4CBtYCvLVhsCvk2EfH2rrz+tk60/1fetb7L1rb65rcs6ZxKnAD2poICsdcp3laTVc+0iMLOXeTGSEWr55sCw74CI2AIDz5PtwoeAXV/Z+8fVAUZvAoIKnhvN2vQnnl+Ya4EUgLplY3E5NRMnkhyPgzeclIwOx2PdamFQ68oIC3F+XKItmMM/Al/ebs7rrtlA3Z4F5rrp6HmMnr0diVfSHdqO7VoLxj+c+xUoIxtIogDfy5KA8EEYZOsDUSUxSbaSgPBRGOTrI2GdmJV1ziROAXqiAuorwAVY6jNkBlRAewVkHXBw0Kl36ZGvvnyVZmuxAGveBta+A2Q5/sV6DrVyTYEOj8NSpxc+33Qcbyw/iLRMiwPUttVLYtKApijv7rEYkpaH0mwl1VSmsMhXJhrejYVsvaunTNbIVhwNWedM4hSgJxUUkLVO+a6SsHrSrgBf3Ab8tdkcXHw9YPgyoEhJl4LOk+2xdcDMW8027v8BqNQ6X7sHTyej7wfrTHOrYlFhWDa2I0pFh2Pm+mOYuvowLqdlOrVTPT4a426ph271SiPI2WKvz/sBR3+y9y1VExi9BQjOe9GWsSPXlxv/xMuL9yPTYjX5jQ4PwaSBTdG9QVmX9FKpEZ9blWi5Hyv5uq+ZKj3IVhVS7sdJtu5rplIP8hVHS9Y5kzgF6IkKqK8AF2Cpz5AZUAHtFZB1wMFBp96lR7768tWC7eXTwMYPga2fAmnJecMqWcN2lMbhcr3w6LwD2H/KsW1sZChe7dcQfZtWUB66FmyVp+C7BMjXd9r62zLZ+puA7/yTre+0vd6yrHMmcQrQkwoKyFqnfFf5t3osFisupKSjZJHw7B2aMtOA2QOAoz+bAytRFRi+AihazuWA82RrHPX3fnPgwlG7reZDgT7v52k7JT0Tvd//FUfOXTW1+eieFqYFTuevpGHKj4cwa1OCw4Kofzq2qVYSz/esh8YVi9ttndoNfNTR7L/Xe0DL4XnGlJaZhRe/3Yevtx53aFO1VBHMGNoStcoUvFOYy4JK1JDPrUQwfBAK+fpAVElMkq0kIHwQBtn6QFSJTJKvOBiyzpnEKUBPVEB9BbgAS32GzIAKaK+ArAMODjr1Lj3y1ZevVmxTL2UvwtowDbh6Nm9oMWWR2eZhTEnqgPfXn4HxfcP1V58m5fFKv4YwfsGt6qUVW1Uh+DBu8vWhuH42TbZ+BuBD92TrQ3GvMy3rnEmcAvSkggKy1infVflUjzFx+PVd4MB3QFgRoExDoGwjoGxDwNiNKizSo9LbkXART87bhaPnrqJppeL4aEgTlFnxIHBwidlubDngvhWAsQjLjStftmsmAqtfsVsLjwGe+h0Ij3bq4el5uzBv21+me/e2r4rxfRo4bX/k3BW8tfwgVu4/k2fEtzWrgKe610EFY0di47j53V/b20bHA4/tzVPjM8mpeOjLbdiRkORgv3OdeEy+q5nSc7uCMPO5LUghte+Tr9r88ouebMlWXwX0zozPrji+ss6ZxClAT1RAfQW4AEt9hsyACmivgKwDDg469S498tWXr5ZsM1KBXbOBdVOAi3/kDS+iGE7UGowHD7XG3ksRDu3KF4vExAFN0L5GnJIFoCVbJUn4Jmjy9Y2uMlglWxko+CYGsvWNrs6syjpnEqcAPamggKx1yndVPtWz5RNg6ZPOGwSFAHG1/l6U1RAo8/fCrJgygLPj9XJZsR2btykB/1m8DxlZ2b8OCYIFH8V+ipszVpv9RZUEhi8HStd1u8zzZZt8Eni3AWDNdVR732lAsyEOfhbu+AuPf73L9HnDCkXxzcPtEREakm9cm46ex2vLDmD3X5ectgsPDcZjrYrg4V23I8iS6+jCLs8DNz7jtM+2Py/aFl+du5zmcH9U5xp48uY6CDF2E9P44nOrMVwA5KsvX7IlW30V0DszPrvi+Mo6ZxKnAD1RAfUV4AIs9RkyAyqgvQKyDjg46NS79MhXX75as7VkAfsXZf9K/fTuPCFaQyKwPrY7xp3pggRrGVM747uSkR2r44mbaxf4ZYJsVaI1W9nE9kM85OsH0QW5JFtBQvvBDdmKE13WOZM4BehJBQVkrVO+q/KonmsXgSnNgWsX3CuvInHZO2Tl7JbVCIirDYRk77R7LT0Lzy/cgwU7TuSya8VLoZ9jeOj3Zl/hscCw74AKzd2L4e/WBbKd1R84tNJuu3J74L7lJl9Hz11Br/d/RUp6Vs7n0eEhWPJoR1SLc75b1vXBGscsLt59Em+v+A0nkq455PJc6CyMDF1q/zw0CnhiP1CkpEPbOZsT8MKivTkL1/5pEBUWgon9m6BnY9ePaCyUqJJ0KpCtJHEyjMIpQL6F002FXmSrAqXCxUi2hdNNlV7kK46UrHMmcQrQExVQXwEuwFKfITOgAtorIOuAg4NOvUuPfPXlGxBsjaNCjqwG1r0H/LEmT5hWBGMF2uL9tF7SbIhHAAAgAElEQVTYbzUf51GnTCwe6FQdvRqXQ2RY/r/qlqVaAoKtLGL7IQ7y9YPoglySrSCh/eCGbMWJLuucSZwC9KSCArLWKd9VeVTPiueAjVO9U1oh4UB8HVwpXg+zjsXi5+SyOGCpjCTE2uw/HjoPY0MXmnxZQyMRdPc3QNUOhY6hQLbGj1fmDjXbH7MNiKtp+yw1Iwu3T1uP/aeSTW0m39UUfZtWcDsuw97M9ccwdfVhXE7L3u0qFilYH/EIYoPsC7MSag5BpSFTEZRrJ7H0TAteWbIfX2z808FvpZJR+PielqhXrqjbManaoUC2qibGuG0KkK++hUC2ZKuvAnpnxmdXHF9Z50ziFKAnKqC+AlyApT5DZkAFtFdA1gEHB516lx756ss34Nj+tQ1Y9y5wYAmA7OM9nF2/ZDXGh1l9sNFSz3YAyD9X0chQ3N68Iga1row6ZbO/IJH1Cji2soLwUVzk6yNhJTBLthJA8FEIZOsjYZ2YlXXOJE4BelJBAVnrlO8qJ9WTeBiY1gbIfSRehZZAsQrA6T3ABePY87znFq7W4ylrSSRYS6NN8EFTlwxrCCbHjceYh0Z79GOQAtlmpgOT6gIp5+3+OzwOdBtv+/+XFu3FZxvMC54GtqyEt+5s7GqKTtudv5KGKT8ewqxNCbgv6Ds8F/ZVTrssaxC6pE9Cuar18HzPemhcsbjtqMHRs7Zj8zHH3cg61IzD+4OaoUR0uEcxqda5QLaqJcR4TQqQr74FQbZkq68CemfGZ1ccX1nnTOIUoCcqoL4CXIClPkNmQAW0V0DWAQcHnXqXHvnqyzdg2SYeAtZNBnbNASwZeQLeYamJ6Zm9sdLSAsYOWbmv5pWLY3CbKujZqByiwuXbFStg2er7uPIv4ck2QBTQN02+l8WxlXXOJE4BelJBAVnrlO8qJ9Xz1SDgt2X2G8YOVqM3AyWrZX+WdgU4uz97MdaZvcDpvcCZfUDGVY9L0WINwtiM0VhsaY9u9crgw7ubIyzEPC9x1YlLbK/f6SumLPD4Pqw4kIiHvtxmclWrdAy+G9PBa3OhI6cvoOSMViiRlZjjZ2lWa4zOeCzn/40dibf9eRGnLqU6pP1Ax2r4vx51EVpIfVzVUcZ2LrGVMXDG5JIC5OuSTEo2IlslsbkUNNm6JJOyjchXHDpZ50ziFKAnKqC+AlyApT5DZkAFtFdA1gEHB516lx756ss34NkmnwQ2TAW2zQTSr+QJ+jdLRTyeMcrhaEKjQ6yxK1azCrbFWDLtihXwbPV9bG2Zka++gMmWbPVVQFxmss6ZxClATyooIGud8s+h66rn6M/A533NH94wFrjpP/mXmcUCXPzj7wVZe2yLsrJO7UHI5b/cKs9xGffjq6yuOX36NCmPdwc2RUiwfZdeVw26xPbMfuDDdiaT53p/jq6LI5Gcmn1MoHFFhAbbFl95df6z8yvg24dMvvum/Qe7rNlHIOZ1GbG8dUdj9Gvm/jGIrmonezuX2MqeBOPLUwHy1bc4yJZs9VVA78z47IrjK+ucSZwC9EQF1FeAC7DUZ8gMqID2Csg64OCgU+/SI199+ZLt32yvXQS2fAJsnA6k2H9xnZv8VWsEHsl4BKstzfMsCGNXLON4wl6Ny3vtl+CFrT6yLaxyavQjXzU4FSZKsi2Mamr0IVtxnGSdM4lTgJ5UUEDWOuW7Klf1WLKAjzplL6L654qOBx7ZDkQWdavMdh5Pwqgvt+HKpUTUCzqOesF/ol5QQva/Q/5CmNVxV96TrZ/DzZua4kqafeGT4fSuVpXwxu2NEBTk3iIsl9nO+Bdwwr7b1caI9rjr0hhTvoZ/Y97jtctqBT68ATi7L8dkYqmW6Hv1eZxIupanm/LFIvHx0JZoWKGY10JR0ZDLbFVMjjHzxzca1wCfXX3hkq2+bI3MyFccX1nnTOIUoCcqoL4CXIClPkNmQAW0V0DWAQcHnXqXHvnqy5dsr2ObcQ3Y8SWwfgqQlOAA3oJgvBs8DO+ndAOQ9xce/+yKNahNZdQt696XM96qNrL1lpJy2iFfObl4Iyqy9YaKctogW3FcZJ0ziVOAnlRQQNY65bsqV/UYu+QuHmsup17vAS2Hu1xiVqsVszYl4OXF+5CRZTX1Cw0OwvM96+HethURdP7w30cX7gFSLgC1uwP1emPzHxcw9NNNSM2wmPre36Ea/t2znluLsFxmu/VTYMnjOf4yrCFol/YBEpG9yKl3k/KYcldTt3wXKNjhVcCXd5ibDZqD1Oo3Y+b6Y5i6+jAuX7cQrU21kpg6pDniYiIKNK97A5fZ6i6EpvmRr6ZguYhDX7BkqzVbIzm+l8UhlnXOJE4BeqIC6ivABVjqM2QGVEB7BWQdcHDQqXfpka++fMk2D7ZZmcC+hcDad4BzBxwa/VljMManD8XPhy/A+LF2fpe/dsUiW32fW/5lD9nqrYC+2fG9LI6trHMmcQrQkwoKyFqnfFf9XT2pl4Apzc2745ZpCDy4BggOcanErqVn4flv92DB9hMO7csUjcDUwc3RsmrJAm2t+f0cRny2FelZ5kVYj3athSduql1g/38auMzWyH1iHSDTvvPUqxlD8ElWT1QpVQRLHumA2Mgwl/261PCzPsAfv9ibxtUGRm0CgoNtn52/kob3Vx/GnC0JtvnX0HZV8EyPuggLyb4f6JfLbANdKEXzJ19FwbkQNtm6IJKiTchWUXAuhk2+LgrlhWayzpm8kBpNUIGAUYALsAIGNROlAuoqIOuAg4NOdWvKlcjJ1xWV1GxDtgVwy0wDvnsE2P21Y8Oa3fBX12mYszsJX289jnOX0/I1JnpXLLJV85l0NWrydVUp9dqRrXrMXI2YbF1VyvN2ss6ZPM+MFnRSQNY65bvq7yr74UVg3WRzyQ1dBFTv7FIZ/nn+Kh78YhsOnr7s0N7YuemDwc0RH+v6zk3f7zuNUbO2I8ti/vXHc7fWxchONVyKyR22174egagD83Ls/m6pgJ5ZE/DNwzegccXiLvlzudGpXdlHPea+ek8BWgxzMJGRZUFapgUxEaEumw+Ehu6wDQQ9dMuRfHUjas+HbMlWXwX0zozPrji+ss6ZxClAT1RAfQW4AEt9hsyACmivgKwDDg469S498tWXL9m6wNb4ifWaCcBPrzk2Ll0fGPw1MmIr4scDZ/HV5gSsOXSuwF2xmlUujsGtK6NX4/KICnftF/QuRGpqQrbuKqZWe/JVi5c70ZKtO2qp1ZZsxfGSdc4kTgF6UkEBWeuU7yoAF/4AprYGstLtpVTnVmDQVy6V1qr9Z/D43J24nJrp0P7BTtXxdPc6CC3Ezk3f7jhhs3v9Dryv9muIu9tWKTA2V9kai7xem/oxXjz/jMnm4lafo3fPvgX6cbvBNyOAPfbFXoguDTy2BwiLdNtUoHZwlW2g6qN63uSrOsG84ydbstVXAb0z47Mrjq+scyZxCtATFVBfAS7AUp8hM6AC2isg64CDg069S4989eVLtm6w3TMf+HYUkHXdTlfGFwTGlzEVW9qMHb+Qgq+3HHd5V6zbmlXAve2ronp8jBvBFNyUbAvWSOUW5KsyvfxjJ1uy1VcBcZnJOmcSpwA9qaCArHXKP4cAfH0PcOA7exkFh2YfhxdXM9/SMhYuvfvD7/jgp8MO7Ywdmybc2Ri3NCrnUXnO3pSA5xbuMdkICgImDWiC25pVzNe2q2yn/HgIk374DT+HP4GqwWdybFqbD0NQnykexe/QOek4MLkJYM2y3/rXv4FOT3vXj+bWXGWruQzapke+2qIF2ZKtvgronRmfXXF8ZZ0ziVOAnqiA+gpwAZb6DJkBFdBeAVkHHBx06l165KsvX7J1k23CJmDOYCAl0dwxNBK47SOgQb+cz43jMVYfPAvjS5KCdsWKCgvB9Hta4Mba8W4GlHdzsvWalFIaIl8psXglKLL1ioxSGiFbcVhknTOJU4CeVFBA1joN+HfVsXXAzFvNJdR2NNDj9XzL6sLVdIydswNrD103TwBQq3SMbaxfw0s/uJix5iheW3bAFE9IcBCmDm6OHg3L5hmnK2w3HT2PQTM2wjjpcHTIt3g6bK7dXngs8NRvQHi09x6xFc8BG6fa7YUVAR7fBxQp6T0fAWDJFbYBIIO2KZKvtmi5AEtftGSrMVsjNb6XxQGWdc4kTgF6ogLqK8AFWOozZAZUQHsFZB1wcNCpd+mRr758ybYQbI0jSWYPBBJ/c+zc9UWgwxOA8TP0XJexK9bcrcdtO2OdvXzdDlp/tytRJAwrHuuEMkW9c9QG2RaCrUJdyFchWG6GSrZuCqZQc7IVB0vWOZM4BehJBQVkrdOAfldZLMCMzsCpXfYSiioJPLodiCqRZ1ntPJ6EUV9uw8lLqQ5tejcpjzdvb4ToiFCvlqWx09bkHw+ZbIaFBOGTYa3y/FFHQWyNRWS3Tl6L08nZeZTFeayLeBQhQVa7n34fAk0HeyeXa0nAuw2A9Ct2e60fBG592zv2A8hKQWwDSAotUyVfLbHakiJbstVXAb0z47Mrjq+scyZxCtATFVBfAS7AUp8hM6AC2isg64CDg069S4989eVLtoVka3xZMG8YcPRnRwNN7wZ6vQuEhjvc+2dXrK82J+CX38/Bmuu7DKPxDTVL4Yv72iA42LyAqzBRkm1hVFOnD/mqw8rdSMnWXcXUaU+24ljJOmcSpwA9qaCArHUa0O+qHbOARaPM5XPrRKD1A05Lymq1YtamBPxn8X6kZ1lMbUKDg/B8z3q2o8aDrvtxhjfq0/D92tID+OTXP0zmIsOC8dnw1mhTvZSDm/zYGvbu/2yrbQff3Ncv5aeiyoV19o+q3AAMX+aNFIBf3wVWjbfbCgoGHt0BlKjqHfsBZCWgn9sA4Ey++kImW7LVVwG9M+OzK46vrHMmcQrQExVQXwEuwFKfITOgAtorIOuAg4NOvUuPfPXlS7YesM3KAJY9BWyb6WikakdgwOf5Hp3x18UU/Pvbvfj5t3Om/v/Xoy4e7lzDg8Cyu5KtxxJKbYB8pcbjUXBk65F8UncmW3F4ZJ0ziVOAnlRQQNY6Ddh3VdoV4P3mwJUz9vKJrws8tA4Icdy96lp6lm0s/832vxzKrXRsBKYNaY6WVX17jJ6xaOq5hXth/Lgj9xUTEYpZI9qgSaXips/zY/vJ2qN4dan5WMMONePwedtTCJ4/zJzjI9uBUh7OVzLTgfcaAVdO2203uA3o72RupcID7ecYA/a59bPuotyTryilxfshW/Gai/JItqKU9o8f8hWnu6xzJnEK0BMVUF8BLsBSnyEzoALaKyDrgIODTr1Lj3z15Uu2HrI1trDa8AGw8gUA121nVaomMHhuvl9OJKWk45bJa3Eq13Elxq/l5z/cHk2v+8LE3UjJ1l3F1GpPvmrxcidasnVHLbXakq04XrLOmcQpQE8qKCBrnQbsu+rHV4C1E82lM+QboFY3h3L68/xVPPTldhw4lexwr021knh/cDOUjvXOseIF1XKWxYon5u7Eop0nTU2LFwnD1yPboU7Z2JzP82K763gS7py+HhlZ9vlMXEw4lo3tiNJRwcCkukDKebt948j1bi8VFFr+953tNvbAT0CF5p7ZDdDeAfvcBghv8tUXNNmSrb4K6J0Zn11xfGWdM4lTgJ6ogPoKcAGW+gyZARXQXgFZBxwcdOpdeuSrL1+y9RLbA0uABQ8AGSlmg1ElgLtmA1Xa5+lo49HzGDRjo+k4wiqlimDpox1h/Hq9sBfZFlY5NfqRrxqcChMl2RZGNTX6kK04TrLOmcQpQE8qKCBrnQbkuyopAfigFZCZai+dmjcBd893KKXVB89g7JyduJya6XBvZKfqeKZ7HYSGBAstQeOY81GztuOH/bl27wIQFxOBeQ+1Q7W4aFs8ztgmp2ag55S1OH7hWk7MxomJxrHoHWrFZX+2YhywcZo9p9hywGN7ne4M5lLixo9YprUDzuXacatKB2D4Upe6s5GjAgH53AZQIZCvvrDJlmz1VUDvzPjsiuMr65xJnAL0RAXUV4ALsNRnyAyogPYKyDrg4KBT79IjX335kq0X2Z7cAcy+y3yMhmE+OAzo+wHQ5K48nb2z8je8v/qw6f7tzSpg0sCmhQ6QbAstnRIdyVcJTIUKkmwLJZsSnchWHCZZ50ziFPCvp4SEBEyZMgVLly6F8d8RERGoWbMmBgwYgFGjRqFIkSKFDjAzMxN79uzB5s2bsWXLFtu/9+/fj6ysLJvNP/74A1WrVnXZ/vnz522xfvvttzh27BiMI92qVauGfv364dFHH0WpUqVctuVuQ1nrNCDfVfPvA/Z+Y0cYFAKM2gDE1zFhPXg6GX3eX4f0LIvp8+jwEEzo3wS3Nirnbhl4rX1aZhZGfLYVaw8lmmyWLxaJeQ+3R4XiUQ4LsCIjIzHmqx1YuvuUqc/oLjXwdPe69s/O7AM+vO4HJcZOv7W7Fy7+Qz8As+409/XEXuGi0KpXQD63WhHMPxny1Rc22ZKtvgronRmfXXF8ZZ0ziVOAnqiA+gpwAZb6DJkBFdBeAVkHHBx06l165KsvX7L1MttLJ4DZA4EzexwNd3oG6PIcYPyk/LorM8uCAR9twPaEJNOd9wY2Rb9mFQoVJNkWSjZlOpGvMqjcDpRs3ZZMmQ5kKw6VrHMmcQr4z5Ox6GrIkCG4dOmS0yDq1KmDZcuWoXr16oUK8uWXX8b48ePz7OvOAixjAVffvn1x6pR58ck/xsuXL49FixahZcuWhYq1oE6y1mnAvasSNgGf3mzG1XokcOsEB4RPz9uFedv+Mn1es3QMpt/dAsa//X2lpGdi2KebseXYRVMoVUsVwdyH2iE21IqVK1fa7t18881YsPssnl+419S2ZZUSmDOyreMuXh93AU5ut7et1xsY+GXhUv6sN/DHGnvfuDrAqI1AsNidwwoXvJy9Au65lRODz6IiX59J63fDZOt3BD4LgGx9Jq0UhslXHAZZ50ziFKAnKqC+AlyApT5DZkAFtFdA1gEHB516lx756suXbH3ANu0K8M39wO8rHI03vAPoOw0Ii3S4d/xCCm6dvBaX0+zHmRhHEC57tCMql3J/pwiy9QFbiUySr0QwvBwK2XpZUInMka04GLLOmcQp4B9Pu3btQvv27ZGSkoKYmBiMGzcOXbp0se26M2fOHMyYMcMWWN26dW27Vxlt3L2MxVfGIizjMnbvadq0Kc6dO4cjR47YPnN1AdaJEyfQokULnDlzBqGhoXjiiSfQq1cvm40lS5Zg0qRJMHbbKlOmDLZt24YKFQq3ID6//GSt04B6V1kswH+7ASe22VFFFgMe3QkUKWnCZ+ww1fLVVaajB7s3KINJA5oi2oNjw919BgpqbxwpOGTGJuw5YV4EWadMLP43tCm2/PqTzUTVJu0x4JOtSMu07+ZVLCoMy8Z2tO2W5XBt+S+w9An7x8GhwBMHgZj4gkIy3z+5E/j4RvNnfT4Amt/jnh22NikQUM9tALInX32hky3Z6quA3pnx2RXHV9Y5kzgF6IkKqK8AF2Cpz5AZUAHtFZB1wMFBp96lR7768iVbH7G1ZAEr/w1snObooGJr4K7ZTr+s+G7XSTz61Q5TnyaVimP+Q+0QFuLeL8LJ1kdsJTFLvpKA8EEYZOsDUSUxSbbiQMg6ZxKngH88GYutfv75Z9uCpjVr1qBdu3amQCZMmIBnnnnG9pmxiOrFF190O9Dvv//edlRgq1at0LhxY5uve++9F5999pnNlqsLsHL3mTt3Lvr372+KZd68ebYjE41r+PDh+PTTT92OtaAOstZpQL2rds8FFjxgRtX9DaDdKAd8q/afwYjPt5o+X//sv1De2WKlguD7+P6Fq+kY+NEGHDp7xeSpYflY3FPhom1D3ulHi+JoYorp/oyhLXFT/TLOo7uWBLxTB8hMtd+/+TWg/Rj3spl/P7B3vr1PTBngsT1AaIR7dtjapEBAPbcByJ589YVOtmSrrwJ6Z8ZnVxxfWedM4hSgJyqgvgJcgKU+Q2ZABbRXQNYBBwedepce+erLl2x9zHbzDGD5/wHWLLOj4pWBwfOA0nUdAnhq3i7Mv+5ok1Gda+CZHo5t84uebH3M1s/mydfPAHzonmx9KK6fTZOtOACyzpnEKSDek7GjVevWrW2OH3zwQUyfPt0hCIvFgoYNG+LAgQMoUaKEbfepsLAwj4N1dwGW4dfY0SorKwvdu3fHihVOdi0F0KNHDxgLvkJCQmDsmGXshuXNS9Y6DZh3VfpV4P2WwOWTdqwla2QfhRca7oB67JwdWLTT3rZV1RKY91B7b5aEV22dTU5F/4824M/z5kVWNWKtKBFhxdZE8487ht9QFS/1bpB/DAtGAru/treJr5utl5Mj1p0aSkoAJjc1z426vgh0fNKruQeisYB5bgMRLmDbSTL38aFRUU52qQtQbVRPm2xVJ5h3/GSrL1sjM/IVx1fWOZM4BeiJCqivABdgqc+QGVAB7RWQdcDBQafepUe++vIlWwFsD60C5t0LpF82O4soCgz4DKjxL9PnV9Iy0WvKWhzL9WWJ8Z3GrBFt0L5GnMsBk63LUinZkHyVxOZS0GTrkkxKNiJbcdhknTOJU0C8p+effx6vv/66zfHGjRvRpk0bp0G8+eabtqMJjcv4Mvmmm27yOFh3F2AZRyGOHDnS5tc4GnHgwIFOYzDuDRo0yHbv448/xgMPXLdTkoeRy1qnAfOu+vlN4Oc3zBQHzQHq3OJANjUjCy1e+QFX0+0/qni5TwMMa1/Vwyrwbfe/Lqag//QNOHUp165VTlw2rFAU3zzcHhGhIfkH9Mca4LPe5jYjfgQqtnQtkRXjzDsEh0UDT+wDokq41p+t8lQgYJ7bAK0B8tUXPNmSrb4K6J0Zn11xfGWdM4lTgJ6ogPoKcAGW+gyZARXQXgFZBxwcdOpdeuSrL1+yFcT2zH5g9gDg0nGzw6AQoOc7QMvhps93/5WEOz5cj4wsa87nZYtGYvnYjigR7fiLfGdZkK0gtn5yQ75+El6AW7IVILKfXJCtOOFlnTOJU0C8p06dOmHt2rWIjo5GUlKS7WhAZ9eGDRvQvn32rkHGEYTGUYSeXu4uwBo6dCi++OILm9tTp06hbNmyTkMw7pUvX952z+jzzzGHnsb7T39Z6zQg3lWXTgAftAQycu0OVb0zcM+3TndzWr7nFB6etT0HfXAQsPG5rigdG+mtcvCZnaPnrmDARxuQeCXdqY+YiFAseaQDqsZFFxyDxQJMaQok/Wlv2+JeoPfkgvteuwhMagBkXLW3bfMwcMubBfdliwIVCIjntkAV9G1AvmSrrwL6ZsbnVl+2RmbkK46vrHMmcQrQExVQXwEuwFKfITOgAtorIOuAg4NOvUuPfPXlS7YC2V4+A8wZBJzY5ui03Rig23ggxH4Mz0e/HMEbyw+a2t5Uvww+vqcFglw45oNsBbL1gyvy9YPoglySrSCh/eCGbMWJLuucSZwC4j3Fx8cjMTERTZo0wc6dO/MM4OLFiyhZsqTtfv/+/TF37lyPg3V3AVarVq2wdetWFCtWzLZYLL/LaJOcnAyjz+bNmz2ONbcBWes0IN5VCx4Eds+x4wgKBh76FSjj/Ai+UbO2Ydme0znt29cohdkPtPVqPfjS2IFTybjr4424dC3Dwc2UQc3Qp0n2QkOXrl8mAD+9am8aHgs89RsQXsACrrWTgB9zLbg0fojy6A6gRBWX3LJR/goExHMbwEVAvvrCJ1uy1VcBvTPjsyuOr6xzJnEK0BMVUF8BLsBSnyEzoALaKyDrgIODTr1Lj3z15Uu2gtlmXAMWPgTs/9bRcdlGQN+pQLkmtnsWixXD/rcZaw8lmtq+0q8h7mlb8BcVZCuYrWB35CtYcIHuyFag2IJdka04wWWdM4lTQKyn1NRUREVF2Zz27NkTS5YsyTeAmJgYXL16FW3btoWxI5anl7sLsIwdr86cOYMGDRpg7969+bpv2LAh9u3bZ9sly9gRy53LqMP8LsNe69atbU1+//13VKxY0R3zPmtr8FyzZo3NvrGzWWSk/Ls8uSNG0KkdiPzcfMxgZtOhyOj+tlMzV9My0WHir0jNtOTcf7lXHQxoUcEdt35vu/tEMoZ/vh0p6fY87mxWDq/0qedWbEHJJxDxYUsEwb5Tb3rPKchqOCBvO5lpiJzeCkFXz+a0yazXDxl9prvlm43zVkD35zbQ2ZOvvhVAtmSrrwJ6Z8ZnVxxfY05Vu3Ztm8Pjx49LM2cSpwA9UQH1FeACLPUZMgMqoL0Csn6ZwC+U9C498tWXL9n6ga1xdMfqV4BfJzk6N34J3uExoNMzQFgkzianosfktbhw1X5kSERoML4b0wF1ysbmGzzZ+oGtQJfkK1Bswa7IVrDgAt2RrTixZZ0ziVNArKdz586hdOnSNqcDBw7EnDm5dhZyEkqZMmVw9uxZGIub9uzZ43Gw7i7AMo5JTElJQZs2bbBx48Z8/RttjJ2vjEVjly9fditWV3Ys/cfgJ598gri4OLfss3EhFLBa0eHQqyh19VBO54zgKKyqPwHpYUWdGtx6LghfHA7JuRccZMUrLbIQY9+4thCB+KfLkWTg80MhSEoPQsMSFgyrZUG4PTWXg2p7eCLKXN6d0z4xpi7W1Xouz/6Vz69Bs4RPTPd/rvMyLhWp5rJPNqQCVIAKUAEqQAWoABUIPAWMXZZHjBhhS5wLsAKPPzPWQwEuwNKDI7OgAlorIOuXCfxCSeuy47nmGuPls+tHuDu+BBY/BlgcjwJBXO3s3bAqtcbqg2dw38ytpkDrlInFojE3IDIs729MyNaPbAW4Jl8BIvvJBdn6SXgBbslWgMh/u5B1ziROAbGejL8Ir1y5ss3pPffcg88//zzfAIy2Rp8aNWrg8OHDHgfr7gKskJAQWCwWdOzYMWenp7yCMHaAWrt2LYw+mZmZbsXKBVhuySWkcfmLm9Dq2FSTr33lB+JwmZ55+p9xMBh7Lwbn3K9X3NTzBPcAACAASURBVIKH6tl3kRISuBedZFiA9CygSCjgwqnmTj2Xv7gZrY59YLpnLGK7GlHGsb3Vgi4Hn0fR1BM5987F1MP6WuO8mBVNUQEqQAWoABWgAlSACuioABdg6UiVOQWaAlyAFWjEmS8VUFABWb9M4BdKChaTGyGTrxtiKdaUbP0M7MQ2YNEY4Ox+J4EEAW0eArq+gPErjmHm+mOmNkPbVcF/+jbMMwGy9TNbH7snXx8L7EfzZOtH8X3smmx9LHAu87LOmcQpINYTd8ByrjePIBRbhwV6y7iGiE86IjjZfjSkpXgVpN2/BgiNcNo9OTUDHSb8igyL/bi9N/rWQ7+m5Qp0J2MDrx2XYxwpOK0Zgq5dyEkzo91YZHZyXFQVfOQHRMy/xyRH2p2zYKnRVUaJlI3Ja2yVVUDvwMlXX75kS7b6KqB3Znx2xfHlEYTitKYnKuArBbgAy1fK0i4VoAJeU0DWLxP4hZLXEEtpiHylxOKVoMjWKzJ6ZiQzHVj7DrB2ImBxsrNC8SpIv/U99F0ehgOnkk2+ZgxtiZvqO/mlOcCd6zyjIn1vPrvSIyp0gGRbaOmk70i24hDJOmcSp4BYT8YXEFFRUTanPXv2xJIlS/INwDjO7+rVq2jbti02bNjgcbDu7oBVtmxZnDlzBg0aNMDevXvz9W8ck7hv3z4YfU6dOuVxrLkNyFqn2r6r1kzMPgY89zXgC6B+nzy5ztt6HE/Ptx+1Fx4SjK0vdEPRSAXPH/T2/GD5s8CmD+3axZYDHt8HBF+3Q+/MXsCxtfZ28fWAURsKv/2WV59CfYxp+9zqg8ijTMjXI/mk7ky2UuPxKDiy9Ug+6TuTrzhEss6ZxClAT1RAfQW4AEt9hsyACmivgKwDDg469S498tWXL9lKxPbMPmDRaODkDqdBXao3CF333oTEjMic+yWKhOGTYa3QtFJxhAQHmfqRrURsfRAK+fpAVElMkq0kIHwQBtn6QNQ8TMo6ZxKngHhP8fHxMI6HaNKkCXbu3JlnABcvXkTJkiVt9/v374+5c+d6HKy7C7BatmyJbdu2oVixYkhKSsrXv9EmOTkZrVq1wubNmz2ONbcBWetUy3fV5dPA+y2A9Ct2BFU6APcuyXch0NBPN2PN7+dy+hg/fDB+AKHq5VW2p/cA0zuYpRg8D6h9s/2zE9uBGV3MbfpOA5oNUVVCaeP2KltpswzcwMhXX/ZkS7b6KqB3Znx2xfGVdc4kTgF6ogLqK8AFWOozZAZUQHsFZB1wcNCpd+mRr758yVYytlmZwMapwE+vA5mpDsGlRJTGI5fvwY+WFqZ7RSND0bZ6KbSvUQo31IxDzdIxMHajWLlypa3dzTffnLMzhWQZM5xCKsBnt5DCKdCNbBWAVMgQybaQwhWim6xzpkKkokyXTp06Ye3atYiOjrYtagoNDXUau7HjVfv27W33XnzxRbz88sse5+juAqyhQ4fiiy++sPk1drUydrdydhn3ypcvb7tl9Pnss888jjW3AVnrVMt3lfEjhx1f5pI/CBj5M1C+aZ5ML1xNR6vXViEr1/GDk+9qir5NK3i1DkQa8zrbj24ETuVacFmvDzAw+9myXfOGA/sW2P8/pizw2O48j3wUqYVuvrzOVjeBFM+HfBUHmE/4ZEu2+iqgd2Z8dsXxlXXOJE4BeqIC6ivABVjqM2QGVEB7BWQdcHDQqXfpka++fMlWUraJh4HvHgES1jsNcFFWe7ycMRQXUNTp/dKxEWhTtThiUk6idjEr7urNBViSki50WHx2Cy2d9B3JVnpEhQ6QbAstndsdZZ0zuZ2IQh2ee+45vPHGG7aIN27ciDZt2jiN/s0338S4ceNs977//nvbInFPL3cXYH388cd48MEHbW7nzJmDgQMHOg3BuDdo0CDbvY8++ggjR470NFRTf1nrVLt31aldgLFQCFa7/s3uBvpOzZfn7E0JeG7hnpw2kWHB2PbvmxAd4XxxoVeLw0fGvM52yyfA0ift0QaHAU8eBKLjgIvHgCnNAKvFfr/beKDD4z7KLrDNep1tYMspXfbkKx0SrwVEtl6TUjpDZCsdEq8GRL5elTNfY7LOmcQpQE9UQH0FuABLfYbMgApor4CsAw4OOvUuPfLVly/ZSszWYgG2/hdYNd58XMrfIZ+3xmJ8xjAstrQDYD5+8PqsKpeMQoda8bihRhza1SiFktHhEifO0FxRgM+uKyqp2YZs1eTmStRk64pK3mkj65zJO9nJacU4nu+fRVfG4qbp06c7BGqxWNCwYUMcOHAAxYsXx9mzZxEWFuZxQu4uwDp9+jQqVKgAI57u3btjxYoVTmPo0aOHbZFYcHAwTpw4kedOWYVNQNY61epdZbUCM3sBf/5qxxQWDTy6HYh1vvPZPw0HfbwRG46ez+nXs1E5TB3SvLC4pejndbbXkoB36ph37u3+OtBuNLD8/4BNud4D4THA4/uAqOJSaKFbEF5nq5tAiudDvooDzCd8siVbfRXQOzM+u+L4yjpnEqcAPVEB9RXgAiz1GTIDKqC9ArIOODjo1Lv0yFdfvmSrANukBGDxWODIaqfB/prVAK9l3o0D1iouJ1OvXFHc8Pdxha2rlVT6l/wuJ61ZQz67mgHNlQ7Zkq2+CojLTNY5kzgF/OPpn2MIjeMH16xZg3btjEXi9mvChAl45plnbB+89NJLGD9+vOn+zJkzMXz48Dzv55WVuwuwDDu5jyGcN28e7rzzTpN547MBAwbYPhs2bBiM2Lx9yVqnWv05dGAx8PXdZnT/egHo9FS+OM8mp6LNGz/CWL/1z/XhkOa4pVE5b5eBUHs+YfvNCGDPPHse8fWA4cuAdxsAGSn2z9uOBnq8LjTfQHLmE7aBJKDkuZKv5IA8CI9sPRBP8q5kKzkgD8MjXw8FdKO7rHMmN1JgUyoQ8ApwAVbAlwAFoALyKyDrgIODTvlrx5MIydcT9eTuS7Zy88mJzvj2Z+ds4PtxQOolh6CtCMLm4j3wytU7sPdyEbeSCg0OQtNKxdG+ZpxtUVazyiUQHhrslg02Fq8An13xmovySLailBbvh2zFaS7rnEmcAv7xtGPHDtxwww0waj0mJgbGsYRdunSx/b9xnJ9x9J9x1a5dG1u3bkVsbKwpUFcWYF25cgXz58839fvkk0+wbt0622fGIq+4uLic+02bNoXxz/XX8ePH0aJFC5w7dw7GgrEnn3wSvXr1sjVbsmQJ3nnnHWRmZiI+Ph7bt29HxYoVvS6qrHWqzbsqMw2Y2jr7KLx/rmKVgDFbgLCofHnOXPcHxi/en9MmOjwE2164CZFhIV6vA5EGfcL26C/A533MadTtBRxcYv8sKAQYuxMoXllkugHlyydsA0pBuZMlX7n5eBId2Xqintx9yVZuPp5GR76eKuh6f1nnTK5nwJZUgApwARZrgApQAekVkHXAwUGn9KXjUYDk65F8UncmW6nxOAZ3+TSw9EnzFxq5WlnDiuBi04fxfbH++OnIZfx66CxSMvM/nvB6J1FhIWhZtQRuqBmHWxqWRZVS0YqJFBjh8tnVlzPZkq2+CojLTNY5kzgF/Odp8eLFuPvuu5GcnOw0CGPx1dKlS1GzZk2H+64swDp27BiqVavmcoLOdtr6p/OmTZvQr18/GEcSOrvKli2Lb7/9NudoRZeduthQ1jrV5s+hdVOAH14w07jzU6DhHQUSuvPD9dj658Wcdv2alsd7dzUrsJ/sDXzC1jg2fUpTIOnPvNNv1B+44xPZ5VE6Pp+wVVoRvYInX7145s6GbMlWXwX0zozPrji+ss6ZxClAT1RAfQW4AEt9hsyACmivgKwDDg469S498tWXL9kqyNbYDWv/t8D3zwPJJ5wnEFsO6R2ewdKTJXAiJRgoUwebE5Kx5Y8LuJaR5XLS4SHBeLlvAwxqzV+ruyyaoIZ8dgUJ7Qc3ZOsH0QW5JFtBQgOQdc4kTgH/evrzzz8xefJk20Irg0V4eLhtwVX//v0xZswYFCnifLdO0QuwDJUSExNtsRoLrYzFXcZlLPDq27cvHnvsMZQqVcpnYspap1q8q66cA95vDqTlWghYqQ1w3/dAUP4/TjiZdA3t3zQf/f3fYS3RtV4Zn9WCKMM+Y/vL28BPr+WdxoNrgHJNRKUZkH58xjYg1ZQvafKVj4m3IiJbbykpnx2ylY+JNyMiX2+qmb8tWedM4hSgJyqgvgJcgKU+Q2ZABbRXQNYBBwedepce+erLl2wVZpueAmycCqx9F8i46jSRS1GVsbfCIDS/43FERUUhPdOCHQkXse7Ieaw/nIidx5OQabHmK0JwEDBzeGt0qh2vsFj6hc5nVz+m/2REtmSrrwLiMpN1ziROAXpSQQFZ61SLP4cWPwZs+5+5DEasBiq2KLA0Zqw5iteWHchpVzQyFFv/fZMWR3T7jG3SceC9RgCczCuq3QgM+65A3dnAMwV8xtazsNjbSwqQr5eElNAM2UoIxUshka2XhJTUDPmKAyPrnEmcAvREBdRXgAuw1GfIDKiA9grIOuDgoFPv0iNfffmSrQZsL5/J/sX5ji8Aq8VpQlk1bkJIj9eB+Nqm+1fTMrH52AXbYqx1h89j/ynnxwUZXzwtGtMB1eJ4HKEsFcNnVxYS3o+DbL2vqSwWyVYcCVnnTOIUoCcVFJC1TpV/V53ZB0zvYB4XNx4I3P6xS2XR54NfsfuvSzltB7SsiLfv1GP3Jp+y/eI24Ih55zCbiEO+AWp1c0l7Niq8Aj5lW/iw2NNLCpCvl4SU0AzZSgjFSyGRrZeElNQM+YoDI+ucSZwC9EQF1FeAC7DUZ8gMqID2Csg64OCgU+/SI199+ZKtRmyNL5tWvgAc+dF5UkEhQMvhQOdxQHSc0zYXrqZjw5HzWLbnFJbuOWVqUyM+GgtH34CikWEaiaZuKnx21WVXUORkW5BC6t4nW3HsZJ0ziVOAnlRQQNY6VfpdZRzV/UU/4OjP9hIIjQIe2QYUq1BgWfx5/ipunJCrL4DP79NnJ1ifst27AJg/3Kxx6frAw+sLPPaxQDBsUKACPmVboHc28LUC5Otrhf1nn2z9p72vPZOtrxX2r33yFae/rHMmcQrQExVQXwEuwFKfITOgAtorIOuAg4NOvUuPfPXlS7Yasj20Clj5b+Cc/egUU5YRRYGOTwJtHgLCIp0KYLFYMear7Vi257Tpfpc68fhkWCuEGOcS8vKrAnx2/Sq/T52TrU/l9atxshUnv6xzJnEK0JMKCshap0q/q45vBv57kxn/jc8CXca5VBJTfzqMCd//ltO2ZHQ4Nj/XFaEhwS71l72RT9lmpgHv1AGuXbTL0O9DoOlg2WXRIj6fstVCIbWTIF+1+eUXPdmSrb4K6J0Zn11xfGWdM4lTgJ6ogPoKcAGW+gyZARXQXgFZBxwcdOpdeuSrL1+y1ZRtVibSN38Ky4+vIDLT+bGCKFYZ6PYS0PAOp79KT0nPxB0fbsCB644lfOjGGnj2lrqaCqdOWnx21WHlbqRk665i6rQnW3GsZJ0ziVOAnlRQQNY6VfpdtXYS8OPLdvyx5bJ3vwp37RjtHu+twcHTl3P6D2lTGa/d1kiFcnIpRp+z3TELWDQqO5ZqnYC7FwAh3D3XJTgeNvI5Ww/jY3fPFCBfz/STuTfZykzHs9jI1jP9ZO9NvuIIyTpnEqcAPVEB9RXgAiz1GTIDKqC9ArIOODjo1Lv0yFdfvmSrN9vVyxeh1pklqHX+BwRlpjpPtmIr4ObXgMptHO7/dTEFfT9Yh/NX00333hvYFP2aFXyMi77q+j8zPrv+Z+CrCMjWV8r63y7ZimMg65xJnAL0pIICstap0u+qefcC+xba8bcaAfR8x6VyOHz2MrpNWmNq+9UDbdGuRimX+qvQSAjbC0eB5FOAMccIDVdBFi1iFMJWC6XUTIJ81eTmStRk64pKarYhWzW5uRo1+bqqlOftZJ0zeZ4ZLVCBwFGAC7AChzUzpQLKKiDrgIODTmVLyqXAydclmZRsRLZKYnMp6Nxsu7etj8h1E4DdX+fdt34/oNt4oGQ1U5vNf1zA4BkbkWmx5nweHhqMeQ+2Q5NKxV2KhY28rwCfXe9rKotFspWFhPfjIFvva5qXRVnnTOIUoCcVFJC1TpV+V01pDlw4YsffewrQYphL5fDuD79j8o+HctqWjo3AhnFdtTp6W2m2LlEM3EZkqzd78tWXL9mSrb4K6J0Zn11xfGWdM4lTgJ6ogPoKcAGW+gyZARXQXgFZBxwcdOpdeuSrL1+yDTC2J7YD3z8PJKx3nnhIONB6JNDpaSDKvrhq9qYEPLdwj6lPmaIRWDymA0oXjdRXRIkz47MrMRwPQyNbDwWUuDvZioMj65xJnAL0pIICstapsu+qtMvAGxXN6B/4CajQvMBysFqt6DbpFxw5dzWn7b3tq2J8nwYF9lWpgbJsVRLZT7GSrZ+EF+SWfAUJ7Qc3ZOsH0QW5JFtBQvvJDfmKE17WOZM4BeiJCqivABdgqc+QGVAB7RWQdcDBQafepUe++vIl2wBka7UCB5cAP7wIGEeEOLuiSgKdnwVa3gcgCMi8hjcX78R3W48iIigDkUhHBDLQsHQ4XrylOsKt6UBmGpBxDTCOOjT+yfj733n9f1Y6ULI6UL0zUO1GoEhJfWH4IDM+uz4QVRKTZCsJCB+EQbY+EDUPk7LOmcQpQE8qKCBrnSr7rvpzA/C/Hnb0QSHAcyeBsIJ/LLD/ZDJunbLWVDbfPNweLaqUUKGUXI5RWbYuZxi4DclWb/bkqy9fsiVbfRXQOzM+u+L4yjpnEqcAPVEB9RXgAiz1GTIDKqC9ArIOODjo1Lv0yFdfvmQbwGwz04Gt/wV+fhNITcpDiCAA9qMHfadWUPbuBNW7ADX+BVRsBYSG+86dBpb57GoAMY8UyJZs9VVAXGayzpnEKUBPKigga50q++fQpo+A5c/Y0ZduAIzKY9fX6wrk7RUHMe1n+9GFFYpH4df/64KgIGMsrM+lLFt9EPgsE7L1mbRSGCZfKTD4JAiy9YmsUhglWykw+CwI8vWZtA6GZZ0ziVOAnqiA+gpwAZb6DJkBFdBeAVkHHBx06l165KsvX7IlW6RcANZMBDZ/DFgy5BAkLBqo1jF7MZaxKCuuFqDZF2CeCs1n11MF5e1PtvKy8TQysvVUQdf7yzpncj0DtgwEBWStU2XfVd+OBnZ+aS+dJoOA26YXWErG8YOdJvyE4xeu5bQd2ak6nru1XoF9VWugLFvVhPZDvGTrB9EFuiRfgWILdkW2ggUX6I5sBYrtB1fkK050WedM4hSgJyqgvgJcgKU+Q2YQoAokJydj2bJl2LJlC7Zu3YoTJ07g3LlzMAZCxYsXR/369XHrrbfi/vvvR6lSpbyi0pw5c/C///0Pu3fvxsWLF1G2bFl07NgRo0ePRtu2bb3iw5kRWQccHHT6DLkUhslXCgw+CYJsfSKrFEbdZnv+CLBqPHDgOyniNwVRtCJQw9gdqwtQrTMQ7Z0/y+VL1PWI3Obrumm29LMCZOtnAD50T7Y+FPc607LOmcQpQE8qKCBrnSr7rpreATi9x46++xtAu1EFlsKu40noO3Wdqd3iMR3QqGKxAvuq1kBZtqoJ7Yd4ydYPogt0Sb4CxRbsimwFCy7QHdkKFNsPrshXnOiyzpnEKUBPVEB9BbgAS32GzCBAFVi1ahVuuummArOPi4vDl19+ie7duxfYNq8Gqamp6N+/P5YsWeK0SXBwMMaPH48XXnih0D7y6yjrgIODTp/glsYo+UqDwuuBkK3XJZXGYKHZ/rkeWPlv4MS2PHOxIhgp1jCkIQypCEeaNQwZwRGoXLoUIqOKAKGR2f+E/f1v239HAaERQOjf/zZ22zJ8HVsHZNp3HChYwCCgfFP7cYWV2gTkcYWF5luwwGzhZwXI1s8AfOiebH0o7nWmZZ0ziVOAnlRQQNY6VfJdZRyt/Xp5826u9y4FqnYosBReW7ofM9b+kdOuSqki+PmpztodP2gkqCTbAgmyAdnqXwN8dvVlTLZkq68CemfGZ1ccX1nnTOIUoCcqoL4CXIClPkNmEKAKGAuw7rvvPnTp0gUtWrRApUqVUK5cOVgsFhh/QM+fPx8LFixAVlYWwsPDbTtlNW7cuFBqDRkyBLNnz7b1NfyNHTsW5cuXx549e/D666/jyJEjtnszZszAiBEjCuUjv06yDjg46PQ6aqkMkq9UOLwaDNl6VU6pjHnMNikBuJbkfCFVcCg++OkwJq783ZRz9bhoLBx9A4pFhbmuRUYqcHwjcOQn4Mhq4PRu1/saLY3jCqveYD+uML5OQBxX6DFf91Rma4EKkK1AsQW7Iltxgss6ZxKnAD2poICsdarku+rUbuCjjmbszyYAkfnvYmWxWHHDW6tx6lJqTt8xXWriqe51VCght2NUkq3bWQZmB7LVmzv56suXbMlWXwX0zozPrji+ss6ZxClAT1RAfQW4AEt9hswgQBUwFlaFhITkm/23336L2267zdbm9ttvxzfffOO2Wr/88gs6d+5s69e7d28sXLjQ5DcxMdG2ACwhIQElSpTA0aNHbUcgevOSdcDBQac3Kctni3zlY+KtiMjWW0rKZ8fXbK1WK8Z8tQNLd58yJX9j7Xh8em8rhAQHFU6UK+eAP37JXoxlLMq6fNI9O7Hl/z6u8F9A7R5ARIx7/RVp7Wu+isigZZhkqyVWW1JkK46trHMmcQrQkwoKyFqnSr6rdnwJLBptx168CvBYwYv6tx67gDunbzCVy4rHOqJu2aIqlJDbMSrJ1u0sA7MD2erNnXz15Uu2ZKuvAnpnxmdXHF9Z50ziFKAnKqC+AlyApT5DZkAF8lWgXr16OHjwIIyjCM+dO+e2Wj179sSyZctsi66OHTuGihUrOtiYM2cOBg0aZPt84sSJePLJJ932k18HWQccHHR6FbN0xshXOiReC4hsvSaldIZEsE1Jz0T/6Ruw72SyKf+RnarjuVvrea6J1Qqc+y17MdbRn4BjvwIZKa7bjSkLDPwSqNTK9T6KtBTBVxEptAuTbLVDmpMQ2YpjK+ucSZwC9KSCArLWqZLvqmXPAJs/smOv1zt7DFjA9dKivfhsw585rWqVjsHKxztpefygkaSSbAuCyPs2BchW70IgX335ki3Z6quA3pnx2RXHV9Y5kzgF6IkKqK8AF2Cpz5AZUIF8FWjZsiW2bduGmJgYXL582S21rly5Ylu4lZaWhh49emD58uVO+6enpyM+Ph7Jyclo37491q1b55afghrLOuDgoLMgcmrfJ1+1+eUXPdmSracKnEi6hr4f/IrEK+kmU+/0b4I7WjguVPbIX2YacHyT/bjCU7sAWPM3GR4LDJkHVGnnkWvZOvPZlY2I9+IhW+9pKZslshVHRNY5kzgF6EkFBWStUyXfVZ/2ABJy7WTV5d/AjU/nWwZZFivavP4jEq+k5bR7vFttjO1WS4XyKVSMSrItVKaB14ls9WZOvvryJVuy1VcBvTPjsyuOr6xzJnEK0BMVUF8BLsBSnyEzoAJ5KnDgwAE0atQIxnGFxkKsLVu2uKXW6tWr0bVrV1ufN954A88++2ye/bt3746VK1ciNDQUKSkpCAsLc8tXfo1lHXBw0Ok1xFIaIl8psXglKLL1ioxSGhHJ1ji+ZdCMjcjIsi+GCg8Nxtcj26JZ5RK+0+fqeeCPn+3HFSafcO4rLBoYMheo2sF3sQi2LJKv4NQC3h3Z6lsCZCuOraxzJnEK0JMKCshap8q9qywW4M1KQPoVO/bBc4Ha3fMtg/WHEzH4k02mNj8+eSNqxOt5fLWRqHJsVXiQJYmRbCUB4aMwyNdHwkpglmwlgOCjEMjWR8JKYpZ8xYGQdc4kTgF6ogLqK8AFWOozZAZUwKSAsfjpxIkTWLx4Md5++22cOXPGdv+LL77A3Xff7ZZaU6dOxZgxY2x9Fi5ciH79+uXZf+zYsZgyZYrt/r59+1C/fn23fOXXWNYBBwedXkMspSHylRKLV4IiW6/IKKUR0Wy/3pKA//tmj0mL0rER+G5MB5QtFul7jYzjChMPZS/G2jMPOLHV7DM0Chg8B6je2fexCPAgmq+AlOjibwXIVt9SIFtxbGWdM4lTgJ5UUEDWOlXuXXX+CPB+czPyJw4CRcvlWwbjFuzBV5sTctrUL1cUy8Z2VKF0Ch2jcmwLnWngdSRbvZmTr758yZZs9VVA78z47IrjK+ucSZwC9EQF1FeAC7DUZ8gMqABmzpyJ4cOH56nEU089ZVuMFRQU5JZaxo5Xb731lq2PsXuWsYtWXtfEiRPx9NPZ292vWLECxo5Yrl7GgCK/69SpU2jdurWtye+//46KFb18vJOrgV7XLjU1FWvWrLF92qlTJ0RGCviyvZCxspv7CpCv+5qp0oNsVSHlfpz+YPv68t/xxWbzn2ONysfi83ubIzIsxP0kCtsjMw3hi0Yi5PD3JgvW0Eik3/YpLNX/VVjL0vTzB19pktc8ELLVFzDZimNrzKlq165tc3j8+HFp5kziFKAnFRSQ9csE5b5Q2rsAmJ/r74Ci44GnDgH5/J1PRpYFrV5bhaSUjJxSeaZHHYzqXFOF0il0jMqxLXSmgdeRbPVmTr768iVbstVXAb0z47Mrjq+scyZxCtATFVBfAS7AUp8hM6ACeS7Aatq0KaZPn442bdoUSqXRo0dj2rRptr7GcYZ169bN086HH36IUaNG2e7Pnz8fd9xxh8s+3VkY9sknnyAuLs5l22xIBagAFaACVMCXChgnEE4/EIzfLwWb3LSIs+Cempb8vgfzelhBlky0PDYN5S+Zd8LKCgrFlmqP4EyxZl73SYNUgApQASoghwKJiYkYMWKELRguwJKDCaNwVEDWLxOU+0Jp1cvAr5PsAtfoCtyzIN+S+/m3s7j3f1tMbdY+0wWVShbRulSVY6s1De8mR7be1VM2a+QrGxHvxUO23tNSNktkKxsR78ZDvt7VMz9rss6ZxClAfzZfxgAAIABJREFUT1RAfQW4AEt9hsyACiApKQn/7CJlDISOHDmCuXPn2o4NrFGjBt577z306tXLbaXuv/9+fPrpp7Z+hs3q1avnacNoZ7Q3LnePO+QCLLfRsAMVoAJUgApIpMDVDGDSnhAkppl3muxTOQtdK1iFRhpkzUTzYx+hYtImk19LUAi2VB2D08VbCI2HzqgAFaACVECMAlyAJUZnevFMAVm/TFDuC6Uv7wAOr7LD6PA40G18vnCemrcL87fZd21tUqk4Fo2+wTOgCvRWjq0CmsoSItnKQsI3cZCvb3SVwSrZykDBNzGQrW90lcUq+YojIeucSZwC9EQF1FeAC7DUZ8gMqECeChgLoYYNG2Y7evC///0v7r33XrfUErUDFo8gdAsLGwtSgEfmCBLaD27I1g+iC3LpT7aHzl7BoP9uw9X0rJxsjeVYHw5ujBtr+XbnRqvVimMXruFkUirql4tFicgghC17DKH75puUtwaHIr33h7DU7S2IiHfd+JOvdzOhtesVIFt9a4JsxbHlEYTitKanwisg65cJyn2hNKEWcPWsHcSdnwIN896FPC0zCy1fXYXLqZk5ff7dsx5GdMz7R3aFpyxXT+XYyiWf1NGQrdR4PA6OfD2WUFoDZCstGo8DI1uPJZTaAPmKwyPrnEmcAvREBdRXgAuw1GfIDKhAvgoMHDjQthtWdHS07SiKEiVKuKzYs88+i7feesvWfsuWLWjZsmWefSdOnIinn37adn/FihXo3r27y34KaijrgIODzoLIqX2ffNXml1/0ZEu2vlJg1f4zeOCLrbDm2vQqNiIUC0e3R83SsV5ze/FqOnb+lYQdCUnYeTwJu44n4dK1DJv9mIhQTBrQBDfXiwe+ewTYOcvsNygEuP1joNGdXotHlCE+u6KUFu+HbMVrLsoj2YpSGrYdkStVqmRzyCMIxelOT+4pIGudKvWuunwaeKeOWfgx24C4mnnC+MEYo35uPqJ6w7h/oVyxKPcAKthaKbYK6uvPkMnWn+r73jf5+l5jf3kgW38p73u/ZOt7jf3pgXzFqS/rnEmcAvREBdRXgAuw1GfIDKhAvgrMnj0bQ4YMsbWZNWsWBg8e7LJiH3zwAR555BFbe+M4w379+uXZd+zYsZgyZYrt/r59+1C/fn2X/RTUUNYBBwedBZFT+z75qs0vv+jJlmx9qcDUnw5jwve/mVxULVUEi0Z3QLEiYW67Ts+04MCpZNtCK+OfHQkXcex8Sr52goKAcbfUxQMdqiJoyePA9s/M7YOCgb7TgKaD3I7Hnx347PpTfd/6Jlvf6utP62QrTn1Z50ziFKAnFRSQtU6Velf9vhKY3d+OOzwGePY4EBycZwk8+tUOfLfrZM791lVLYu5D7VQoGY9jVIqtx9kGlgGy1Zs3+erLl2zJVl8F9M6Mz644vrLOmcQpQE9UQH0FuABLfYbMgArkq8APP/yAm2++2dbm9ddfx7hx41xWbPXq1ejataut/RtvvAFjR6y8LmPHq5UrVyI0NBRXr15FeHi4y34KaijrgIODzoLIqX2ffNXml1/0ZEu2vlTAOA7w0Tk7sTjXl1yGv4614vC/e1shNCTvL8eMvn9dvPb3QitjwdVF7D2ZDGMRVmGuu1pVwn/61Ef4ymeBLTOuMxEE9HkfaH5PYUz7pQ+fXb/ILsQp2QqR2S9OyFac7LLOmcQpQE8qKCBrnSr1rlozAVj9qh13pbbA/d/nif9aehZavPoDUnIdk/2fvg0wtF1VFUrG4xiVYutxtoFlgGz15k2++vIlW7LVVwG9M+OzK46vrHMmcQrQExVQXwEuwFKfITOgAvkqMHPmTAwfPtzWxtih6p8drVyR7fLly4iLi0N6ejp69OiB5cuXO+1m3I+Pj0dycjLatWuH9evXu2Le5TayDjg46HQZoZINyVdJbC4FTbYuyaRkI1nYGl90DfhoA/acuGTS8f4O1fBCL/sOkZdTM7D7r0s5O1sZO1wlXkn3qvbtqpfCh0Oaofja8cDGaY62e70LtLzPqz59ZUwWvr7KL5Dtkq2+9MlWHFtZ50ziFKAnFRSQtU6Veld9fQ9w4Ds77tYjgVsn5Il/6e5TGD17e8794CBg03PdEB8boULJeByjUmw9zjawDJCt3rzJV1++ZEu2+iqgd2Z8dsXxlXXOJE4BeqIC6ivABVjqM2QGVCBfBXr27Illy5bZ2vz000/o3LmzW4rdeuuttoVXxs5Wf/zxBypWrOjQf86cORg0KPsYo7fffhtPP/20Wz4KaizrgIODzoLIqX2ffNXml1/0ZEu2IhQ4dekaer+/DolX0kzujEVYxsIrY7HVobNXYLUWLpqI0GA0rlgMTSsVR9NKJdC0cnF8t/Mk3lpx0MFg9bho/HdYS1Tb8RawPvu4YNN1ywSgzcjCBSKwF59dgWILdkW2ggUX6I5sxYkt65xJnAL0pIICstapUu+qyU2Ai8fsuPt8kO+Opg9/uQ3L957OaX9DzVKYNaKtCuXilRiVYuuVjAPHCNnqzZp89eVLtmSrrwJ6Z8ZnVxxfWedM4hSgJyqgvgJcgKU+Q2YQoAoYO1vdddddiIyMzFOBd999F0888YTtftWqVXHo0CHbQqp/rty7Y7300ksYP368g63cxxD26dMHCxYsQEhISE67xMREtGjRAgkJCShevDiOHj2KEiVKeJWKrAMODjq9ilk6Y+QrHRKvBUS2XpNSOkOysd3250UM+ngj0rMKd4RgboGrx0fbFls1q1wCzSoVR52ysQhzcpzhir2n8NjXO5GaYfZZvEgYpg9pjrbHPgTWTnRk1/11oN1o6ZjmDkg2vlKLpVhwZKsYMDfCJVs3xPKwqaxzJg/TYnfNFJC1TpV5V6VeAt6sbK6KB9cA5Zo4rZQraZlo8coPSMt1nPUbtzfCoNbX2dCszjh+1BhortSUeW4DA4fXsyRfr0sqjUGylQaF1wMhW69LKpVB8hWHQ9Y5kzgF6IkKqK8AF2Cpz5AZBKgCxoIq44jAO+74f/bOA0qKYnvj32xiF5accwbJUXKWpKhgwICgoj7Mos/wNwMmzE8xoyImxOx7iiKSMxIkSpIsOWc2zv9U487ssLO70zWzPVXVX5/zjm9m6lbd+/1uN13dd6uuQKdOnVC7dm0kJydb361atQqff/455s2bZ6mTkJCASZMmoWfPngFqhVKAJQzE6lZilStxdO/eHffeey8qVapkjfPss89i06ZN1m/vvvsubr311ogTUfWGgzedEUetVIfkqxSOiDpDthGVU6nOVGT71ZIdeOiblbZ0Klk43reyVYtqJdCsSgkULxwfch8r/z6CWz5egn3HA1ffio/14NkBjXHVyQnAzNE5++s5Euh0X8jjON1QRb5Oa2DqeGRrKlmAbJ1jq+qcyTkFOJIOCqiap9pcq7bOA8Zf5EcdEwc8uguIC76d4A9/7LQK87OOuBgPFj/WEyWLJOiQLhHxURu2EYnWXZ2Qrdm8yddcvmRLtuYqYHZkPHed46vqnMk5BTgSFdBfARZg6c+QEbhUAVGAtW3btnyjF1sGjhs3Dr169crRNtQCLHFzdeWVV/q2Mjy3o5iYGDzxxBNBV9DK18EQGqh6w8GbzhDgadyEfDWGl4/rZEu2Tivw9E9/4sO5W4IOK4qiGlYqbq1qdXaFqxKoVqowPB5PWG6KLRBvHr8Ef+4+lqOf27rWxkOFf0LMjKdzjtH9MaDrQ2GNXVDGPHcLStno90u20WdQUB6QbUEpm7NfVedMzinAkXRQQNU81eZatfAdYPLDftTlmwC3z80V/S0fL8bUtft8v3erXxbjh7bRIVUi5qM2bCMWsXs6IluzWZOvuXzJlmzNVcDsyHjuOsdX1TmTcwpwJCqgvwIswNKfISNwqQJi1ampU6dixowZWLt2Lfbu3YuDBw9aWxKWL18ezZs3x8UXX4yrrroKhQsXDqpSqAVYWcYTJkyAsFmxYgWOHDlijdO5c2fcddddaN++fYGRUPWGgzedBYZciY7JVwkMBeIE2RaIrEp0qirb9IxMjP5lHb7/YyeKFIpF86pntxFsXq0EGlYshsR4/9a+kRTyZEo6hk9cjqlr9+botk+j8nij+lwkTB+Rc8guDwHdHwXCLAKLZCyiL1X5RjpON/ZHtuZSJ1vn2Ko6Z3JOAY6kgwKq5qk216rvbwdWTPCjbn4dMODtoOiPnkpD62d/Q1qG1/f7KwOb4YpWVXRIlYj5qA3biEXsno7I1mzW5GsuX7IlW3MVMDsynrvO8VV1zuScAhyJCuivAAuw9GfICKiA8QqoesPBm06zU498zeVLtmRrrgI5I8vI9OKFyeswdvbmHD82qVwcnzdZhmIzn8hpKLYivGCEUkVYPHfNzVyyJVtzFXAuMlXnTM4pwJF0UEDVPNXm36F3OgJ7V/tR930BaHdbUPTnboOdEBuDJU/0RLHE0Le11iGn8vNRG7b5BcLfcyhAtmYnBfmay5dsydZcBcyOjOeuc3xVnTM5pwBHogL6K8ACLP0ZMgIqYLwCqt5w8KbT7NQjX3P5ki3ZmqtA7pFN/H07Hv9hNdIz/asgiNYViiXiu/P/RKV5j+c0bn8X0PsZZYqweO6am7lkS7bmKuBcZKrOmZxTgCPpoICqearFv0PpKcBzlYDMdD/qob8A1TsERT/kw0WYs/GA77feDctj7PWtdUiTiPqoBduIRuyezsjWbNbkay5fsiVbcxUwOzKeu87xVXXO5JwCHIkK6K8AC7D0Z8gIqIDxCqh6w8GbTrNTj3zN5Uu2ZGuuAnlHNv+vA7jts6U4dibbizsASfGx+KbNBjRa+iSAwAIttL0N6Pu8EkVYPHfNzVyyJVtzFXAuMlXnTM4pwJF0UEDVPNXi36FdfwBjuwVifngHkFgsB/qDJ1LQ5rlpECuhZh1jrm2BS5tV0iFNIuqjFmwjGrF7OiNbs1mTr7l8yZZszVXA7Mh47jrHV9U5k3MKcCQqoL8CLMDSnyEjoALGK6DqDQdvOs1OPfI1ly/Zkq25CuQf2ab9J3Dz+MXYevBUQGOPB/io+QZ0XTsKnnOLsFrfDFz0MhATk/8ABdiC524Bihvlrsk2ygAKcHiyLUBxz+la1TmTcwpwJB0UUDVPtbhWLfsE+N/dfsylagH3/BEU+2cLt1krn2Ydoth+6RM9UTghToc0iaiPWrCNaMTu6YxszWZNvubyJVuyNVcBsyPjuescX1XnTM4pwJGogP4KsABLf4aMgAoYr4CqNxy86TQ79cjXXL5kS7bmKhBaZIdPpuLWz5bi9y2HchiMrrMW1+x8Fh5vZuBvLYYAl4yJahEWz93Q+OrYimx1pBaaz2Qbmk6RaKXqnCkSsbEPcxRQNU+1uFZNegBY/L4/GRoOAK76OGhyXDN2ARZu9t/n9WtaEW8NamlOItmIRAu2NuJhU78CZGt2NpCvuXzJlmzNVcDsyHjuOsdX1TmTcwpwJCqgvwIswNKfISOgAsYroOoNB286zU498jWXL9mSrbkKhB5ZanomHv1+Fb5Z+ncOo/sqrsI9R16Ex5sR+Fuza4H+bwExsaEPFMGWPHcjKKZiXZGtYkAi6A7ZRlDMfLpSdc7knAIcSQcFVM1TLa5VH/YGdizyY+7xBNDlgRzY9x07g7ajp8GbbVfpdwe3RN/GFXVIkYj7qAXbiEftjg7J1mzO5GsuX7IlW3MVMDsynrvO8VV1zuScAhyJCuivAAuw9GfICKiA8QqoesPBm06zU498zeVLtmRrrgL2IvN6vXhn1ia8OHl9DsMbSqzEyNSX4clMD/ytbh+g8/1A1TaA2LfQwYPnroNiOzwU2TosuIPDka1zYqs6Z3JOAY6kgwKq5qny16rMDGB0VSDtpB/zdd8AdXvlwP7RvC0Y9eOfvu+TC8VhyeM9kRgfnQL6aOel8myjLZDG45OtxvBCcJ18QxBJ0yZkqym4ENwm2xBE0rgJ+ToHT9U5k3MKcCQqoL8CLMDSnyEjoALGK6DqDQdvOs1OPfI1ly/Zkq25CshFNnn1btz75XKcSQvcdrB/0nL8x/MfxGSm5ey4bAOg1Q1A06uBwqXkBrZpxXPXpmAaNSdbjWDZdJVsbQoWRnNV50xhhERTAxVQNU+Vv1Yd2Ai82TowI+7fABQtnyNLrnhnPpZuO+z7/rIWlfGfq5sbmE2hhaQ829DCYKsgCpCt2WlBvubyJVuyNVcBsyPjuescX1XnTM4pwJGogP4KsABLf4aMgAoYr4CqNxy86TQ79cjXXL5kS7bmKiAf2cq/j+CWj5dg3/GUgE56xi3HewmvITYzNXjnsYWAhv2BVjcC1TsU6KpYPHfl+apuSbaqE5L3j2zltbNrqeqcyW4cbG+2AqrmqfLXqlXfAN/e7E+O5PLAAxtyJMvOI6fR8fnpAd+Pu7E1epyXs1DL7EzzR6c8W7eAKIA4ybYARFWoS/JVCEaEXSHbCAuqUHdkqxCMAnCFfAtA1Fy6VHXO5JwCHIkK6K8AC7D0Z8gIqIDxCqh6w8GbTrNTj3zN5Uu2ZGuuAuFFtvvoadw8fgn+3H0soKNOMavwQdIbSMw4kfcApeueXRWr2SCgSOnwnAlizXM34pIq0yHZKoMi4o6QbcQlzbVDVedMzinAkXRQQNU8Vf5a9duTwLzX/Yjr9AIGf5MD+djZm/Dcz+t83xdPisfix3oiIS5Gh/QoEB+VZ1sgUbujU7I1mzP5msuXbMnWXAXMjoznrnN8VZ0zOacAR6IC+ivAAiz9GTICKmC8AqrecPCm0+zUI19z+ZIt2ZqrQPiRnUxJx/CJyzF17d6AzkrjKB6rtBQDvNMQc3hL3gPFJgDnXXx2VawanYGYyLz047kbPl9VeyBbVcmE7xfZhq9hqD2oOmcK1X+2c4cCquap8teqTwYAm2f4k6Tz/cAFT+ZImkvemItVO4/6vr+6dVW8cGVTdyRXLlEqz9bVdMILnmzD0091a/JVnZC8f2Qrr53qlmSrOqHw/CPf8PSzY63qnMlODGxLBdyuAAuw3J4BjJ8KaKCAqjccvOnUIHnCcJF8wxBPcVOyVRxQGO6RbRjiZTPNyPTihcnrMHb25hwdFi0UgytLb8UV3qloeGQmYrzpeQ9asubZVbGaXwcklwvLQfINSz6ljclWaTxhOUe2Yclny1jVOZOtINjYeAVUzVOlr1VeL/BSHeDUAX9+DPwYaDQgIF+2HjiJbi/PDPju05vboHPdssbnVV4BKs3W1WTCD55sw9dQ5R7IV2U64flGtuHpp7I12apMJ3zfyDd8DUPtQdU5U6j+sx0VoAIAC7CYBVSACiivgKo3HLzpVD51wnKQfMOST2ljslUaT1jOkW1Y8uUwnvj7djz+w2qkZ3qDdlwKx3B57BxcFzcdNT278x48Jg6of9HZVbFqdZdaFYt8I8tXpd7IViUakfWFbCOrZ169qTpnck4BjqSDAqrmqdLXqmO7gFcbBOK9exlQunbAd29O34iXp2zwfVe6SAIWPXoB4mIjsxKpDvkVzEel2eoqqiJ+k60iIArIDfItIGEV6JZsFYBQQC6QbQEJq0i35OscCFXnTM4pwJGogP4KsABLf4aMgAoYr4CqNxy86TQ79cjXXL5kS7bmKhD5yOb/dQC3fbYUx87ktdKVF20863Bt3HRcFPM7CnnS8nakRDWg5fVA88FAsYohO81zN2SptGtIttohC9lhsg1ZqrAbqjpnCjswdmCUAqrmqdLXqvWTgS+u9udBQlHg4e05itn7vjYb6/Yc97Ub3K4anhnQxKj8kQlGabYyAdHGpwDZmp0M5GsuX7IlW3MVMDsynrvO8VV1zuScAhyJCuivAAuw9GfICKiA8QqoesPBm06zU498zeVLtmRrrgIFE9mm/Sfwf9+sxJJth/MdoDhOWKtiXRs7HfVidubZ3uuJRXqd3og/fyhQpycQE5tne567+cqvbQOy1RZdvo6Tbb4SRayBqnOmiAXIjoxQQNU8VfpaNetFYMazfv7VOgA3/RKQDxv3Hkev/8wO+G7isHZoV6u0EXkTThBKsw0nMNqCbM1OAvI1ly/Zkq25CpgdGc9d5/iqOmdyTgGORAX0V4AFWPozZARUwHgFVL3h4E2n2alHvubyJVuyNVeBgovM6/Vi77EUrNl1FKt3HsPqXUexZudR7Dp6JpdBvWjp2YhBcdPRL2YhkjypeTp3KK4cNle5DJV73YmKlasHbctzt+D4Rrtnso02gYIbn2wLTttze1Z1zuScAhxJBwVUzVOlr1UTrwPW/eTH2/Y24MIXAnC/+tsGjJm20fdd+WKFMP/hCxAb49EhLQrUR6XZFmjk5ndOtmYzJl9z+ZIt2ZqrgNmR8dx1jq+qcybnFOBIVEB/BViApT9DRkAFjFdA1RsO3nSanXrkay5fsiVbcxVwPrKDJ0RR1j8FWbuOWUVZWw+eCnCkGE6if+w8DIqdjgYx2/N08rQ3AcsqXIWGA59AyTIVAtry3HWer1Mjkq1TSjs/Dtk6p7mqcybnFOBIOiigap4qfa16rQlwJNv9U/+3gRbX+XCLIvkLXp2FzftP+r4b2rEGRlzSSIeUKHAflWZb4NGbPQDZkq/ZCpgbHc9dsjVXAbMj47nrHF9V50zOKcCRqID+CrAAS3+GjIAKGK+AqjccvOk0O/XI11y+ZEu25iqgRmTHzqThT1GUtfPo2eKsnUchtjHM9HrRzLPJ2p7wktgFKOJJydXh494krKk+BE2ufARFipWy2vHcVYNvQXhBtgWhqhp9kq1zHFSdMzmnAEfSQQFV81TZa9Xpw8ALNQLR3jYXqNDE952457pozJyANt/d0QEtq5XUISUK3Edl2RZ45OYPQLZmMyZfc/mSLdmaq4DZkfHcdY6vqnMm5xTgSFRAfwVYgKU/Q0ZABYxXQNUbDt50mp165GsuX7IlW3MVUDey06kZWLvn7ApZYgvDTTt3o8GBXzHQMx1NY7bk6vgRJGNTvVvQ9PIHke6NxZQpU6y2vXv3RlJSkroB0zNbCvC6bEsurRqTrXO4VJ0zOacAR9JBAVXzVNlr1ZbZwMeX+NHGJgCP7gJi433fvTNzE16YvM73uXKJJMz9v+7weLj9oBBFWbY6nLCK+0i2igMK0z3yDVNAhc3JVmE4YbpGtmEKqLg5+ToHSNU5k3MKcCQqoL8CLMDSnyEjoALGK6DqDQdvOs1OPfI1ly/Zkq25CugVWUp6BjbuPYGdf85HyTWfoOXhyYjzZAYN4qCnJLY3vBXbY+taLx1ZgKUX6/y85XU5P4X0/Z1snWOn6pzJOQU4kg4KqJqnyl6rFrwF/PqoH23FZsCtswNQ3zDud8zasN/33ZB21fH0gMY6pIMjPirL1pHozR6EbMnXbAXMjY7nLtmaq4DZkfHcdY6vqnMm5xTgSFRAfwVYgKU/Q0ZABYxXQNUbDt50mp165GsuX7IlW3MV0Duy3ZtXY9cPI9Di6DTEeLxBg9mD0lhW5jJ0u3EECicX0ztgeu9TgNdlc5OBbJ1jq+qcyTkFOJIOCqiap8peq767FVg50Y+2xWCg/1u+z2kZmWg2agpOpWb4vntrUEv0a1pRh3RwxEdl2ToSvdmDkC35mq2AudHx3CVbcxUwOzKeu87xVXXO5JwCHIkK6K8AC7D0Z8gIqIDxCqh6w8GbTrNTj3zN5Uu2ZGuuAmZEtnnN7zj800i0Oj0v14B2x1ZGauf/Q/UuQ4CYGDMCd3EUvC6bC59snWOr6pzJOQU4kg4KqJqnyl6r3m4P7PvTj/bCl4C2w3yfl20/jMvfnh+AfsnjPVEmuZAO6eCIj8qydSR6swchW/I1WwFzo+O5S7bmKmB2ZDx3neOr6pzJOQU4EhXQXwEWYOnPkBFQAeMVUPWGgzedZqce+ZrLl2zJ1lwFzIps9e8zkDr1abRMXZprYDsTaiH2gsdRoc3lgMdjlgAuiobXZXNhk61zbFWdMzmnAEfSQQFV81TJa1XaaeC5yoDXv7oVbvoVqNbOh/rtmX/hxcnrfZ/rlU/GlPu66pAKjvmoJFvHojd7ILIlX7MVMDc6nrtka64CZkfGc9c5vqrOmZxTgCNRAf0VYAGW/gwZARUwXgFVbzh402l26pGvuXzJlmzNVcC8yLxeLxbP+gmJc55D04xsK0CcE+qOpAZIvnAkSjbpw0IsDdOA12UNoYXoMtmGKFQEmqk6Z4pAaOzCIAVUzVMlr1U7lwLv98hG3wM88jdQKNn33ZAPF2HOxgO+z9e3r46n+jc2KGPCD0VJtuGHxR4AkK3ZaUC+4fPNzMzEiRMncOzYMaSmpiIjI1tBb/jdS/cg/Nq/f79lX7ZsWcRwRWtpLVUzJFvViETWH/INXc/Y2FgULlwYJUqUQGJiYuiG/7RUdc5kOxAaUAEXK8ACLBfDZ+hUQBcFVL3h4MMAXTJIzk/yldNNByuy1YGSnI9kK6ebDlbp6RmY9fMElF/6Khp7Nufq8vaiLVDq0qeRXLezDmHRx38U4LlrbiqQrXNsVZ0zOacAR9JBAVXzVMlr1ZKPgJ/u9WMtXQe4278qaFpGJpqOnILTaf4X6u9c1xIXNqmoQyo45qOSbB2L3uyByJZ8zVYgvOiOHz+OnTt3QvxBk2qH8Emcv+JISkqChytZq4ZI2h+ylZZOC0PylcNUvHhxVKxY0da1TtU5k5wCtKIC7lSABVju5M6oqYBWCqh6w8GHPVqlkW1nyde2ZNoYkK02qGw7Sra2JdPKQPD96edfcXT7MnQ9+h3qYkeu/m8v1QHlBzyDQtVaaRWjW53luWsuebJ1jq2qcybnFOBIOiigap4qea366T5gyTg/1kaXAwM/8n1euu0wrnhnfgD2pY/3ROnkQjqkgmM+KsnWsejNHohsyddsBeSjC1Z8JYqcxIosqhzp6emWK3Fxcaq4RD8ipADZRkhIRbsh39DAZOmU1Vqs9lemTJnQjAGoOmcKOQA2pAJUACzAYhJQASqgvAJPLn9ZAAAgAElEQVSq3nDwYY/yqROWg+QblnxKG5Ot0njCco5sw5JPeePsfNt16oLff/kETTa+jRqePbn6/neFnqjQ/ynEVWykfHxudpDnrrn0ydY5tqrOmZxTgCPpoICqearkteqDnsDfi/1Ye44EOt3n+/zWjL/w0q/rfZ/rly+KX+/rokMaOOqjkmwdVcDcwcjWXLYiMvKV4yu2CNuwYYNv5avk5GSUKlXK2gpLlZWmhI9iW0RxFCtWjFsQyqFW0opslcQSMafIN3QpxZavR44cwb59+3xGtWvXRkJCQkidqDpnCsl5NqICVMBSgAVYTAQqQAWUV0DVGw4+DFA+dcJykHzDkk9pY7JVGk9YzpFtWPIpbxyM797DxzH3mzfQ/u8PUMlzMGgMmfBgT7WLUbH/KHhK11Y+Tjc6yHPXXOpk6xxbVedMzinAkXRQQNU8Ve5alZkBjK4CpJ3yYx38LVCnp+/zkA8XYc7GA77PN3aogZGXsuD83PNAObY6nKia+Ei2moCSdJN85YQThU1i60FxiOKrKlWqKFN4lRURizjk2OpgRbY6UJL3kXztaycKsA4ePPussnz58lZBbCiHqnOmUHxnGypABc4qwAIsZgIVoALKK6DqDQcfBiifOmE5SL5hyae0MdkqjScs58g2LPmUN86L76Y9B7H021fRfd+nKOs5GjSWDMRgefnL8Veje1CufEVULVkYVUomITFena0YlIdQQA7y3C0gYRXolmydg6DqnMk5BTiSDgqomqfKXav2rwfeahOI9IG/gOSy1nep6ZloNmoKTqdl+Nq8O7gl+jauqEMaOOqjcmwdjd7swciWfM1WQC468e+s2IJQHNWqVUORIkXkOipAKxZxFKC4Ue6abKMMoICHJ1/7Ap85cwZbtmyxDEVRbNWqVUPqRNU5U0jOsxEVoAKWAizAYiJQASqgvAKq3nDwYY/yqROWg+QblnxKG5Ot0njCco5sw5JPeeNQ+K7avAurf3gJFx79EiU8J4PGdMRbBK+lX4HPMnoiHXEok1wIVUsloco/BVmiKCurOKtSCRZoOZEYobB1wg+OEXkFyDbymubWo6pzJucU4Eg6KKBqnip3rVr5NfDdLX6kRSsC96/zfV6y9RCufHdBAPJlT/RCqSKhbWuiQ65Eykfl2EYqMPbDLeoMzwGeu3KAN2/ejJSUFGvVq/r16yu3+pWIikUccmx1sCJbHSjJ+0i+9rXzer1Yv369tS2s2H5QbEMYyqHqnCkU39mGClCBswqwAIuZQAWogPIKqHrDwYcByqdOWA6Sb1jyKW1MtkrjCcs5sg1LPuWNQ+UrHmzMX7MFW396EZee/gFFPaeDxrYxszKeTh+M2ZnN8oy9fLFCvuKsrMIsUawlirYqFk9CQlyM8tqp7mCobFWPg/7lVIBsncsKVedMzinAkXRQQNU8Ve5aNeVxYP4bfqR1+wDXfeX7/Ob0jXh5ygbf5/MqFMXke7vokAKO+6gcW8cVMHdAsjWXrYiMfOX4bty4Eenp6YiLi0PdunXlOilgKxZxFLDAUeyebKMovgNDk6+cyDLXZVXnTHIK0IoKuFMBFmC5kzujpgJaKaDqDQcfBmiVRradJV/bkmljQLbaoLLtKNnalkwrA7t8MzO9mLLkTxz+7UVcljoJiZ60oPFOzWiBZ9MHY4vX/rY9Hg9QoViitWJWg4pFcVu32hBFWTzsKWCXrb3e2TqaCpCtc+qrOmdyTgGOpIMCquapcteqjy8FtszyI+3yINDjcd/nwR8swty/Dvg+39ihBkZe2kiHFHDcR+XYOq6AuQOSrblsRWTkK8dX5kW/3EjyVizikNdOdUuyVZ1QeP6Rr5x+MtdlVedMcgrQigq4UwEWYLmTO6OmAlopoOoNBx8GaJVGtp0lX9uSaWNAttqgsu0o2dqWTCsDWb6p6ZmYvWQZKv3+PBoe+i1ozKneWIzP6Is30i/DcRSW1qV66cKYdE9nJBeKk+7DjYaybN2olW4xk61zxFSdMzmnAEfSQQFV81Spa5XXC7xYEzh92I/0qk+Bhpdan1PSM9Bs1BScScv0/f7u4Fbo27iCDinguI9KsXU8erMHJFvyNVsBuehkXvTLjSRvxSIOee1UtyRb1QmF5x/5yuknc11Wdc4kpwCtqIA7FWABlju5M2oqoJUCqt5w8GGPVmlk21nytS2ZNgZkqw0q246SrW3JtDKICN9t84HJDwO7VwSN/VhMCYxPGoLxpzri0Gn/i007Ql3VugpevDLvbQ3t9OeGthFh6wahNIyRbJ2DpuqcyTkFOJIOCqiap0pdq47sAF5rHIhz+AqgZA3ru8VbD2Hguwt8v4vVOP94ohdKFE7QIQUc91Epto5Hb/aAZEu+ZisgF53Mi365keStWMQhr53qlmSrOqHw/CNfOf1krsuqzpnkFKAVFXCnAizAcid3Rk0FtFJA1RsOPuzRKo1sO0u+tiXTxoBstUFl21GytS2ZVgYR45uZASyfAEwbBZzcH1yDCk1wssez2F60Bf4+fBo7Dp2y/vv34VPYIf576BSOp6Tnqt97Q1qhTyOuRBFqgkWMbagDsp1jCpCtY1JD1TmTcwpwJB0UUDVPlbpWrfsZmHitH2eh4sDD2wBRaQXgjWkb8cpvG3y/N6hYDL8M76wD/qj4qBTbqChg7qBkay5bERn5yvGVedEvN5K8FYs45LVT3ZJsVScUnn/kK6efzHVZ1TmTnAK0ogLuVIAFWO7kzqipgFYKqHrDwYcBWqWRbWfJ17Zk2hiQrTaobDtKtrYl08og4nzPHAPmvAwseBvITAuuRcMBQK+ngJLVc/x+9HSaVZi19eBJPPztKpzIVpBVqkgCJt/bGeWKJmqlcbScjTjbaAXCcXMoQLbOJYWqcybnFOBIOiigap4qda2a+Twwc7QfZ/VOwNBJvs+D3l+I+ZsO+j4P7VgDIy5ppAP+qPioFNuoKGDuoGRrLlsRGfnK8ZV50S83krwVizjktZOx3Lp1K2rWrGmZfvTRR7jxxhtlugnJhmxDkknbRuQrh07muqzqnElOAVpRAXcqwAIsd3Jn1FRAKwVUveHgwwCt0si2s+RrWzJtDMhWG1S2HSVb25JpZVBgfA9uAqY8Aaz3v9wMECa2ENDxHqDTfUBCkaCafb1kBx78ZmXAb93ql8VHN54Pzz8rVmgltsPOFhhbh+PgcDkVIFvnskLVOZNzCnAkHRRQNU+VulZ9MSjwnqTdHUDfswVZKekZaDpyClLS/dskjx3SCr256mau6a8UWx1OUo18JFuNYEm4Sr4SogGQedEvN5K8lQlFHNmLmuSVALxebzjmIdmyACskmdgoBAVMOHdDCDPiTWSuy6rOmSIuDjukAgYrwAIsg+EyNCpgigKq3nDwYYApGRY8DvI1ly/Zkq25CpgdWYGfu5tmAJMfAfavDS5k0UpAz5FAk4FATExAG/Hg9PbPlmHymj0B3z89oDGGtMu5epbZpOxHV+Bs7btEiwgpQLYREjKEblSdM4XgOpu4SAFV81Spa9V/GgNHd/izYsC7QPOzWxL+vuUQrnpvge83UeP9xxO9UKJwgouyyF6oSrG15zpb56MA2ZqdIuQrx1fmRb/cSPJWJhRxsAArOH8T2MpntvmW5CvHWOa6rOqcSU4BWlEBdyrAAix3cmfUVEArBVS94eDDAK3SyLaz5GtbMm0MyFYbVLYdJVvbkmll4AjfjHRg6UfAjGeB04eD61PlfKDvC0CVVgG/HzqZij6vzcb+4ym+7xPjYzDpns6oXTZZK62ddtYRtk4HxfEsBcjWuURQdc7knAIcSQcFVM1TZa5Vpw4BL57dJsh33D4fKH92i8HXp27Ef6Zu8P3UsGIx/Dy8sw7oo+ajMmyjpoC5A5OtuWx5DynPVuZFv/xocpYmFHGkpaVh/fr1uQrQp08f7Nq1C5UqVcKvv/6aa7vGjRvLiaiolQlsFZVWCbfIVw6DzHVZ1TmTnAK0ogLuVIAFWO7kzqipgFYKqHrDwYc9WqWRbWfJ17Zk2hiQrTaobDtKtrYl08rAUb7iBejM54HFHwDejOA6Nb3m7IpYxSr6fp+5fh9u/GhxQPumVYrj29s7ID42cNUsrcQvYGcdZVvAsbD7QAXI1rmMUHXO5JwCHEkHBVTNU2WuVZtnAp/096MU2yA/uhOIjbe+u3bsQizYfND3+82dauKJixvqgD5qPirDNmoKmDsw2ZrLVkRGvnJ8ZV70y40kb+WGIo4aNWpg27ZtqF69OsRqWW453MDWLSyDxUm+cvRlrsuqzpnkFKAVFXCnAizAcid3Rk0FtFJA1RsOPgzQKo1sO0u+tiXTxoBstUFl21GytS2ZVgZR4btvHfDrI8Cm6cG1ii8CdP430P4uID7RavPkf1fjkwXbAtrf06MO/t27vlZ6O+lsVNg6GaCLxyJb5+CrOmdyTgGOpIMCquapMteqeWOA357wo6zUAhg20/p8Ji0DTUdNQWp6pu/3969vjV4Ny+uAPmo+KsM2agqYOzDZmstWREa+cnxlXvTLjSRv5YYiDhZgAcWKFUNMDP8ITf5MUc/SDeduQaguc11Wdc5UEPqwTypgqgIswDKVLOOiAgYpoOoNBx8GGJRkQUIhX3P5ki3ZmquA2ZFF7dz1eoENv54txDq0ObjIJaoBPZ4Eqp6P04nlcfHbi7Bp/0lf2xgP8PVtHdCqekmzIUlGFzW2kv7SLHQFyDZ0rcJtqeqcKdy4dLHfvn07xowZg0mTJkH8/0KFCqFOnTq46qqrcMcdd6Bw4cIRCWXixIn46KOPsHLlShw+fBgVKlRA586dceedd6Jdu3Z5jpH1MjA/RwpytQZV81SZa9W3twCrvvYjankDcOkY6/PCzQdxzdiFvt88HmD5E71RvPDZ1bF4BFdAGbYEFHEFyDbikirVIfnK4ZB50S83kryVG4o48irA6tatG2bNmoWuXbti5syZEMxef/11a6vCnTt3WsWHW7ZsgehDHLt378b333+P6dOnY8WKFdbWhunp6ShTpgxat26NQYMGYeDAgbkWO4kVuGrWPLu9sbiHvPHGGwPgjRw5EqNGjbK+83q9OHPmDN544w188cUXlm/iaNCgAa6//nrcdtttiIuLyxW+G9jKZ77+luQrx1DmuqzqnElOAVpRAXcqwAIsd3Jn1FRAKwVUveHgwwCt0si2s+RrWzJtDMhWG1S2HSVb25JpZRB1vumpwO/vAbNeBFKO5aGdB2mFy2H1iWLY6S1t/W+XtwxSkyvjyet6I6lMdSCpJCDenPKwFIg6W3IoMAXItsCkzdGxqnMm5xSI3kii6Oq6667D0aNHgzpRv359/Pzzz6hVq5a0k+JlmHi59tNPPwXtQ6wwIF6gPfFEttWTzmnJAqzc5VfmWvVWW2D/Or+jF70MtPmX9fm1qRvw2tSzL0LF0bhyMfx0d2fpnHKLoTJs3SK4g3GSrYNiR2Eo8pUTXeZFv9xI8lZuKOIItQDrvvvus+4hT570//GWUDarACsjIwMJCQkQmuV19OrVC9999x2Sk5NzNLNTgLVnzx706dPHKvQKdlxyySX44Ycfci32cgNb+czX35J85RjKXJc5t5fTmlZUQCUFWIClEg36QgWoQFAFVL3h4MMAsxOWfM3lS7Zka64CZkemzLl7Yj8w/Wlg2Sfib0TlRBdbFxavku1/VQM/F6sMxCXI9a2hlTJsNdROdZfJ1jlCqs6ZnFMgOiOJF1QdOnTAqVOnrJdejzzyCLp3724VlorVqt5//33LsfPOOw+LFy8O+mIsFM/Fy7kJEyZYTUX/w4cPR6VKlbBq1So899xz2LRpk/WbGO+WW24J2mXWy8D+/fvjmWeeyXVY8aKvXr16obhlu42qearEtSr1FDC6MuDN9pL15t+Aqm0sna9+bwEWbTnk0/yWTjXx+MUNbTNwm4ESbN0mukPxkq1DQkdpGPKVE17mRb/cSPJWbijiCKUAS6xKtX//fiQlJeH++++3VjSNjY217hevueYaa4UrsdKVWFVVrJp14YUXokmTJihbtiyOHz+OzZs3W/d9CxYssGCIFao+/vjjHGDsFGCJe9olS5ZYK12JYqtSpUph/fr1ePrpp7F27Vqr73fffRe33npr0ARwA1v5zNffknzlGMpcl1WdM8kpQCsq4E4FWIDlTu6MmgpopYCqNxx8GKBVGtl2lnxtS6aNAdlqg8q2o2RrWzKtDJTju3sFMPkRYNu8AtDRAySXDyzKKt8YaHgpkFCkAMaLbpfKsY2uHEaNTrbO4VR1zuScAtEZSRRDie1jxHYss2fPRvv27QMceemll/DQQw9Z34ntXZ588knbjoptasSLN3GIl2FiGxrxgi7rOHDgAFq1amVtfViyZEnrhVyJEiVyjJP1MvCGG27A+PHjbfsRCQNV81SJa9XfS4APLsgmswd4dKf17/6ZtAw0HTUFqen+4qwPb2iNCxqUjwQWo/tQgq3RCkcvOLKNnvZOjEy+cirLvOiXG0neyg1FHKEUYAkFRTG9KKCqVq1aUEHFloCiyF5sa53bMWLECDz11FPweDxWsVTdunUDmtopwIqPj8eUKVN8951ZHR06dAgNGzbE3r170bRp01xXyHIDW/nM19+SfOUYylyXVZ0zySlAKyrgTgVYgOVO7oyaCmilgKo3HHwYoFUa2XaWfG1Lpo0B2WqDyrajZGtbMq0MlOTr9QJ//gAseBvYuwZIC9w6IOICJxYHWgwBzr8FKFUz4t1Hq0Ml2UZLDMPGJVvngKo6Z3JOAedHEisUtGlzdnUisRKAWBHg3EO8qGjcuLG1aoAojhIvrsTLLTtHv379rC0MRdGVeIlWpUqVHOZita1rr73W+v7ll1+2VlI492ABVu6qK3GtWvwhMOnffifL1APuWmx9XrDpIK59f6HvtxgP8MeTvVE8yV4u2ck7U9oqwdYUMRWLg2wVAxJhd8hXTtBQXvRnZnpx+FSq3AARsBL3RsdPnLB6KpqcnOt2dhEYytdFycIJiBH/eDp0hFqA9cknn2DIkCFheSW2KaxQoQJEQX6we0A7BVj//ve/8corrwT1R6zy+vzzz1u/HTlyBMWLF8/RjgU6YaFU3ph85RCFcl0+t2fO7eW0phUVUEkBFmCpRIO+UAEqEFQBVW84+DDA7IQlX3P5ki3ZmquA2ZEpf+6KYqzTh4Gjf2f73w5s37IB+3duQiXPQZTDYcR6JLctDMDrAer1BdoOA2p1BzzOPUwuiCxTnm1BBO2SPsnWOdCqzpmcU8D5kR577DFr+z9xLFy4EG3btg3qhHhZJV5aiUOsKtCrV6+QnT1x4oS1BU1KSgr69u2LX375JahtamqqtSXNsWPHrC0R583LuTojC7Byl12Ja9WPw4Gl2VYma3wlcOWHltOv/rYBY6Zt9AXQpHJx/Hh3p5DzyM0NlWDrZgAFGDvZFqC4CnRNvnIQQnnRf/BEClo9M1VuAE2tlj7eE6WTCznmfSgFWGLL56NHjyIxMTFkv0QBzJ49e6wtCNPS0nx2oohr+fLlVjGXKOrKftgpwFq6dClatmwZ1J9vvvkGAwcOtH77448/0Lx58xztWKATMkotG5KvHLZQrsvn9sy5vZzWtKICKinAAiyVaNAXKkAFgiqg6g0HHwaYnbDkay5fsiVbcxUwOzJdz12xbcCtny7FlD/3Ig7pqOA5jEo4gOHnJ6FjmdM5CraQevavgUM+ytQH2vwLaHYtUCg5ZLOshst3HMF3y/5GtVKFMaR9dRSK829rZbszSQNd2UqG6yozsnUOt6pzJucUcH6kLl26YM6cOShSpIi1EoDYhjDYIbaWEUVR4hBbEIqtCEM9pk+fjgsuOLst3ejRo/Hwww/natqnTx+rwEv4cerUqRwrbbEAK3fVlbhWje0O7Frmd7LXU0DH4dbnq95bgN+3HPL9NqxLLTx6UYNQ08jV7ZRg62oCBRc82Ractir0TL5yFEJ50c8CLDlt7ViFUoDVqFEjrF69Ot9uxfOEzz//HB9++CEWLVoEcW7kdlx44YXWqqnZDzsFWCdPnkThwoWDdp/9nlRsu925c+cc7Vigky9OrRuQrxy+UK7L5/bMub2c1rSiAiopwAIslWjQFypABYIqoOoNBx8GmJ2w5GsuX7IlW3MVMDsync9d8ZC7z2tzcOBEig9SUnwsJt3TCbXKZiuaEqtonTnqL8o69s9qWrtXApumA8hj9axCxYAWg89uT1i6dr7JILaeeGvGX/jP1A3I/KfbznXL4IMbWjtehKUz23yFdnkDsnUuAVSdMzmngPMjiRWnxHYvzZo1s1YdyO04fPgwSpUqZf0sVg746quvQnb2rbfewl133WW1//777zFgwIBcbYcPH44xY8ZYv69ZswYNGzYMaJv1MrBmzZpITk7Gpk2bIF7qlS9f3tpKUWxh2L9/f3gKcFVFVfM06teqjHRgdGUg/Yyf2ZAfgNrdcSYtA01HTkFqRqbvt3E3tkaP88qHnEdubhh1tm4Wv4BjJ9sCFjjK3ZOvHIBQXvSzAEtOWztWoRRgderUySrkz+s4c+YMLr/88lxXQD3Xtlu3bpgxY0bA13YKsMR9YW7HzJkz0b17d+tnMYYY69yDBTp2skS/tuQrxyyU6/K5Pas6Z5JTgFZUwJ0KsADLndwZNRXQSgFVbzj4MECrNLLtLPnalkwbA7LVBpVtR8nWtmRaGejOd8a6fRg6fnGA5s2qlsA3t7VHfGxM/iwObQZ+/wD44zMg5Wge7T1A3d7/bE/YA4jJ2bd46H7fVyswe8P+HP30bFAe7wxuGZpP+XsdUgvd2YYUpEsbka1z4FWdMzmngLMjiRdiSUlJ1qD9+vXDTz/9lKcDouBJrCrQrl07iBWxQj3EilcvvPCC1Xzx4sVo3bp1rqYvv/wyHnzwQev3yZMnQ6yIlf3IehmY19gdO3bEl19+icqVK4fqYkA7kYd5Hbt377aKvcSxYcMGVKlSRWqcSBsJnmI1B3GIlc3sbAcUCV88+9chcVzgi8zTd68BCpfGwi2HMPQTf4FfjAdY+FAXFE0MvuJaJPwxqY9oszVJS9ViIVvViETWH/KV03P79u3IyMiwVsGsXTv4H+WIueD5z4k/7nHPsfjRHo5uQVirVi1s27YN1atXx+bNmwOE7tGjB2bNmoWuXbtCrCqV1yFWTn322WetJqL97bffbm0RWKFCBes+NOafub4ohhLFXMH6FAVYWbkgVtG68cYbA4YUK7M+9dRT1ncid3I7RAFW1qqs06ZNy7UAS2yfLQ5x75vln3syzexIRQEW+dpnLP7oRWwZGhsbi2rVqoXUgZhT1atXz2q7Y8cOZeZMITnPRlSAClgKsACLiUAFqIDyCqj6MoEvlJRPnbAcJN+w5FPamGyVxhOWc2QblnzKG5vA9/EfVuGzhdsDtB5+QV3c1+vsg5WQjpQTwMqJwKKxwIH1eZuUrgu0GQY0F9sTFrXaLt12CHd+/gf2HMu2ysY5vfRrWhFjrmmBWPGW14HDBLYOyKTlEGTrHDZV50zOKeDsSPv370e5cuWsQa+++mpMnDgxTwfEKlP79u1D48aNsWrVqpCdvfPOO/H2229b7deuXYvzzjsvV9t33nkHd9xxh/X7N998gyuuuCKgrXiI36BBA/Tu3dvyo3jx4tbWiaIgTNiKh/viEG3Ed+J3u4ed1bM++OADlClTxu4QRravcmgeWm17zxfb6fhSmNL4Nevzz9tj8OtOfzF1tSJe3N809xekRgrEoKgAFaACVCAkBUqXLm0V5oht5CpWrBjUJtPrxZHT6SH1Z0qjEklxiCnAFT7P1alp06bWfVXVqlWxcuXKgJ8vvvhizJs3D6LoPa8CfrEalbgn27t3r1XAP2nSpFwLmsRW1+I+MVifoihPrNYqDrGy6qBBgwL8ef75533F/mLV1tyOuXPn4pJLLrF+/vHHHyFW8OJBBahA/gqIP0AR28OLZyMHDx7M3wCwVlm+5ZZbrLYswApJMjaiAsopwAIs5ZDQISpABc5VQNWXCXyhZHaukq+5fMmWbM1VwOzITDh3T6dmoN+YOdh84KQPlihyEqtgtahW0h5AsT3AllnAoveA9b/kvT1hQlF4mw/CVzEX4rHZp5GetedgHiNe0bIKXrqyKWIcKMIyga09eO5pTbbOsVZ1zuScAs6OJB6EZ/0F85AhQ/DJJ5/k6YBoK2zECgR//fVXyM7efPPNGDdunNVe/PW0WFEht0O0E+3F8emnn2Lw4MEBTUWxVYkSJYKaHz9+HFdeeSWmTJli/X7ffffh1VdfDdnPrIYswLItmWXQ6O8JqLN/ss94d7EW+L32fdbnMatjsem4vyC6R6VM9K/u345QbkRaUQEqQAWogIkKhFKAZWLcqsUUiQKsQ4cO+VauEquhDhs2LGiYYkUicX8oVthhAZZqmUB/qADAAixmARVwpwIswHInd0ZNBbRSQNWXCXyhpFUa2XaWfG1Lpo0B2WqDyrajZGtbMq0MTOG7YscRXPHO/IAiqBqlC2PSPZ1RpJDkdkKHtgCLxfaEnwJn8tqeEJiR0QwfZ/TBrMym8CIGZYsWwh3dauPFyetxOi1wRY3r2lbDMwMaw84LdZmkMoWtTOym25Ctc4RVnTM5p4CzI+m4AlZ+Ch09etR60Sf+MrtIkSIQL/4SEhLyMwv4nVsQ2pLL1zjhiysQu32e73Nah38jvfND1r/LbZ+fjbRshdPvDmqKrnW5clioSnMbs1CV0q8d2erHzI7H5GtHLX/bULYglOs5clZu2MYsElsQipWvKlWqZAk/evRoPPTQQ0EhjBkzxiqcFwe3IIxcnrKnnAq44dwtCO7cgrAgVGWfVEB9BViApT4jekgFXK+Aqi8T+ELJ7NQkX3P5ki3ZmquA2ZGZdO6OmbYRr/62IQDYtW2qYfTlTcKDmHoSWPnV2VWx9q/Ns6/NmRUwp+Rl6DfkAWsLqHl/HcDQ8ST7E14AACAASURBVIuRmh64qsbNnWri8X4NCrQIyyS24QE0z5psnWOq6pzJOQWcHUm8GBZb/IijX79+eW4hI9okJyfj5MmT1hYyYnu/UI+HH37Yty3M4sWL0bp161xNX375ZTz44IPW75MnT0afPn1CHcbX7q677rK2pxGH2B5HbGkTyUPVPI3qtUqsaPlC9cAC6qs/BxpcbP3bfN0Hi3wIxKqZy5/shaKJ8ZHEYnRfUWVrtLLRD45so8+gID0gXzl1N27ciPT0dMTFxaFu3bpynRSwlSjiOHbsmDVKsWLFct1Wr4DdKNDua9SogW3btqF69erYunVrwFjdunXDrFmzrGKpmTNn5uqH0EmsaCZWMG3evDkWLVqUozBe3Bv26NEDYhUscQTrU4xfs2ZN6/ePPvoIN954Y8CYI0eOxKhRo6zvxLaHuR3C1+7du1s/z5gxAyKOcw83sC3QxFG8c/KVAyRzXVZ1ziSnAK2ogDsVYAGWO7kzaiqglQKq3nDwYYBWaWTbWfK1LZk2BmSrDSrbjpKtbcm0MjCJb3pGJga+twB/bD8SwOCD61ujZ8Py4XPxeuHdMhs7Jv8HlffORKwn9wepSEgGml0LtBmGGQdLYNinS5CWEdj+ru518ECf+uH7lUsPJrEtMJE07ZhsnQOn6pzJOQWcH6ls2bI4cOAAmjVrhuXLl+fqwOHDh1GqVCnr94EDB+Krr74K2dk333wTd999t9X++++/x4ABA3K1HT58OMQqCOJYs2YNGjZsGPI4WQ3ffvtt3HnnndZH4afwN5KHqnka1WvV4W3A600DZb53FVCiGl6Zsh5vTPdvWdmsagn8986OkURifF9RZWu8utENkGyjq39Bj06+cgrLvOiXG0neyg1FHJEowBIKZy+Mb9OmjbXSVZ06dSBWLf35558h7ttEkb+4z9ywYQMLsOTTkpYhKOCGczcEGWw3kbkuqzpnsh08DaiAixVgAZaL4TN0KqCLAqrecPBhgC4ZJOcn+crppoMV2epASc5HspXTTRcr0/huO3gSF74+B6dS/dv+lS6SgMn3drG2BQznOJGSjke+W4UfV+xCFc9+DI6dimtip6OE52Te3dbsgj/KXY5r5pRGSmZsQNsHetfDXT0K5q+oTWMbDjvTbMnWOaKqzpmcU8D5kbp06YI5c+ZY2/WJ1QnEahPBDrHiVdZKUk8++aRvlYFQPJ4+fTouuOACq6nYfkasiJXbIVa8mjJliuWHWG3L7vaBol+x+pV42ScOFmCFQigCbdb+CHw52N9RYgng/7YCHg+ufGc+lmw77Pvt1q618MiFDSIwqHu64L9D5rImW3PZisjIV46vzIt+uZHkrdxQxBGpAixRaCVWmsqt0F8UXokCfXF/mduqWlwBSz5XaRmogBvO3YJgLnNd5ty+IEiwTyrgrAIswHJWb45GBaiAhAKq3nDwYYAETI1MyFcjWDZdJVubgmnUnGw1giXhqol8J/6+HQ9/typAjQvOK4cPbmgtveXfuj3HcMdny7D5QGCxVSJSMLzsctxSaAriD+S9PeGZQmXw/slOmJB+AXajtM8/sRXhLZ1rSdDL28REthEXSdMOydY5cKrOmZxTwPmRHn30UasoShwLFy5E27Ztgzrx/PPP45FHHrF++/XXX9G7d++QnT1+/Li1TWxqair69u2LX375Jait+F2syCW29Gnfvj3mz58f8hjZG4rVr8RqCuKYO3cuOnaM7GpLquZpVK9V058FZr/ox1CzC3DDjziVmo5mo6YErEo5fuj56Fa/nBRbtxpFla1bRXcobrJ1SOgoDUO+csLLvOiXG0neyg1FHJEqwBIqnzp1Cq+++qpVGC/4ikL7qlWrWltgi9VPq1SpYhVpsQBLPidpGZoCbjh3Q1PCXiuZ67KqcyZ7kbM1FXC3AizAcjd/Rk8FtFBA1RsOPgzQIn2knSRfaemUNyRb5RFJO0i20tJpYWgiX6/Xi399shRT1+4NYPDcZU0wqG0121y+WrIDT/53Nc6kZeawvbVLLWsbwfgYD7BtHrDoPWDdT4A3Z9ss4wyvB9MzW+KzjJ6YndkEXsTgmQGNMbhdddu+5WVgItuICqRxZ2TrHDxV50zOKeD8SL///ruv6OrWW2/Fu+++m8MJ8aKicePGWLt2LUqUKIF9+/YhPj7elrMXXXSRVXglXrht2bLFetF27jFx4kRce+211tcvvvgiHnzwQVtjiMZilYXatWvj4MGDKFy4MA4dOoRChcJbkfFcJ1TN06heqyZcA2zIVljX/i6gz7OYu/EABn+4yCdhbIwHK0b0RnKh4Cut2QbuEoOosnWJxtEKk2yjpbwz45KvnM4yL/rlRpK3YhGHvHaqW5Kt6oTC84985fSTuS6rOmeSU4BWVMCdCrAAy53cGTUV0EoBVW84+DBAqzSy7Sz52pZMGwOy1QaVbUfJ1rZkWhmYyvfAiRT0fW02DpxI9fFIio/Fz8M7o2aZIiExOp2agSf+uxrfLP07R/tiiXF45arm6NWwfM6+juwAlnwILPsEOHUwz7G2Z5bFhIwL8FVGNzw6sDOubJWzACAkZ4M0MpWtrB4m2ZGtczRVnTM5p0B0RsrahlAUR82ePdtafSr78dJLL+Ghhx6yvhoxYgRGjhwZ8Pv48eMxdOjQXH8XP2TfhvDSSy/Fd999h9hY/zaxBw4cQKtWrbB9+3aryGvz5s0oWbJkwDiTJ09G165dkZSUFFQosdLWlVdeaW1hKI67774bY8aMibioquZpVK9VrzYEju30a33ZWKDZ1Xjp13V4a8Ym3/fNq5bAD3dGdkWyiANWsMOoslVQD5NcIluTaOaMhXzl+Mq86JcbSd6KRRzy2qluSbaqEwrPP/KV00/muqzqnElOAVpRAXcqwAIsd3Jn1FRAKwVUveHgwwCt0si2s+RrWzJtDMhWG1S2HSVb25JpZWAy3+nr9uKm8UsCeIgXrd/c1h5xsTF5ctq0/4S15eD6vcdztGtapTjeGtQSVUsVzpt12hlg7f+AxR8COxbm2TbFG4fJmW1Qptvt6NjjEsDjCTuPTGYbtjiad0C2zgFUdc7knALRGemPP/6wtukTuZ6cnAyxLWH37t2tz2JVqrFjx1qO1atXD0uWLEHRokUDHA2lAEsYiNWtRH/iEP3fe++9qFSpElatWoVnn30WmzadLdQRq3CJ1bjOPcTWNKLt5Zdfjk6dOlkrXQl/jxw5ggULFuCdd97Bjh07LLP69etbWxiWKlUq4qKqmqdRu1adPAi8dM7WvncsBMo1wBXvzMfSbYd9DG7vVhv/1/e8iDMxvcOosTVdWAXiI1sFIBSgC+QrJ67Mi365keStWMQhr53qlmSrOqHw/CNfOf1krsuqzpnkFKAVFXCnAizAcid3Rk0FtFJA1RsOPgzQKo1sO0u+tiXTxoBstUFl21GytS2ZVgam8330+1WYsGh7AJN7e9bFvT3r5crpfyt24ZFvV+JkakaONte3r47H+jVAoTj/KikhAd+7BlgyDljxJZCas6grex/Hi9VD0U7DgKZXA4nFQuo+WCPT2UoLY4Ah2ToHUdU5k3MKRG+kH3/8EYMHD8axY8eCOiGKryZNmoQ6derk+D3UAixxLokVqn7++eegY8TExOCJJ57IscJWVmNRgDVr1qx8RRIrek2YMAGVK1fOt61MA1XzNGrXqk3TgU8v80sZlwg8shOnMoCmI6cgPdPr++3jm9qga72yMrK72iZqbF2tujPBk60zOkdrFPKVU17mRb/cSPJWLOKQ1051S7JVnVB4/pGvnH4y12VV50xyCtCKCrhTARZguZM7o6YCWimg6g0HHwZolUa2nSVf25JpY0C22qCy7SjZ2pZMKwPT+Z5KTUe/MXOx5cBJH5fYGI+1ClaLaoFbSaWkZ+Dpn/7EZwsDC7aEYZGEWDx/RVNc0qxSeHxTjgOrvgYWjwP2rsq7r/giQNOBQOubgYpNbY9rOlvbghhkQLbOwVR1zuScAtEdadu2bXj99detQivBIiEhwSq4GjhwIO666y4ULhx8JcJQC7CyohPFUcJmxYoV1upV5cuXR+fOna0xzt3+MLsiYvWtadOmWatdrV+/HmLbQmEv/BIrabVt29ZaZat3797wRGBlw9xoqJqnUbtWzX0NmDrCL1flVsC/pmP2hv24ftzvvu/jYjxYMaI3ihSKi26iazh61NhqqJVuLpOtbsTs+Uu+9vTKai3zol9uJHkrFnHIa6e6JdmqTig8/8hXTj+Z67KqcyY5BWhFBdypAAuw3MmdUVMBrRRQ9YaDDwO0SiPbzpKvbcm0MSBbbVDZdpRsbUumlYEb+C7fccTacigj24oXNcsUwaR7OqFwwtmXrtsPnsKdE5Zh1c6jOfidV6Eo3r6uJWqVTY4cW68X+HsxvEs+RMbK7xDnTc2778qtgfNvBhpdBsQnheSHG9iGJISBjcjWOaiqzpmcU4Aj6aCAqnkatWvVNzcBq7/1o2s1FLjkNbw4eR3ennl2W0lxtKxWAt/d0VEHxMr5GDW2yilhnkNkax7T7BGRrxxfmRf9ciPJW7GIQ1471S3JVnVC4flHvnL6yVyXVZ0zySlAKyrgTgVYgOVO7oyaCmilgKo3HHwYoFUa2XaWfG1Lpo0B2WqDyrajZGtbMq0M3ML3takb8NrUjQFsBrWthucua4Ipa/bg/q9X4PiZ9BzsrmpdBaMubYykBJtbDtrIgswTB/HLZ6+g4a5vUDNmb96WiSWAFoMB8TK5TM5tt/iCxYbwGjd1y3mrAiJV50wqaEMf1FFA1TyN2rXqjdbAwWz/5l/8H6D1Tbj87XlYtv2ID9wd3Wrjob7nqQNSI0+ixlYjjXR1lWx1JRea3+Qbmk7ntpJ50S83krwVizjktVPdkmxVJxSef+Qrp5/MdVnVOZOcArSiAu5UgAVY7uTOqKmAVgqoesPBhwFapZFtZ8nXtmTaGJCtNqhsO0q2tiXTysAtfNMzMnHluwsgVsPKfvRtVAGT1+zJwSwxPgZP92+Mga2rOsJTrM71wJfLsH/VbxgcOxU9Y5YizpOZ99g1uwKtbgDq9gEK5Vydyy1sHQGk2CBk6xwQVedMzinAkXRQQNU8jcq1KuUEMLoKAK8f3S3TcbJsMzQbNQXp2VbD/PTmNuhct6wOiJXzMSpslVPBTIfI1kyuWVGRrxxfmRf9ciPJW7GIQ1471S3JVnVC4flHvnL6yVyXVZ0zySlAKyrgTgVYgOVO7oyaCmilgKo3HHwYoFUa2XaWfG1Lpo0B2WqDyrajZGtbMq0M3MR3y4GTuOj1OTidlpEno1pli+Cd61qhfoWijrIURWJ3f/EHflm9B+VxCNfEzsA1cTNQ0XMobz/ikoC6PYGGA4B6fX3FWG5i6ygoBQYjW+cgqDpnck4BjqSDAqrmaVSuVTt+Bz7s5cfmiQEe2YlZW0/ihnG/+76Pi/Fg5cjevq2IdeCsko9RYauSAAb7QrYGwwVAvnJ8ZV70y40kb8UiDnntVLckW9UJhecf+crpJ3NdVnXOJKcAraiAOxVgAZY7uTNqKqCVAqrecPBhgFZpZNtZ8rUtmTYGZKsNKtuOkq1tybQycBvfCYu249HvV+XK6JJmlTD68iZILhQXFY6p6Zm47bOlmL5unzV+LDLQM2YZbiw0He29K/L3KS4RqHO2GOt0tW6YMmu+ZdO7d28kJSXlb88WWijgtvM2mlBUnTNFUxOOrZ4CquZpVK5Vv78P/PyAH1LZ84A7F+H5X9bh3VmbfN+3ql4S397eQT2YmngUFbaaaKO7m2SrO8G8/SdfOb4yL/rlRpK3YhGHvHaqW5Kt6oTC84985fSTuS6rOmeSU4BWVMCdCrAAy53cGTUV0EoBVW84+DBAqzSy7Sz52pZMGwOy1QaVbUfJ1rZkWhm4ja/X68UtHy/BtH8KnLJgJcTG4MlLGuK6ttXg8XiiyvBMWobl49y/DgT40broYYxrvBrF1k0ETh/O10dvbCHsSW6EXSXaoOFl9yOpRLl8bdhADwXcdt5Gk4qqc6ZoasKx1VNA1TyNyrXqf3cDyz7xQ2pyFXDF+xjw1ryAbYjv6l4HD/Sprx5MTTyKCltNtNHdTbLVnWDe/pOvHF+ZF/1yI8lbsYhDXjvVLclWdULh+Ue+cvrJXJdVnTPJKUArKuBOBViA5U7ujJoKaKWAqjccfBigVRrZdpZ8bUumjQHZaoPKtqNka1syrQzcyPfAiRT0GzMHe4+lWKyqlkqythxsXLm4MuxOpaZbWyUt3hpYaFWlZBK+urkFKu38FVj5JbB5FuDNe0tFEZQ3NgGe2hcAjQYA9S8EEtWJVRnRNXLEjedttPCoOmeKlh4cV00FVM3TqFyr3usK7F7uB9X7GZxodTuajZqCjEyv7/vPbm6LTnXLqAlUA6+iwlYDXUxwkWxNoJh7DOQrx1fmRb/cSPJWLOKQ1051S7JVnVB4/pGvnH4y12VV50xyCtCKCrhTARZguZM7o6YCWimg6g0HHwZolUa2nSVf25JpY0C22qCy7SjZ2pZMKwO38t199DQ+W7gNxRLjcW3batZ/VTuOn0nD4A8WYcXfRwNcq1mmCL68tR3KFU0ETh0C1v0ErPkB2DILyEzPP4zYBKB2D6Bhf6D+RUBSifxt2EIpBdx63kYDgqpzpmhowTHVVUDVPHX8WpWRBjxXCchI9cO6/n+YkdYAQz9a7PsuPtaDlSP6ICkhVl2oinvmOFvF9TDJPbI1iWbOWMhXjq/Mi365keStWMQhr53qlmSrOqHw/CNfOf1krsuqzpnkFKAVFXCnAizAcid3Rk0FtFJA1RsOPgzQKo1sO0u+tiXTxoBstUFl21GytS2ZVgbkqzauI6dSce37i7B297EAR+uVT8bEYe1RqkiC/3tRjLX+57PFWJtnAplp+QcXEw/U7g40HACcJ4qxSuZvwxZRV4DnrXMIVJ0zOacAR9JBAVXz1PFr1Z7VwLsdA5E9tAWjZ+3Fe7M2+74/v0ZJfH1bBx3QKuuj42yVVcI8x8jWPKbZIyJfOb4yL/rlRpK3YhGHvHaqW5Kt6oTC84985fSTuS6rOmeSU4BWVMCdCrAAy53cGTUV0EoBVW84+DBAqzSy7Sz52pZMGwOy1QaVbUfJ1rZkWhmQr/q4Dp5IwdVjF+KvfScCnG1UqRgm3NIOxQsHWb3r9GGkrvovDs0dh3LHVyMmhG0KERMH1Or2TzFWP6BwKfXFcamHPG+dA6/qnMk5BTiSDgqomqeOX6uWTwB+uN2PrHg14L5V6P/WPKzYccT3/d096uD+3vV1QKusj46zVVYJ8xwjW/OYZo+IfOX4yrzolxtJ3opFHPLaqW5JtqoTCs8/8pXTT+a6rOqcSU4BWlEBdyrAAix3cmfUVEArBVS94eDDAK3SyLaz5GtbMm0MyFYbVLYdJVvbkmllQL564Np37Ayuem8Bth48FeBwsyrF8dzlTdCoUvEcgWSxjUs/iV7V0pCw8Rdg07TArZlyC18UY9XsAjS+8uxWhYWS9RDKJV7yvHUOtKpzJucU4Eg6KKBqnjp+rZr8CLDwbT+y+v1w/LKP0fyp35CR6fV9//ktbdGxThkd0Crro+NslVXCPMfI1jym2SMiXzm+Mi/65UaSt2IRh7x2qluSreqEwvOPfOX0k7kuqzpnklOAVlTAnQqwAMud3Bk1FdBKAVVvOPgwQKs0su0s+dqWTBsDstUGlW1Hyda2ZFoZkK8+uHYeOY2r3l0A8d9zj051ymBYl1roXLcMPB6P9XNQtmeOAusnA3/+F/hrKpCRkr8ACclAowFA88FAtXbAP/3nb8gWBaUAz9uCUjZnv6rOmZxTgCPpoICqeer4teqjfsC2uX5k3R7BjAo3Yej4xb7vEmJjsGJEbyQlxOqAVlkfHWerrBLmOUa25jHNHhH5yvGVedEvN5K8FYs45LVT3ZJsVScUnn/kK6efzHVZ1TmTnAK0ogLuVIAFWO7kzqipgFYKqHrDwYcBWqWRbWfJ17Zk2hiQrTaobDtKtrYl08qAfLXChW0HT2Lguwuw73jwwqkGFYthWJeauLhpJaSnpmDKlClWgL1790ZSUlJgsGeOARt+Bf78Adj4W2jFWKVqA80HAc2uBYpX1ks8g7zleescTFXnTM4pwJF0UEDVPHX0WuX1As9XB1KO+pFd8wVGb66J92Zv9n3XpkYpfHVbex2wKu2jo2yVVsI858jWPKbZIyJfOb4yL/rlRpK3YhGHvHaqW5Kt6oTC84985fSTuS6rOmeSU4BWVMCdCrAAy53cGTUV0EoBVW84+DBAqzSy7Sz52pZMGwOy1QaVbUfJ1rZkWhmQr1a4LGf/2ncCgz9YhD3HzuTqfKXiiRjStgpKHVmHxNhcCrCyW6ccDyzGSs+9b8vMEwPU7gE0vw44rx8QV0g/ITX2mOetc/BUnTM5pwBH0kEBVfPU0WvVoS3AmOaBuO5bg0s/3YqVf/uLsu7pUQf/7l1fB6xK++goW6WVMM85sjWPafaIyFeOr8yLfrmR5K1YxCGvneqWZKs6ofD8I185/WSuy6rOmeQUoBUVcKcCLMByJ3dGTQW0UkDVGw4+DNAqjWw7S762JdPGgGy1QWXbUbK1LZlWBuSrFS6fs0dPpeGTBVvx8YKtOHAiNdcgkmK96Fjeiyeu6Yzq5UqEFmzKCWDjr8CKL4G/fgO8mXnbJZUEmgw8W4xVsRm3KAxN5bBa8bwNSz5bxqrOmWwFwcbGK6Bqnjp6rRJb6351vZ91Uikcu2c9mj/1GzK9/q8n/KstOtQuY3xOFHSAjrIt6GDYf4ACZGt2QpCvHF+ZF/1yI8lbsYhDXjvVLclWdULh+Ue+cvrJXJdVnTPJKUArKuBOBViA5U7ujJoKaKWAqjccfBigVRrZdpZ8bUumjQHZaoPKtqNka1syrQzIVytcOZw9k5aB75btxAdzNmPzgZO5BhMf68FlLSpjWJdaqFOuaOhBH9sNrJwI/PE5cHBj/nblGwMtBgNNrgKKlM6/PVtIKcDzVko2KSNV50xSwdDIWAVUzVNHr1XTngbmvOxnXKsbprcZi5vGL/F9lxAbg5UjeyMxPtbYXHAqMEfZOhUUx7EUIFuzE4F85fjKvOiXG0neikUc8toFsxw5ciRGjRpl/eQV2xyfc3Tr1g2zZs1C165dMXPmTOnBPR6PZTtixAiIMYMdTrHNL2bpIGmYpwJO8TUNg8x1WdU5k2lsGA8VKEgFWIBVkOqybypABSKigKo3HHwYEBG8ynZCvsqiCdsxsg1bQmU7IFtl0UTEMfKNiIxR7yQz04vf1u7F2NmbsXTb4Tz9ueC8clYhVpuapZD1wDffAMRD578XA398Cqz+Hkg9nrdJTDxQvy/QfDBQpycQG5fvEGwQugI8b0PXKtyWqs6Zwo2L9mYpoGqeOnqt+nwgsHGKH2yHe/Bs2rV4f84W33fi372vbm1vFvwoReMo2yjF6NZhydZs8uQrx1fmRb/cSPJWJhRx3HrrrRg7dqwlwvTp09G9e/eQBZk2bRp69uxptb/zzjvx5ptvhmwbrGF+xUgswApLXhpnU8CEczcaQGWuy6rOmaKhH8ekAroqwAIsXcnRbyrgIgVUveHgwwCzk5B8zeVLtmRrrgJmR8Zz1zy+S7YewnuzN2Pqn3uR8291/fE2q1oCt3aphT6NKiA25uxf3oZ0pJ4E1v4I/PEZsHVO/ibJ5YFm15wtxipbL//2bJGvAjxv85UoYg1UnTNFLEB2ZIQCquapo9eql+sDJ/b4eV7xIS6ZWQGrdh71fTf8grq4rxf/HYpE0jvKNhIOs4+QFSDbkKXSsiH5ymGTedEvN5K8lQlFHPPmzUOnTp0sEYYOHYpx48aFLIhoP378eKv9woUL0bZt25BtgzU0pQBLaCK0EceWLVtQo0aNXHXJL+awBKVxrgqYcO5GA6/MdVnVOVM09OOYVEBXBViApSs5+k0FXKSAqjccfBhgdhKSr7l8yZZszVXA7Mh47prL988dB/D01wuweL8H6d7cC6yqly6MWzrVxJWtqiIpwea2TIe2ACu+AJZPAI7uyF/MKm2AFtcBjS4HEovl354tgirA89a5xFB1zuScAhxJBwVUzVPHrlUn9gEv1w1Adfzm+Wj29lZkZqtE/uJf7dC+NrfHjUROO8Y2Es6yD1sKkK0tubRrTL5yyGRe9MuNJG9lShFHnTp1sGnTJhQtWhR79+5FUlJSvqKIvC5fvjyOHz+O+vXrY926dfna5NfAqWKkgt6C0E4BVn6a8PeCUcCUc7dg1Mm9V5nrsqpzJqe143hUQGcFWIClMz36TgVcooCqNxx8GGB2ApKvuXzJlmzNVcDsyHjumss3i+2xVODvwrUxcckuHD2dlmvApYokYEi76ri+fXWUTi5kT5jMTGDr7LOrYonVsdLP5G0flwQ0vBSofxFQvQOQXM7eeC5vzfPWuQRQdc7knAIcSQcFVM1Tx65Vf00FPrvCjyq+MKb2X4pbPvvD911CXAxWjuiNxHibhcY6JEAUfHSMbRRic/uQZGt2BpCvHF+ZF/1yI8lbmVLE8dRTT2HEiBGWEF988QWuueaafEUR7QYNGmS1e+aZZ/DYY4/la5NfAxZg5acQf4+UAqacu5HSI9R+ZK7Lqs6ZQo2Z7agAFQBYgMUsoAJUQHkFVL3h4MMA5VMnLAfJNyz5lDYmW6XxhOUc2YYln/LG5Ks8ImkHz2WbGROPr5bswIdzt+Dvw6dz7TcxPgZXtqqCWzrVQo0yReyPf/oIsOa7s8VYO5eGZl+6DlCt/dliLPG/EtUBj41tEUMbxZhWPG+dQ6nqnMk5BTiSDgqomqeOXavmvApMG+VHVeV8PFNhDD6Yu8X3XbtapTBxWHsdcGrho2NstVDDLCfJ1iye50ZDvnJ8ZV70y40kb2VKEYfYJq927drwer246KKLMGnSpHxFEe1++eUXiNWkhH316tXztcmvPBWGVgAAIABJREFUAQuw8lOIv0dKAVPO3UjpEWo/MtdlVedMocbMdlSACrAAizlABaiABgqoesPBhwEaJE8YLpJvGOIpbkq2igMKwz2yDUM8DUzJVwNIki7mxjY9IxM/r96DsbM3YfXOY7n2Luqf+jSsgJs710Tr6iWtB9q2j31rgeWfAysmAif3h25etNI/xViiKKsjUKY+EBMTur3hLXneOgdY1TmTcwpwJB0UUDVPHbtWfX0jsOZ7P6rWN+PiLZcF/Bt3b8+6uLdnPR1wauGjY2y1UMMsJ8nWLJ7nRkO+cnxlXvTLjSRvZVIRR5cuXTBnzhzExcVh586dKFcu99WSxTaFVapUQXp6Orp164YZM2ZYIi5cuBA//fQT5s6da21JeOjQISQmJlptu3btirvvvhsNGzbMVfD8CrDEWLNmzbL6mjlzZq79fP7553j//fexYsUKpKWloUaNGrjiiitw3333oUSJEr45tlj1S4x57rF69Wp8//331hgijgMHDiA+Ph4VK1ZEhw4dcPvtt6Ndu3Y57ET77t2755tQQi8Rizjyizmrs61bt+L111/HlClTsH37dmRkZKBy5cro0aMH7rrrLjRp0iSPZwxnnylkxbt48WK8+uqrFu/9+/ejTJkyVj+PPvooGjRokK//JjQw6dx1kofMdVnVOZOTunEsKqC7AlwBS3eC9J8KuEABVW84+DDA7OQjX3P5ki3ZmquA2ZHx3DWXb35sxV8VL9h0EO/N3oxZG/IujmpcuRhu6lgTFzetBLGNk+0jIw3Y+NvZYqwNk4HMdHtdJJX0r5BVrQNQsSkQG2+vD4Na58fWoFCjHoqqc6aoC0MHlFJA1Tx17Fo1piVwaJOPyak+r6LR/yrA6/Vj+nJYO7StVVopbjo74xhbnUXS1Hey1RRciG6Tb4hCndNM5kW/3EjyViYVcXzwwQf417/+ZYnx2muvYfjw4bkKI34XxUziGDduHIYOHYrx48db/83riI2NxZgxY3DHHXcEbZZfMVJ+BViiIExsn/jtt98G7V+s8vXbb7+hVq1a1u/BCrBCLaJ6+OGHMXr06IBxQrW1W4D1ySefYNiwYUhJSQkal9D16aefxiOPPBL096w/6hLximIrwU5ode5RuHBha1UzUYxn+mHSueskK5nrsqpzJid141hUQHcFWIClO0H6TwVcoICqNxx8GGB28pGvuXzJlmzNVcDsyHjumsvXDtt1e45h7OzN+N/yXUjPzPbG+hx5yhYthCHtqmNQ22ook1xITrwT+4FVXwObpgHbFwGpx+33E18EqHo+IIqxxJaFVVoD8Un2+9HUwg5bTUNUxm1V50zKCERHlFBA1Tx15FqVchwYXSWAw6Ke3+Lqn/wvBgvFxWDFiN5IjI9VgpcJTjjC1gShNIyBbDWEZsNl8rUhVramMi/65UaStzKpiOPYsWOoUKECRL62atUKS5YsyVUY8fuyZcsgCnb27NmDokWLQhRwPfTQQ7j00kutFarq1q2LIkWKYNeuXVZbUXglVpISxUBTp061Vlw69wi3AEussPXmm29a3davX9/yp2nTpjh69Ci+/vpra1Us4btYAUocwQqwhG8DBgywtmJs37496tWrZ+kifF+zZo0Vx7Zt2yz7rOKzrDhOnjxpbcf43//+F48//rj19a+//opKlSoFhFqzZk1LG3HkF7PYDvKSSy6xtodMTk7G/fffj549e1orlc2fP98qAhO+iePtt9+2Vuc698gqwBKrdi1atMjSRBTYiVWzBG+x2pdYXUvkc7Vq1SDOvYSEBPkTQwNLk85dJ+WWuS6rOmdyUjeORQV0V4AFWLoTpP9UwAUKqHrDwYcBZicf+ZrLl2zJ1lwFzI6M5665fGXY7j56Gh/N24oJi7bjREruq1SJVbD6N6uEoR1romGlYvIiZqQDe1cD2+YD2+ef/e+pg/b7i4kHKrf8Z5WsjkDVNkBSCfv9aGIhw1aT0JRzU9U5k3JC0aGoKqBqnjpyrdq2APior19/TyyeazENY+fv8n3XvlZpfDEs5/Y8UYWm+eCOsNVcI13dJ1tdyYXmN/mGptO5rUJ60Z+ZCZw+JDdABKxEEcfx42f/sEUUIcU4sX17UqkC2yb+2muvxcSJE614/vzzz6Db0YnvGzVqZLUZNGgQxHZ/4hDbFpYsWdIqygp2iCIosbLSypUr0alTJ2v7u3OP/IqR8loBS/TbokULq4ioZcuW1laFomAp+yFWkrrhhht8XwUrwBLFTKK4qVixYhBFaeIQ/z+LbWpqKi6++GJrJa3q1atj06ZNECtQZT+yrwYmCrLEFoi5HXnFLLZPFMVaQlsRi9CsefPmAV2JYjBRKLZ7925Le/FZrHKV/cgqwBLficIyUXB1boHVs88+6ysa++6773DZZZdF4AxRtwsWYMmxCem6fE7Xqs6Z5BSgFRVwpwIswHInd0ZNBbRSQNUbDj4M0CqNbDtLvrYl08aAbLVBZdtRsrUtmVYG5KsVLlvOhsP22Jk0fL3kb4yfvwU7Dp3Oc1zxYntoxxq4oEF5xMZ4bPmYo7HYL+rARmDbPGD7AkC8WD+6XaJPD1C+MVC9vX/rwqIVJPpR0yQctmpGpK5Xqs6Z1FWMnkVDAVXz1JFr1aL3gF8e8steriEuSnsRf+4++6JSHP/uVQ/3XFA3GmiMHdMRtsaqp3ZgZKs2n3C9I185BUN60X/yAPBSbbkBdLV6cBNQJLDAJlKhiO3nRIGOOMR2ds8991yOrsX3zz//vPX95MmT0adPn5CHFytDidWlxCEKnUqXDtymOJwCLLGt4TvvvGP1LVbvEitdBTtEfCJOcQQrwMqyyatAZ8WKFb5CqGBjRaoA66uvvsLVV19tuSRWuhLbHgY7RBHc4MGDrZ9efPFFPPjggwHNsgqwEhMTrQKtcuXK5ehGFBKKwi1RYCa2KHz11VdD5qpjQxZgyVEL6bp8TteqzpnkFKAVFXCnAizAcid3Rk0FtFJA1RsOPgzQKo1sO0u+tiXTxoBstUFl21GytS2ZVgbkqxUuW85Ggm1GphdT1+7FuLlbsGhL3n/RXa1UYdzYoQYGtq6CoonxtnzNs/GRHf8UY807W5B1YL1c3yVr/LNloSjK6gCUrg14wiwYk/MkbKtIsA3bCZd0oOqcySXyM8wQFVA1Tx25Vv33TuCPz3xKpTa6CvWXDYCo5806vrq1PdrULBWimmwWigKOsA3FEbaJuAJkG3FJleqQfOVwhPSinwVYcuLmYpWRkYGqVataqymJrei2bt1qbRmYdYht8MSqTzt27EDFihWt/567+lNWW7Ed3/79+yH+K+zEsX37dvTr18/6/9OmTcuxDWE4BVhiq0CRM2JbPbEaVm7HN998g4EDB1o/h1KAlZKSYm3Td+rUKWt1LXGkp6dbq22J48MPP8RNN90UMFykCrCGDRtmbZsoGIitHoMVTomBRdGU+E2sMta7d29r28PsRxZDsZXh//73v1y1ady4sbXNYv/+/fHDDz9ENLdU64wFWHJEQroun9O1qnMmOQVoRQXcqQALsNzJnVFTAa0UUPWGgw8DtEoj286Sr23JtDEgW21Q2XaUbG1LppUB+WqFy5azkWa7ZtdRa3vC/y3fhdSMsw98gx3JheKsIixRjFW9dBFbPofUWLzcyFodS2xbuHsF4M3dn1z7LFIWqNbOX5RVvgkQGxeSC9FuFGm20Y5H5fFVnTOprBl9c14BVfPUkWvVu52BPf6Xm+uaPYK+i5r4IBSKi8HKkb1RKC5wSx7nKZk1oiNszZJMm2jIVhtUUo6Sr5RsVjGNKHQR28HVrZvLiooswJITNw+rBx54AK+88orVYsaMGRDb/mUd4nOPHj2sj/fffz9efvnlgJ7EqlZi5aRvv/3W4pdVeBVsuC+//BJXXXVVwE+yBVhnzpyxtt8T44liKFEUldshisBEEZk4civAEkVjr7/+OiZMmIB169ZBFKbldrzwwgt46KFsq4IC/8/eeUBJVaRv/5lEzjlnEQFFJYMgJkRRxJwwIAgCpk/FsK6y/t1VWXVdEUUwoYiLomBARERUECRLEBAkIyBDjjIww3znLeyhe6Z75t7q2z1Vt586hwN011v11u+pvn3D01XwyoDVoUMH/PTTT2obwnXr1uWr9XnnnYfvv/8eNWrUUFsWBpeAAUtWxpIVsiIV2SJStjkUjcUg5+dCA5aeuo6Oy7maNvWaSY8Ao0ggMQnQgJWYunPUJGAVAVNPOHgzwKpp5DpZ6usamTUB1NYaqVwnSm1dI7MqgPpaJZerZGOl7Y4DGRg7dyPen7MJOw9mRMxJfqB84WlVcUfH+mjXoELIL5ZdDaSgyhkHgM3zgI2zTxizfl8AZEXOK2JzRUoBtVoDdTuc2LawVisgrXhBvRfK+7HStlAGY3inpl4zGY6N6cWZgKnzNObHqsyjwDM1gOPHcoiPbjwc/1h6crWrjo0qYmzfdnFWxP/dxVxb/yM0doTU1lhpPEmM+uphdPSgnwYsPbj5RC1btgxnnHGGqpHbzCT/f+edd9R7sg1foJ78f+HChWo7wl27djnKSUxKt912W0hdXQOWrA4lK3JJkW36ZLu+SEVWtJKt+KSEM2DJql9iQFq/fr2jcUjO0k5w8cqA1aRJE6xatQrt2rVTRqz8yo033ohx48apsckxJ7gEDFj5rfgl9cVs98MPP+Dcc89VZi4/Fxqw9NR1dFzO1bSp10x6BBhFAolJgAasxNSdoyYBqwiYesLBmwFWTSPXyVJf18isCaC21kjlOlFq6xqZVQHU1yq5XCUba20zMrMwack2vD1rPZZv3Z9vbk2qlcYd59RHjxY1UCwtxquQZGYAWxYBsjqWbFm4eS6QkX9+YZNPTgNqnHnCjCWmrNptgRJmbGEVa21dTTSfVzb1msnn2Dk8lwRMnacxP1ZtWwqM7BRC65qy47Bg+8lVER+8qDHuuSDCaiUuObP6SQIx15awC40AtS009HHpmPrqYXb0oF+2hPsz/y3b9Xp3FiUmjgMHDqjKpUuXRnJysrPAaGoVrwDEuJ8zzzxTGazKlCmjtr4rXry4MvVUq1YN+/fvR4sWLbB48eKcUcgWeKeddppapSktLQ333HOP2sZOtgUsX748ihYtqurK+w0bNlT/FiPX7bffHkJC14AlWybKyk9SHnvsMTzzzDMRCRdkwOrUqRN+/PFH9UOmm2++GVdddRVatmyJqlWr5oxDdA9svRjO1OS1Aat9+/aYPXt2vrPmhhtugKwqRgOWsw8XDVjOOOWu5ei4nCvI1GsmPQKMIoHEJEADVmLqzlH7gMCiRYswZcoUtcTpL7/8gvT0dHWyLifOstRqnz59ICe/XpUVK1ZgxIgRysm/ceNGyDK1ZcuWhexz3aNHD/Tt21ddNMWimHrCwZsBsVDbnDaprzlaeJ0JtfWaqDntUVtztIhFJtQ3FlTNaDNe2sr2CvPW71bbE05d8QeOZ0cef8WSRXBzu7ro1a4OqpQ+8WvfmJfjWUD6ihNmrIAp6+Afet1WPg2o2/6vbQs7AGVr6rUTZVS8tI0yTV+Em3rN5Au4HIRnBEydpzE/Vv38PvDZoByOWWXrouH20JUmxt/VHq3rmWGe9UxwAxqKubYGjDFRU6C2/lae+urpq/OgX68n/Si/mjheeuklPPDAAwqMrKp0/fXXq79llSUpskVh4H35vzzXueSSS9R7o0aNwp133hkWqqyS1apVK/WelwYsebYjJjEp0WxBKNsNipFMihi5AlsLihEt2Fwnq3xVqlRJ1YulAcvrLQi5AtbJaenXz67+0cxZpM5x2dRrJmcjZi0SIAEhQAMW5wEJWEhAljSdMWNGgZnfcsstePPNN1GkSJEC6+ZXQS4QZCla2UM+UpF9wD///POQZXSj6jQo2NQTDt4M8EphM9uhvmbq4kVW1NYLima2QW3N1MWrrKivVyTNa6cwtN28+zDenb0BH87fjAMZkc9x01KScNkZNXBOo0qoV6kE6lYsCTFnBbYkiCnN7Gxgz3pg05yT2xbuWqPX5amXAl0eA6qf2BojXqUwtI3X2Ezrx9RrJtM4MZ/CJWDqPI35sWryw8C8kTnw/6jZFe3WnlzBolhaMpYOuRhFUuOwCkjhToG49x5zbeM+InYYIEBt/T0XqK+evjoP+vV60o/yq4lj+/btqFWrlnp+0r17d0yaNEn9PXnyZLXyk5wDyWpYgSLPWx566CH1X1khK9IP20eOHIm77rpL1fPSgCXtyWpbMmdOP/10LF26NKKon3zyCa655hr1fm5DUvB7ssKXPCOSktuA9fXXX6Nbt25h25AX33333ZzVvWQrw3r16kXMJ79Vv/r164c33nhDXa/LSmRVqlQJ286xY8dQuXJl7Nu3D127doXkF1y4BWFebH797OofzZxF6hyXTb1mcjZi1iIBEhACNGBxHpCAhQQaNWqEtWvXqtWurr32WrXSVZ06dZCVlaX2tpYT+C1btqiRya8sPvjgA+1RfvTRR+oXG1LEyDVo0CBceOGF6hcLksNrr72mlpiVIvuGr1y5Uq2M5WUx9YSDNwO8VNm8tqiveZp4lRG19Yqkee1QW/M08TIj6uslTbPaKkxtD2Zk4pOFv+OdWeuxYddhR2BKFU1FnQolcgxZ9SqeMGbVq1gSVUoXRXJykqN2tCodTD9hyNr00wlT1h9LgeyTW1gV2OZpPYDz/gZUOfEr5ViXwtQ21mMzrX1Tr5lM48R8CpeAqfM05seqt7udOG7/VaZXvxN3rD8v5/9i8n2/b9vCFcenvcdcW59ys2FY1NYGlfRzpL567HQe9Ov1pB/lZxNHwHCVmpqKn3/+GWeddZYyZMlKV2LECi5Dhw5VP3iXIkYh2a4vdxFWrVu3huyEIsVrA9bAgQPVjidSpA/JN1wJjEvey23Aki38ZCs/KbLlX2A1rNwGrCuvvBKffvqpqhduVangdmRVrVNPPTXiJMvPgBX8LOvZZ5/NYZy7sf/973+46aab1Mv//ve/MXjw4JAqNGDlxe/nz67+Ea3gSJ3jsqnXTAWPljVIgAQCBGjA4lwgAQsJXHbZZbj11ltx9dVX5+ydHTyMnTt3omPHjli9erV6WVbL0t2OUH4BIVscSgn8ciM3MsljwoQJ6uXcy+l6gdfUEw7eDPBCXXPboL7mahNtZtQ2WoLmxlNbc7XxIjPq6wVFM9swQdvjx7Px3ap0tT3hj2t2aoMqmpqMujmGrJPGLHmtRrniSPHanJVxAPh9/l/bFv504t+ZRwrIPwlofjXQ5VGg0ik5dWWLxr2Hj+H3PX/i9z2H8eexLHRoWAnVyupvwWiCttpiWhZo6jWTZRiZbowJmDpPY3qsOn4ceK42cPRgDt0nSz6B93adNMI+1LUx7j7/5PE4xjIkVPMx1TahSJo3WGprniZeZkR99WjqPOjX60k/ys8mjmDzT7NmzbB8+XIFSsw+AZNSgJw8S5FnKlLEjBXYui+Y7COPPKLMQYHitQFryZIlynQl14GyzeH333+PkiVLhog7duxY9OrVK+e13OYpMW61bNlSvS8rdYnpSUqwAUtMXmL2CpRwBix5fiW7vkj58ssvcemll0acZPkZsGRlK1k9a+vWrWpVsZkzZ6JFixYhbW3evBnt2rVTdUqUKIGNGzfmbI8YqEgDVl78fv7s6h/RCo7UOS6bes1U8GhZgwRIIOd7JFu+XVlIgAR8R0DMUpdffrka17333ouXX37Z9Rhl+dvAalZnn302ZM/xcEWWqA2cyMqFw8cff+y6r/wCTD3h4M0AT2U2rjHqa5wkniVEbT1DaVxD1NY4STxNiPp6itOoxkzTdtUfB9SKWBN/3oKMTBerSxVAVbYzrF1eTFkBY9aJv8WYJdtPpaYkQ+qkJScjLfXkv12tqJV5FNi2+K8VsmSVrFlAxv6wmR1HMpZU6IoPi9+Enw+WV6arQ0ezQuqWLpaK9+5og7PqlNeaM6ZpqzUIS4JMvWayBB/TjBMBU+dpTI9Va78DxvQMIdz2yHBsR4Wc1z4Z0B4t6578f5zkSIhuYqptQhA0d5DU1lxtvMiM+upR1HnQr9eTfpSfTRxHjhxRO4Ts3bs3B5AYkWSFq+LFi4dAO3ToEBo0aID09HTIilmydV6PHj2UEWjNmjVqG71vv/1W/ch+1qxZKtZrA5a0ec8992D48OGq/SZNmkBMX/KDfNmab/z48Rg1ahTkudCCBQtUndzmKXm8fMYZZ+T8gF+eDcmOLQ0bNlQ7tLz//vvqWVHwOMIZsA4cOKC2CxSG0p8YucRIlZx8YnvmmjVr5jDMz4AldcXAJc/FJLdSpUqp1a0uuOACxVlW6XruuecUdymyu8uAAQPyTGgasPJ+xv382dU/ohUcqXNcNvWaqeDRsgYJkECAAFfA4lwgAZ8SOHjwYM7e4YF9x90OVVbSkr2wpcg+33LSHa7IBYOczEqR1bm++OILt13lW9/UEw7eDPBUZuMao77GSeJZQtTWM5TGNURtjZPE04Sor6c4jWrMVG13HzqKjxZsxtx1u7Bx92Fs3n0Yx7Li//slWTUrtzErNTkZRVKTkare+8uwFebfpZKPoP2Oj9B173iUxqGwumdmJ+PjrM54JfNKbMGJc//gUqFkEXx8V3s0qHzifN9NMVVbN2Owpa6p10y28GOe8SFg6jyN2bFq/zZgZGfg0ImHfFKOFKuCJntfAnBiu9riaSlYMqSrOqazeE8gZtp6nypbdEmA2roEZll16qsnmM6Dfr2e9KP8buIQI5WYpwKlT58+ePPNN8MC+/rrr9GzZ09lOgpXunTposxRzZs3V2/HwoAlK0bJ6lyB3U1y51G/fn1lBBOzmJRw5qnFixfj/PPPx549e8KOQwxdMtYaNWpEbEPeyL3iV3Bj3333HYSHlIIMWFLn3XffRf/+/ZGRkRE2p5SUFDz99NN47LHHwr5PA1ZeLH7/7Oof1fKP1Dkum3rNFCtGbJcE/EiABiw/qsoxkQCA3bt3o2LFioqFOP4///xzLS7ShrTldAWsBx54QG1D6GUx9YSDNwO8VNm8tqiveZp4lRG19Yqkee1QW/M08TIj6uslTbPaskXbrOPZ2LbvT2zcdRgbdh068ffOQ9i0+8T/jxzzbrUsrxUqjcPokzoZd6R8hTJJf4Zt/mh2Cj7MOg+vZl6BP3DiOiJQalcojgkDOqJy6aKuUrNFW1eDMrSyqddMhuJiWoVEwNR5GpNjVdYxYPRlwOY5IbSn1hiIfuvOyXmt0ymVMKZP20JSxP/dxkRb/2OzYoTU1gqZtJOkvnrodB706/WkH+V3E4esVnXOOSe/53/44Qd07tw5IjDZplBWZJo+fTp27NiBcuXKoWnTprj55psh5q1NmzZBTFBSYmHACiQmK1XJaley04mYsurWrYsrr7wSDz30EMqXL4+CDEmS5zPPPIPJkyerFb9k+79GjRrhuuuuw6BBg1CsWLEC25AVq9566y289957avtGWYUrK+vECs1uDVgSs2HDBvz3v//F1KlTFUeZe2ICE7OYrPwlxrBIpaDxBuLEFCYay/aJsoWjn4vfP7ux0k7nuGzqNVOsGLFdEvAjARqw/Kgqx0QCACZOnIirrrpKsZBlVoP3C3cDSH4FIBcBUuQE+pJLLskTLsvKylKy8suBZcuW4bTTTnPTRYF1TT3h4M2AAqWzugL1tVq+fJOnttTWvwT8PTJ+dv2rrx+0lZvF6QcylCFLVsvauOsQNuw68ffGnYdxICPTCAHL4iDuTP0SvVOmoGRS+F8DZ2SnYXzShXj5yGXYgZNbDzavWQbj+rVHqaKpjsfiB20dD7aQK5p6zVTIWNi9YQRMnacxOVZNeQyY81qoAo0uRLf0e/Br+skVCQdffCoGndfIMKX8k05MtPUPHqtHQm2tlq/A5KlvgYjCVtB50K/Xk34UTRz67EyPpLamKxRdftRXj5/OcdnUayY9AowigcQkQANWYurOUfucgJwMtW/fHvPmzVMjnT9/Plq1aqU1atnKUH7tMG3aNBQtWhR333232jNb9iNft24dRowYoVz+Yr4aNmwYBg4c6LofOaHIr2zbtg1t2rRRVVavXo1atWq57iMWAbI88IwZM1TT8ksW+SUHi38IUF//aJl7JNSW2vqXgL9Hxs+uf/X1u7Ziztr75zFs3P0nNqk/h7Fpz4l/b9z1p3ovniUlKQlNyhxBv9RJuOTwJBTJDm/EOoIiGJ3ZFSMye2AfTmw/eE7DCnjtxjPUtodOit+1dcIgXnXkmqpx48aqu82bNxtzzRSv8bMfOwiY+jDB8wf9v0wAPu4dKkrZOtjdayrOfnFRyOufDOiAlnVPml3tUNKeLD3X1p6h+z5Tautviamvnr46D/r1etKPoolDn53pkdTWdIWiy4/66vHTOS6bes2kR4BRJJCYBGjASkzdOWqfE5AtAGV5WClinoq0h7dTDJmZmRg9erRaCWvt2rV5wmSlrYcffhht2+otmx9Y0tVJPrJnupi/WEiABEiABEiABEiABEjADwSOZwPyJzMbyDoOZP31b/XaX/+X19Trx5PU3yf+HRT312sSr9rJaSsJqcnZKF8UqFA0GxWKAmWLAClJJ8gVPbYXp2yfhHo7v0NKdngj2L7sEngt8wqMzroYGSiCNpWP46aGx5H0Vxt+0MAPY9i5cyf69u2rhkIDlh8U9ecYTH2Y4OmD/h2rgFHnAcdOrnKFlCLAHV9j8u7qGDj2pAGrRJEULBnS1bGp1Z+zIraj8lTb2KbK1l0SoLYugVlWnfrqCabzoF+vJ/0omjj02ZkeSW1NVyi6/KivHj+d47Kp10x6BBhFAolJgAasxNSdo/YxAVmN6sILL4SYpqpUqaL27a5atWpUI54zZw4ef/xxtde2/II/dylTpozal1wMWvJvt4UGLLfEWJ8ESIAESIAESIAESIAEvCNQ7OhuNN7+Beru+h7J2VlhG97Ov39kAAAgAElEQVSSXREvZV6DCVmdcEFN4LI6x71LgC1FTYAGrKgRsoE4EDD1YYJnD/ozDgBvnA/sXB1K8/KXgZa348nPfsF7P23Mea9z48p4744Tq32zxIaAZ9rGJj22GgUBahsFPAtCqa+eSDoP+vV60o+iiUOfnemR1NZ0haLLj/rq8dM5Lpt6zaRHgFEkkJgEaMBKTN05ap8SWL58OTp16oQ9e/ao7QK//vprnHvuuVGN9uOPP0avXr2QkZGBM844A0899ZTabq906dLql9Uffvghnn76aciFcbNmzdRWhdWqVXPVJ7cgdIWLleNEgFvmxAl0IXRDbQsBepy6pLZxAl1I3VDfQgIfh26pbRwgO+wiad9mpM7+L1KWjUNSBCPWyuO1MTTzBnS6+Drc1KZ2vi1TW4fgPajGLQg9gMgmYk7A1IcJnjzolx+rybaDyyeGcjyzF3DFcMiygV1f+gGrtx/Mef/hbqdiYJdGMeeeyB14om0iAzR47NTWYHE8SI366kHUedCv15N+FE0c+uxMj6S2pisUXX7UV4+fznHZ1GsmPQKMIoHEJEADVmLqzlH7kMD69etxzjnnYOvWrUhJScH48ePV9oPRlO3bt6Nhw4Y4dOiQMlfNnTsXJUuWzNPkt99+i4suukitjnXNNdeovr0spp5w8GaAlyqb1xb1NU8TrzKitl6RNK8damueJl5mRH29pGlWW9TWLD1UNrvWAtOfzmskCEr1p+NNgQufQvvOXSMOgNrGT1tTr5niR4A92UDA1HnqybFqzghgyqOhMlQ7HejzDZBWHDsPZqDVP6eFvD9xYAecVae8DdJZm6Mn2lo7en8nTm2pr78J6I1O50G/Xk/6UTRx6LMzPZLamq5QdPlRXz1+OsdlU6+Z9AgwigQSkwANWImpO0ftMwJiupKVr9atWwfZzm/06NG49dZbox7lyy+/jPvvv1+1M3bsWNx0000R2xQDlqx+lZycDNn+onx5724imnrCwZs9UU8xoxugvkbLE1Vy1DYqfEYHU1uj5Yk6OeobNUJjG6C2xkoDbFkIfDME2DAzYpK7612KCpf/E6jYME8dahs/bU29ZoofAfZkAwFT52nUx6pNc4DR3YHjmSdlKFYW6PcDUKG+eu3Lpdsw6INFOe+XLJKCxUO6Ii0l2QbprM0xam2tHbn/E6e2/taY+urpq/OgX68n/SiaOPTZmR5JbU1XKLr8qK8eP53jsqnXTHoEGEUCiUmABqzE1J2j9hEBMTvJNoMrVqxQoxo+fDgGDRrkyQjvuusujBw5UrW1cuVKNGnSJGK7jz76KIYOHarenzNnDtq2betJDtKIqSccvBngmcRGNkR9jZTFk6SorScYjWyE2hopi2dJUV/PUBrXELU1TpLQhGRbrTXTThix0peHTTY7ORVJLXsD5z4MlKqSU4faxk9bU6+Z4keAPdlAwNR5GtWx6sB2YGRn4OAfoRLc+CFwarec15749BeMmbMx5//nNq6Md+9oY4NsVucYlbZWj9z/yVNbf2tMffX01XnQr9eTfhRNHPrsTI+ktqYrFF1+1FePn85x2dRrJj0CjCKBxCRAA1Zi6s5R+4TAvn37cP7552PRohO/onzuuefwyCOPeDa6u+++G6+++qpqb9myZWjevHnEth988EH85z//Ue8vWLAALVu29CwPU084eDPAM4mNbIj6GimLJ0lRW08wGtkItTVSFs+Sor6eoTSuIWprnCThEzqeheylH2Lfl0NQ7lh6+DpFSgEd7gHa3w0ULQVqGz9tTb1mih8B9mQDAVPnqfaxKisTeO8KYOOPofg7PQRc8ETIaxf+5wesST+Y89qjlzTBXefmXTnQBh1tylFbW5sGmaC5Ult/C0999fTVedCv15N+FE0c+uxMj6S2pisUXX7UV4+fznHZ1GsmPQKMIoHEJEADVmLqzlH7gMDhw4fRtWtXzJo1S43m8ccfxz//+U9PR/biiy/ioYceUm2+9tprGDBgQMT2W7durYxXsgXijh07ULFiRc9yMfWEgzcDPJPYyIaor5GyeJIUtfUEo5GNUFsjZfEsKerrGUrjGqK2xkmSb0KZGYfxyetDcPHusSiXdCh83ZJVgC6P4M/TrsPUb79TdeTapXjx4vEZbGYGkJwGJCfO1l6mXjPFR3D2YgsBU+ep9vfQ1CeA2cNC8TfoAvSaACSn5Ly+40AGWv9rWki9Twd1xJm1y9kinbV5amtr7YgTJ3Fq62+tqa+evjoP+vV60o+iiUOfnemR1NZ0haLLj/rq8dM5Lpt6zaRHgFEkkJgEaMBKTN05assJHD16FJdffjmmTp2qRnLffffhv//9r+tRjR49Gr1791ZxQ4YMwT/+8Y+QNn799Vc0bdoU2dnZqFmzJubOnav+zl1GjRqF/v37q5fbt2+P2bNnu84lvwBTTzh4M8BTmY1rjPoaJ4lnCVFbz1Aa1xC1NU4STxOivp7iNKoxamuUHI6SOXw0E31HTkPn7e+jd8oUFE06FjbuePkGWFD2Umwr1xpdL77YewPW8SxgzwZg+3IgfcXJv3evA1KLn9j+6/y/AxUaOBqXzZVMvWaymSlz956AqfNU63toxefAR7eEQipTE+g/AyhZKeT1SUu34u4Pfs55rVTRVCx+8iKkpiSOSdT72eSsRS1tnTXNWoVMgNoWsgAx7p766gHWedCv15N+FE0c+uxMj6S2pisUXX7UV4+fznHZ1GsmPQKMIoHEJEADVmLqzlFbTuDqq6/GhAkT1ChkC0IxX8nKU5FKkSJF0Lhx4zxvF2TAkoA+ffrg7bffVrGVK1fG/fffj06dOqF06dLYvHkzxo0bhw8++EC9n5KSgmnTpqFLly6eEjb1hIM3AzyV2bjGqK9xkniWELX1DKVxDVFb4yTxNCHq6ylOoxqjtkbJ4TiZXQczcPWI2cjYtRkPpI7H1SkzkZyUHTZ+d4mGKNnzBRRtfL7j9vNUPLgDSF8ObF/x199iuvoVyPwz/zZlJazWfYHOg4GS3q3Sqz+Q2ESaes0Um9GyVVsJmDpPXX8P7VwDjOoCHD1wUgo51twxBajVKo88j09chrFzN+W8ft6plfFO7za2ymhV3q61tWp0iZ0stfW3/tRXT1+dB/16PelH0cShz870SGprukLR5Ud99fjpHJdNvWbSI8AoEkhMAjRgJabuHLXlBPIzW4UbWt26dbFhw4Y8bzkxYGVkZOC2227Dhx9+mC+1kiVLQlbCuummmzyna+oJB28GeC61UQ1SX6Pk8DQZauspTqMao7ZGyeF5MtTXc6TGNEhtjZHCdSIbdx1SJqydB4/i1KRNeCR1HM5PWRy5ncbdgAuGAFWbRq5z9DCwY+VfRqugVa0O7XCdX0hA0TLAOf8PaDcASIvTVojRZewq2tRrJleDYGXfEzB1nrr6Hjp6CHjzwhOr7gWXS18A2twZVsMLXvwea3ec3LL1sUuaoP+5DX2vtwkDdKWtCQkzB8cEqK1jVFZWpL56suk86NfrST+KJg59dqZHUlvTFYouP+qrx0/nuGzqNZMeAUaRQGISoAErMXXnqC0nEE8DVgDVd999BzFszZkzB1u2bIEYs8qUKYNTTz0VF154Ifr164datWrFhKypJxy8GRATuY1plPoaI4XniVBbz5Ea0yC1NUaKmCRCfWOC1YhGqa0RMmgnsfT3vbhh1BwcPpql2miXvAKPpv4PZyavDd9mUjLQ4iagyyNAZkaY7QPXAwi/kpZ2ksGBskXYeY8DLW4AklM8adKERky9ZjKBDXMwh4Cp89Tx91B2NjChH7Dso1CoZ1wPXDkSCLMy+cpt+3HJyzND6n82qCNa1C5njjA+zsSxtj5m4NehUVu/KntiXNRXT1+dB/16PelH0cShz870SGprukLR5Ud99fjpHJdNvWbSI8AoEkhMAjRgJabuHDUJWEXA1BMO3gywahq5Tpb6ukZmTQC1tUYq14lSW9fIrAqgvlbJ5SpZausKl5GVv1+Vjr7vLkDm8YBxKhvdU+ZiaNlPUerwyW23YpZ8iUonVtWq0gzHq5yGNdk1UXLtV6ix+j0kZR0N323V5sBFTwENLwhrmohZrjFq2NRrphgNl81aSsDUeer4e2jeG8Dkh0LpV2kK9J0GFCmZR5X9R46hxys/YsOuwznvlS6aip+fvAipKcmWqmhX2o61tWtYzJYGHd/PAX529STWedCv15N+FE0c+uxMj6S2pisUXX7UV4+fznHZ1GsmPQKMIoHEJEADVmLqzlGTgFUETD3h4M0Aq6aR62Spr2tk1gRQW2ukcp0otXWNzKoA6muVXK6SpbaucBlb+eOFv+Oh8UtC8iuekoVXqn2Dc/Z9imKZ+6PPPbU4UKWJMlqdMFw1Bao2A0pVwertBzBh0RZ8+vMW/LH/iOqre62jeLnqJKQu/zhy3w26ABf9H1C9RfT5FWILpl4zFSISdm0gAVPnqaPvoc3zgXcuAY4fO0lWtjbt9z1QMe92gsePZ6P/+wvxzYrtIUr0P7cBHrvkNAPV8WdKjrT159B9Pypq62+Jqa+evjoP+vV60o+iiUOfnemR1NZ0haLLj/rq8dM5Lpt6zaRHgFEkkJgEaMBKTN05ahKwioCpJxy8GWDVNHKdLPV1jcyaAGprjVSuE6W2rpFZFUB9rZLLVbLU1hUuoyu/+t0aPP/1qpAci6dk48GmB3FbldVIm/c6cOyQgzEknTA0BAxWgb/L1wvZNnDHgQx8vmQrJv78O37ZEt7gdeFpVTHywhSkTHsSWD8jct+yhdj5fwfK1XGQn3lVTL1mMo8UMypMAqbO0wK/hw7tBEZ2BvZvCcV3/fvAaZeHRfra92vw7ymhx8MWtcrio7vao2iqf7Y/Lcz55KTvArV10gjrGEmA2hopi2dJUV89lDoP+vV60o+iiUOfnemR1NZ0haLLj/rq8dM5Lpt6zaRHgFEkkJgEaMBKTN05ahKwioCpJxy8GWDVNHKdLPV1jcyaAGprjVSuE6W2rpFZFUB9rZLLVbLU1hUuoytnZ2fjyc+WY8ycjSF5li2SjYkDO6JBqWPAD0OBhaOB45kn6pSskrN9YM6qVpWbAEVKhB3rkWNZakWZCYt+x4zfdiIrZ9vDyGj6d5YVZ5oAa74FvnkSSF8evnJKEaBtf6DTg0Dx8kazzp2cqddMVkFksjEnYOo8zfd76HgW8P5VwLrvQ/l0vO/E6nlhyqw1O3HLW3MRfHgqXyINk+7thJrlisecMzs4SYDnGP6dDdTWv9rKyKivnr46D/r1etKPoolDn53pkdTWdIWiy4/66vHTOS6bes2kR4BRJJCYBGjASkzdOWoSsIqAqSccvBlg1TRynSz1dY3MmgBqa41UrhOltq6RWRVAfa2Sy1Wy1NYVLuMriyFqwPsLMTXXtluNKpfEJwM6omyJNCDjALB7PVCmBlCyUoFjkq285m3YjYmLtmDysm04kPGXeavAyJMVhl59Oq5vXQcQM8WSccD0fwIHtoZvoVg5oPNDQJt+QGpRF70UXlVTr5kKjwh7NpGAqfM03++hb/8PmPliKM56nYBbPgVSUvNg3rr3T1z2yo/YfehozntJScB7d7RBp1MqmyiLr3PiOYZ/5aW2/tVWRkZ99fTVedCv15N+FE0c+uxMj6S2pisUXX7UV4+fznHZ1GsmPQKMIoHEJEADVmLqzlGTgFUETD3h4M0Aq6aR62Spr2tk1gRQW2ukcp0otXWNzKoA6muVXK6SpbaucFlRWVapuvnNuVi4cU9Ivm3qV1AmhGJpzrbfWrvjoDJdTfx5C7bs/bPAsVcpXRQ9z6qJxlVL47EJS3EsKzsnJjU5CWP6tEX7hhVPvHb0MDD3deDHl4CM8NsXqu0Iz38SaH41kJxcYP+FWcHUa6bCZMK+zSNg6jyN+D206ivgfzeEgixdHeg/AyhVJQ/gjMwsXD9yDhZv3hvy3uCLT8Wg8xqZJ0gCZMRzDP+KTG39q62MjPrq6avzoF+vJ/0omjj02ZkeSW1NVyi6/KivHj+d47Kp10x6BBhFAolJgAasxNSdoyYBqwiYesLBmwFWTSPXyVJf18isCaC21kjlOlFq6xqZVQHU1yq5XCVLbV3hsqbynkNHcfWIWVi383BIzpeeXg3DbzwbyclJYcciq8ZMWroVnyzagiW5TAzhAoqnpaBb82q48qya6NioElL+avejBZvx8MdLQ0LKFk/Dp4M6on6lkidfP7QTmPE8MP/Nk9si5u6oegvgoqeBBucay9/UayZjgTGxQiFg6jwN+z20ex0wsguQse8kq+RU4PYvgTrtwvL7+6fL8P6cTSHvXXhaFYy6pVXEY16hCJFAnfIcw79iU1v/aisjo756+uo86NfrST+KJg59dqZHUtvwCv3jH//AU089pd7Mzj75AyHT9cydn1N9R48ejd69e6vw9evXo169eoU21C5duuCHH37Aueeei++/z7WduIuskmQ5WwBDhgyB6Omm6ByXTb1mcjNu1iWBRCdAA1aizwCOnwQsIGDqCQdvBlgweaJIkfpGAc/wUGpruEBRpEdto4BnQSj1tUAkzRSprSY4C8LWbNuNq16bjf3HQs1Wt3eohyGXN0XgRqasGjN9ZTom/LwF3/2ajszj+d+YlvufHRtWUqYrMV+VLJp3GzDB8+xXKzHyh3UhpBpUKokJAzugXIkioQR3rQWmPw0snxiZbKOLgIueAqo2M46+qddMxoFiQoVKwNR5mud7SA4pb14EbF8Wyqvbc0C7AWEZTlj0Ox74aEnIe3UrlsDnd58DMX+yFA4BnmMUDvd49Ept40G58PqgvnrsdR706/WkH+XUxKHfQ/wixdBx3nnnOe7wnXfewe233x5SPz09HfPmzVN/5s+fr/7s2rVL1bntttsgZhZbip+09ZI5DVg0YGVmZiI1NRWnnHKKo6ll6jWTo+RZiQRIQBGgAYsTgQRIwHgCpp5w8GaA8VMnqgSpb1T4jA6mtkbLE1Vy1DYqfMYHU1/jJdJOkNpqozM+ULR9Z+JUvLw8BRlZoSasRy9pgtb1yquVrr5cug37/jxW4HgaVy2Fq86uhSvOrIHqZYsXWP/48Wzc9f5CTF2xPaRu+wYV8V6fNkhLCbOt4O8LgKlPAJtmR2g/CTjzZuC8vwFlaxaYQ7wqmHrNFK/xsx87CJg6T0O+hy66CMWnPgQsHhsKtdlVwDVvA3/9Aj74zRVb9+OqEbNw5NjxnJeLpSVjwoCOaFqjjB3i+DRLnmP4VFiukORfYf8aGT+7ehLTgKXHTTfKCwNW4Acp4XKgAUtXmdjHBWv/3XffQVZailRowKIBiwas2H8m2QMJmEaABizTFGE+JEACeQhYcZO2a1cUL17wQyDKaw8B3uyxRyu3mVJbt8TsqU9t7dFKJ1Pqq0PNjhhqa4dOOlkGtF21Lwlv/JqKYwWsbBWuj0qliqBHi5q46uyaaFajTM6qWU7zOXw0E9e+/hOWb90fEnJD69p49qrTw7cnW0Os+gqYNgTYuTp8V6nFgfYDgY73AcXKOk0nZvVMvWaK2YDZsJUETJ2nwd9Dl1RJR5GvHwrlW+lU4M7pQNFSebiLebTH8B+xcVfodqv/ua6FMoyyFC4BnmMULv9Y9k5tY0m38Numvnoa0IClx003KtiEM2DAAAwcODDfpmrVqoVy5cqF1Ak2YNWuXRunnXYapk6dqurQgKWrTOzjaMAqg+TkMD9mAtSqbdyC8OQc1Dkum3rNFPtPFnsgAf8QoAHLP1pyJCTgWwKmnnDwZoBvp5waGPX1r77Ultr6l4C/R8bPrn/1pbaJoe3R6mdg8IQVjgZbNDUZXZtVw1Vn1USnUyohNdxKVY5aOlFp274/ccXwWUg/kBES9ffup6FvpwaRW8rKBH4eA3z/LHAwdBWtnKDTrwOufsNFNrGpauo1U2xGy1ZtJWDqPA18D5U7vA6d1zyDpKyjJxEXKQXc+R1QuXEe7LLKXr8xCzBtZXrIe7e0q4uneza3VSZf5c1zDF/JGTIYautfbXlPTl9bnQf9+r3pRfppm7pgE86QIUMgKx25LRLXunVr9adq1arYsGED6tevr5qhAcstzfjVpwGLBiyns03nuGzqNZPTMbMeCZAAtyDkHCABErCAgKknHLzZY8HkiSJF6hsFPMNDqa3hAkWRHrWNAp4FodTXApE0U6S2muAsCMut7Zj5W/HM5F8jZt62fgVcfXYtdDu9GsoUS/N0hEt/34vrRv4UskWY7CT2xi2tcGHTqvn3lXEQ+OlVYNbLwLFDJ+smJQMDfgKqNPE0V53GTL1m0hkLY/xLwNR5Kseq7yZ/gi6rhqDE0Z2hAlw7Gmh2ZVhRhk//DS9MDV0l78za5fBh/3YompriXyEtGhnPMSwSy2Wq1NYlMMuqU189wXQe9Ov1pB9FA1b+7GjA0p9b8YykAYsGLKfzTee4bOo1k9Mxsx4JkAANWJwDJEACFhAw9YSDNwMsmDxRpEh9o4BneCi1NVygKNKjtlHAsyCU+logkmaK1FYTnAVhubUtVqwY/vXlSrz54/qc7BtULqlWurrizJqoXaFETEf11bJtGDB2UUgfJYqk4OO7OqBpjTIF930wHfj+OWDhaCA7Czj7NqDHsILj4lDD1GumOAydXVhEwNR5+uehg9j/+iWoemBpKM12g4Buz4QlPPO3Hbj17XmQHUsDpULJIph0zzmoUa64Rar4O1WeY/hXX2rrX21lZNRXT1+dB/16PelH0YCVP7tYG7CmT5+ON954A3PmzMEff/yhtmOvUqUKqlWrhnPOOQeXXnopzj///IhJ/vLLLxg5ciTEgCTndRkZGahRowYaNWqEyy+/HBdffDEqVaqEMmXyGnR+/PFHFTtz5kzVt1wbympf3bt3x3333YfKlSuH7Te32alz585qm7sxY8ZgxYoV2LFjB2699Vb1WnBZtWoVXn31VXz77bcq16NHj6J69eo499xzcc899+Dss892PZGD9ckv+J133sHtt9+uqsjKaE899ZT6d3Z2No4cOYJXXnkF//vf/yCfWSmy9aSM4a677kJqamrYpuvVq4eNGzfmrIy2cOFC1c4PP/yArVu3qvFJ+8Hl8OHDGDVqFD777DPFas+ePWobzDPPPBM33nij6jMlJfKPBsLNF9FXNI80X3JvQVinTh28+eabSp+VK1eqPBs2bIjrr78e/+///T+UKJH/PQDR9+WXX8aXX36J9evXK34yXzt16oT+/furPCKVLl26KD6iucyjSGXs2LHqc7FkyRIcO3YMwvrqq69W+QmvwFahOivd6RyXTb1mcv2BYQAJJDABbkGYwOJz6CRgCwFTTzh4M8CWGaSXJ/XV42ZDFLW1QSW9HKmtHjdboqivLUq5z5PaumdmS0QkbX9YvQMbdh5Ci9rl0KJW2ZwbmvEY16vfrcHzX68K6apG2WL4dFBHVClTzFkKO38DvnsGuPgZoEx1ZzExrmXqNVOMh83mLSNg6jw99s3TSJv1QijNOu2B274AUvKuxrdl75+4bNhM7Dl8LCcmOQkY06ctOjaqZJkq/k6X5xj+1Zfa+ldbGRn11dNX50G/Xk/6UTRg5c8ulgasBx54AC+99FK+CVSsWBE7d+ZaDRRAVlYWBg8erIwwomGkIqae1157LcSAJfXvvfdeZYaKVMqWLYvx48fjoosuylMl2ID11Vdf4cUXX8S0adNC6uXervHpp5/G//3f/yEzMzNsl2KoeeKJJ3KMUU5ndLQGLDGeiUlNjD7hipjYPv30UyQnJ+d5O9iA1a5dO2Uiyz2+YAPW/PnzceWVV2LLli0Rh9emTRt8/vnnavvL3EV3vgQbsMSwJ9qLkStckf7lvZIlS4Z9f+rUqbj22muxf//+iGMYNGgQhg0bFpZZQQYs4XfDDTfgk08+Cdu+GMW++eYbNGjQQL1PA5bTTwrrkQAJ0IDFOUACJGA8AVNv0vJmgPFTJ6oEqW9U+IwOprZGyxNVctQ2KnzGB1Nf4yXSTpDaaqMzPtBEbeWm9IPjl2DCotAb0WIE+7B/exRLs3PbMFOvmYyfpEwwrgSMnKe/TUP22GuQhKAVA0pWAe6aCZSulodPRmYWrnv9Jyz5fV/Iew93OxUDuzSKK092VjABE7+HCs6aNZwQoLZOKNlbh/rqaUcDlh433ahgY5COMSNcv7EyYE2aNEmtUCXljDPOwIABA9SqS2J82rdvH3799VdlNPnpp5/CGnb69OmDt99+W8XLKlJ33303OnTooOJlhaJ58+bh448/RtOmTfMYsB5++GE8//zzKlZWvHrkkUfU6lOHDh1S5p/hw4erVYeKFCmi2mnRokUImmDOkvvSpUvRo0cPtcJU3bp1sX37dmXQkRWVpDz55JMQA5YUyfGOO+5As2bNkJaWBlkVS/qTcUoR444YmZwWyVPaEHOTtCtFuLRu3TqkiVq1aqmVk6QEr4Al+SxYsECtdCV6VKhQQbUn+crqUFJef/11tbJT7hIwYAljialduzYeeughtGzZUhnkZGWxRx99VIUtW7YM7du3V4xlhTPRW1aMEoNdenq64i6rkYkBqW3btipW+ARKuPly6qmnqtW5hPWmTZvUymLh5kuwAUvGK6ut3XLLLbjuuuvUylUS++9//ztHA8n52WefzTPexYsXq9xkxSzJTYxWV1xxhTJr/fzzz3juuefUilhSZI4NHTo0TxsFGbBEe5kPUmR80o7MMflMiCFQVsUSvqK3FJ3Puc5x2chrJqcfEtYjARJQBGjA4kQgARIwnoCpJxy8GWD81IkqQeobFT6jg6mt0fJElRy1jQqf8cHU13iJtBOkttrojA80VVsxUPR6cy7mb9gTwrD76dXxyo1nIVmWsrGsmHrNZBlGphtjAkbO00/6AsvG54w8OykFSbLyVb2OYWn8beIyfDB3U8h7XZtWxchbWsZ1Nb8YS+Wb5k39HvIN4EIcCLUtRPhx6Jr66kF2+6BfjJlz5qUAACAASURBVDO6pVSpUihePPyWu7KCUu6t0AL9yGpIBw4cUP8tXbp0nlVrZDuySKvh7N69WxlNnJZIW9o5jS+oXrAxSAwuAwcOjBgiJhj5U1CJlQFLtpqTLfvEsCSrEol+4YowFlNQcJHt63r27KleElPP5MmTc8xFwfVEWzER1axZM2cFLDECyXZ38l7z5s2V0SdgTArETpkyRW1DKHVkRaS5c+eG9B/MWd6QlatkdatwRYwysjqUtPX3v/89x4iVO09ZMev9999Xc1AMQblzKkin3NsiitEnUgk2YImRSFZ1yl1fuIuxSsxkYgAKt0JWwIAl/Zx++umYMWNG2LzlsyfMxagmZjZZLUy2DcxdgrnLFoFisguUcPMl3Op14eZLsAFL2pN516tXr5DuZevKVq1aqbkopjBZGSz31osyF0RP2SJR5lzXrl1D2pDtFGX7QdlaUVYMk/GK0S645GfAkvpnnXWWmitiCJStCnN/Lt577z215WOg0IBV0CeD75MACQQI0IDFuUACJGA8ASNv0nI5bOPnTbQJ8mZPtATNjae25moTbWbUNlqCZsdTX7P1iSY7ahsNPbNjTdZ296Gj6PnqLGzafTgE4j3nN8KDXU81G2yY7Ey9ZrIOJBOOKQEj5+nxLBz79l9InfUftQrWsS5PIq3Lg2E5jF+wGYM/XhryXv1KJfHZ3R1RpljerQpjCpONOyJg8veQowGwUkQC1Nbfk4P66unr1oAl27DpFlk1RlakCVfE+BRuGzsnfeVncBBzhZgtnJZIJjCn8QXVy20Myq++U+NGrAxYYl6RFa5kS7oJEyYUNLSQ98V0JasYiTlu9erVymAVroQz6IgpbcSIEaq6rJYk5qhw5c4774SYgKTIKljBK0oFc27cuLGaA2LKCVeuueYatZ1cYNWiSHN87969ajUmMQLJKkd9+/Z1xUTXgCXb+skWiuHKY489plZ1kiL5yepiwSXYgCXmK1nRKlwJXr1KjFxi6IpUZNWwjz76CB07dsSPP/6YUy3cfHG6fWiwAeuqq66KuL2frMAlK4FJyZ2nzAFZ/UqKrAYmq4KFK7NmzVImLCky13Jvc5mfASt4bsqqZDJnwpVLL70UsvWlFKef4+B23B6XJdbIayZXnxBWJgESoAGLc4AESMB4AqaecPBmgPFTJ6oEqW9U+IwOprZGyxNVctQ2KnzGB1Nf4yXSTpDaaqMzPtB0bdekH8CVr83GgSOZISxfur4FrjyrlvF8gxM09ZrJKohMNuYETJ2ncqxaPP55VN+3AFX7jEPxEiXysPhlyz5cPWI2MjKP57xXPC0FEwd1QJNqZWLOjh3oETD9e0hvVIwSAtTW3/OA+urp6/ZBPw1YepwDUTYZsGQVH1nNR1YbkhWmGjZs6Gjwu3btghjqxMwmW/698847EePCGXTEMCXzUlZ3Wr58ecTYYMPNM888AzEjheOc3+pXsj2grGR1+PBhtaVdYDu+SJ2KyUuMN7KV4FtvveWIR7icvvvuuzwrWgU3FrwC1sKFC9VqS+GKbOF47bXXqrdkiz1ZxSq4BAxYsvWgrNoVqQTMbLKlnmwtmV8Rw5JsJynbPwq3gLEt3HzRMWCJGU5MWOGKsA8Y7SZOnJizyprUlTnw+OOPq7DchrzcbcnckpXXZK7J1ozBJT8DVmBuympishpWpBKsCw1Yrj4mrEwCCU2ABqyElp+DJwE7CJh8k1aWjJUivwqItOyyHZSZZW4CvNnj3zlBbamtfwn4e2T87PpXX2pLbQuTwIzVO9B79HxkHc/OSaNISjI+uLMtWtUL3X6jMPMsqG9Tr5kKypvvJxYBU+dpQd9D+w4fw2XDZ2Lz7j9DBHv5hjNxxZnhV4FILGXNHW1B2pqbOTMriAC1LYiQ3e9TXz39aMAK5RbPFbB0jBnhVHa7ApZs4Rap1K9fP2c7x2+//RYXXnihqlqsWDFcccUVuPjii9UqSo0aNYrYRnDc22+/jd69e0esm9ugI4Yo6UuKxEl8pCJ1ZetJ+fumm27C2LFjc6oGG93Gjx8PWeUqXJFVlHKblpx8kmSFoy+//NJJ1bA5uTFgHTp0SK0kFq5Mnz4dF1xwgXor3ApXAQOWbNcoq1xFKrKt3uLFi12NRyqnp6crs52UcPPloosuUlv2NWjQIGeLyXCdBK+AJaY7MUiFK+vWrcsxAoo58JZbbsmpJnPgf//7nzKGCbPc2xMGtydzS/oUQ+mRI0dUTKBEMmBJPdFBjhEFGfDE7CZbd0rR+Zy7PS5LP6ZeM7meVAwggQQmQANWAovPoZOALQRMPeHgzQBbZpBentRXj5sNUdTWBpX0cqS2etxsiaK+tijlPk9q656ZLRG2aDtmzkY88Wnow4sKJYvg04EdUadi+Bvkpmlg6jWTaZyYT+ESMHWe5nesOn48G33enY/vVu0IgXdb+7p46ormhQuUvRdIwJbvoQIHwgp5CFBbf08K6qunr9sH/VwBS49zICrYGKRjzAjXu1sDVn4a5jYGyWpHgwcPVisIBhfZUvCyyy7DgAED0KJFi5D3PvzwQ9xwww3qNdmGrVu3bhGh5TZgiaGnevXqqr6sRiWrUuVXpO4ff/yh+ghs+Sb1gzlPmzYtx6SUuy3ZYlF+JO+2iElHWLkpulsQ5mcKLKjNgAGrV69eGDNmTMR0Rc+tW7e6GY6qK3MvYDSS/0eaLzVq1FDzRbbwyz1fJC7YgLV+/XpI3gXNdVlZTVZYCxSZA19//bXaJnLbtm35jiV460aZP1WrVs2pH8mAJfWczk3ZpjJgJNT5nLs9Lkvypl4zuZ5UDCCBBCZAA1YCi8+hk4AtBEw94eDNAFtmkF6e1FePmw1R1NYGlfRypLZ63GyJor62KOU+T2rrnpktETZp+4/Pl2P07A0haE+pUgqfDOyAMsXSjEdu6jWT8eCYYFwJmDpP8ztWDfv2N/znm9UhnM6uUw7j+rVHkdTkuPJjZ+4J2PQ95H50iR1Bbf2tP/XV09ftg/4dO0LNxW56LVWqVMTdIHbu3KlWlglXxKRz4MAB9Vbp0qWRnBz6XSqr0shKSOHK7t27kZWV5TjNwGo+jgNcVrTNgCXDE1PUBx98ADErzZo1C/v27csZtZi5/va3v+Gf//xnzmvBBqwpU6aoVbMilfwMWGKSkW3l8itittm+fXu+Bqz8VpuS/C655BLVxfPPP5+vWSw4D5lvslqYm1KQWSq4reAtCL0wYMn2gGJyilQCHDt27IjXX3/d8bBky8K0tNDrXrfzRTrz0oAlJqmCzGRi7hs6dKgap1MDlpi6xEgmpaC5SQOW4ynEiiRAAkEEaMDidCABEjCegI03aY2HygQLJMCbPQUisrYCtbVWugITp7YFIrK6AvW1Wr58k6e21NYEAplZx9H3vQX4PtcqN50bV8bbt7VCaorZRgtTr5lM0DYeOcjWFMOGDVPbl8i/ixYtqrZzue6669SvwyNtNeI2t3HjxkF+Ib506VLs2bNH/Spcto4ZNGgQ2rVr56i5Xbt2qVw//fRT9Ut3eRAkD5169uyJe++9FxUrVnTUjk4lU+dppO+h71elqy1Kg58hVypVBJPu6YRqZU9sqcNiNgGeY5itTzTZUdto6JkfS331NHJrwNLrJbqo3Cad3Aas6FqPb7QJBqxoRixayFZ1EyZMUKsd7d27VzUn54iyRaGUeG1BmJmZqc6XC9qCMD8D1vz589GmTRuVt5i9xFgTq2KyAatZs2ZYsWIFGjdujFWrVnmGQDQS094XX3yBt956K+x8kc68MGDFYwvC4sWLKzbcgtCzKcKGSIAEggjQgMXpQAIkYDwB227SGg+UCToiwJs9jjBZWYnaWimbo6SprSNM1laivtZKV2Di1LZARNZWsE3bA0eO4eoRs7F6+8EQ5jZsNWbqNZO1k9dF4mK6uvnmm0NWEAgOl1+TT548GQ0aNHDRamjVI0eO4Nprr8WkSZPCtiEPL+XX9U888US+fciDKXmgFmkrD/kl+GeffYZWrVpp55pfoKnzNNyxavPuw7h8+I/Ye/hYzpBSkpPwfp+2aN8wdia1mIBP4EZt+x5KYKlcD53aukZmVQD11ZOLBiw9brpRthuwgse9aNEitGzZUr0k5pexY8eqf8uqY5UqVVKGfdkiTn4IEKmEM9eJCUjmZdOmTbF8+fKIsfmZp5yanQ4fPozy5cvj6NGj0NlW0M08+OGHH1QfUvIzhcn78V4BS7YoDOiXe1tBN2PMXTdY3zVr1qB169Z55ou84IUBSwx0jz/+uGp/3rx5OX2Fyz8/w1mkLQilncDcPP3009WPWyKVTz75BNdcc416m1sQRjODGEsCiUWABqzE0pujJQErCdh0k9ZKwEw6LAHe7PHvxKC21Na/BPw9Mn52/asvtaW2JhEQ00XPV2dh16GjIWk91aMZbutQz6RUQ3Ix9ZrJWGAeJbZkyRJ06NAB8sBHtuKRX9qfd955kOOarFb1xhtvqJ6aNGkCebAkdXSKGLxkuxgp0v59992nts1YtmyZ+oX/2rVr1XvSX9++fcN2sWXLFvVgTbZ2SU1NxQMPPIDLLrtM1RVj13/+8x/IL9urVq2KhQsXombNmjqp5htj6jzN/T2UlFoE177+E5ZtObktjwzssUuaoP+5DT3nwgZjR4DnGLFjW9gtU9vCViC2/VNfPb40YOlx043ykwFLGFSoUEGtsNq1a1d8/fXXOVjOOecctfKRrFAlcyywdVtubuEMWLIS7IgRI1TVn376KeKKrf3798eoUaNUvdyGG6cGLIm99NJL8dVXX6l25s6dm7Milq7GkeKk7cDqswVtzRhvA9ZHH32E66+/XqUu/GV1My9Kbn3FmBduvnhhwJI50LZtW5W2zI1IWynKnJJrsUhjzc+AFTw3xYB41llnhcXUvXt39WMaKTRgeTGT2AYJJAYBGrASQ2eOkgSsJmDLTdrAsqVWw2byOQR4s8e/k4HaUlv/EvD3yPjZ9a++1JbamkZg4cY9uPGNOTiaeTwnteQk4O3bW6PLqVVMS1flY+o1k5GwPExKzFDyUEgMTTNmzED79u1DWn/++efx8MMPq9eeeuopPPnkk657D/6F/eWXX46JEyciJSUlp52dO3cqY5VsfSi/+l+3bh3KlSuXpx9ZteDdd99Vr8uDGVlRK7iMHz9ebZkopXfv3nj77bdd51pQgKnzNPf30FOTf8O4+ZtDhtOtWTWM6HU2kpKSChom3zeIAM8xDBLD41SorcdADWuO+uoJQgOWHjfdKJsMWB9++CF69OiBSM8vFixYkLPKUG7Di2w5J7FSxOwiZpSyZcvmwSYGnZUrVyoTf5kyZSArtMqPBc4880zIe7LS0MyZM/PETp06VRmnsrKylGFKzE3BxY0BS4xisj13YIvtb775Bg0bhjfPS3/CpXPnzqhVq5araSDn3XXr1lUxYnASM0+kEm8DloxLWIsWct4qP9Do06dPxPx++eUXrF+/HnKdESjh5kuwAWv16tURDVJeGLAkD5kL8gMWue4RU91FF10UMoZ9+/YprWWOyVyTH8Y0b948pE5+BiypL6YrmSuy+q/Ms5IlS4bEy0pisqJYoNCA5epjwsokkNAEaMBKaPk5eBKwg4AtN2lpwLJjPjnNkjd7nJKyrx61tU8zpxlTW6ek7KxHfe3UzUnW1NYJJTvr2KztZ4u34L5xi0PAly6aik8GdkDjqqWNE8TUaybjQHmYUPBWKZF+mS0PKuRBgDwAEXOUrD6VlpbmKovAr67l4YNsIxLuAZGstnXjjTeqdl944QU8+OCDIX1Iv/IwTB7IXHzxxZBf6ocr3bp1UyseSF+yYpashuVlMXWeBh+r9ldqjie++DVk2A0qlcRnd3dE6WLutPOSHdvSI2Dz95DeiBMnitr6W2vqq6cvDVh63HSjvDBg/fjjj5Dt3AJFjPWDBw9W/+3YsWOelU3FUK9T6tWrp7bLlq2oxXAk26+J2WTXrl2QHF555RW13aCcA4oBKrAdYaAvWWH1rbfeUv+VFbDuvvtulZ8YrSRnMXCJwV9WfX3ttddyDFhSX36MID9KkCJbcj/yyCPK+CIryIq5a9iwYTh27BiKFCmi+hbDVnBxY8CSuGDDk6w+K+YjWdWrevXqyMjIUOfTsnLSxx9/jK1btyoDT27jjhPGtWvXVj+CqV+/Pl566SXItuPyowwpcg5duvSJa8Z4G7CkTxmTmOUOHjyocpDzf9laUnKUa5H09HT8/PPPahXc2bNnq2sHuYYIlHDzRZ59bd68GXPmzFGmrkjzxSsD1uLFi5XJS7aUlJzvueceZRITTSX35557Tv3wJDDHhg4dmke2/AxYUlnaHD58uIqTuStzU8xr8lmRH6fIqmxnn322mt9SaMBy8slgHRIgASFAAxbnAQmQgPEEbLhJKyfxNGAZP5VcJcibPa5wWVWZ2loll6tkqa0rXNZVpr7WSeY4YWrrGJV1FW3X9qVvVuPlb38L4V6rfHF8NqgjKpYqapQepl4zGQXJ42Qef/xxtf2fFHkQEdgmI3c38nBAtiaUIr/wz/3r7fzSkocmsr2HPCwSc1RgS5XcMfJgonLlyti/f7962CK//g8u8pCkX79+6iUxawW2JcndTrCRSx443HnnnZ5SM3WeBo5Vmw8Cw1YUwdGsk6vfFU9LUeYrE42Xnorj08Zs/x7yqSyeDIvaeoLR2Eaor540NGDpcdON8sKAFbxCqZM8ZLUenSKGmo0bN+YbWqxYMYwcORK33nprnnpi4r///vvVak/55SA/CMhtwJIfJIjRRV6PVGRFLTFwyTOW3MWtAUvi//vf/+LRRx9V59D5FTF9LV++HI0aNXKNVbZWjLTy1TvvvIOAWa4wDFgymKVLl+Kaa65R20YWVHKv1BvNfPHKgCU5y7WTrNor1ziRyqBBg5SJT1bByl0KMmCJ8e+GG27AhAkTwjYv5rpvv/1WGQel0IBV0Ezi+yRAAgECNGBxLpAACRhPwPSbtAKQBizjp5HrBHmzxzUyawKorTVSuU6U2rpGZlUA9bVKLlfJUltXuKyqbLu28nDh3nGL8cWSrSHcW9Ytj7F926JY2slt4ApbGFOvmQqbSyz7l9UDZBsVWT1g7969Ob94z92n/MJeTFFSZAtCecDhtEyfPh0XXHCBqv7ss8+qB0mRivyyXR5SyC/vZUWB4JW25EHamDFjVOi2bdtQrVq1sM3Ie7KqgRSJCWxZ6DTfguqZOk/lWDXxy6l4YVkKdmeEbjE47Maz0KPFCSYs9hGw/XvIPuLxy5jaxo91YfREffWo04Clx003yiYDlmyZJ9vxyZ8VK1bgjz/+wJ49e1CiRAllPpLzzQEDBqjVnPIrixYtUiYtGbuslirXS7LK6imnnKJW15JnJLIVdmALwuC25LxZYuVvWZ21aNGiytgi2w+KuUt+TBCu6BiwpB3JT/qTMcsqY3K+Ln1KvrLKkfwo4uqrr1Y/dtAtYtyRPmS1JlkRKjMzUzVlggFL8pB8PvjgA7WF+cKFC7Fjxw61HWTFihXValjnnHMOrrzySrXKU3CJNF9kAQLRTNiJ+SzcfPHSgCU5Sc5iqJOtL2XFKzHVyQpjsv3gXXfdpcYQqRRkwArEvf/++2q1KzGtiSlLtpcULg899JBaxTiwBTkNWLqfFMaRQOIRoAEr8TTniEnAOgIm36SVG9xSaMCybloVmDBv9hSIyNoK1NZa6QpMnNoWiMjqCtTXavnyTZ7aUluTCRw5loUbRs3B4s17Q9K88qya+M91LXJuxhb2GEy9ZipsLrHsXx4SyZYrLVq0UA9dIhV5uFWhQgX1tvyCW37d77TIKgOyxYsUeXDSs2fPiKH33Xef+vW3FPklf9OmTXPqtm7dWm2dIasLyMOn/IrUkV+ZS8y8efOcpuqonqnz9OChw7j2lW+xcm/oL+d7d6yHIZc3czQ2VjKTAM8xzNTFi6yorRcUzW2D+uppQwOWHjdGeUNAjD2BlYrCGbC86YWtFBYB6qtHXue4bOo1kx4BRpFAYhKgASsxdeeoScAqAqaecPBmgFXTyHWy1Nc1MmsCqK01UrlOlNq6RmZVAPW1Si5XyVJbV7isquwXbdMPHMGVr87Glr1/hvB/qGtj3H3+KUZoYuo1kxFwYpDEkSNHcrag7969OyZNmpRvL6VKlcKhQ4fQrl07yIpYTouseDV06FBVff78+WjVqlXE0BdeeAGDBw9W70+ZMgWyIlagyIpXstJAs2bN8Msvv+TbffPmzZWBS2JkRSw3ReZhfkXaa9OmjaqyevVq1KpVy03zMav732mrMXJWaO5n1y6L0bedhbSUvNuZxCwRNuw5AfmszpgxQ7Urq9bJ9kos/iBAbf2hY6RRUF89fWXVGtkqTlbBbNiwoV4jMY4SE4dssSxFzo/CbRsW4xTYfIwIUNsYgTWkWeqrJ8TatWvVqlopKSmoU6eOo0bkmqpx48aq7ubNm425ZnKUPCuRAAkoAjRgcSKQAAkYT8DUhwl+eaBk/AQopASpbyGBj0O31DYOkAupC2pbSODj1C31jRPoQuiG2hYC9Dh16SdtV27bj2tGzMaho1kh9F696Wx0P6N6nIhG7sbUa6ZCBxOjBGQrjCpVqqjWr7/+eowbNy7fnmSbjPT0dIi5admyZY6zGjRoEF577TVVf+XKlWjSpEnE2BEjRqitQKR8/PHHakuVQJFtEmVbwrZt22LOnDn59i91ZOUreSh64MABx7lKxcD2HE6C3nzzzai2fHHSh5M6y/ckYdSvoduJlk7LxuAzslC2iJMWWIcESIAESIAEzCAg24rJFmGyrVz16oV/fmoGFWZBAiRAAoVHQH6AItdhcm9k165djhKRVZb79u2r6tKA5QgZK5GAcQRowDJOEiZEAiSQm4CpDxP89ECJsy4vAerr31lBbamtfwn4e2T87PpXX2pLbW0hMP3X7ej77gIczz6Z8Y1tauPZq84o9CGYes1U6GBilIDcCA/8gvmWW27Be++9l29PUldiZDWKNWvWOM6qT58+ePvtt1V9+fV0gwYNIsZKPakvZcyYMejVq1dOXfnFtfxqvVOnTjmrAUVqSFYJmjlzpvqVdmZmpuNcpaKNBqz3fkvGwp0nV7lKRjYGNctCozKuhs7KJEACJEACJFDoBGjAKnQJmAAJkAAJhBCgAYsTggQSkwANWImpO0dNAlYRMPVhAh8WWjWNXCdLfV0jsyaA2lojletEqa1rZFYFUF+r5HKVLLV1hcuqyn7U9q0f1+PpSSuUDrIF4aDzGrkyncRKQFOvmWI13sJulytghVfAxi0Ij2dn45XpazDyx03IRhIeOK8e7uwc2ehW2HOP/bsjwG3M3PGyqTa1tUkt97lSX/fMJIJbEOpxY5Q3BLhFnTccTW2F+uopwy0I9bgxigRsJ0ADlu0KMn8SSAACpj5M8OMDpQSYTo6HSH0do7KuIrW1TjLHCVNbx6isrEh9rZTNUdLU1hEmKyv5Udvs7Gw8PWklWtYtb8TWg4GJYeo1k5UT10HS8mBYtviR0r17d0yaNCnfKNnO79ChQ2jXrh1++uknBz2cqPLoo49i6NCh6t/z589Hq1atIsa+8MILGDx4sHp/ypQpuPjii3PqVqtWDdu3b0ezZs3wyy+/5Nu/bJO4fPlySIz8YtvLYuo8lWPVyx9+g6W7k/DmXReorZtY/EHAj99D/lAm+lFQ2+gZmtwC9dVT57ffflOrV6ampuKUU07RayTGUWLi2L9/v+qlTJkySE4+uQpljLtm8zEmQG1jDLiQm6e+egLoHJdNvWbSI8AoEkhMAjRgJabuHDUJWEXA1BMO3gywahq5Tpb6ukZmTQC1tUYq14lSW9fIrAqgvlbJ5SpZausKl1WVqW385DL1mil+BOLfU+XKlbFz5060aNECixcvjpjAnj17UKFCBfX+tddei48++shxssOHD8c999yj6k+cOBE9e/aMGHvfffdh2LBh6n0xUDVt2jSnrhi3Fi5ciLJly2Lv3r359i915MFo69atMW/ePMe5Oqlo6jzlscqJenbWobZ26uYka2rrhJK9daivnnY6D/r1etKPoolDn53pkdTWdIWiy4/66vHTOS6bes2kR4BRJJCYBGjASkzdOWoSsIqAqSccvBlg1TRynSz1dY3MmgBqa41UrhOltq6RWRVAfa2Sy1Wy1NYVLqsqU9v4yWXqNVP8CMS/p86dO2PmzJkoWbKkMjXJahPhiqx41aFDB/XWk08+iaeeespxstOnT8cFF1yg6j/77LNqRaxIRVa8mjp1qspDVtsqUqRITtVbb70VY8aMUf+XVa1kdatwRd6rUaOGekti3n33Xce5Oqlo6jzlscqJenbWobZ26uYka2rrhJK9daivnnY6D/r1etKPoolDn53pkdTWdIWiy4/66vHTOS6bes2kR4BRJJCYBGjASkzdOWoSsIqAqSccvBlg1TRynSz1dY3MmgBqa41UrhOltq6RWRVAfa2Sy1Wy1NYVLqsqU9v4yWXqNVP8CMS/p7/97W/KFCVlzpw5aNu2bdgknnvuOTz22GPqva+//hpdu3Z1nOyBAwdQqVIlHD16FN26dcNXX30VNlbelxW5ZOWq9u3bY/bs2SH1Ro0ahf79+6vXxo0bh+uvvz5sO/LejTfeqN4bOXIk+vXr5zhXJxVNnac8VjlRz8461NZO3ZxkTW2dULK3DvXV007nQb9eT/pRNHHoszM9ktqarlB0+VFfPX46x2VTr5n0CDCKBBKTAA1Yiak7R00CVhEw9YSDNwOsmkauk6W+rpFZE0BtrZHKdaLU1jUyqwKor1VyuUqW2rrCZVVlahs/uUy9Zoofgfj3JNvzBUxXYm56/fXX8yQhDyqaN2+OlStXoly5ckhPT0daWpqrZC+99FJlvJKVrdavX49atWrliQ82Tv373//G4MGDQ+r88ccfqFmzJiQfWSlrypQpYXMQk5eYxJKT7DCNEAAAIABJREFUk7Fly5aIK2W5GkBQZVPnKY9VuoqaH0dtzddIN0Nqq0vOjjjqq6eTzoN+vZ70o2ji0GdneiS1NV2h6PKjvnr8dI7Lpl4z6RFgFAkkJgEasBJTd46aBKwiYOoJB28GWDWNXCdLfV0jsyaA2lojletEqa1rZFYFUF+r5HKVLLV1hcuqytQ2fnKZes0UPwKF01NgG0IxR82YMUOtPhVcnn/+eTz88MPqpSFDhuAf//hHyPujR49G7969I74vbwRvQ9ijRw9MmDABKSkpOe3s3LkTLVu2xKZNm5TJa926dShfvnweIMHbEI4fPx7XXHNNSB157brrrlOv3XbbbZDcvC6mzlMeq7xW2pz2qK05WnidCbX1mqhZ7VFfPT10HvTr9aQfRROHPjvTI6mt6QpFlx/11eOnc1w29ZpJjwCjSCAxCdCAlZi6c9QkYBUBU084eDPAqmnkOlnq6xqZNQHU1hqpXCdKbV0jsyqA+loll6tkqa0rXFZVprbxk8vUa6b4ESicnn7++Wd07NgRMtdLlSoF2ZbwvPPOU/+XValk6z8pjRs3xoIFC1C6dOmQRJ0YsCRAtgWU9qRI+/fffz9q1KiBZcuW4V//+hfWrl2r3pNVuAJbDeYmsnnzZmXU2rFjh1pN68EHH8Rll12mqk2aNAkvvvgiMjMz1VaGixYtCrvSVrSUTZ2nPFZFq6y58dTWXG2izYzaRkvQ7Hjqq6ePzoN+vZ70o2ji0GdneiS1NV2h6PKjvnr8dI7Lpl4z6RFgFAkkJgEasBJTd46aBKwiYOoJB28GWDWNXCdLfV0jsyaA2lojletEqa1rZFYFUF+r5HKVLLV1hcuqytQ2fnKZes0UPwKF19MXX3yBXr16Yf/+/WGTEPPVl19+iUaNGuV536kBSz5LsmLV5MmTw/YhWwY+8cQTeVbYyl157ty56NmzJ2RLwnClWrVq+PTTT3O2VvSaqqnzlMcqr5U2pz1qa44WXmdCbb0malZ71FdPD50H/Xo96UfRxKHPzvRIamu6QtHlR331+Okcl029ZtIjwCgSSEwCNGAlpu4cNQlYRcDUEw7eDLBqGrlOlvq6RmZNALW1RirXiVJb18isCqC+VsnlKllq6wqXVZWpbfzkMvWaKX4ECrenjRs34uWXX1ZGK9GiSJEiynB17bXX4u6770aJEiXCJujUgBUI/uCDD9TWgEuWLMHevXtRtWpVdOrUSfWRe/vDSERky0LJVYxWGzZsUNXq16+PK664Qq2sVbFixZjBNHWe8lgVM8kLvWFqW+gSxCwBahsztEY0TH31ZJBtiDMyMlSwGMCDtyzWa9H7KJo4vGdqSovU1hQlYpMH9XXPVZitXr0a2dnZKFq0KBo0aOCoEVOvmRwlz0okQAKKAA1YnAgkQALGEzD1hIM3A4yfOlElSH2jwmd0MLU1Wp6okqO2UeEzPpj6Gi+RdoLUVhud8YHUNn4SmXrNFD8C7MkGAqbOUx6rbJg9ejlSWz1uNkRRWxtU0s+R+uqxkxUu9+zZo4KrVKkSU1O1XoYATRy65MyPo7bmaxRNhtTXPT1ZIXnLli0qsFy5cqhevbqjRky9ZnKUPCuRAAkoAjRgcSKQAAkYT8DUEw7eDDB+6kSVIPWNCp/RwdTWaHmiSo7aRoXP+GDqa7xE2glSW210xgdS2/hJZOo1U/wIsCcbCJg6T3mssmH26OVIbfW42RBFbW1QST9H6qvH7siRI1i/fn1OsKxqWaZMGbXySlJSkl6jHkfRxOExUIOao7YGiRGDVKivc6jC6uDBg2rb96ysLBVYu3ZtlCpVylEjpl4zOUqelUiABBQBGrA4EUiABIwnYOoJB28GGD91okqQ+kaFz+hgamu0PFElR22jwmd8MPU1XiLtBKmtNjrjA6lt/CQy9ZopfgTYkw0ETJ2nPFbZMHv0cqS2etxsiKK2NqiknyP11We3detW7Nu3L6QBMV+ZtB1hZmamyi81NVV/oIw0kgC1NVIWz5Kivs5QiulKth0MlOLFi6Nu3bqOjbCmXjM5Gz1rkQAJCAEasDgPSIAEjCdg6gkHbwYYP3WiSpD6RoXP6GBqa7Q8USVHbaPCZ3ww9TVeIu0Eqa02OuMDqW38JDL1mil+BNiTDQRMnac8Vtkwe/RypLZ63GyIorY2qKSfI/XVZycP/Xft2oUdO3boNxLDSMlP9JUipgRTVuaK4ZATpmlq62+pqa+evnKcq1OnDpKTkx03YOo1k+MBsCIJkAANWJwDJEAC5hMw9YSDNwPMnzvRZEh9o6Fndiy1NVufaLKjttHQMz+W+pqvkW6G1FaXnPlx1DZ+Gpl6zRQ/AuzJBgKmzlMeq2yYPXo5Uls9bjZEUVsbVNLPkfrqswtEHj16VG2BdejQIci/ZUssE4rkETCHVa5c2ZUpwYT8mUNkAtTW37OD+jrXV1YcFONV6dKlUbJkSddGU1OvmZwTYE0SIAGugMU5QAIkYDwBU084eDPA+KkTVYLUNyp8RgdTW6PliSo5ahsVPuODqa/xEmknSG210RkfSG3jJ5Gp10zxI8CebCBg6jzlscqG2aOXI7XV42ZDFLW1QSX9HKmvPjvTI6mt6Qrp50dt9dnZEEl946eSqddM8SPAnkjAfgI0YNmvIUdAAr4nYOoJB086/T31qK9/9aW21Na/BPw9Mn52/asvtaW2/iUQv5GZes0UPwLsyQYCps5Tfg/ZMHv0cqS2etxsiKK2NqiknyP11WdneiS1NV0h/fyorT47GyKpb/xUMvWaKX4E2BMJ2E+ABiz7NeQISMD3BEw94eBJp7+nHvX1r77Ultr6l4C/R8bPrn/1pbbU1r8E4jcyU6+Z4keAPdlAwNR5yu8hG2aPXo7UVo+bDVHU1gaV9HOkvvrsTI+ktqYrpJ8ftdVnZ0Mk9Y2fSqZeM8WPAHsiAfsJ0IBlv4YcAQn4noCpJxw86fT31KO+/tWX2lJb/xLw98j42fWvvtSW2vqXQPxGZuo1U/wIsCcbCJg6T/k9ZMPs0cuR2upxsyGK2tqgkn6O1FefnemR1NZ0hfTzo7b67GyIpL7xU8nUa6b4EWBPJGA/ARqw7NeQIyAB3xMw9YSDJ53+nnrU17/6Ultq618C/h4ZP7v+1ZfaUlv/EojfyEy9ZoofAfZkAwFT5ym/h2yYPXo5Uls9bjZEUVsbVNLPkfrqszM9ktqarpB+ftRWn50NkdQ3fiqZes0UPwLsiQTsJ0ADlv0acgQk4HsCpp5w8KTT31OP+vpXX2pLbf1LwN8j42fXv/pSW2rrXwLxG5mp10zxI8CebCBg6jzl95ANs0cvR2qrx82GKGprg0r6OVJffXamR1Jb0xXSz4/a6rOzIZL6xk8lU6+Z4keAPZGA/QRowLJfQ46ABHxPwNQTDp50+nvqUV//6kttqa1/Cfh7ZPzs+ldfaktt/UsgfiMz9ZopfgTYkw0ETJ2n/B6yYfbo5Uht9bjZEEVtbVBJP0fqq8/O9Ehqa7pC+vlRW312NkRS3/ipZOo1U/wIsCcSsJ8ADVj2a8gRkIDvCZh6wsGTTn9PPerrX32pLbX1LwF/j4yfXf/qS22prX8JxG9kpl4zxY8Ae7KBgKnzlN9DNswevRyprR43G6KorQ0q6edIffXZmR5JbU1XSD8/aqvPzoZI6hs/lUy9ZoofAfZEAvYToAHLfg05AhLwPQFTTzh40unvqUd9/asvtaW2/iXg75Hxs+tffakttfUvgfiNzNRrpvgRYE82EDB1nvJ7yIbZo5cjtdXjZkMUtbVBJf0cqa8+O9Mjqa3pCunnR2312dkQSX3jp5Kp10zxI8CeSMB+AjRg2a8hR0ACvidg6gkHTzr9PfWor3/1pbbU1r8E/D0yfnb9qy+1pbb+JRC/kZl6zRQ/AuzJBgKmzlN+D9kwe/RypLZ63GyIorY2qKSfI/XVZ2d6JLU1XSH9/KitPjsbIqlv/FQy9ZopfgTYEwnYT4AGLPs15AhIwPcENmzYgPr166txzps3D9WrVzdizHLSOWPGDJVL586dUbx4cSPyYhLeEKC+3nA0sRVqa6Iq3uREbb3haGor1NdUZaLPi9pGz9DUFqht/JTZtm0b2rRpozpcv3496tWrF7/O2RMJOCTAa3uHoFjNMwL8HvIMpXENUVvjJPE0IerrKU6jGqO2RsnhaTLU1lOcxjVGfeMnCa/t48eaPZFArAjQgBUrsmyXBEjAMwLz58/PeZjgWaNsiARIgARIgARIgARIgARIgAR8SEB+tNK6dWsfjoxDsp0Ar+1tV5D5kwAJkAAJkAAJkAAJkAAJxIsAr+3jRZr9kIC3BGjA8pYnWyMBEogBAd6kjQFUNkkCJEACJEACJEACJEACJOBLArxJ60tZfTEoXtv7QkYOggRIgARIgARIgARIgARIIA4EeG0fB8jsggRiQIAGrBhAZZMkQALeEjhy5AiWLVumGq1cuTJSU1O97UCzteClQE3aGlFzOAzLRYD6+ndKUFtq618C/h4ZP7v+1ZfaUlv/EojfyDIzM7Fjxw7V4emnn45ixYrFr3P2RAIOCfDa3iEoVvOMAM8xPENpXEPU1jhJPE2I+nqK06jGqK1RcniaDLX1FKdxjVHf+EnCa/v4sWZPJBArAjRgxYos2yUBEvA9gd9//x21a9dW49y8eTNq1arl+zEn0gCpr3/VprbU1r8E/D0yfnb9qy+1pbb+JcCRkQAJ2ECA30M2qKSXI7XV42ZDFLW1QSX9HKmvPjvTI6mt6Qrp50dt9dnZEEl9bVCJOZIACZhCgAYsU5RgHiRAAtYR4EmndZK5Spj6usJlVWVqa5VcrpKltq5wWVeZ+lonmeOEqa1jVNZVpLbWScaESSAhCfBY5V/ZqS219S8Bf4+Mn13/6kttqa1/Cfh7ZPzs+ltfjo4ESMBbAjRgecuTrZEACSQQAZ50+lts6utffakttfUvAX+PjJ9d/+pLbamtfwlwZCRAAjYQ4PeQDSrp5Uht9bjZEEVtbVBJP0fqq8/O9Ehqa7pC+vlRW312NkRSXxtUYo4kQAKmEKAByxQlmAcJkIB1BHjSaZ1krhKmvq5wWVWZ2loll6tkqa0rXNZVpr7WSeY4YWrrGJV1FamtdZIxYRJISAI8VvlXdmpLbf1LwN8j42fXv/pSW2rrXwL+Hhk/u/7Wl6MjARLwlgANWN7yZGskQAIJRIAnnf4Wm/r6V19qS239S8DfI+Nn17/6Ultq618CHBkJkIANBPg9ZINKejlSWz1uNkRRWxtU0s+R+uqzMz2S2pqukH5+1FafnQ2R1NcGlZgjCZCAKQRowDJFCeZBAiRgHQGedFonmauEqa8rXFZVprZWyeUqWWrrCpd1lamvdZI5TpjaOkZlXUVqa51kTJgEEpIAj1X+lZ3aUlv/EvD3yPjZ9a++1Jba+peAv0fGz66/9eXoSIAEvCVAA5a3PNkaCZBAAhHgSae/xaa+/tWX2lJb/xLw98j42fWvvtSW2vqXAEdGAiRgAwF+D9mgkl6O1FaPmw1R1NYGlfRzpL767EyPpLamK6SfH7XVZ2dDJPW1QSXmSAIkYAoBGrBMUYJ5kAAJWEeAJ53WSeYqYerrCpdVlamtVXK5SpbausJlXWXqa51kjhOmto5RWVeR2lonGRMmgYQkwGOVf2WnttTWvwT8PTJ+dv2rL7Wltv4l4O+R8bPrb305OhIgAW8J0IDlLU+2RgIkQAIkQAIkQAIkQAIkQAIkQAIkQAIkQAIkQAIkQAIkQAIkQAIkQAIkQAIkQAIkQAIkkEAEaMBKILE5VBIgARIgARIgARIgARIgARIgARIgARIgARIgARIgARIgARIgARIgARIgARIgARIgARIgAW8J0IDlLU+2RgIkQAIkQAIkQAIkQAIkQAIkQAIkQAIkQAIkQAIkQAIkQAIkQAIkQAIkQAIkQAIkQAIkkEAEaMBKILE5VBIgARIgARIgARIgARIgARIgARIgARIgARIgARIgARIgARIgARIgARIgARIgARIgARIgAW8J0IDlLU+2RgIkQAIkQAIkQAIkQAIkQAIkQAIkQAIkQAIkQAIkQAIkQAIkQAIkQAIkQAIkQAIkQAIkkEAEaMBKILE5VBIgARIgARIgARIgARIgARIgARIgARIgARIgARIgARIgARIgARIgARIgARIgARIgARIgAW8J0IDlLU+2RgIkQAIkQAIkQAIkQAIkQAIkQAIkQAIkQAIkQAIkQAIkQAIkQAIkQAIkQAIkQAIkQAIkkEAEaMBKILE5VBIgARIgARIgARIgARIgARIgARIgARIgARIgARIgARIgARIgARIgARIgARIgARIgARIgAW8J0IDlLU+2RgIkQAIkQAIkQAIkQAIkQAIkQAIkQAIkQAIkQAIkQAIkQAIkQAIkQAIkQAIkQAIkQAIkkEAEaMBKILE5VBIgARIgARIgARIgARIgARIgARIgARIgARIgARIgARIgARIgARIgARIgARIgARIgARIgAW8J0IDlLU+2RgIkkCAENm3ahGHDhuHLL7+E/Lto0aJo1KgRrrvuOgwcOBAlSpRIEBKFP8ykpCRHSZx77rn4/vvv8607ZcoUjBo1CvPmzcOOHTtQuXJltGnTBv369UO3bt0c9XP48GG8+uqrGD9+PNasWYOjR4+idu3a6N69O+69917UqVPHUTuJUCk9PV2xlj/z589Xf3bt2qWGftttt2H06NGuMJik3/Lly/HKK69g2rRp2LJlC0qVKoXTTjsNN998M/r06YPU1FRXY7Otshfaiv69e/d2NPR33nkHt99+e751vfpsJrq2ixYtgnzWZs6ciV9++QWidVpaGmrUqIEOHTqo+d2pUydHukklfm4do4pLRS/05Wc3LlK56mT//v2YPHmy+p5dsGCB+l6S85w///wT5cqVQ9OmTXHppZeqz2/FihULbJuf2wIRsQIJkIBFBHhtb45YvLY3Rws3mXhx7RfcH88z3NCPfV0v9OX1Qex10unBi2s/fnZ1yMc+xgtt+bmNvU46PfDaXocaY0iABEgg/gRowIo/c/ZIAiRgOQExXYmJYt++fWFHcuqpp6qHXA0aNLB8pHak78VN2uzsbNx1113KfBWpiAnr9ddfR379rV27VhmtVq1aFbaZsmXL4oMPPlAPOVmQL0s3BizT9HvrrbcwaNAgZGRkhJW5Xbt2mDRpkqOH3LbOk/w+J0619fJmj1efzf/f3pmAazmtffz+DCmdOuWYG44UdVSGNCikUihC0akjQ3GUHGMUFQ0KqdPJUGkgJ2NHgwzxJekkDpmKkCmkyJCIko/ku/6r69nn2Xu/w/O847Pf/buvy6V3v+t51lq/e61nv/fa//e+y7tvJWR97rnnki7Lc845x+666y6rUKFC3Lbs26QYc94gU/5l7+bcdUk7lBi4Q4cOSdvtueeedv/999uJJ54Ysy37NilCGkAAAmWMALF9tBxGbB8tfwQdTSZiP/XF54ygxHPbLhP+JT7Irc+C9Jap2I+9G4R2bttkyrfs29z6LWhvxPbJvzAWlCXtIAABCGSTAAKsbNLl3hCAQMEReOONN1yGD2VSUUabQYMGWdu2bV0GgZkzZ9q0adPcnBs0aOCyDKgNll0C3mFQv379XPaxeFa5cmWrU6dOzLeHDBliN910k3vviCOOsIEDB1rdunVNoo0xY8bY8uXL3XtqN2rUqJj32Lx5szVr1szeffdd9/6FF15oPXr0sEqVKtnixYvt5ptvNrVRdrQXX3zRDj300OyCKQN39x/kKUuYMkQ9/fTTbuRBRTqeX6LivwULFjiB3fbt222fffZxa6ZFixa2ceNG93yYO3eum1/r1q3duthpp53KgKfCDzETvvUf9oirMizFs5o1a7osLrEsU3sT35rL9KjnonzRrVs3l+lKWf1+/fVX91wbN26cy6wj+8tf/uIEp/EsSs9dfLvDS5nyL3s3/DMz21fokPb88893n1mPPPJIl5lzv/32c7+r1q1bZ7Nnz3a/n7SXJZzUZ9hYn1PYt9n2FPeHAARySYDYPpe0g/VFbB+MU9RaZSL2I66Pmlf/O55M+Jf4IHr+zVTsx94tXN+yb6PnW42I2L5wz9KjueIYFQQgkCoBBFipkuM6CECgXBLQH65Uxk7lw5QFpGXLlsU4jB071ol3ZCNGjLChQ4eWS065nLR3GDRs2DAbPnx46K5VJlDCn23btlnTpk2dXyWa8kxiO317SCV75HcJrCTOKmnqWz6XSbQ1YMCAYk0kTpDoRv1oHT377LOhx1poF8hnEq3pP4mVPvnkkyKRXFABVpT8J99qLWlMVatWNaX8LrlWlBlr0qRJzpUzZsywc889t9Dc6uaTCd/6D3s+/vhjO+CAA1JilYm9iW93oD/llFPcmj3jjDNs5513LuWPDRs22NFHH23vv/++e0/P01jlCNm3KS3lrF+UKf+yd7PuqtAdSFgVa8/6bzRv3jzr0qWL+1HXrl1tzpw5xfph34bGzgUQgEDECRDbR89BxPbR80mQEWUi9uNzRhDS+WmTCf8SH+THd4l6zVTsx94tXN+yb6PnW42I2L5wz9KjueIYFQQgkCoBBFipkuM6CECg3BFQNoDmzZu7efft29eVoytpyiTQqFEjW7VqlVWvXt2+/PJL23XXXcsdq1xOON1DWr8gRiIplYcraS+99FKR2O6SSy6xO+64o1iTX375xfbee2/77rvvnADnrbfeipnZSGUOp0yZ4q6VoEtZKLD/EkhFgBUl/82aNcv+/Oc/uwkp49m1115byr0S9Clb07fffuueFStXriwXSyAV32bisCdTexPfBl+mKq/ZuXNnd8Fll11mt912W6mL2bfBeUatZRD/snej5rXg49FnGAnNVYrw66+/LnYh+zY4R1pCAALRJ0BsH00fEdtH0y9hR5VK7MfnjLCU89c+Ff8SH+TPX+n0HCT2Y++mQzh/1wbxLfs2f/7JRM/E9pmgyD0gAAEIpE4AAVbq7LgSAhAoZwT8ZVckyFFZsVg2evRoV5pQpnJqHTp0KGekcjvddA5pf/vtN1eGRyWzVDZSwrl4pvffe+89J5759NNPzZ+GfeHChXbCCSe4S+X/a665JuZt/EKuwYMH24033phbWBHvLexBXtT817Nnz6KSa+vXr7d99903JnG/EE+Zgg466KCIeyb94YX1rXrMxGFPpvYmvg2+BlTysUqVKu6Ck08+2XSw5zf2bXCWUWyZzL/s3Sh6LfiYlAn0tddecyW0f/jhh6IL2bfBGdISAhAoGwSI7aPpJ2L7aPol7KjCxn58zghLOL/tw/qX+CC//kqn92SxH3s3Hbr5vTaZb9m3+fVPJnonts8ERe4BAQhAIHUCCLBSZ8eVEIBAOSOg8nFLly61ypUru0xHKkcXy5RFqVWrVu4tlSD0ytKVM1w5m246h7QfffRRUYm4eFnNvIno/alTp7qXuq5OnTpFc5SfR44c6V7Hy6Kl91TGrFq1arZlyxZXjnDJkiU541QWOgp7kBc1/9WuXdvWrl1r9evXdxlE4tlDDz1kZ511lnt7+vTp1rt377LgnrTGGNa36iwTAqxM7U18G9z9GzdutD/84Q/uAmXCeuyxx4pdzL4NzjKKLZP5l70bRa8FG5NE6I0bN3YlDXRYq+wwnrFvgzGkFQQgUHYIENtH01fE9tH0S9hRhY39+JwRlnB+24f1L/FBfv2VTu/JYj/2bjp083ttMt+yb/Prn3R7J7ZPlyDXQwACEEifAAKs9BlyBwhAoJwQ2GuvvWzDhg122GGH2YoVK+LOWqXF9thjD/d+t27d7OGHHy4nhPIzTe+Q9pBDDnECJ2WnkjhO2YckhOvVq5e1bds25uDmz59vp5xyintv/PjxdsUVV8SdhN7v37+/e1/XderUqait/Dx79mz3Wv6XyCqeaf28+eabpvX01Vdf5QdaRHsNe5AXJf/p22NVq1Y1fQPwtNNOs3nz5sWlvHz5cmvSpIl7f8CAATZmzJiIeiRzwwrrW/XsF2Add9xxLkOd9pc416tXz9q3b2/9+vWzGjVqxB1oJvYmvg23Dh555BHr2rVr3PXNvg3HM2qtk/mXvRs1jyUej8riKgvo448/7n4XqXS27L777rOzzz676GL2bdnyK6OFAASSEyC2T84oHy2I7fNBPfN9ho39+JyReR9k845h/Ut8kE1vZPfeyWI/9m52+Wfz7sl8y77NJv3s3JvYPjtcuSsEIACBVAkgwEqVHNdBAALlisBPP/1klSpVcnOOVVKpJAyVblGWo6OOOsplRMKyR8BfCjBeL6effroTc/z+978v1mTy5MlOwCGbNWuWnXnmmXEHKoGVxBwyXaeMWJ7Jz8uWLXPZ0STWSGQSfOmQQqZ1tdtuu2UPThm7c9iDvCj5Txmv/vSnPznif/vb32zChAlx6UvIqT/6yHr06GHKiFXoFta34uEXYMXjU7FiRbv11luL7Ud/20zsTXwbfHVu377dWrZsaS+//LK7SBl0lEnHb+zb4Dyj1jKIf9m7UfNa6fEke7ZeffXVTozl/3zFvo2+XxkhBCAQnACxfXBWuW5JbJ9r4tnpL2zsx+eM7PghW3cN61/ig2x5Irv3DRL7sXez64Ns3T2Ib9m32aKf2fsS22eWJ3eDAAQgkEkCCLAySZN7QQACBUvg66+/tr333tvNr3v37jZz5syEc91nn31cdqNGjRrZypUrC5ZLFCYm0dOpp55qxx9/vDVo0MAkfpO/VN5PhwHffPONG6Yy6CxcuNB23XXXomGPHTvWBg4c6F4/9dRTdtJJJ8Wdkt73sl79/e9/t6uuuqqobcOGDe2dd94x+f2LL75IiEXrx8uKJiGOV6orCizzPYawB3lR8p+EJs2bN3cIr7nmGhs9enRcnFu3brXdd9/dvS9BnjKPFLqF9a146CBBpT2VTUminlq1ajlMSnM/Z84cl3VOGcdkU6ZMsT5wzf47AAAgAElEQVR9+pTCmIm9iW+Dr85x48aZxBuyLl262Ny5c0tdzL4NzjNqLYP4l70bNa+VHk+8Q9rDDz/cfW5q0aIF+zb6bmSEEIBAGgSI7dOAl+VLie2zDDhHtw8b+xEf5MgxGeomrH+JDzIEPse3CRL7sXdz7JQMdRfEt+zbDMHO8m2I7bMMmNtDAAIQSIMAAqw04HEpBCBQfgisXbvWateu7SZ8zjnn2L333ptw8mqra+rWrWsffvhh+QGVh5l+9913cUv+qZROx44dTSXfZLfddptddtllRaOUuGPo0KHu9aJFi6xdu3ZxZ/Dss886kZdM11133XVFbeVniUIkEFEJxER27rnnutI+Mq2RmjVr5oFaNLsMe5AXJf8tXbrUWrdu7cBef/31dsMNN8SFrG+b7bzzzu59ralnnnkmmg7J4KjC+lZdb9q0yZUbjPdN+CeeeMKJs3755RcnaFu9erUrPeq3TOxNfBtsIUj0qrKQKgUrwbJKrUqUWtLYt8F4Rq1VUP+yd6PmudLj0eemdevWuTckCNazU8JwlaHQM1NZBb3yzN7V7Nvo+5URQgACwQkQ2wdnleuWxPa5Jp6d/sLGfnzOyI4fsnXXsP4lPsiWJ7J336CxH3s3ez7I1p2D+pZ9my0PZPa+xPaZ5cndIAABCGSSAAKsTNLkXhCAQMES4FuyZde1EkapNNzPP/9s9erVsw8++KBoMlH6tlbZJZy5kYc9yIuS/8iSlHgdhPVt0FV14403FokhR40aZUOGDCl2KRmwgpJMr93bb79txx57rH377beurOqCBQtc1sFYxr5Nj3U+rg7j36DjY+8GJZW7dhKHn3feeU70evfdd1uvXr0i+XmJ37e5WxP0BIFCJUBsX3Y9S2xfNnwXNvYjPigbfvVGGda/QWdHfBCUVHbbhYn92LvZ9UWm7x7Gt0H7Zt8GJZXbdsT2ueVNbxCAAARiEUCAxbqAAAQgEIDATz/9ZJUqVXItTz75ZFPmlUSmMnhbtmyxo446yl588cUAPdAkmwSUyWH+/Pmui88++8z2339/92+V2unXr5/796xZs+zMM8+MOwyVO+vWrVvRdX379i1qKz8vW7bMVDJh8+bNCafiH4vWlcQK2A4CYQ/youS/d9991wn9ZH/7299swoQJcd2q0pN77bWXe79Hjx720EMPFfwSCOvboEBU6lVZr1SKsEOHDvb0008XuzQTexPfJvbGxx9/bMccc4x9/vnnLrObnqUqPxjP2LdBV3c02oX1b9BRs3eDksptO69Msj7PKENM9erVI/d5iWdybtcEvUGgEAkQ25dtrxLbR99/YWM/4oPo+9Q/wrD+DTo74oOgpLLXLmzsx97Nni8yfeewvg3aP/s2KKnctyO2zz1zeoQABCDgJ4AAi/UAAQhAICABCSYknDjssMNsxYoVca9SBpA99tjDvS/Bjsq6YPklMHDgQNM3s2Qvv/yyNWvWzP1bQrrOnTu7f48fP96uuOKKuAPV+/3793fvS8zVqVOnorYSbs2ZM8e9lv+rVasW9z5aPyrNpfWkQBX7L4GwB3lR8p+Ed1WqVHGTOe2002zevHlxXauSmE2aNHHvDxgwwMaMGVPwyyCsb8MAUbk7ZTI45JBDTN/o81sm9ia+je8Nia6U+UrZCJQ155///KepzGoiY9+GWd35bZuKf8OMmL0bhlZu2j744IPWs2dP19kDDzxgZ511lvs3+zY3/OkFAhDIHQFi+9yxznRPxPaZJpr5+4WN/fickXkfZPOOYf0bZizEB2FoZbZtKrEfezezPsjW3VLxbZixsG/D0MpdW2L73LGmJwhAAAKxCCDAYl1AAAIQCEigdevWtnTpUpflSDW2d9lll5hXKuNVq1at3HtDhw61ESNGBOyBZtkiIJHL3//+d3d7vwBLooG6deu6nyujlb69Fc/0/tSpU93buq5OnTpFTeXnkSNHutfyv7LuxLJt27Y5cZayo2k9LVmyJFtTLpP3DXuQFzX/1a5d22UMqV+/vilDRzxTxivvj9rTp0+33r17l0l/hRl0WN+Gubf3B7RYAqxM7U18W9ojEiSrzOA777zj3lTWN2V/S2bs22SEovF+qv4NM3r2bhhauWm7cOFCO+GEE1xnN910kw0aNKjoc0+UPi/xTM7NeqAXCBQyAWL7sutdYvvo+y5s7Ed8EH2f+kcY1r9hZkd8EIZW5tqmGvuxdzPng2zdKVXfhhkP+zYMrdy1JbbPHWt6ggAEIBCLAAIs1gUEIACBgAQGDx5sN998s2v90ksvWYsWLWJeOXr06KI/WC1YsKDoD1kBu6FZFgiobOSTTz7p7rxu3TqrUaOG+7fKltWsWdOVzmrQoIGtWrUqbu8qLydRja6VyEbZXjxT2bMTTzzRvZT/r7nmmpj30bpp2bKle09/1NQfN7H/Egh7kBc1/0lU5ZUTXL9+vSuNF8suuugimzJlinvrvffes4MPPrjgl0FY3wYF4k933r59e9MBg98ytTfxbXGPbNq0ydq1a2evv/560udeSV+yb4Ou7vy1S8e/QUfN3g1KKrftlMXOEwXffvvtdumll0by8xLP5NyuC3qDQCESILYvu14lto++78LGfsQH0fepf4Rh/Rt0dsQHQUlltl06sR97N7O+yPTd0vFt0LGwb4OSyn07YvvcM6dHCEAAAn4CCLBYDxCAAAQCElDmJE90FS9b0vbt261Ro0ZOyKNMRwpEdt1114A90CwbBPSNLImrfvnlFzvwwANt9erVxbq5+OKL7c4773Q/i5e9yi+cUvuJEycWu8fPP/9sSrms4FZCLZVB8wu0vMZ+4Y0/E1c25l0W75nKQV6U/Kdyo927d3foJda89tprS7nhxx9/dKI/laqMlbGpLPotyJhT8W2Q+44aNcquv/5611RZ6K677rqs7E18+1+sWsPKkPPCCy+4Hw4ZMsTkhzDGvg1DK7dtM+HfICNm7wahlPs2/j9qL1682Nq0aVM0CPZt7v1BjxCAQPYIENtnj20270xsn026mbt3KrEfnzMyxz/bd0rFv0HGRHwQhFJm22Qi9mPvZtYnmbpbJnwbZCzs2yCU8tOG2D4/3OkVAhCAgEcAARZrAQIQgEAIAl6pApUffO6554qyGXm3GDt2rA0cONC9HDZsmA0fPjzE3WkalsDjjz9uHTt2jFsO8ssvv3TvL1++3N163Lhx1r9//2LdvP/++9awYUNTecCmTZs6v1aqVKmozdatW125wFdffdX1o3JbBx10UKmh+kudjRkzxlQawW8Sd+k+6kdlu/7973+HnW7Bt0/lIC9K/pPITwI8ifyqVq3qsgN5JZs856lE26RJk9zLe+65x3r16lXwftUEw/pW7SVSO+KII+LyeeKJJ+yMM84wCSArVqxoH374YVF2O/9Fmdib+HYHUbHu3LmzKbOY7PLLL7dbb7019Bpm34ZGlpMLMuFf9m5OXBW6E337tUePHu5ZGc/Gjx9f9BnpgAMOsA8++KDY5yv2bWjsXAABCEScALF9tBxEbB8tf6QzmrCxn/ric0Y6xHN7bVj/Eh/k1j9Be8tE7MfeDUo7t+0y4Vv2bW59FqY3Yvvyc5YeZl3QFgIQiB4BBFjR8wkjggAEIkxAQp6jjz7aJMr53e9+Zypd0LZtW/d65syZNnXqVDd6lRSTYKdKlSoRnk3ZH5r+QChhhEQYKu2n1xJPqca9BE6TJ0+2b775xk30mGOOsWeeecZ22223UhNXOUCVDpRJ8KESghLOSEhzyy23FAm4EpUN/OGHH5yASweHsj59+rg/dmo8yiKhcoObN292r//zn//Y4YcfXvYdkOYMnn/+eSea8Ux+84Rr2md//etfi/UQT6wUJf+p1KUEKsqGt88++7iMTM2bN3diomnTptmcOXOK1qPW6M4775wmxWhenq5vxUbPVu1r8dR+UZY5pbjXN99nz57t/tNr2YQJE0zitliWqb2Jb809a+fOneswqwShxFexsv15fqhQoULcEpvs2+jt3Uz4l70bPb9qRPp8pGehfKzPQ/qMo8+x+tnKlSvtgQceKMpqp307f/58U1nXksa+jaZ/GRUEIJAaAWL71Lhl6ypi+2yRzf590439vBHyOSP7vkqlh3T9S3yQCvXsX5OJ2I+9m30/pdJDJnzLvk2FfG6uIbYv3LP03KwgeoEABHJFAAFWrkjTDwQgUDAE9M3Ms88+277//vuYc5L4Sn+4qlevXsHMOaoTUdCxZs2apMNT8HnXXXe5spCxTGKZCy+80KZPnx73XhdccIET2O20005x20hM1KlTJ5c1IpYpK5L+yHnKKackHXN5aCBB1YwZMwJP1RPblLwgav6T0OqSSy5x2YJimQRZekbsueeegede1hqm61vvsCfZvHfffXdT1hYJHhNZpvZmefdtIrFVLP5//OMfXfazsvDcLe++lY8y4V/2brKnVn7eD/p5SSVy9VmoQ4cO7Nv8uIpeIQCBHBMgts8x8ATdBf1dRWwfHZ95I0k39vPuQ1wfPd9qROn6l/ggmn7NROzH3i1c37Jvo+lbjSro5yVi++j6kJFBAALlgwACrPLhZ2YJAQhkmIBEP7fddpsTUaxbt86ULUCCq27dujnhhUQBWPYJLFmyxPSfyvspK44yKEkYp6wOtWrVslatWtl5551XqlRkvJEpw41EVq+88oq7lwQyzZo1s759+7pShkFsy5YtNnHiRJs1a5bL7iQRjsYiYZbKdUmQgO0gkO5BXkmOUfLfW2+9ZbfffrstWrTIPv/8c6tcubIrT9izZ0+X2UvlLAvZ0vWtsrI89thjbm8rm+D69evdnlQJz+rVq7uyoccff7xjqcxYQSxTe7M8+zaTh7Sez9i3QVZvbtpkwr/s3dz4KmwvyuipLKDKyLlq1SpTiWZlCFVJQmVrVJZBicP//Oc/B/oMy74N6wHaQwACUSZAbB8N7xDbR8MPqYwi3diPuD4V6rm7Jl3/Eh/kzldhespE7MfeDUM8d20z4Vv2be78FbYnYvuwxGgPAQhAID8EEGDlhzu9QgACEIAABCAAAQhAAAIQgAAEIAABCEAAAhCAAAQgAAEIQAACEIAABCAAAQhAAAIFQAABVgE4kSlAAAIQgAAEIAABCEAAAhCAAAQgAAEIQAACEIAABCAAAQhAAAIQgAAEIAABCEAAAvkhgAArP9zpFQIQgAAEIAABCEAAAhCAAAQgAAEIQAACEIAABCAAAQhAAAIQgAAEIAABCEAAAhAoAAIIsArAiUwBAhCAAAQgAAEIQAACEIAABCAAAQhAAAIQgAAEIAABCEAAAhCAAAQgAAEIQAACEMgPAQRY+eFOrxCAAAQgAAEIQAACEIAABCAAAQhAAAIQgAAEIAABCEAAAhCAAAQgAAEIQAACEIBAARBAgFUATmQKEIAABCAAAQhAAAIQgAAEIAABCEAAAhCAAAQgAAEIQAACEIAABCAAAQhAAAIQgEB+CCDAyg93eoUABCAAAQhAAAIQgAAEIAABCEAAAhCAAAQgAAEIQAACEIAABCAAAQhAAAIQgAAECoAAAqwCcCJTgAAEIAABCEAAAhCAAAQgAAEIQAACEIAABCAAAQhAAAIQgAAEIAABCEAAAhCAAATyQwABVn640ysEIAABCEAAAhCAAAQgAAEIQAACEIAABCAAAQhAAAIQgAAEIAABCEAAAhCAAAQgUAAEEGAVgBOZAgQgAAEIQAACEIAABCAAAQhAAAIQgAAEIAABCEAAAhCAAAQgAAEIQAACEIAABCCQHwIIsPLDnV4hAAEIQAACEIAABCAAAQhAAAIQgAAEIAABCEAAAhCAAAQgAAEIQAACEIAABCAAgQIggACrAJzIFCAAAQhAAAIQgAAEIAABCEAAAhCAAAQgAAEIQAACEIAABCAAAQhAAAIQgAAEIACB/BBAgJUf7vQKAQhAAAIQgAAEIAABCEAAAhCAAAQgAAEIQAACEIAABCAAAQhAAAIQgAAEIAABCBQAAQRYBeBEpgABCEAAAhCAAAQgAAEIQAACEIAABCAAAQhAAAIQgAAEIAABCEAAAhCAAAQgAAEI5IcAAqz8cKdXCEAAAhCAAAQgAAEIQAACEIAABCAAAQhAAAIQgAAEIAABCEAAAhCAAAQgAAEIQKAACCDAKgAnMgUIQAACEIAABCAAAQhAAAIQgAAEIAABCEAAAhCAAAQgAAEIQAACEIAABCAAAQhAID8EEGDlhzu9QgACEIAABCAAAQhAAAIQgAAEIAABCEAAAhCAAAQgAAEIQAACEIAABCAAAQhAAAIFQAABVgE4kSlAAAIQgAAEIAABCEAAAhCAAAQgAAEIQAACEIAABCAAAQhAAAIQgAAEIAABCEAAAvkhgAArP9zpFQIQgAAEIACBckLgf/7nf9xMhw0bZsOHDy8nsw4/zfvuu8+mTZtmK1eutE2bNtlvv/1mhx12mK1YsSL8zSJ4xQEHHGBr1qyx8847z/75z39GcIThhqQ59O7d21308ccfm+YX1srb3vj3v/9tbdu2dZgWL15sbdq0CYuM9hCAAAQgAAEIQAACEIBAngiUt/glVczE9qmSy891xPbhuRPbh2fGFRCAAAQgAIHyRAABVnnyNnOFAAQgAAEI5JCA/0BC3Xbv3t1mzpyZcAS9evWyGTNmuDYS4BSCcUib3IsDBw60sWPHlmqIACs5u3y14JA2PHkOacMz4woIQAACEIAABCAAgfwTILbf4QNi++Rrkdg+OaOotSC2D+8RYvvwzLgCAhCAAAQgUJ4IIMAqT95mrhCAAAQgAIEcEih5SKvDyjfeeMMaN24cdxQIsHLooIh0tXbtWqtTp479+uuvdtRRR9l1111ntWrVsp122skqVapkdevWDTTSqB+AkQGrtBuj8geMXK2dXPUTaMPQCAIQgAAEIAABCEAAAgEJENvvABWV+CWg23LejNg+58gz0mEhCbByFXPnqp+MOJibQAACEIAABCCQcwIIsHKOnA4hAAEIQAAC5YNAyUNazbpLly42d+7cuAAQYJWPteGf5b333uvK8sneeusta9iwYUoQOABLCVvKF3FIGx4dazQ8M66AAAQgAAEIQAACEMg/AWL7HT5AgJV4LRLb53+vpjICYvvw1IjtwzPjCghAAAIQgEB5IoAAqzx5m7lCAAIQgAAEckjAfyCx55572oYNG1zvr732mjVp0iTmSBBg5dBBEenq5ptvtsGDB7vR/Pzzz7brrrumNDIOwFLClvJFHNKGR8caDc+MKyAAAQhAAAIQgAAE8k+A2H6HDxBgJV6LxPb536upjIDYPjw1YvvwzLgCAhCAAAQgUJ4IIMAqT95mrhCAAAQgAIEcEvAfSIwcOdJGjRpl//d//2ennHKKPf744zFHggArhw6KSFfDhw+3ESNGuNH89ttvKY+KA7CU0aV0IYe04bGxRsMz4woIQAACEIAABCAAgfwTILbf4QMEWInXIrF9/vdqKiMgtg9Pjdg+PDOugAAEIAABCJQnAgiwypO3mSsEIAABCEAghwT8BxL33HOPvf7663bHHXe4Ebz00kvWokWLUqNJJsA64IADbM2aNa5knQ6J4pl3nz/+8Y/2ySefFGum13Xq1HE/07jUVmURJ0+ebCtWrLAtW7ZYvXr17K9//atddNFFRRmZJA566KGHbOrUqfbOO+/Y5s2brUGDBtanTx/r27dv0WFsyTGVPKR95pln7Pbbb7dXXnnFvv32W9t///2tU6dOdu2111rNmjWTeui9996ziRMn2qJFi2zdunUua9R+++1nxx13nF166aVxs4uVPCBq3bq1Y3jfffe5+Xz99dd27rnnJuQab3Bietttt9nTTz9tn376qf36669Wo0YNa9eunV1yySXWuHHjUpd6vkw04Y8//tjULpH5/ZmonedrtSl5MLxp0ybnE60D9anX/vZaE0888YQtXLjQXn31Vdfmxx9/tGrVqtkhhxxinTt3dmvld7/7XdwhJFq7sQ7vHn74YZsyZYq9+eabbq3Vrl3bTjvtNLdO9thjj6TrRGOdMWOGvfDCC/bFF1+4dax1f+KJJ9qVV17p1kwi09q85ZZbbN68eW7PValSxQ499FC31rt16+bWSe/evd0tgvgpVl+Z2hsfffSRPfLIIyaOK1eutC+//NJ1t/fee9tRRx3lxnnSSSeVGkIqa8d/E7HVOlm6dKmtX7/etm/f7vawngtdu3a1008/3apWrVp0SdT8/Pnnn7t1r327evVq27p1q1tbe+21lzVq1MitFc3DP4ekC48GEIAABCAAAQhAAAIFR4DYfodLMxW/eAuE2L74VkklPiO2J7bXKkpl7RDbF9yvKiYEAQhAAAIQiAwBBFiRcQUDgQAEIAABCBQWgZKHtPpjft26dd0f+U844QRbsGBBqQnnQ4D18ssv25133hkTvsQHEsJs27bNzj77bJs9e3bMdhdeeKETZsUy/yGt/q0DwlgmkYMyg0kYFc+USeyGG25w44nX1/XXX1+UUcrfxu+Pp556ysaNG2cSg/ktmbAtVp/33nuvE6Epu1ks23nnnU3jHjRoULG3oyLAev/99916LCnU8wuw2rRpY0uWLEm4QSVuevLJJ534JpYFFWDJJ9OnT7cHH3ww5n0kDpTgZ9999435vsRi55xzjhMkxTMJxSQmVDa6WCZBXvv27Z2oKJadf/75duyxx2ZUgJXq3pD468ADD0z68NT+lU932WWXorapHtLqGXbBBRc4hols2LBhxfa7fw/m289aQ/L/999/n3AOeibFWydJodMAAhCAAAQgAAEIQKAgCBDb73AjsT2xvdYBsX3px1om9gaxfWpnOMT2BfFrlklAAAIQgECBEUCAVWAOZToQgAAEIACBqBAoeUgrcdVVV11l//jHP9wQdUhwzDHHFBturgVYysK1bNkyl4FKGa+UMWvt2rV28803u5/Lpk2b5rIQKXvXWWed5f5T9qAPPvjAiSveffdd106iplhZdryDqKZNm7rsSfXr17eBAwe6bELKtDRr1izXh7LnKMuQMvhoHCVt6NChTsgka9WqlUkE07BhQ5fZSN+cnTBhgr344ovufWW1UTYsv/n9ob41p1NPPdVlAFN/yhokMUb37t0DL6H58+e77E/KDiZRj/wr4Y5ELv/5z38cxw0bNrj7TZo0yfr161d0bwmflL1LP/cEcJq738RK80tkv/zyi5u/MoqJiUwCpmbNmhW7TJmJlLFK5v+WrFisWrXKZbASj+rVqzvfiknLli1de61TsdH78qOylmnOygwloZNEevKfxqssahUrViw15KCHtPKt2Cl7kjKSeb5R1jPxlvXo0SOm+EeZxzp06GCLFy92fxxQO4kIJQ4TJ4kNJbxTlrIKFSq4fo488shiY9WaVPYjZVeTaT1ImKdsUvKZ9q/WsfiKuSzdDFjp7I0PP/zQ7QMJPDV3ZSRTFqeNGze68Yrb22+/7capPeSVu9TrVNaO/Kx9rgxjsoMOOsguvvhity523313J1oTV62Jnj17xhVg5dPPEktKtKYMWHrmaF+2bdvW+VhMtK71LJkzZ47bnwiwAj8SaQgBCEAAAhCAAAQKkgCx/Q63EtsT22sdENuXfsxlYm8Q24c/wyG2L8hfuUwKAhCAAAQKgAACrAJwIlOAAAQgAAEIRJFArENalbmTGERZevQH/2effbbY0HMtwFLnV1xxhY0fP77YOFReTqIOZcjZc8897ZtvvnFtLr/88mLtVNrt4IMPth9++MGJcx599NFSrvAOovRGkyZNXCalkqXqVAZQYhvZmWee6URZfpPQRaXUJP647rrrioRY/jZ6T0KZ+++/34kqJLLxBEdq5/eHXitTlrJppWoSasiXn332mZuPBHWHH354sdtJyCERk0QpEqfotXj6rWTJgFTHE6u8W7x7+fvcaaed7H//93+deCeeSZAloU08UzYjCYDkg7vuustlRyppQQ9pdd2oUaNsyJAhxW4hwZeEPyoXJ4GbxDMqFec3iauuvvpqJ1rTWuzYsWOpcai0oLJXSZQkYZn85je/SPKmm24qlblMfpcgR+PwLF0BVjp7Q88SiePilVQUNwnzVDKxcuXKbr3+/ve/LzbnMGtHpTb1zJB16dLFCeF22223Upy1FvR8kFjPs5J7MF9+1nP3+OOPd8NKlOFKmfb0LKQEYapPJa6DAAQgAAEIQAAChUGA2H6HH4ntie21DojtSz/XMrE3iO3Dn+EQ2xfG71hmAQEIQAAChUcAAVbh+ZQZQQACEIAABCJBINYhrQZ27bXX2i233OLGqMMCCbE8y7UAq1atWrZ69eqYWZb8Ih2Jn7zsUiXhSvSkMnzKnKSsOyXNfxClzEElMw557ZWFS1m0JK6ReMovKJEoS9lodK3EWP57+vv77rvvXGk6fQtOWbWU1cszvz8kGlOZOZUHTNWU4cfLlqVMV/JrLHvggQdc+UbZmDFjbMCAAcWa5VuAJXHO3XffnSqGouskxpk3b54TJ0nUUtKCHtIm8rHKdnpZ1iSwkujPMwmjlC1LYrcrr7yyKNNcrIlpnWm9ySQuU1lDmdaN1p1EWsoMtnz5cpNAraQpO5YyKKlPWSYEWKnujSCO075UdidlCFMZ0TPOOKPYZUEFWBJV1a5d24m4atSo4bLflRRTJhqPv598+lnlLZWdS6aMZwisgqwi2kAAAhCAAAQgAIHyS4DYfofvie2J7bUOiO1LPwszsTeCPGGJ7Yuf4RDbB1k1tIEABCAAAQjkngACrNwzp0cIQAACEIBAuSAQ75BW2aSUOUlZo44++mh7/vnni3jkWoCljFa33nprTH/MnTu3SKih7Fde1puSjVWSTVmDZBKu+LNO+Q9pGzdu7Mr+xTMJQ7p16+be1iHKX/7yF/dviVx0T2WiSSR08u6r0nASs5QUFvn9kW72K/XVp08fJ/LSQZsy/UjgEstUZlDvSehxwgknmEREfgChCnsAABE5SURBVMu3AGvRokXWrl27UHtSmdwkdpNgyTOVfRQPifokoCtpQQ9plcWqf//+Mcejco5e1quSa/KFF14oKukpsaBEg/FM3yz1hEMSD55zzjmuqUrnaU/KEo1D70to5pVETFeAlereiDU/7ReV09TzRYIrz5Tx6auvvoqZ+S2oAOv1118vElBq3Q4bNizUuvH3k08/q0Slt+b1/CuZ2S/UpGgMAQhAAAIQgAAEIFDwBIjtd7jYE5mkGr8Q2wfbKkHjM93Nf55AbE9sH3TtENsH24u0ggAEIAABCEAgNQIIsFLjxlUQgAAEIAABCCQhEO+QVpcNHTq0qIyeyr+pfJss1wKsiRMn2sUXXxxzJv5U3hKaeBmDSjaePn16Uck5CW8kwPGbd0ibLNOSrlUGI9ngwYPtxhtvdP9+4403SpX2C7L4NF5PIKP2fn+oxKGyaqVjrVq1clnBJKb76KOPEt5KWc7Uv8qxKXuQ3/ItwJKYqmRZxFiTkcBJIiuVG4yV6cy7plKlSk4sV9KCCrASrTVlYPKylql8pIR0nvlL44Xxqz8r2ZQpU+yiiy5ylz/33HOuVGE8U/+eACldAVaqe8Mbm/6QMXXqVFMpT2XtkugvnvXr188mTZpU7O2gh7TKlOZllSuZvS8Ic38/+fSzeDVo0KBo30q0qQxuxx13nDVt2tQqVKgQZDq0gQAEIAABCEAAAhAoJwSI7Xc4mtjeXAZzYvsDbM2aNaZs6Cp177eoxHzE9mb64lGbNm1iPqWJ7cvJLy+mCQEIQAACEMgTAQRYeQJPtxCAAAQgAIFCJ5DokFbZgyTc0f+bN29uy5YtczhyLcC65557XJ+xLKgoQwduvXv3dreIJUTxDmlVok8ZrOKZsilVrFjRvS0RzJ133un+vXDhQpc5KqzpoEkHTp755yMRkTICpWMScLz33nsu01K88oze/ZXNa+bMmW5+W7duLdZtvgVY27ZtS1qK0T/GIMx+++23Us2CCrASHRLqpt56kvhJ4/JsyJAhdtNNNwUZXin+npBq9OjRNmjQIPe+yuvVr18/7v38B7rpCrBS3RsanMRw2h+vvfZaoLlrv2vf+y3oXlfpVK/U5qpVq5yIKYwF7Sfbftb9VYJUIkzNw28SEEqIpaxoKjGaTpnSMGxoCwEIQAACEIAABCAQXQLE9jt8Q2xvLlM3sX0wARaxfelnWrxzL2L74M//ktm4ie2Ds6MlBCAAAQhAIFcEEGDlijT9QAACEIAABMoZgUSHtEIxcuRIlwlL9vjjj7uSZoUswJKwJZFAJt5BlDKEdezY0XEaO3asnXTSSYFWUuXKlZ3IzbMw4o8gHXgCrJYtW7rSdYmsR48e9q9//SuSAqxYYin/XFTGoH379u5HBx54oF199dWu1F/t2rVdGT9PoOLP6pYPAZaEQRIIyeTrP/zhD0Hc6MpDeuUjJRBU9jWZxHUHH3xw3HtMnjzZlE1Klq4AK9W9ob4lFLr//vvdOE4//XRXevPQQw91c5Lgz/sjify1du3apN9STnRI7hdgJROoxQIXZg/GE9plws/e2FSiUc9e/bdkyRJbvXp1sWEfeeSR9uSTT8YtLxpogdEIAhCAAAQgAAEIQKDMEyC23+FC7zN6qvELsX2wrRAmbgrzhS5i+9j8ie0Tf/mM2D7YvqUVBCAAAQhAAAL/JYAAi9UAAQhAAAIQgEBWCCQ7pP3hhx+cQOibb76xI444wmWwUSapGTNmuPHEErFIACOxh0QX9957b9xxd+vWzWbPnu1K+n3yySfF2um1J0zKZQasVMusvfLKKy5LmEwCLi9DUVinhTnEDHLvQilBmEyA5YnHqlWr5kRJnlipJKNLL73UJkyYEHftZjsDlsR5AwcOdP1LECdhXFgra2UKvv/+e1c+UiX1zjrrLHvggQfiTrlKlSq2efPmtARYmSxTkOq3oTPh53iQ1q9fb0899ZQr0ehlFJOo7ZFHHgm7lGgPAQhAAAIQgAAEIFBABIjtdzgz3RKExPbBNkWYs4swAixi+9j8b7jhBvOyYqf75apUz72I7VM7wyG2D/ZMoRUEIAABCEAg1wQQYOWaOP1BAAIQgAAEygmBZIe0wuDPKDN37lx79NFHEwqwDjvsMHvzzTddtixlbYlnyoCzcuXKSAmwGjdu7MYez+bMmeNKgskefPBBl9pf9uOPP1r16tXt559/tpJlBcMspTCHmEHu26dPH5s2bZo7hP7iiy/iCpMkjtlrr71s06ZNrlTcggULit0+zIFponEpg4/4yJKJW8L0Kb+99dZb1rVrV5OP4pkETy+99JJ7Ox8ZsFRWskOHDq7/kinpg/hTbSTcOvroo13zcePGWf/+/eNe2rlzZ3viiSfc++ke0qa6NyQSatq0qRvDY489ZhpTLJNwzisXeN5555nKhvot6NpZvny5NWnSJGXGYfZgvAxYmfBzsvWgPavSoq+//rrtsssupsNwlSbEIAABCEAAAhCAAATKJwFi+x1+9z6jpxq/ENsH2z9B4zMv9h0xYoS7cbIvVxHbx+ZPbD+8SIAWbIXuyDretm1b1zzZ+ROxfVCqtIMABCAAAQgUDgEEWIXjS2YCAQhAAAIQiBSBIIe0W7ZscWXdvvrqK9NhmDJheZmtYh2eKRuLRFr777+/rVu3rugA1D9xiWV0L1mUMmBpPBI0aI6x7OSTT3blvlTSTqXS9ttvv6JmnTp1cplpZMuWLSvKiBXG4WEOiILc9+GHH7bu3bu7pipdp9Joseyhhx5y2YlkY8aMsQEDBhRrFkYMlWhc4iLRiEylHU488cS4zcP0+ac//clUbk6lHz0flLzxihUrivk1HwKsn376yWrUqGEbN260fffd12Xrqlq1ahBXFrVRGUytu2+//dYOP/xwt169w0L/jT777DO3byUKlKUrwEp1b/h9PnPmzKL1WHLSV155pd16663ux7EEWEHXzvbt202ZzLQ/a9asaatWrXJlKINamD0Y75A2E34OMl6J78aPH++afv7558WeR0Gupw0EIAABCEAAAhCAQOEQILbf4Ut/bERsT2wfK7aMSsxHbJ/4XIjYvnB+PzETCEAAAhCAQBQJIMCKolcYEwQgAAEIQKAACAQ5pNU0//GPf9hVV13lZqxyYhs2bHD/jiVikSDAy8qjcmOesMfDpbKGxx9/vCm1vyxqAixl6xGXypUrF/OwMl717NnT/eyMM85w5RP99sILL9ixxx7rmKh84sKFC61u3boxV8mvv/5q//rXv6x169ZOJOJZmIPAIMtPWXIkRpE4Q+Xdli5daspQ5jcJVSSKUpvdd9/d1qxZ43zstzBiqETj+vTTT52/ZRMnTrSLL744bvMwfZ566qku25qENm+88YYTHvnt66+/dt98fPvtt4t+nA8BljqXEG7w4MFuHB07drRZs2aVWmv+vaJyn5dcckmx+Wgvak/KlKHOK2voNdq2bZuJiV+MlgkBVip7Q+VLlV1NvCVSnD9/fimfK0uXhJvaF7JYh+Rh1s4dd9xhl112mbtXly5dTMKvChUqlOpXB7rKDCexaCp7MJ4AKxN+1l6V0K5evXox94iEdcropj8qad1LkKdMWBgEIAABCEAAAhCAQPkkQGy/w+9+AVYq8YvuQWyffA+Fic+I7c10DkZsv2NdhVk7xPbJ9yItIAABCEAAAhBIjQACrNS4cRUEIAABCEAAAkkIBD2k3bp1qxMTrV+/vtgdY4lYJHaRaEAlsSpWrGiDBg1ymY50EPrqq6864Yiy8yhrkcqFRUmApQNajVGl0K655hqXpUtl+SS2mjJlikmwISGTyhRK2FTS/AeLEkVccMEFrqSfhBT6duMnn3xiL774orufBE8qwdioUaOi22RagKUbS/CidPXylcak7FYSwEmsoXJ2o0ePdtnNZJMmTbJ+/folnFeykgHJNl2tWrVcZjSJ1CTWq1+/fpFwZJ999nF8ZWEOacWzW7du7joJ2uS7I4880s1Zc9Sak9BGQjPxl+VLgCWRkfbDokWL3Dhq165tF110kRPTVKtWzR3MKjOW1sK8efPcHvIEjx5brUmtG3GUqRTmueee60pMvv/++26+Ejg2a9asSOiYrgArnb2hcqSe8Epz79u3r5u31p1KRqrcoERz3333nen5EUuApXkGXTvap8qGJhGk7OCDD3ZiP81BIkOtBZWi9DK/aa15FmYPJhJgpetnjWnkyJFO1KnMeyrZKiGbnsXy8eTJk+3ll192w77iiiuKMmEl23+8DwEIQAACEIAABCBQmASI7Xf41fuMnk78UjIeJbaPvWeCxmfE9sT2JVdQ0LVDbF+Yv6+YFQQgAAEIQCAKBBBgRcELjAECEIAABCBQgASCHtJq6hMmTLBLL720GIV4Yhxl9ZEoxMto479IghKVMJQgQ98AjJIAa9iwYW6oI0aMiOltlYt77LHH7Ljjjou7GlRGTaX+JLhKZMrIo4xM/gw3YcQfYZajOEv0Em9MKqkosYfEcrEszIFpsnHdeeedcTNf3XPPPdarVy93i7B9nn/++abrY5nmN27cOJclyPNtvgRYGp9ENBJdeaU8EzGTUO2jjz4q1URrp3379k5MFMt69+7tMqzp/7J0BVjp7A1lWTvmmGPcN11jmcRYytalDFnKwBZPgBV07aiPH3/80d2nZKa6kv1rXtkQYKXrZ//6T7Q+unbtaso0qOcqBgEIQAACEIAABCBQfgkQ2+/wvf9LEnpNbF98T4SNsxPtqKDxWdg+ie2LUye2J7Yvv7/ZmDkEIAABCEAgewQQYGWPLXeGAAQgAAEIlGsCYQ5pJd456KCDTGIKzxJlQ1J2FmVXev75510WKWU3ateuncvA1LBhQye0iaIAS4eDCxYsMKU6VzYsiXZUokziEAmU/CUD4y0eZfhSxixl4Pnwww9dZp/ddtvNatSo4bJqdejQwZUxLFnqL1sCLI1T2bckDnv66aedEEbfJNS85BMJ6zSueBb2wDTZppo7d67js2LFCtu4caOpZJ4sHQGWrr///vtt6tSp7r4q0bbvvvs6EZJK+DVv3jypqEtZzeIJgML4JlFmJD+b1157ze6++2577rnnXDarLVu2uCxlGocyeKlEobJHae3EMrFTCcJHHnnE+VTZw+THCy+80AkglVkqkwKsdPaGShFqrI8++qhjLMGQ5qnSg5dffrlVr17dvU4kwBKDIGvHz2rx4sVuXek5JLGaMr9pHx5yyCF25plnulKN/nKjUfGzBGRLlixxzxBlbVPGPC9TndZ1ixYtXNYzPZcwCEAAAhCAAAQgAAEIENvvWAMlYzFi++J7g9jeXLbptm3bOjCKF9u0aRP3AUJsXxoNsX24Mxxie34/QwACEIAABKJJAAFWNP3CqCAAAQhAAAIQgAAEIAABCEAAAhCAAAQgAAEIQAACEIAABCAAAQhAAAIQgAAEIACBMkAAAVYZcBJDhAAEIAABCEAAAhCAAAQgAAEIQAACEIAABCAAAQhAAAIQgAAEIAABCEAAAhCAAASiSQABVjT9wqggAAEIQAACEIAABCAAAQhAAAIQgAAEIAABCEAAAhCAAAQgAAEIQAACEIAABCAAgTJAAAFWGXASQ4QABCAAAQhAAAIQgAAEIAABCEAAAhCAAAQgAAEIQAACEIAABCAAAQhAAAIQgAAEokkAAVY0/cKoIAABCEAAAhCAAAQgAAEIQAACEIAABCAAAQhAAAIQgAAEIAABCEAAAhCAAAQgAIEyQAABVhlwEkOEAAQgAAEIQAACEIAABCAAAQhAAAIQgAAEIAABCEAAAhCAAAQgAAEIQAACEIAABKJJAAFWNP3CqCAAAQhAAAIQgAAEIAABCEAAAhCAAAQgAAEIQAACEIAABCAAAQhAAAIQgAAEIACBMkDg/wGrQeM4sN0hCgAAAABJRU5ErkJggg==\" width=\"1200\">"
      ],
      "text/plain": [
       "<IPython.core.display.HTML object>"
      ]
     },
     "metadata": {},
     "output_type": "display_data"
    },
    {
     "name": "stderr",
     "output_type": "stream",
     "text": [
      "/Users/bleuoutremer/anaconda3/envs/dml/lib/python3.9/site-packages/sklearn/metrics/_classification.py:1469: UndefinedMetricWarning: Precision and F-score are ill-defined and being set to 0.0 in labels with no predicted samples. Use `zero_division` parameter to control this behavior.\n",
      "  _warn_prf(average, modifier, msg_start, len(result))\n",
      "/Users/bleuoutremer/anaconda3/envs/dml/lib/python3.9/site-packages/sklearn/metrics/_classification.py:1469: UndefinedMetricWarning: Precision and F-score are ill-defined and being set to 0.0 in labels with no predicted samples. Use `zero_division` parameter to control this behavior.\n",
      "  _warn_prf(average, modifier, msg_start, len(result))\n",
      "/Users/bleuoutremer/anaconda3/envs/dml/lib/python3.9/site-packages/sklearn/metrics/_classification.py:1469: UndefinedMetricWarning: Recall and F-score are ill-defined and being set to 0.0 in labels with no true samples. Use `zero_division` parameter to control this behavior.\n",
      "  _warn_prf(average, modifier, msg_start, len(result))\n",
      "/Users/bleuoutremer/anaconda3/envs/dml/lib/python3.9/site-packages/sklearn/metrics/_classification.py:1469: UndefinedMetricWarning: Precision and F-score are ill-defined and being set to 0.0 in labels with no predicted samples. Use `zero_division` parameter to control this behavior.\n",
      "  _warn_prf(average, modifier, msg_start, len(result))\n",
      "/Users/bleuoutremer/anaconda3/envs/dml/lib/python3.9/site-packages/sklearn/metrics/_classification.py:1469: UndefinedMetricWarning: Precision and F-score are ill-defined and being set to 0.0 in labels with no predicted samples. Use `zero_division` parameter to control this behavior.\n",
      "  _warn_prf(average, modifier, msg_start, len(result))\n",
      "/Users/bleuoutremer/anaconda3/envs/dml/lib/python3.9/site-packages/sklearn/metrics/_classification.py:1469: UndefinedMetricWarning: Precision and F-score are ill-defined and being set to 0.0 in labels with no predicted samples. Use `zero_division` parameter to control this behavior.\n",
      "  _warn_prf(average, modifier, msg_start, len(result))\n",
      "/Users/bleuoutremer/anaconda3/envs/dml/lib/python3.9/site-packages/sklearn/metrics/_classification.py:1469: UndefinedMetricWarning: Precision and F-score are ill-defined and being set to 0.0 in labels with no predicted samples. Use `zero_division` parameter to control this behavior.\n",
      "  _warn_prf(average, modifier, msg_start, len(result))\n",
      "/Users/bleuoutremer/anaconda3/envs/dml/lib/python3.9/site-packages/sklearn/metrics/_classification.py:1469: UndefinedMetricWarning: Precision and F-score are ill-defined and being set to 0.0 in labels with no predicted samples. Use `zero_division` parameter to control this behavior.\n",
      "  _warn_prf(average, modifier, msg_start, len(result))\n",
      "/Users/bleuoutremer/anaconda3/envs/dml/lib/python3.9/site-packages/sklearn/metrics/_classification.py:1469: UndefinedMetricWarning: Precision and F-score are ill-defined and being set to 0.0 in labels with no predicted samples. Use `zero_division` parameter to control this behavior.\n",
      "  _warn_prf(average, modifier, msg_start, len(result))\n",
      "/Users/bleuoutremer/anaconda3/envs/dml/lib/python3.9/site-packages/sklearn/metrics/_classification.py:1469: UndefinedMetricWarning: Precision and F-score are ill-defined and being set to 0.0 in labels with no predicted samples. Use `zero_division` parameter to control this behavior.\n",
      "  _warn_prf(average, modifier, msg_start, len(result))\n",
      "/Users/bleuoutremer/anaconda3/envs/dml/lib/python3.9/site-packages/sklearn/metrics/_classification.py:1469: UndefinedMetricWarning: Precision and F-score are ill-defined and being set to 0.0 in labels with no predicted samples. Use `zero_division` parameter to control this behavior.\n",
      "  _warn_prf(average, modifier, msg_start, len(result))\n",
      "/Users/bleuoutremer/anaconda3/envs/dml/lib/python3.9/site-packages/sklearn/metrics/_classification.py:1469: UndefinedMetricWarning: Precision and F-score are ill-defined and being set to 0.0 in labels with no predicted samples. Use `zero_division` parameter to control this behavior.\n",
      "  _warn_prf(average, modifier, msg_start, len(result))\n",
      "/Users/bleuoutremer/anaconda3/envs/dml/lib/python3.9/site-packages/sklearn/metrics/_classification.py:1469: UndefinedMetricWarning: Precision and F-score are ill-defined and being set to 0.0 in labels with no predicted samples. Use `zero_division` parameter to control this behavior.\n",
      "  _warn_prf(average, modifier, msg_start, len(result))\n",
      "/Users/bleuoutremer/anaconda3/envs/dml/lib/python3.9/site-packages/sklearn/metrics/_classification.py:1469: UndefinedMetricWarning: Precision and F-score are ill-defined and being set to 0.0 in labels with no predicted samples. Use `zero_division` parameter to control this behavior.\n",
      "  _warn_prf(average, modifier, msg_start, len(result))\n",
      "/Users/bleuoutremer/anaconda3/envs/dml/lib/python3.9/site-packages/sklearn/metrics/_classification.py:1469: UndefinedMetricWarning: Precision and F-score are ill-defined and being set to 0.0 in labels with no predicted samples. Use `zero_division` parameter to control this behavior.\n",
      "  _warn_prf(average, modifier, msg_start, len(result))\n",
      "/Users/bleuoutremer/anaconda3/envs/dml/lib/python3.9/site-packages/sklearn/metrics/_classification.py:1469: UndefinedMetricWarning: Precision and F-score are ill-defined and being set to 0.0 in labels with no predicted samples. Use `zero_division` parameter to control this behavior.\n",
      "  _warn_prf(average, modifier, msg_start, len(result))\n",
      "/Users/bleuoutremer/anaconda3/envs/dml/lib/python3.9/site-packages/sklearn/metrics/_classification.py:1469: UndefinedMetricWarning: Precision and F-score are ill-defined and being set to 0.0 in labels with no predicted samples. Use `zero_division` parameter to control this behavior.\n",
      "  _warn_prf(average, modifier, msg_start, len(result))\n",
      "/Users/bleuoutremer/anaconda3/envs/dml/lib/python3.9/site-packages/sklearn/metrics/_classification.py:1469: UndefinedMetricWarning: Precision and F-score are ill-defined and being set to 0.0 in labels with no predicted samples. Use `zero_division` parameter to control this behavior.\n",
      "  _warn_prf(average, modifier, msg_start, len(result))\n",
      "/Users/bleuoutremer/anaconda3/envs/dml/lib/python3.9/site-packages/sklearn/metrics/_classification.py:1469: UndefinedMetricWarning: Precision and F-score are ill-defined and being set to 0.0 in labels with no predicted samples. Use `zero_division` parameter to control this behavior.\n",
      "  _warn_prf(average, modifier, msg_start, len(result))\n",
      "/Users/bleuoutremer/anaconda3/envs/dml/lib/python3.9/site-packages/sklearn/metrics/_classification.py:1469: UndefinedMetricWarning: Precision and F-score are ill-defined and being set to 0.0 in labels with no predicted samples. Use `zero_division` parameter to control this behavior.\n",
      "  _warn_prf(average, modifier, msg_start, len(result))\n",
      "/Users/bleuoutremer/anaconda3/envs/dml/lib/python3.9/site-packages/sklearn/metrics/_classification.py:1469: UndefinedMetricWarning: Precision and F-score are ill-defined and being set to 0.0 in labels with no predicted samples. Use `zero_division` parameter to control this behavior.\n",
      "  _warn_prf(average, modifier, msg_start, len(result))\n",
      "/Users/bleuoutremer/anaconda3/envs/dml/lib/python3.9/site-packages/sklearn/metrics/_classification.py:1469: UndefinedMetricWarning: Precision and F-score are ill-defined and being set to 0.0 in labels with no predicted samples. Use `zero_division` parameter to control this behavior.\n",
      "  _warn_prf(average, modifier, msg_start, len(result))\n",
      "/Users/bleuoutremer/anaconda3/envs/dml/lib/python3.9/site-packages/sklearn/metrics/_classification.py:1469: UndefinedMetricWarning: Precision and F-score are ill-defined and being set to 0.0 in labels with no predicted samples. Use `zero_division` parameter to control this behavior.\n",
      "  _warn_prf(average, modifier, msg_start, len(result))\n",
      "/Users/bleuoutremer/anaconda3/envs/dml/lib/python3.9/site-packages/sklearn/metrics/_classification.py:1469: UndefinedMetricWarning: Precision and F-score are ill-defined and being set to 0.0 in labels with no predicted samples. Use `zero_division` parameter to control this behavior.\n",
      "  _warn_prf(average, modifier, msg_start, len(result))\n",
      "/Users/bleuoutremer/anaconda3/envs/dml/lib/python3.9/site-packages/sklearn/metrics/_classification.py:1469: UndefinedMetricWarning: Precision and F-score are ill-defined and being set to 0.0 in labels with no predicted samples. Use `zero_division` parameter to control this behavior.\n",
      "  _warn_prf(average, modifier, msg_start, len(result))\n"
     ]
    },
    {
     "name": "stderr",
     "output_type": "stream",
     "text": [
      "/Users/bleuoutremer/anaconda3/envs/dml/lib/python3.9/site-packages/sklearn/metrics/_classification.py:1469: UndefinedMetricWarning: Precision and F-score are ill-defined and being set to 0.0 in labels with no predicted samples. Use `zero_division` parameter to control this behavior.\n",
      "  _warn_prf(average, modifier, msg_start, len(result))\n",
      "/Users/bleuoutremer/anaconda3/envs/dml/lib/python3.9/site-packages/sklearn/metrics/_classification.py:1469: UndefinedMetricWarning: Precision and F-score are ill-defined and being set to 0.0 in labels with no predicted samples. Use `zero_division` parameter to control this behavior.\n",
      "  _warn_prf(average, modifier, msg_start, len(result))\n",
      "/Users/bleuoutremer/anaconda3/envs/dml/lib/python3.9/site-packages/sklearn/metrics/_classification.py:1469: UndefinedMetricWarning: Precision and F-score are ill-defined and being set to 0.0 in labels with no predicted samples. Use `zero_division` parameter to control this behavior.\n",
      "  _warn_prf(average, modifier, msg_start, len(result))\n",
      "/Users/bleuoutremer/anaconda3/envs/dml/lib/python3.9/site-packages/sklearn/metrics/_classification.py:1469: UndefinedMetricWarning: Precision and F-score are ill-defined and being set to 0.0 in labels with no predicted samples. Use `zero_division` parameter to control this behavior.\n",
      "  _warn_prf(average, modifier, msg_start, len(result))\n",
      "/Users/bleuoutremer/anaconda3/envs/dml/lib/python3.9/site-packages/sklearn/metrics/_classification.py:1469: UndefinedMetricWarning: Precision and F-score are ill-defined and being set to 0.0 in labels with no predicted samples. Use `zero_division` parameter to control this behavior.\n",
      "  _warn_prf(average, modifier, msg_start, len(result))\n",
      "/Users/bleuoutremer/anaconda3/envs/dml/lib/python3.9/site-packages/sklearn/metrics/_classification.py:1469: UndefinedMetricWarning: Precision and F-score are ill-defined and being set to 0.0 in labels with no predicted samples. Use `zero_division` parameter to control this behavior.\n",
      "  _warn_prf(average, modifier, msg_start, len(result))\n",
      "/Users/bleuoutremer/anaconda3/envs/dml/lib/python3.9/site-packages/sklearn/metrics/_classification.py:1469: UndefinedMetricWarning: Precision and F-score are ill-defined and being set to 0.0 in labels with no predicted samples. Use `zero_division` parameter to control this behavior.\n",
      "  _warn_prf(average, modifier, msg_start, len(result))\n",
      "/Users/bleuoutremer/anaconda3/envs/dml/lib/python3.9/site-packages/sklearn/metrics/_classification.py:1469: UndefinedMetricWarning: Precision and F-score are ill-defined and being set to 0.0 in labels with no predicted samples. Use `zero_division` parameter to control this behavior.\n",
      "  _warn_prf(average, modifier, msg_start, len(result))\n",
      "/Users/bleuoutremer/anaconda3/envs/dml/lib/python3.9/site-packages/sklearn/metrics/_classification.py:1469: UndefinedMetricWarning: Precision and F-score are ill-defined and being set to 0.0 in labels with no predicted samples. Use `zero_division` parameter to control this behavior.\n",
      "  _warn_prf(average, modifier, msg_start, len(result))\n",
      "/Users/bleuoutremer/anaconda3/envs/dml/lib/python3.9/site-packages/sklearn/metrics/_classification.py:1469: UndefinedMetricWarning: Precision and F-score are ill-defined and being set to 0.0 in labels with no predicted samples. Use `zero_division` parameter to control this behavior.\n",
      "  _warn_prf(average, modifier, msg_start, len(result))\n",
      "/Users/bleuoutremer/anaconda3/envs/dml/lib/python3.9/site-packages/sklearn/metrics/_classification.py:1469: UndefinedMetricWarning: Precision and F-score are ill-defined and being set to 0.0 in labels with no predicted samples. Use `zero_division` parameter to control this behavior.\n",
      "  _warn_prf(average, modifier, msg_start, len(result))\n",
      "/Users/bleuoutremer/anaconda3/envs/dml/lib/python3.9/site-packages/sklearn/metrics/_classification.py:1469: UndefinedMetricWarning: Precision and F-score are ill-defined and being set to 0.0 in labels with no predicted samples. Use `zero_division` parameter to control this behavior.\n",
      "  _warn_prf(average, modifier, msg_start, len(result))\n",
      "/Users/bleuoutremer/anaconda3/envs/dml/lib/python3.9/site-packages/sklearn/metrics/_classification.py:1469: UndefinedMetricWarning: Precision and F-score are ill-defined and being set to 0.0 in labels with no predicted samples. Use `zero_division` parameter to control this behavior.\n",
      "  _warn_prf(average, modifier, msg_start, len(result))\n",
      "/Users/bleuoutremer/anaconda3/envs/dml/lib/python3.9/site-packages/sklearn/metrics/_classification.py:1469: UndefinedMetricWarning: Precision and F-score are ill-defined and being set to 0.0 in labels with no predicted samples. Use `zero_division` parameter to control this behavior.\n",
      "  _warn_prf(average, modifier, msg_start, len(result))\n",
      "/Users/bleuoutremer/anaconda3/envs/dml/lib/python3.9/site-packages/sklearn/metrics/_classification.py:1469: UndefinedMetricWarning: Precision and F-score are ill-defined and being set to 0.0 in labels with no predicted samples. Use `zero_division` parameter to control this behavior.\n",
      "  _warn_prf(average, modifier, msg_start, len(result))\n",
      "/Users/bleuoutremer/anaconda3/envs/dml/lib/python3.9/site-packages/sklearn/metrics/_classification.py:1469: UndefinedMetricWarning: Precision and F-score are ill-defined and being set to 0.0 in labels with no predicted samples. Use `zero_division` parameter to control this behavior.\n",
      "  _warn_prf(average, modifier, msg_start, len(result))\n"
     ]
    },
    {
     "ename": "KeyboardInterrupt",
     "evalue": "",
     "output_type": "error",
     "traceback": [
      "\u001b[0;31m---------------------------------------------------------------------------\u001b[0m",
      "\u001b[0;31mKeyboardInterrupt\u001b[0m                         Traceback (most recent call last)",
      "Cell \u001b[0;32mIn[326], line 49\u001b[0m\n\u001b[1;32m     46\u001b[0m     augmented_dataset\u001b[38;5;241m.\u001b[39mappend((reordered_name, country))\n\u001b[1;32m     48\u001b[0m \u001b[38;5;66;03m# Train the RNN\u001b[39;00m\n\u001b[0;32m---> 49\u001b[0m \u001b[43mtrain\u001b[49m\u001b[43m(\u001b[49m\u001b[43mrnn_model\u001b[49m\u001b[43m,\u001b[49m\u001b[43m \u001b[49m\u001b[43mn_epochs\u001b[49m\u001b[43m,\u001b[49m\u001b[43m \u001b[49m\u001b[43mlearning_rate\u001b[49m\u001b[43m,\u001b[49m\u001b[43m \u001b[49m\u001b[43mbatch_size\u001b[49m\u001b[43m,\u001b[49m\u001b[43m \u001b[49m\u001b[43maugmented_dataset\u001b[49m\u001b[43m,\u001b[49m\u001b[43m \u001b[49m\u001b[43mval_dataset\u001b[49m\u001b[43m)\u001b[49m\n",
      "Cell \u001b[0;32mIn[314], line 31\u001b[0m, in \u001b[0;36mtrain\u001b[0;34m(rnn, n_epochs, learning_rate, batch_size, train_dataset, val_dataset)\u001b[0m\n\u001b[1;32m     28\u001b[0m i_batch \u001b[38;5;241m+\u001b[39m\u001b[38;5;241m=\u001b[39m \u001b[38;5;241m1\u001b[39m\n\u001b[1;32m     30\u001b[0m \u001b[38;5;66;03m# Compute loss and outputs\u001b[39;00m\n\u001b[0;32m---> 31\u001b[0m output, loss \u001b[38;5;241m=\u001b[39m \u001b[43mtrain_batch\u001b[49m\u001b[43m(\u001b[49m\u001b[43mrnn\u001b[49m\u001b[43m,\u001b[49m\u001b[43m \u001b[49m\u001b[43mx_batch\u001b[49m\u001b[43m,\u001b[49m\u001b[43m \u001b[49m\u001b[43my_batch\u001b[49m\u001b[43m,\u001b[49m\u001b[43m \u001b[49m\u001b[43moptimizer\u001b[49m\u001b[43m)\u001b[49m\n\u001b[1;32m     33\u001b[0m \u001b[38;5;66;03m# Aggregate for later averaging\u001b[39;00m\n\u001b[1;32m     34\u001b[0m preds \u001b[38;5;241m+\u001b[39m\u001b[38;5;241m=\u001b[39m output\u001b[38;5;241m.\u001b[39margmax(dim\u001b[38;5;241m=\u001b[39m\u001b[38;5;241m1\u001b[39m)\u001b[38;5;241m.\u001b[39mcpu()\u001b[38;5;241m.\u001b[39mtolist()\n",
      "Cell \u001b[0;32mIn[311], line 10\u001b[0m, in \u001b[0;36mtrain_batch\u001b[0;34m(rnn, xs, ys, optimizer)\u001b[0m\n\u001b[1;32m      7\u001b[0m optimizer\u001b[38;5;241m.\u001b[39mzero_grad()\n\u001b[1;32m      9\u001b[0m \u001b[38;5;66;03m# Backward-propagation\u001b[39;00m\n\u001b[0;32m---> 10\u001b[0m \u001b[43mloss\u001b[49m\u001b[38;5;241;43m.\u001b[39;49m\u001b[43mbackward\u001b[49m\u001b[43m(\u001b[49m\u001b[43m)\u001b[49m\n\u001b[1;32m     12\u001b[0m \u001b[38;5;66;03m# Clip the gradient norm (optional, helps to stabilize training)\u001b[39;00m\n\u001b[1;32m     13\u001b[0m nn\u001b[38;5;241m.\u001b[39mutils\u001b[38;5;241m.\u001b[39mclip_grad_norm_(rnn\u001b[38;5;241m.\u001b[39mparameters(), \u001b[38;5;241m2\u001b[39m)\n",
      "File \u001b[0;32m~/anaconda3/envs/dml/lib/python3.9/site-packages/torch/_tensor.py:488\u001b[0m, in \u001b[0;36mTensor.backward\u001b[0;34m(self, gradient, retain_graph, create_graph, inputs)\u001b[0m\n\u001b[1;32m    478\u001b[0m \u001b[38;5;28;01mif\u001b[39;00m has_torch_function_unary(\u001b[38;5;28mself\u001b[39m):\n\u001b[1;32m    479\u001b[0m     \u001b[38;5;28;01mreturn\u001b[39;00m handle_torch_function(\n\u001b[1;32m    480\u001b[0m         Tensor\u001b[38;5;241m.\u001b[39mbackward,\n\u001b[1;32m    481\u001b[0m         (\u001b[38;5;28mself\u001b[39m,),\n\u001b[0;32m   (...)\u001b[0m\n\u001b[1;32m    486\u001b[0m         inputs\u001b[38;5;241m=\u001b[39minputs,\n\u001b[1;32m    487\u001b[0m     )\n\u001b[0;32m--> 488\u001b[0m \u001b[43mtorch\u001b[49m\u001b[38;5;241;43m.\u001b[39;49m\u001b[43mautograd\u001b[49m\u001b[38;5;241;43m.\u001b[39;49m\u001b[43mbackward\u001b[49m\u001b[43m(\u001b[49m\n\u001b[1;32m    489\u001b[0m \u001b[43m    \u001b[49m\u001b[38;5;28;43mself\u001b[39;49m\u001b[43m,\u001b[49m\u001b[43m \u001b[49m\u001b[43mgradient\u001b[49m\u001b[43m,\u001b[49m\u001b[43m \u001b[49m\u001b[43mretain_graph\u001b[49m\u001b[43m,\u001b[49m\u001b[43m \u001b[49m\u001b[43mcreate_graph\u001b[49m\u001b[43m,\u001b[49m\u001b[43m \u001b[49m\u001b[43minputs\u001b[49m\u001b[38;5;241;43m=\u001b[39;49m\u001b[43minputs\u001b[49m\n\u001b[1;32m    490\u001b[0m \u001b[43m\u001b[49m\u001b[43m)\u001b[49m\n",
      "File \u001b[0;32m~/anaconda3/envs/dml/lib/python3.9/site-packages/torch/autograd/__init__.py:197\u001b[0m, in \u001b[0;36mbackward\u001b[0;34m(tensors, grad_tensors, retain_graph, create_graph, grad_variables, inputs)\u001b[0m\n\u001b[1;32m    192\u001b[0m     retain_graph \u001b[38;5;241m=\u001b[39m create_graph\n\u001b[1;32m    194\u001b[0m \u001b[38;5;66;03m# The reason we repeat same the comment below is that\u001b[39;00m\n\u001b[1;32m    195\u001b[0m \u001b[38;5;66;03m# some Python versions print out the first line of a multi-line function\u001b[39;00m\n\u001b[1;32m    196\u001b[0m \u001b[38;5;66;03m# calls in the traceback and some print out the last line\u001b[39;00m\n\u001b[0;32m--> 197\u001b[0m \u001b[43mVariable\u001b[49m\u001b[38;5;241;43m.\u001b[39;49m\u001b[43m_execution_engine\u001b[49m\u001b[38;5;241;43m.\u001b[39;49m\u001b[43mrun_backward\u001b[49m\u001b[43m(\u001b[49m\u001b[43m  \u001b[49m\u001b[38;5;66;43;03m# Calls into the C++ engine to run the backward pass\u001b[39;49;00m\n\u001b[1;32m    198\u001b[0m \u001b[43m    \u001b[49m\u001b[43mtensors\u001b[49m\u001b[43m,\u001b[49m\u001b[43m \u001b[49m\u001b[43mgrad_tensors_\u001b[49m\u001b[43m,\u001b[49m\u001b[43m \u001b[49m\u001b[43mretain_graph\u001b[49m\u001b[43m,\u001b[49m\u001b[43m \u001b[49m\u001b[43mcreate_graph\u001b[49m\u001b[43m,\u001b[49m\u001b[43m \u001b[49m\u001b[43minputs\u001b[49m\u001b[43m,\u001b[49m\n\u001b[1;32m    199\u001b[0m \u001b[43m    \u001b[49m\u001b[43mallow_unreachable\u001b[49m\u001b[38;5;241;43m=\u001b[39;49m\u001b[38;5;28;43;01mTrue\u001b[39;49;00m\u001b[43m,\u001b[49m\u001b[43m \u001b[49m\u001b[43maccumulate_grad\u001b[49m\u001b[38;5;241;43m=\u001b[39;49m\u001b[38;5;28;43;01mTrue\u001b[39;49;00m\u001b[43m)\u001b[49m\n",
      "\u001b[0;31mKeyboardInterrupt\u001b[0m: "
     ]
    }
   ],
   "source": [
    "# YOUR CODE HERE\n",
    "import random\n",
    "import string\n",
    "\n",
    "# Define RNN model\n",
    "input_size = len(charset)\n",
    "hidden_size = 256\n",
    "output_size = len(names_dict.keys())\n",
    "rnn_model = RNN(input_size, hidden_size, output_size).to(device)\n",
    "\n",
    "# Hyperparameters\n",
    "n_epochs = 10\n",
    "# learning_rate = 1e-3\n",
    "learning_rate = 1e-4\n",
    "batch_size = 64\n",
    "noise_level = 0.1\n",
    "swap_prob = 0.1\n",
    "\n",
    "# augment\n",
    "def noise_injection(name, noise_level):\n",
    "    ones_idx = (name == 1).nonzero(as_tuple=True)\n",
    "    num_changes = int(noise_level * len(ones_idx[0]))\n",
    "    change_idx = torch.randperm(len(ones_idx[0]))[:num_changes]\n",
    "    noisy = name.clone()\n",
    "    for idx in change_idx:\n",
    "        noisy[ones_idx[0][idx]] = 1 - noisy[ones_idx[0][idx]]\n",
    "    return noisy\n",
    "\n",
    "def char_reorder(name, swap_prob):\n",
    "    num_swaps = int(swap_prob * name.size(0))\n",
    "    swap_positions = torch.randperm(name.size(0))[:num_swaps]\n",
    "    reordered = name.clone()\n",
    "    for pos in swap_positions:\n",
    "        if pos < name.size(0) - 1:\n",
    "            reordered[pos], reordered[pos + 1] = reordered[pos + 1].clone(), reordered[pos].clone()\n",
    "    return reordered\n",
    "\n",
    "augmented_dataset = []\n",
    "\n",
    "for name, country in train_dataset:\n",
    "    augmented_dataset.append((name, country))\n",
    "    noisy_name = noise_injection(name, noise_level)\n",
    "    reordered_name = char_reorder(name, swap_prob)\n",
    "\n",
    "    augmented_dataset.append((noisy_name, country))\n",
    "    augmented_dataset.append((reordered_name, country))\n",
    "\n",
    "# Train the RNN\n",
    "train(rnn_model, n_epochs, learning_rate, batch_size, augmented_dataset, val_dataset)\n"
   ]
  },
  {
   "cell_type": "markdown",
   "metadata": {
    "deletable": false,
    "editable": false,
    "nbgrader": {
     "cell_type": "markdown",
     "checksum": "ec7510ce50876d9072ff172b5a6bed05",
     "grade": false,
     "grade_id": "cell-b59e32abfa0bf9ef",
     "locked": true,
     "schema_version": 3,
     "solution": false
    }
   },
   "source": [
    "Make sure you obtain at least 0.3 F1-score in the validation set before proceeding."
   ]
  },
  {
   "cell_type": "markdown",
   "metadata": {
    "deletable": false,
    "editable": false,
    "nbgrader": {
     "cell_type": "markdown",
     "checksum": "0c90c4448ae9e3cfffa5e8dc30b21411",
     "grade": false,
     "grade_id": "cell-09fe0d5786ed0073",
     "locked": true,
     "schema_version": 3,
     "solution": false
    }
   },
   "source": [
    "### 1.6 Evaluation"
   ]
  },
  {
   "cell_type": "markdown",
   "metadata": {
    "deletable": false,
    "editable": false,
    "nbgrader": {
     "cell_type": "markdown",
     "checksum": "32ba20bdba94d72537d559f5d7fed869",
     "grade": false,
     "grade_id": "cell-098308391c682cd8",
     "locked": true,
     "schema_version": 3,
     "solution": false
    }
   },
   "source": [
    "Now that our model is trained, we can evaluate its predictions on the test set. "
   ]
  },
  {
   "cell_type": "code",
   "execution_count": null,
   "metadata": {
    "deletable": false,
    "editable": false,
    "nbgrader": {
     "cell_type": "code",
     "checksum": "d028367fa4f2b8e07b9f412bc0dc82cc",
     "grade": false,
     "grade_id": "cell-ee9fecbd4fc5e6cd",
     "locked": true,
     "schema_version": 3,
     "solution": false
    }
   },
   "outputs": [],
   "source": [
    "# Get all samples from the test set\n",
    "x_test, y_test = test_dataset[:]\n",
    "\n",
    "# Compute predictions\n",
    "with torch.no_grad():\n",
    "    test_out, _ = batch_forward_prop(rnn, x_test, y_test)\n",
    "\n",
    "# Transform them into hard predictions\n",
    "preds = test_out.argmax(dim=1)\n",
    "\n",
    "# Get `preds` as a numpy array\n",
    "preds = preds.cpu().numpy()"
   ]
  },
  {
   "cell_type": "markdown",
   "metadata": {
    "deletable": false,
    "editable": false,
    "nbgrader": {
     "cell_type": "markdown",
     "checksum": "5fdeb2d6a4e4a5402f0feb9554634e15",
     "grade": false,
     "grade_id": "cell-6968066e3b5b4085",
     "locked": true,
     "schema_version": 3,
     "solution": false
    }
   },
   "source": [
    "Using these predictions, we can compute the confusion matrix on the test set as follows."
   ]
  },
  {
   "cell_type": "code",
   "execution_count": null,
   "metadata": {
    "deletable": false,
    "editable": false,
    "nbgrader": {
     "cell_type": "code",
     "checksum": "2ca8a97e26fea408fe09e4eed8350526",
     "grade": false,
     "grade_id": "cell-003dfbe728ab93f4",
     "locked": true,
     "schema_version": 3,
     "solution": false
    }
   },
   "outputs": [],
   "source": [
    "from sklearn.metrics import confusion_matrix\n",
    "\n",
    "# Compute the confusion matrix\n",
    "y_true = y_test.cpu().numpy()\n",
    "cm = confusion_matrix(y_true, preds)\n",
    "cm = cm.astype('float64')\n",
    "\n",
    "# Normalize each row\n",
    "for i in range(cm.shape[0]):\n",
    "    cm[i, :] = cm[i, :] / sum(cm[i, :])\n",
    "    \n",
    "cm"
   ]
  },
  {
   "cell_type": "markdown",
   "metadata": {
    "deletable": false,
    "editable": false,
    "nbgrader": {
     "cell_type": "markdown",
     "checksum": "498ae92e6253b9951570fd782bb67f28",
     "grade": false,
     "grade_id": "cell-d0a5d53862716ff5",
     "locked": true,
     "schema_version": 3,
     "solution": false
    }
   },
   "source": [
    "In order to make this easier to visualize, let's plot it as a heat map:"
   ]
  },
  {
   "cell_type": "code",
   "execution_count": null,
   "metadata": {
    "deletable": false,
    "editable": false,
    "nbgrader": {
     "cell_type": "code",
     "checksum": "5eed47cfe9145966604d70f8a0ae1ab5",
     "grade": false,
     "grade_id": "cell-0ac30bac8eee0481",
     "locked": true,
     "schema_version": 3,
     "solution": false
    }
   },
   "outputs": [],
   "source": [
    "%matplotlib inline\n",
    "plt.figure(figsize=(10, 10))\n",
    "plt.imshow(cm)\n",
    "plt.xticks(range(len(names_dict)), names_dict.keys(), rotation='vertical')\n",
    "plt.yticks(range(len(names_dict)), names_dict.keys())\n",
    "plt.xlabel('Predicted label')\n",
    "plt.ylabel('True label')\n",
    "plt.show()"
   ]
  },
  {
   "cell_type": "markdown",
   "metadata": {
    "deletable": false,
    "editable": false,
    "nbgrader": {
     "cell_type": "markdown",
     "checksum": "699749612d8cf6acf9f342e8fdc00ec9",
     "grade": false,
     "grade_id": "cell-baa17f34d2c98af3",
     "locked": true,
     "schema_version": 3,
     "solution": false
    }
   },
   "source": [
    "**[1 point]** Why did we normalize the rows of the confusion matrix? "
   ]
  },
  {
   "cell_type": "markdown",
   "metadata": {
    "deletable": false,
    "nbgrader": {
     "cell_type": "markdown",
     "checksum": "8809376b54c2dbd1c37e038a54589d97",
     "grade": true,
     "grade_id": "cell-5e952f1af1335cd1",
     "locked": false,
     "points": 1,
     "schema_version": 3,
     "solution": true
    }
   },
   "source": [
    "**Your answer:** (fill in here)"
   ]
  },
  {
   "cell_type": "markdown",
   "metadata": {
    "deletable": false,
    "editable": false,
    "nbgrader": {
     "cell_type": "markdown",
     "checksum": "b3ce186431569960c43df0a99a34d0d4",
     "grade": false,
     "grade_id": "cell-b56067b9a8f982ed",
     "locked": true,
     "schema_version": 3,
     "solution": false
    }
   },
   "source": [
    "**[2 points]** What can you conclude from this confusion matrix? Which classes are easy/hard to classify? Which classes are being confused?"
   ]
  },
  {
   "cell_type": "markdown",
   "metadata": {
    "deletable": false,
    "nbgrader": {
     "cell_type": "markdown",
     "checksum": "c83e6f1c4e0c6e0f64d1d9b0a3235d78",
     "grade": true,
     "grade_id": "cell-e3597dc61426d8a3",
     "locked": false,
     "points": 2,
     "schema_version": 3,
     "solution": true
    }
   },
   "source": [
    "**Your answer:** (fill in here)"
   ]
  },
  {
   "cell_type": "markdown",
   "metadata": {
    "deletable": false,
    "editable": false,
    "nbgrader": {
     "cell_type": "markdown",
     "checksum": "9ff548903b15da02335b1f0111ac9c4a",
     "grade": false,
     "grade_id": "cell-a1cd31c6856025a5",
     "locked": true,
     "schema_version": 3,
     "solution": false
    }
   },
   "source": [
    "To end this task, we can now define a function to perform predictions on any input name we provide (as long as the name contains only characters in our character set)."
   ]
  },
  {
   "cell_type": "code",
   "execution_count": null,
   "metadata": {
    "deletable": false,
    "editable": false,
    "nbgrader": {
     "cell_type": "code",
     "checksum": "16ff9962bca7277a96de8620d03b1264",
     "grade": false,
     "grade_id": "cell-07f9089a7c996db0",
     "locked": true,
     "schema_version": 3,
     "solution": false
    }
   },
   "outputs": [],
   "source": [
    "def evaluate(name_tensor):\n",
    "    with torch.no_grad():\n",
    "        hidden = torch.zeros(1, rnn.hidden_size).to(device)\n",
    "        for i in range(name_tensor.shape[1]):\n",
    "            output, hidden = rnn(name_tensor[:, i, :], hidden)\n",
    "    return output.exp()\n",
    "\n",
    "def predict(input_line, n_predictions=5):\n",
    "    tensor = name2tensor(input_line).to(device)[None, :]\n",
    "    output = evaluate(tensor)\n",
    "\n",
    "    # Get top N categories\n",
    "    topv, topi = output.topk(n_predictions, 1, True)\n",
    "    topv, topi = topv[0], topi[0]\n",
    "        \n",
    "    cats = [list(names_dict.keys())[i] for i in topi.cpu().numpy()]\n",
    "    vs = topv.cpu().numpy()\n",
    "\n",
    "    plt.figure(figsize=(10,3))\n",
    "    plt.bar(range(len(vs)), vs)\n",
    "    plt.xticks(range(len(vs)), cats)"
   ]
  },
  {
   "cell_type": "code",
   "execution_count": null,
   "metadata": {
    "deletable": false,
    "editable": false,
    "nbgrader": {
     "cell_type": "code",
     "checksum": "663d002913d786ae06797435cabb49b3",
     "grade": false,
     "grade_id": "cell-ee607ec26d687e7a",
     "locked": true,
     "schema_version": 3,
     "solution": false
    }
   },
   "outputs": [],
   "source": [
    "predict('Åsakvi')"
   ]
  },
  {
   "cell_type": "code",
   "execution_count": null,
   "metadata": {
    "deletable": false,
    "editable": false,
    "nbgrader": {
     "cell_type": "code",
     "checksum": "de6ea4fca69dcdfafe0989d3c5a18f2b",
     "grade": false,
     "grade_id": "cell-fcc84c5b71d65216",
     "locked": true,
     "schema_version": 3,
     "solution": false
    }
   },
   "outputs": [],
   "source": [
    "predict('Harakabim')"
   ]
  },
  {
   "cell_type": "code",
   "execution_count": null,
   "metadata": {
    "deletable": false,
    "editable": false,
    "nbgrader": {
     "cell_type": "code",
     "checksum": "8677e866517c65d978435ec0bd2c7213",
     "grade": false,
     "grade_id": "cell-d8af5b38ed527dc0",
     "locked": true,
     "schema_version": 3,
     "solution": false
    }
   },
   "outputs": [],
   "source": [
    "predict('Alakazam')"
   ]
  },
  {
   "cell_type": "code",
   "execution_count": null,
   "metadata": {
    "deletable": false,
    "editable": false,
    "nbgrader": {
     "cell_type": "code",
     "checksum": "8aeaf021219a2f4697067d2fd4a41506",
     "grade": false,
     "grade_id": "cell-608a1a0a87fdcfbc",
     "locked": true,
     "schema_version": 3,
     "solution": false
    }
   },
   "outputs": [],
   "source": [
    "predict('Jin Quaio')"
   ]
  },
  {
   "cell_type": "code",
   "execution_count": null,
   "metadata": {
    "deletable": false,
    "editable": false,
    "nbgrader": {
     "cell_type": "code",
     "checksum": "82b217f4a574a2cc23ad6233505d1d3e",
     "grade": false,
     "grade_id": "cell-9e46296a62c4ad3b",
     "locked": true,
     "schema_version": 3,
     "solution": false
    }
   },
   "outputs": [],
   "source": [
    "predict('Leonardino')"
   ]
  },
  {
   "cell_type": "code",
   "execution_count": null,
   "metadata": {
    "deletable": false,
    "editable": false,
    "nbgrader": {
     "cell_type": "code",
     "checksum": "e2cbe7f4dcf0f10d6f011dca38976ec9",
     "grade": false,
     "grade_id": "cell-7107524e76e71c41",
     "locked": true,
     "schema_version": 3,
     "solution": false
    }
   },
   "outputs": [],
   "source": [
    "predict('Kim Sung')"
   ]
  },
  {
   "cell_type": "code",
   "execution_count": null,
   "metadata": {
    "deletable": false,
    "editable": false,
    "nbgrader": {
     "cell_type": "code",
     "checksum": "aafceedc4f3f9ddbacf4b76548e8aa95",
     "grade": false,
     "grade_id": "cell-e5c047f1d1960750",
     "locked": true,
     "schema_version": 3,
     "solution": false
    }
   },
   "outputs": [],
   "source": [
    "predict('Thanos')"
   ]
  },
  {
   "cell_type": "code",
   "execution_count": null,
   "metadata": {
    "deletable": false,
    "editable": false,
    "nbgrader": {
     "cell_type": "code",
     "checksum": "7c82ec8b8c895b208611f139201ac560",
     "grade": false,
     "grade_id": "cell-fc41f7e0ab00a192",
     "locked": true,
     "schema_version": 3,
     "solution": false
    }
   },
   "outputs": [],
   "source": [
    "predict('Viiviika')"
   ]
  },
  {
   "cell_type": "markdown",
   "metadata": {
    "deletable": false,
    "editable": false,
    "nbgrader": {
     "cell_type": "markdown",
     "checksum": "bdf82da73d54b9f9e00cb0f323dcf206",
     "grade": false,
     "grade_id": "cell-5b8cdb44355a89df",
     "locked": true,
     "schema_version": 3,
     "solution": false
    }
   },
   "source": [
    "Experiment on new names using the next cell:"
   ]
  }
 ],
 "metadata": {
  "kernelspec": {
   "display_name": "Python 3 (ipykernel)",
   "language": "python",
   "name": "python3"
  },
  "language_info": {
   "codemirror_mode": {
    "name": "ipython",
    "version": 3
   },
   "file_extension": ".py",
   "mimetype": "text/x-python",
   "name": "python",
   "nbconvert_exporter": "python",
   "pygments_lexer": "ipython3",
   "version": "3.9.17"
  },
  "vscode": {
   "interpreter": {
    "hash": "8155549ddf830727eebe5f8bcd41943acabb1104504007af832c94748346d914"
   }
  }
 },
 "nbformat": 4,
 "nbformat_minor": 2
}
